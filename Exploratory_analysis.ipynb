{
 "cells": [
  {
   "cell_type": "code",
   "execution_count": 1,
   "metadata": {
    "collapsed": false
   },
   "outputs": [
    {
     "name": "stdout",
     "output_type": "stream",
     "text": [
      "3.5.2 |Anaconda 4.1.1 (x86_64)| (default, Jul  2 2016, 17:52:12) \n",
      "[GCC 4.2.1 Compatible Apple LLVM 4.2 (clang-425.0.28)]\n",
      "1.11.1\n",
      "0.18.1\n"
     ]
    }
   ],
   "source": [
    "import sys\n",
    "print(sys.version)\n",
    "import numpy as np\n",
    "print(np.__version__)\n",
    "import pandas as pd\n",
    "print(pd.__version__)\n",
    "import matplotlib.pyplot as plt\n",
    "import re"
   ]
  },
  {
   "cell_type": "code",
   "execution_count": 2,
   "metadata": {
    "collapsed": false,
    "scrolled": true
   },
   "outputs": [
    {
     "data": {
      "text/html": [
       "<div>\n",
       "<table border=\"1\" class=\"dataframe\">\n",
       "  <thead>\n",
       "    <tr style=\"text-align: right;\">\n",
       "      <th></th>\n",
       "      <th>code</th>\n",
       "      <th>url</th>\n",
       "      <th>creator</th>\n",
       "      <th>created_t</th>\n",
       "      <th>last_modified_t</th>\n",
       "      <th>product_name</th>\n",
       "      <th>generic_name</th>\n",
       "      <th>quantity</th>\n",
       "      <th>packaging</th>\n",
       "      <th>packaging_tags</th>\n",
       "      <th>...</th>\n",
       "      <th>caffeine_100g</th>\n",
       "      <th>taurine_100g</th>\n",
       "      <th>ph_100g</th>\n",
       "      <th>fruits-vegetables-nuts_100g</th>\n",
       "      <th>collagen-meat-protein-ratio_100g</th>\n",
       "      <th>cocoa_100g</th>\n",
       "      <th>chlorophyl_100g</th>\n",
       "      <th>carbon-footprint_100g</th>\n",
       "      <th>nutrition-score-fr_100g</th>\n",
       "      <th>nutrition-score-uk_100g</th>\n",
       "    </tr>\n",
       "  </thead>\n",
       "  <tbody>\n",
       "    <tr>\n",
       "      <th>0</th>\n",
       "      <td>5010092093045</td>\n",
       "      <td>http://world.openfoodfacts.org/product/5010092...</td>\n",
       "      <td>bcatelin</td>\n",
       "      <td>1389309305</td>\n",
       "      <td>1461479010</td>\n",
       "      <td>Soft white</td>\n",
       "      <td>White bread</td>\n",
       "      <td>800g</td>\n",
       "      <td>Plastic bag</td>\n",
       "      <td>plastic-bag</td>\n",
       "      <td>...</td>\n",
       "      <td>NaN</td>\n",
       "      <td>NaN</td>\n",
       "      <td>NaN</td>\n",
       "      <td>NaN</td>\n",
       "      <td>NaN</td>\n",
       "      <td>NaN</td>\n",
       "      <td>NaN</td>\n",
       "      <td>125.0</td>\n",
       "      <td>-1.0</td>\n",
       "      <td>-1.0</td>\n",
       "    </tr>\n",
       "    <tr>\n",
       "      <th>1</th>\n",
       "      <td>44000030377</td>\n",
       "      <td>http://world.openfoodfacts.org/product/0044000...</td>\n",
       "      <td>openfoodfacts-contributors</td>\n",
       "      <td>1385850411</td>\n",
       "      <td>1459174448</td>\n",
       "      <td>Wheat Thins Original</td>\n",
       "      <td>NaN</td>\n",
       "      <td>258g</td>\n",
       "      <td>NaN</td>\n",
       "      <td>NaN</td>\n",
       "      <td>...</td>\n",
       "      <td>NaN</td>\n",
       "      <td>NaN</td>\n",
       "      <td>NaN</td>\n",
       "      <td>NaN</td>\n",
       "      <td>NaN</td>\n",
       "      <td>NaN</td>\n",
       "      <td>NaN</td>\n",
       "      <td>NaN</td>\n",
       "      <td>NaN</td>\n",
       "      <td>NaN</td>\n",
       "    </tr>\n",
       "    <tr>\n",
       "      <th>2</th>\n",
       "      <td>7832309</td>\n",
       "      <td>http://world.openfoodfacts.org/product/07832309</td>\n",
       "      <td>openfoodfacts-contributors</td>\n",
       "      <td>1403210081</td>\n",
       "      <td>1458995984</td>\n",
       "      <td>Diet Dr Pepper</td>\n",
       "      <td>NaN</td>\n",
       "      <td>NaN</td>\n",
       "      <td>can</td>\n",
       "      <td>can</td>\n",
       "      <td>...</td>\n",
       "      <td>NaN</td>\n",
       "      <td>NaN</td>\n",
       "      <td>NaN</td>\n",
       "      <td>NaN</td>\n",
       "      <td>NaN</td>\n",
       "      <td>NaN</td>\n",
       "      <td>NaN</td>\n",
       "      <td>NaN</td>\n",
       "      <td>NaN</td>\n",
       "      <td>NaN</td>\n",
       "    </tr>\n",
       "    <tr>\n",
       "      <th>3</th>\n",
       "      <td>5099353000169</td>\n",
       "      <td>http://world.openfoodfacts.org/product/5099353...</td>\n",
       "      <td>bcatelin</td>\n",
       "      <td>1385926289</td>\n",
       "      <td>1413659845</td>\n",
       "      <td>Eggs</td>\n",
       "      <td>Eggs</td>\n",
       "      <td>6</td>\n",
       "      <td>Cardbox</td>\n",
       "      <td>cardbox</td>\n",
       "      <td>...</td>\n",
       "      <td>NaN</td>\n",
       "      <td>NaN</td>\n",
       "      <td>NaN</td>\n",
       "      <td>NaN</td>\n",
       "      <td>NaN</td>\n",
       "      <td>NaN</td>\n",
       "      <td>NaN</td>\n",
       "      <td>NaN</td>\n",
       "      <td>NaN</td>\n",
       "      <td>NaN</td>\n",
       "    </tr>\n",
       "    <tr>\n",
       "      <th>4</th>\n",
       "      <td>82592720153</td>\n",
       "      <td>http://world.openfoodfacts.org/product/0082592...</td>\n",
       "      <td>openfoodfacts-contributors</td>\n",
       "      <td>1389308826</td>\n",
       "      <td>1459174499</td>\n",
       "      <td>Green Machine</td>\n",
       "      <td>NaN</td>\n",
       "      <td>15.2 fl. oz (450 mL)</td>\n",
       "      <td>NaN</td>\n",
       "      <td>NaN</td>\n",
       "      <td>...</td>\n",
       "      <td>NaN</td>\n",
       "      <td>NaN</td>\n",
       "      <td>NaN</td>\n",
       "      <td>NaN</td>\n",
       "      <td>NaN</td>\n",
       "      <td>NaN</td>\n",
       "      <td>NaN</td>\n",
       "      <td>NaN</td>\n",
       "      <td>NaN</td>\n",
       "      <td>NaN</td>\n",
       "    </tr>\n",
       "  </tbody>\n",
       "</table>\n",
       "<p>5 rows × 150 columns</p>\n",
       "</div>"
      ],
      "text/plain": [
       "            code                                                url  \\\n",
       "0  5010092093045  http://world.openfoodfacts.org/product/5010092...   \n",
       "1    44000030377  http://world.openfoodfacts.org/product/0044000...   \n",
       "2        7832309    http://world.openfoodfacts.org/product/07832309   \n",
       "3  5099353000169  http://world.openfoodfacts.org/product/5099353...   \n",
       "4    82592720153  http://world.openfoodfacts.org/product/0082592...   \n",
       "\n",
       "                      creator   created_t  last_modified_t  \\\n",
       "0                    bcatelin  1389309305       1461479010   \n",
       "1  openfoodfacts-contributors  1385850411       1459174448   \n",
       "2  openfoodfacts-contributors  1403210081       1458995984   \n",
       "3                    bcatelin  1385926289       1413659845   \n",
       "4  openfoodfacts-contributors  1389308826       1459174499   \n",
       "\n",
       "           product_name generic_name              quantity    packaging  \\\n",
       "0            Soft white  White bread                  800g  Plastic bag   \n",
       "1  Wheat Thins Original          NaN                  258g          NaN   \n",
       "2        Diet Dr Pepper          NaN                   NaN          can   \n",
       "3                  Eggs         Eggs                     6      Cardbox   \n",
       "4         Green Machine          NaN  15.2 fl. oz (450 mL)          NaN   \n",
       "\n",
       "  packaging_tags           ...           caffeine_100g taurine_100g ph_100g  \\\n",
       "0    plastic-bag           ...                     NaN          NaN     NaN   \n",
       "1            NaN           ...                     NaN          NaN     NaN   \n",
       "2            can           ...                     NaN          NaN     NaN   \n",
       "3        cardbox           ...                     NaN          NaN     NaN   \n",
       "4            NaN           ...                     NaN          NaN     NaN   \n",
       "\n",
       "  fruits-vegetables-nuts_100g collagen-meat-protein-ratio_100g cocoa_100g  \\\n",
       "0                         NaN                              NaN        NaN   \n",
       "1                         NaN                              NaN        NaN   \n",
       "2                         NaN                              NaN        NaN   \n",
       "3                         NaN                              NaN        NaN   \n",
       "4                         NaN                              NaN        NaN   \n",
       "\n",
       "  chlorophyl_100g carbon-footprint_100g nutrition-score-fr_100g  \\\n",
       "0             NaN                 125.0                    -1.0   \n",
       "1             NaN                   NaN                     NaN   \n",
       "2             NaN                   NaN                     NaN   \n",
       "3             NaN                   NaN                     NaN   \n",
       "4             NaN                   NaN                     NaN   \n",
       "\n",
       "  nutrition-score-uk_100g  \n",
       "0                    -1.0  \n",
       "1                     NaN  \n",
       "2                     NaN  \n",
       "3                     NaN  \n",
       "4                     NaN  \n",
       "\n",
       "[5 rows x 150 columns]"
      ]
     },
     "execution_count": 2,
     "metadata": {},
     "output_type": "execute_result"
    }
   ],
   "source": [
    "df = pd.read_csv(\"openfoodfacts_search.csv\", sep = '\\t')\n",
    "df.head()"
   ]
  },
  {
   "cell_type": "code",
   "execution_count": 3,
   "metadata": {
    "collapsed": false
   },
   "outputs": [],
   "source": [
    "###it apppears that pandas is truncating some data.  let's change that\n",
    "pd.set_option('display.max_colwidth', -1)"
   ]
  },
  {
   "cell_type": "code",
   "execution_count": 4,
   "metadata": {
    "collapsed": false
   },
   "outputs": [
    {
     "data": {
      "text/html": [
       "<div>\n",
       "<table border=\"1\" class=\"dataframe\">\n",
       "  <thead>\n",
       "    <tr style=\"text-align: right;\">\n",
       "      <th></th>\n",
       "      <th>code</th>\n",
       "      <th>url</th>\n",
       "      <th>creator</th>\n",
       "      <th>created_t</th>\n",
       "      <th>last_modified_t</th>\n",
       "      <th>product_name</th>\n",
       "      <th>generic_name</th>\n",
       "      <th>quantity</th>\n",
       "      <th>packaging</th>\n",
       "      <th>packaging_tags</th>\n",
       "      <th>...</th>\n",
       "      <th>caffeine_100g</th>\n",
       "      <th>taurine_100g</th>\n",
       "      <th>ph_100g</th>\n",
       "      <th>fruits-vegetables-nuts_100g</th>\n",
       "      <th>collagen-meat-protein-ratio_100g</th>\n",
       "      <th>cocoa_100g</th>\n",
       "      <th>chlorophyl_100g</th>\n",
       "      <th>carbon-footprint_100g</th>\n",
       "      <th>nutrition-score-fr_100g</th>\n",
       "      <th>nutrition-score-uk_100g</th>\n",
       "    </tr>\n",
       "  </thead>\n",
       "  <tbody>\n",
       "    <tr>\n",
       "      <th>0</th>\n",
       "      <td>5010092093045</td>\n",
       "      <td>http://world.openfoodfacts.org/product/5010092093045</td>\n",
       "      <td>bcatelin</td>\n",
       "      <td>1389309305</td>\n",
       "      <td>1461479010</td>\n",
       "      <td>Soft white</td>\n",
       "      <td>White bread</td>\n",
       "      <td>800g</td>\n",
       "      <td>Plastic bag</td>\n",
       "      <td>plastic-bag</td>\n",
       "      <td>...</td>\n",
       "      <td>NaN</td>\n",
       "      <td>NaN</td>\n",
       "      <td>NaN</td>\n",
       "      <td>NaN</td>\n",
       "      <td>NaN</td>\n",
       "      <td>NaN</td>\n",
       "      <td>NaN</td>\n",
       "      <td>125.0</td>\n",
       "      <td>-1.0</td>\n",
       "      <td>-1.0</td>\n",
       "    </tr>\n",
       "    <tr>\n",
       "      <th>1</th>\n",
       "      <td>44000030377</td>\n",
       "      <td>http://world.openfoodfacts.org/product/0044000030377</td>\n",
       "      <td>openfoodfacts-contributors</td>\n",
       "      <td>1385850411</td>\n",
       "      <td>1459174448</td>\n",
       "      <td>Wheat Thins Original</td>\n",
       "      <td>NaN</td>\n",
       "      <td>258g</td>\n",
       "      <td>NaN</td>\n",
       "      <td>NaN</td>\n",
       "      <td>...</td>\n",
       "      <td>NaN</td>\n",
       "      <td>NaN</td>\n",
       "      <td>NaN</td>\n",
       "      <td>NaN</td>\n",
       "      <td>NaN</td>\n",
       "      <td>NaN</td>\n",
       "      <td>NaN</td>\n",
       "      <td>NaN</td>\n",
       "      <td>NaN</td>\n",
       "      <td>NaN</td>\n",
       "    </tr>\n",
       "    <tr>\n",
       "      <th>2</th>\n",
       "      <td>7832309</td>\n",
       "      <td>http://world.openfoodfacts.org/product/07832309</td>\n",
       "      <td>openfoodfacts-contributors</td>\n",
       "      <td>1403210081</td>\n",
       "      <td>1458995984</td>\n",
       "      <td>Diet Dr Pepper</td>\n",
       "      <td>NaN</td>\n",
       "      <td>NaN</td>\n",
       "      <td>can</td>\n",
       "      <td>can</td>\n",
       "      <td>...</td>\n",
       "      <td>NaN</td>\n",
       "      <td>NaN</td>\n",
       "      <td>NaN</td>\n",
       "      <td>NaN</td>\n",
       "      <td>NaN</td>\n",
       "      <td>NaN</td>\n",
       "      <td>NaN</td>\n",
       "      <td>NaN</td>\n",
       "      <td>NaN</td>\n",
       "      <td>NaN</td>\n",
       "    </tr>\n",
       "    <tr>\n",
       "      <th>3</th>\n",
       "      <td>5099353000169</td>\n",
       "      <td>http://world.openfoodfacts.org/product/5099353000169</td>\n",
       "      <td>bcatelin</td>\n",
       "      <td>1385926289</td>\n",
       "      <td>1413659845</td>\n",
       "      <td>Eggs</td>\n",
       "      <td>Eggs</td>\n",
       "      <td>6</td>\n",
       "      <td>Cardbox</td>\n",
       "      <td>cardbox</td>\n",
       "      <td>...</td>\n",
       "      <td>NaN</td>\n",
       "      <td>NaN</td>\n",
       "      <td>NaN</td>\n",
       "      <td>NaN</td>\n",
       "      <td>NaN</td>\n",
       "      <td>NaN</td>\n",
       "      <td>NaN</td>\n",
       "      <td>NaN</td>\n",
       "      <td>NaN</td>\n",
       "      <td>NaN</td>\n",
       "    </tr>\n",
       "    <tr>\n",
       "      <th>4</th>\n",
       "      <td>82592720153</td>\n",
       "      <td>http://world.openfoodfacts.org/product/0082592720153</td>\n",
       "      <td>openfoodfacts-contributors</td>\n",
       "      <td>1389308826</td>\n",
       "      <td>1459174499</td>\n",
       "      <td>Green Machine</td>\n",
       "      <td>NaN</td>\n",
       "      <td>15.2 fl. oz (450 mL)</td>\n",
       "      <td>NaN</td>\n",
       "      <td>NaN</td>\n",
       "      <td>...</td>\n",
       "      <td>NaN</td>\n",
       "      <td>NaN</td>\n",
       "      <td>NaN</td>\n",
       "      <td>NaN</td>\n",
       "      <td>NaN</td>\n",
       "      <td>NaN</td>\n",
       "      <td>NaN</td>\n",
       "      <td>NaN</td>\n",
       "      <td>NaN</td>\n",
       "      <td>NaN</td>\n",
       "    </tr>\n",
       "  </tbody>\n",
       "</table>\n",
       "<p>5 rows × 150 columns</p>\n",
       "</div>"
      ],
      "text/plain": [
       "            code                                                   url  \\\n",
       "0  5010092093045  http://world.openfoodfacts.org/product/5010092093045   \n",
       "1  44000030377    http://world.openfoodfacts.org/product/0044000030377   \n",
       "2  7832309        http://world.openfoodfacts.org/product/07832309        \n",
       "3  5099353000169  http://world.openfoodfacts.org/product/5099353000169   \n",
       "4  82592720153    http://world.openfoodfacts.org/product/0082592720153   \n",
       "\n",
       "                      creator   created_t  last_modified_t  \\\n",
       "0  bcatelin                    1389309305  1461479010        \n",
       "1  openfoodfacts-contributors  1385850411  1459174448        \n",
       "2  openfoodfacts-contributors  1403210081  1458995984        \n",
       "3  bcatelin                    1385926289  1413659845        \n",
       "4  openfoodfacts-contributors  1389308826  1459174499        \n",
       "\n",
       "           product_name generic_name              quantity    packaging  \\\n",
       "0  Soft white            White bread  800g                  Plastic bag   \n",
       "1  Wheat Thins Original  NaN          258g                  NaN           \n",
       "2  Diet Dr Pepper        NaN          NaN                   can           \n",
       "3  Eggs                  Eggs         6                     Cardbox       \n",
       "4  Green Machine         NaN          15.2 fl. oz (450 mL)  NaN           \n",
       "\n",
       "  packaging_tags           ...           caffeine_100g taurine_100g ph_100g  \\\n",
       "0  plastic-bag             ...           NaN           NaN          NaN       \n",
       "1  NaN                     ...           NaN           NaN          NaN       \n",
       "2  can                     ...           NaN           NaN          NaN       \n",
       "3  cardbox                 ...           NaN           NaN          NaN       \n",
       "4  NaN                     ...           NaN           NaN          NaN       \n",
       "\n",
       "  fruits-vegetables-nuts_100g collagen-meat-protein-ratio_100g cocoa_100g  \\\n",
       "0 NaN                         NaN                              NaN          \n",
       "1 NaN                         NaN                              NaN          \n",
       "2 NaN                         NaN                              NaN          \n",
       "3 NaN                         NaN                              NaN          \n",
       "4 NaN                         NaN                              NaN          \n",
       "\n",
       "  chlorophyl_100g carbon-footprint_100g nutrition-score-fr_100g  \\\n",
       "0 NaN              125.0                -1.0                      \n",
       "1 NaN             NaN                   NaN                       \n",
       "2 NaN             NaN                   NaN                       \n",
       "3 NaN             NaN                   NaN                       \n",
       "4 NaN             NaN                   NaN                       \n",
       "\n",
       "  nutrition-score-uk_100g  \n",
       "0 -1.0                     \n",
       "1 NaN                      \n",
       "2 NaN                      \n",
       "3 NaN                      \n",
       "4 NaN                      \n",
       "\n",
       "[5 rows x 150 columns]"
      ]
     },
     "execution_count": 4,
     "metadata": {},
     "output_type": "execute_result"
    }
   ],
   "source": [
    "df.head()"
   ]
  },
  {
   "cell_type": "code",
   "execution_count": 5,
   "metadata": {
    "collapsed": false
   },
   "outputs": [
    {
     "data": {
      "text/plain": [
       "['code',\n",
       " 'url',\n",
       " 'creator',\n",
       " 'created_t',\n",
       " 'last_modified_t',\n",
       " 'product_name',\n",
       " 'generic_name',\n",
       " 'quantity',\n",
       " 'packaging',\n",
       " 'packaging_tags',\n",
       " 'brands',\n",
       " 'brands_tags',\n",
       " 'categories',\n",
       " 'categories_tags',\n",
       " 'labels',\n",
       " 'labels_tags',\n",
       " 'origins',\n",
       " 'origins_tags',\n",
       " 'manufacturing_places',\n",
       " 'manufacturing_places_tags',\n",
       " 'emb_codes',\n",
       " 'emb_codes_tags',\n",
       " 'cities',\n",
       " 'cities_tags',\n",
       " 'purchase_places',\n",
       " 'stores',\n",
       " 'countries',\n",
       " 'ingredients_text',\n",
       " 'allergens',\n",
       " 'allergens_tags',\n",
       " 'traces',\n",
       " 'traces_tags',\n",
       " 'serving_size',\n",
       " 'no_nutriments',\n",
       " 'additives_n',\n",
       " 'additives',\n",
       " 'additives_tags',\n",
       " 'ingredients_from_palm_oil_n',\n",
       " 'ingredients_from_palm_oil',\n",
       " 'ingredients_from_palm_oil_tags',\n",
       " 'ingredients_that_may_be_from_palm_oil_n',\n",
       " 'ingredients_that_may_be_from_palm_oil',\n",
       " 'ingredients_that_may_be_from_palm_oil_tags',\n",
       " 'pnns_groups_1',\n",
       " 'pnns_groups_2',\n",
       " 'main_category',\n",
       " 'image_url',\n",
       " 'image_small_url',\n",
       " 'image_front_url',\n",
       " 'image_front_small_url',\n",
       " 'image_ingredients_url',\n",
       " 'image_ingredients_small_url',\n",
       " 'image_nutrition_url',\n",
       " 'image_nutrition_small_url',\n",
       " 'energy_100g',\n",
       " 'energy-from-fat_100g',\n",
       " 'fat_100g',\n",
       " 'saturated-fat_100g',\n",
       " '-butyric-acid_100g',\n",
       " '-caproic-acid_100g',\n",
       " '-caprylic-acid_100g',\n",
       " '-capric-acid_100g',\n",
       " '-lauric-acid_100g',\n",
       " '-myristic-acid_100g',\n",
       " '-palmitic-acid_100g',\n",
       " '-stearic-acid_100g',\n",
       " '-arachidic-acid_100g',\n",
       " '-behenic-acid_100g',\n",
       " '-lignoceric-acid_100g',\n",
       " '-cerotic-acid_100g',\n",
       " '-montanic-acid_100g',\n",
       " '-melissic-acid_100g',\n",
       " 'monounsaturated-fat_100g',\n",
       " 'polyunsaturated-fat_100g',\n",
       " 'omega-3-fat_100g',\n",
       " '-alpha-linolenic-acid_100g',\n",
       " '-eicosapentaenoic-acid_100g',\n",
       " '-docosahexaenoic-acid_100g',\n",
       " 'omega-6-fat_100g',\n",
       " '-linoleic-acid_100g',\n",
       " '-arachidonic-acid_100g',\n",
       " '-gamma-linolenic-acid_100g',\n",
       " '-dihomo-gamma-linolenic-acid_100g',\n",
       " 'omega-9-fat_100g',\n",
       " '-oleic-acid_100g',\n",
       " '-elaidic-acid_100g',\n",
       " '-gondoic-acid_100g',\n",
       " '-mead-acid_100g',\n",
       " '-erucic-acid_100g',\n",
       " '-nervonic-acid_100g',\n",
       " 'trans-fat_100g',\n",
       " 'cholesterol_100g',\n",
       " 'carbohydrates_100g',\n",
       " 'sugars_100g',\n",
       " '-sucrose_100g',\n",
       " '-glucose_100g',\n",
       " '-fructose_100g',\n",
       " '-lactose_100g',\n",
       " '-maltose_100g',\n",
       " '-maltodextrins_100g',\n",
       " 'starch_100g',\n",
       " 'polyols_100g',\n",
       " 'fiber_100g',\n",
       " 'proteins_100g',\n",
       " 'casein_100g',\n",
       " 'serum-proteins_100g',\n",
       " 'nucleotides_100g',\n",
       " 'salt_100g',\n",
       " 'sodium_100g',\n",
       " 'alcohol_100g',\n",
       " 'vitamin-a_100g',\n",
       " 'beta-carotene_100g',\n",
       " 'vitamin-d_100g',\n",
       " 'vitamin-e_100g',\n",
       " 'vitamin-k_100g',\n",
       " 'vitamin-c_100g',\n",
       " 'vitamin-b1_100g',\n",
       " 'vitamin-b2_100g',\n",
       " 'vitamin-pp_100g',\n",
       " 'vitamin-b6_100g',\n",
       " 'vitamin-b9_100g',\n",
       " 'vitamin-b12_100g',\n",
       " 'biotin_100g',\n",
       " 'pantothenic-acid_100g',\n",
       " 'silica_100g',\n",
       " 'bicarbonate_100g',\n",
       " 'potassium_100g',\n",
       " 'chloride_100g',\n",
       " 'calcium_100g',\n",
       " 'phosphorus_100g',\n",
       " 'iron_100g',\n",
       " 'magnesium_100g',\n",
       " 'zinc_100g',\n",
       " 'copper_100g',\n",
       " 'manganese_100g',\n",
       " 'fluoride_100g',\n",
       " 'selenium_100g',\n",
       " 'chromium_100g',\n",
       " 'molybdenum_100g',\n",
       " 'iodine_100g',\n",
       " 'caffeine_100g',\n",
       " 'taurine_100g',\n",
       " 'ph_100g',\n",
       " 'fruits-vegetables-nuts_100g',\n",
       " 'collagen-meat-protein-ratio_100g',\n",
       " 'cocoa_100g',\n",
       " 'chlorophyl_100g',\n",
       " 'carbon-footprint_100g',\n",
       " 'nutrition-score-fr_100g',\n",
       " 'nutrition-score-uk_100g']"
      ]
     },
     "execution_count": 5,
     "metadata": {},
     "output_type": "execute_result"
    }
   ],
   "source": [
    "list(df.columns)"
   ]
  },
  {
   "cell_type": "code",
   "execution_count": 6,
   "metadata": {
    "collapsed": false
   },
   "outputs": [
    {
     "data": {
      "text/plain": [
       "0    1007.0\n",
       "1   NaN    \n",
       "2   NaN    \n",
       "3   NaN    \n",
       "4    244.0 \n",
       "Name: energy_100g, dtype: float64"
      ]
     },
     "execution_count": 6,
     "metadata": {},
     "output_type": "execute_result"
    }
   ],
   "source": [
    "df['energy_100g'].head()"
   ]
  },
  {
   "cell_type": "code",
   "execution_count": 7,
   "metadata": {
    "collapsed": false
   },
   "outputs": [
    {
     "data": {
      "text/plain": [
       "0    44.6\n",
       "1   NaN  \n",
       "2   NaN  \n",
       "3   NaN  \n",
       "4    13.8\n",
       "Name: carbohydrates_100g, dtype: float64"
      ]
     },
     "execution_count": 7,
     "metadata": {},
     "output_type": "execute_result"
    }
   ],
   "source": [
    "df['carbohydrates_100g'].head()"
   ]
  },
  {
   "cell_type": "code",
   "execution_count": 8,
   "metadata": {
    "collapsed": false
   },
   "outputs": [
    {
     "data": {
      "text/plain": [
       "1292"
      ]
     },
     "execution_count": 8,
     "metadata": {},
     "output_type": "execute_result"
    }
   ],
   "source": [
    "df['carbohydrates_100g'].count()"
   ]
  },
  {
   "cell_type": "code",
   "execution_count": 9,
   "metadata": {
    "collapsed": false
   },
   "outputs": [
    {
     "data": {
      "text/plain": [
       "1295"
      ]
     },
     "execution_count": 9,
     "metadata": {},
     "output_type": "execute_result"
    }
   ],
   "source": [
    "df['fat_100g'].count()"
   ]
  },
  {
   "cell_type": "code",
   "execution_count": 10,
   "metadata": {
    "collapsed": false
   },
   "outputs": [
    {
     "data": {
      "text/plain": [
       "1284"
      ]
     },
     "execution_count": 10,
     "metadata": {},
     "output_type": "execute_result"
    }
   ],
   "source": [
    "df['proteins_100g'].count()"
   ]
  },
  {
   "cell_type": "code",
   "execution_count": 11,
   "metadata": {
    "collapsed": false
   },
   "outputs": [
    {
     "data": {
      "text/plain": [
       "1283"
      ]
     },
     "execution_count": 11,
     "metadata": {},
     "output_type": "execute_result"
    }
   ],
   "source": [
    "df['energy_100g'].count()"
   ]
  },
  {
   "cell_type": "code",
   "execution_count": 12,
   "metadata": {
    "collapsed": false
   },
   "outputs": [
    {
     "data": {
      "text/plain": [
       "code                  36632036506                                         \n",
       "url                   http://world.openfoodfacts.org/product/0036632036506\n",
       "product_name          Activia light blueberry                             \n",
       "energy_100g           222                                                 \n",
       "carbohydrates_100g    9.73                                                \n",
       "fat_100g              0                                                   \n",
       "proteins_100g         3.54                                                \n",
       "serving_size          1 container (113g)                                  \n",
       "Name: 20, dtype: object"
      ]
     },
     "execution_count": 12,
     "metadata": {},
     "output_type": "execute_result"
    }
   ],
   "source": [
    "###verify the nutrition facts add up with the manufacturer's data\n",
    "### it appears from the site's documentation that \n",
    "###http://world.openfoodfacts.org/data/data-fields.txt\n",
    "###[nutrient]_100gr is nutrients per 100gr or mL\n",
    "###step 1, grab data for an identifable product\n",
    "\n",
    "df[['code', 'url', 'product_name', 'energy_100g','carbohydrates_100g', \n",
    "    'fat_100g', 'proteins_100g','serving_size']].iloc[20]"
   ]
  },
  {
   "cell_type": "code",
   "execution_count": 13,
   "metadata": {
    "collapsed": false
   },
   "outputs": [
    {
     "data": {
      "text/html": [
       "<div>\n",
       "<table border=\"1\" class=\"dataframe\">\n",
       "  <thead>\n",
       "    <tr style=\"text-align: right;\">\n",
       "      <th></th>\n",
       "      <th>per serving (113g)</th>\n",
       "      <th>Calories from Fat</th>\n",
       "    </tr>\n",
       "    <tr>\n",
       "      <th>Nutritional Facts</th>\n",
       "      <th></th>\n",
       "      <th></th>\n",
       "    </tr>\n",
       "  </thead>\n",
       "  <tbody>\n",
       "    <tr>\n",
       "      <th>NaN</th>\n",
       "      <td>NaN</td>\n",
       "      <td>% Daily Value*</td>\n",
       "    </tr>\n",
       "    <tr>\n",
       "      <th>Calories</th>\n",
       "      <td>60</td>\n",
       "      <td>0</td>\n",
       "    </tr>\n",
       "    <tr>\n",
       "      <th>Total Fat</th>\n",
       "      <td>0g</td>\n",
       "      <td>0%</td>\n",
       "    </tr>\n",
       "    <tr>\n",
       "      <th>Saturated Fat</th>\n",
       "      <td>0g</td>\n",
       "      <td>0%</td>\n",
       "    </tr>\n",
       "    <tr>\n",
       "      <th>Trans Fat</th>\n",
       "      <td>0g</td>\n",
       "      <td>NaN</td>\n",
       "    </tr>\n",
       "    <tr>\n",
       "      <th>Cholesterol</th>\n",
       "      <td>&lt;5mg</td>\n",
       "      <td>1%</td>\n",
       "    </tr>\n",
       "    <tr>\n",
       "      <th>Sodium</th>\n",
       "      <td>65mg</td>\n",
       "      <td>3%</td>\n",
       "    </tr>\n",
       "    <tr>\n",
       "      <th>Potassium</th>\n",
       "      <td>200mg</td>\n",
       "      <td>6%</td>\n",
       "    </tr>\n",
       "    <tr>\n",
       "      <th>Total Carbohydrate</th>\n",
       "      <td>11g</td>\n",
       "      <td>4%</td>\n",
       "    </tr>\n",
       "    <tr>\n",
       "      <th>Dietary Fiber</th>\n",
       "      <td>2g</td>\n",
       "      <td>8%</td>\n",
       "    </tr>\n",
       "    <tr>\n",
       "      <th>Sugars</th>\n",
       "      <td>7g</td>\n",
       "      <td>NaN</td>\n",
       "    </tr>\n",
       "    <tr>\n",
       "      <th>Protein</th>\n",
       "      <td>4g</td>\n",
       "      <td>8%</td>\n",
       "    </tr>\n",
       "    <tr>\n",
       "      <th>Vitamin A</th>\n",
       "      <td>NaN</td>\n",
       "      <td>0%</td>\n",
       "    </tr>\n",
       "    <tr>\n",
       "      <th>Vitamin C</th>\n",
       "      <td>NaN</td>\n",
       "      <td>0%</td>\n",
       "    </tr>\n",
       "    <tr>\n",
       "      <th>Calcium</th>\n",
       "      <td>NaN</td>\n",
       "      <td>15%</td>\n",
       "    </tr>\n",
       "    <tr>\n",
       "      <th>Iron</th>\n",
       "      <td>NaN</td>\n",
       "      <td>0%</td>\n",
       "    </tr>\n",
       "  </tbody>\n",
       "</table>\n",
       "</div>"
      ],
      "text/plain": [
       "                   per serving (113g) Calories from Fat \n",
       "Nutritional Facts                                       \n",
       "NaN                 NaN                % Daily Value*   \n",
       "Calories            60                 0                \n",
       "Total Fat           0g                 0%               \n",
       "Saturated Fat       0g                 0%               \n",
       "Trans Fat           0g                 NaN              \n",
       "Cholesterol         <5mg               1%               \n",
       "Sodium              65mg               3%               \n",
       "Potassium           200mg              6%               \n",
       "Total Carbohydrate  11g                4%               \n",
       "Dietary Fiber       2g                 8%               \n",
       "Sugars              7g                 NaN              \n",
       "Protein             4g                 8%               \n",
       "Vitamin A           NaN                0%               \n",
       "Vitamin C           NaN                0%               \n",
       "Calcium             NaN                15%              \n",
       "Iron                NaN                0%               "
      ]
     },
     "execution_count": 13,
     "metadata": {},
     "output_type": "execute_result"
    }
   ],
   "source": [
    "#step 2: verify the data on the site's own product page\n",
    "import html5lib\n",
    "site = 'http://www.activia.us.com/probiotic-yogurt/products/activia-light-blueberry'\n",
    "blueberry_yougurt = pd.read_html(site)[0].set_index('Nutritional Facts')\n",
    "blueberry_yougurt"
   ]
  },
  {
   "cell_type": "code",
   "execution_count": 14,
   "metadata": {
    "collapsed": false
   },
   "outputs": [
    {
     "name": "stdout",
     "output_type": "stream",
     "text": [
      "3.5398230088495577\n",
      "9.734513274336283\n",
      "0.0\n"
     ]
    }
   ],
   "source": [
    "### the calroies(energy) does not look like it is 220 cals/100gr, but the carb/protein/fat ratio looks about right\n",
    "### verify the macronutrients per 100gr are equivalent to the food facts db:\n",
    "print(float(blueberry_yougurt.loc['Protein'][0].strip('g'))/1.13)\n",
    "print(float(blueberry_yougurt.loc['Total Carbohydrate'][0].strip('g'))/1.13)\n",
    "print(float(blueberry_yougurt.loc['Total Fat'][0].strip('g'))/1.13)"
   ]
  },
  {
   "cell_type": "code",
   "execution_count": 15,
   "metadata": {
    "collapsed": false
   },
   "outputs": [
    {
     "data": {
      "text/plain": [
       "code                  27000379097                                         \n",
       "url                   http://world.openfoodfacts.org/product/0027000379097\n",
       "product_name          Crushed tomatoes                                    \n",
       "energy_100g           155                                                 \n",
       "carbohydrates_100g    7.44                                                \n",
       "fat_100g              0                                                   \n",
       "proteins_100g         1.65                                                \n",
       "serving_size          121 g                                               \n",
       "Name: 1146, dtype: object"
      ]
     },
     "execution_count": 15,
     "metadata": {},
     "output_type": "execute_result"
    }
   ],
   "source": [
    "###the total macronutrients per 100 grams posted in the food facts db roughly matches what is posted on the product's\n",
    "###own site.  Let's check anoother product, this time at random:\n",
    "np.random.seed(4)\n",
    "df[['code', 'url', 'product_name', 'energy_100g','carbohydrates_100g', \n",
    "    'fat_100g', 'proteins_100g','serving_size']].iloc[np.random.randint(0,len(df))]"
   ]
  },
  {
   "cell_type": "code",
   "execution_count": 16,
   "metadata": {
    "collapsed": false
   },
   "outputs": [
    {
     "data": {
      "text/plain": [
       "0     Nutrition Facts               \n",
       "1     Serving Size  1/2 cup (121g)  \n",
       "2     Servings Per Container about 7\n",
       "3     NaN                           \n",
       "4     Amount Per Serving            \n",
       "5     Calories 45Calories from Fat 0\n",
       "6     NaN                           \n",
       "7     NaN                           \n",
       "8     Total Fat 0g                  \n",
       "9     NaN                           \n",
       "10    NaN                           \n",
       "11    Cholesterol 0mg               \n",
       "12    Sodium 210mg                  \n",
       "13    Potassium 370mg               \n",
       "14    Total Carbohydrate 9g         \n",
       "15    NaN                           \n",
       "16    NaN                           \n",
       "17    Protein 2g                    \n",
       "Name: 0, dtype: object"
      ]
     },
     "execution_count": 16,
     "metadata": {},
     "output_type": "execute_result"
    }
   ],
   "source": [
    "site = 'http://www.hunts.com/nutrition-label?upc=2700037909&inline=false'\n",
    "hunts_tomatoes = pd.read_html(site)\n",
    "#hunts_tomatoes = pd.read_html(site)[1].set_index('Nutrition Facts')\n",
    "hunts_tomatoes[1][0]\n"
   ]
  },
  {
   "cell_type": "code",
   "execution_count": 17,
   "metadata": {
    "collapsed": false
   },
   "outputs": [
    {
     "name": "stdout",
     "output_type": "stream",
     "text": [
      "carbs:  7.43801652892562 protein:  1.6528925619834711 cals:  37.1900826446281\n"
     ]
    }
   ],
   "source": [
    "###this product's label isn't as nicely formattted, but we can get some information from it\n",
    "#per 121 grams, there are 0 grams of fat, 9 gr of carbohydrate, and 2 gr of protein\n",
    "carbs_per_100g = 9/1.21\n",
    "protein_per_100g = 2/1.21\n",
    "cals_per_100gr = 45/1.21\n",
    "print('carbs: ',carbs_per_100g, 'protein: ', protein_per_100g, 'cals: ', cals_per_100gr)"
   ]
  },
  {
   "cell_type": "code",
   "execution_count": 13,
   "metadata": {
    "collapsed": false
   },
   "outputs": [],
   "source": [
    "###again, we have parity except with the energy field.  \n",
    "### it would make the most sense to add in a new calculated field that looks at total calories per 100 gr.\n",
    "###Calories is a function of the macro nutrients and can be found using basic algebra\n",
    "### cals = 9*fat + 4* protein + 4*carbohydrates + 7*alcohol\n",
    "###  let's add in the correctd calories per 100 grams\n",
    "def cals(w, x, y):\n",
    "    return (9*w) + (4*(x + y))\n",
    "\n",
    "df['calories_100g'] = np.vectorize(cals)(df['fat_100g'], df['proteins_100g'], df['carbohydrates_100g'])\n",
    "\n",
    "\n",
    "\n"
   ]
  },
  {
   "cell_type": "code",
   "execution_count": 14,
   "metadata": {
    "collapsed": false
   },
   "outputs": [
    {
     "data": {
      "text/plain": [
       "code                  36632036506                                         \n",
       "url                   http://world.openfoodfacts.org/product/0036632036506\n",
       "product_name          Activia light blueberry                             \n",
       "energy_100g           222                                                 \n",
       "carbohydrates_100g    9.73                                                \n",
       "fat_100g              0                                                   \n",
       "proteins_100g         3.54                                                \n",
       "serving_size          1 container (113g)                                  \n",
       "calories_100g         53.08                                               \n",
       "Name: 20, dtype: object"
      ]
     },
     "execution_count": 14,
     "metadata": {},
     "output_type": "execute_result"
    }
   ],
   "source": [
    "#verify against a known product:\n",
    "df[['code', 'url', 'product_name', 'energy_100g','carbohydrates_100g', \n",
    "    'fat_100g', 'proteins_100g','serving_size', 'calories_100g']].iloc[20]\n"
   ]
  },
  {
   "cell_type": "code",
   "execution_count": 20,
   "metadata": {
    "collapsed": false
   },
   "outputs": [
    {
     "data": {
      "text/plain": [
       "59.980399999999996"
      ]
     },
     "execution_count": 20,
     "metadata": {},
     "output_type": "execute_result"
    }
   ],
   "source": [
    "df['calories_100g'].iloc[20]*1.13"
   ]
  },
  {
   "cell_type": "code",
   "execution_count": 21,
   "metadata": {
    "collapsed": false
   },
   "outputs": [
    {
     "data": {
      "text/html": [
       "<div>\n",
       "<table border=\"1\" class=\"dataframe\">\n",
       "  <thead>\n",
       "    <tr style=\"text-align: right;\">\n",
       "      <th></th>\n",
       "      <th>code</th>\n",
       "      <th>url</th>\n",
       "      <th>creator</th>\n",
       "      <th>created_t</th>\n",
       "      <th>last_modified_t</th>\n",
       "      <th>product_name</th>\n",
       "      <th>generic_name</th>\n",
       "      <th>quantity</th>\n",
       "      <th>packaging</th>\n",
       "      <th>packaging_tags</th>\n",
       "      <th>...</th>\n",
       "      <th>taurine_100g</th>\n",
       "      <th>ph_100g</th>\n",
       "      <th>fruits-vegetables-nuts_100g</th>\n",
       "      <th>collagen-meat-protein-ratio_100g</th>\n",
       "      <th>cocoa_100g</th>\n",
       "      <th>chlorophyl_100g</th>\n",
       "      <th>carbon-footprint_100g</th>\n",
       "      <th>nutrition-score-fr_100g</th>\n",
       "      <th>nutrition-score-uk_100g</th>\n",
       "      <th>calories_100g</th>\n",
       "    </tr>\n",
       "  </thead>\n",
       "  <tbody>\n",
       "    <tr>\n",
       "      <th>0</th>\n",
       "      <td>5010092093045</td>\n",
       "      <td>http://world.openfoodfacts.org/product/5010092093045</td>\n",
       "      <td>bcatelin</td>\n",
       "      <td>1389309305</td>\n",
       "      <td>1461479010</td>\n",
       "      <td>Soft white</td>\n",
       "      <td>White bread</td>\n",
       "      <td>800g</td>\n",
       "      <td>Plastic bag</td>\n",
       "      <td>plastic-bag</td>\n",
       "      <td>...</td>\n",
       "      <td>NaN</td>\n",
       "      <td>NaN</td>\n",
       "      <td>NaN</td>\n",
       "      <td>NaN</td>\n",
       "      <td>NaN</td>\n",
       "      <td>NaN</td>\n",
       "      <td>125.0</td>\n",
       "      <td>-1.0</td>\n",
       "      <td>-1.0</td>\n",
       "      <td>232.400</td>\n",
       "    </tr>\n",
       "    <tr>\n",
       "      <th>1</th>\n",
       "      <td>44000030377</td>\n",
       "      <td>http://world.openfoodfacts.org/product/0044000030377</td>\n",
       "      <td>openfoodfacts-contributors</td>\n",
       "      <td>1385850411</td>\n",
       "      <td>1459174448</td>\n",
       "      <td>Wheat Thins Original</td>\n",
       "      <td>NaN</td>\n",
       "      <td>258g</td>\n",
       "      <td>NaN</td>\n",
       "      <td>NaN</td>\n",
       "      <td>...</td>\n",
       "      <td>NaN</td>\n",
       "      <td>NaN</td>\n",
       "      <td>NaN</td>\n",
       "      <td>NaN</td>\n",
       "      <td>NaN</td>\n",
       "      <td>NaN</td>\n",
       "      <td>NaN</td>\n",
       "      <td>NaN</td>\n",
       "      <td>NaN</td>\n",
       "      <td>NaN</td>\n",
       "    </tr>\n",
       "    <tr>\n",
       "      <th>2</th>\n",
       "      <td>7832309</td>\n",
       "      <td>http://world.openfoodfacts.org/product/07832309</td>\n",
       "      <td>openfoodfacts-contributors</td>\n",
       "      <td>1403210081</td>\n",
       "      <td>1458995984</td>\n",
       "      <td>Diet Dr Pepper</td>\n",
       "      <td>NaN</td>\n",
       "      <td>NaN</td>\n",
       "      <td>can</td>\n",
       "      <td>can</td>\n",
       "      <td>...</td>\n",
       "      <td>NaN</td>\n",
       "      <td>NaN</td>\n",
       "      <td>NaN</td>\n",
       "      <td>NaN</td>\n",
       "      <td>NaN</td>\n",
       "      <td>NaN</td>\n",
       "      <td>NaN</td>\n",
       "      <td>NaN</td>\n",
       "      <td>NaN</td>\n",
       "      <td>NaN</td>\n",
       "    </tr>\n",
       "    <tr>\n",
       "      <th>3</th>\n",
       "      <td>5099353000169</td>\n",
       "      <td>http://world.openfoodfacts.org/product/5099353000169</td>\n",
       "      <td>bcatelin</td>\n",
       "      <td>1385926289</td>\n",
       "      <td>1413659845</td>\n",
       "      <td>Eggs</td>\n",
       "      <td>Eggs</td>\n",
       "      <td>6</td>\n",
       "      <td>Cardbox</td>\n",
       "      <td>cardbox</td>\n",
       "      <td>...</td>\n",
       "      <td>NaN</td>\n",
       "      <td>NaN</td>\n",
       "      <td>NaN</td>\n",
       "      <td>NaN</td>\n",
       "      <td>NaN</td>\n",
       "      <td>NaN</td>\n",
       "      <td>NaN</td>\n",
       "      <td>NaN</td>\n",
       "      <td>NaN</td>\n",
       "      <td>NaN</td>\n",
       "    </tr>\n",
       "    <tr>\n",
       "      <th>4</th>\n",
       "      <td>82592720153</td>\n",
       "      <td>http://world.openfoodfacts.org/product/0082592720153</td>\n",
       "      <td>openfoodfacts-contributors</td>\n",
       "      <td>1389308826</td>\n",
       "      <td>1459174499</td>\n",
       "      <td>Green Machine</td>\n",
       "      <td>NaN</td>\n",
       "      <td>15.2 fl. oz (450 mL)</td>\n",
       "      <td>NaN</td>\n",
       "      <td>NaN</td>\n",
       "      <td>...</td>\n",
       "      <td>NaN</td>\n",
       "      <td>NaN</td>\n",
       "      <td>NaN</td>\n",
       "      <td>NaN</td>\n",
       "      <td>NaN</td>\n",
       "      <td>NaN</td>\n",
       "      <td>NaN</td>\n",
       "      <td>NaN</td>\n",
       "      <td>NaN</td>\n",
       "      <td>58.532</td>\n",
       "    </tr>\n",
       "  </tbody>\n",
       "</table>\n",
       "<p>5 rows × 151 columns</p>\n",
       "</div>"
      ],
      "text/plain": [
       "            code                                                   url  \\\n",
       "0  5010092093045  http://world.openfoodfacts.org/product/5010092093045   \n",
       "1  44000030377    http://world.openfoodfacts.org/product/0044000030377   \n",
       "2  7832309        http://world.openfoodfacts.org/product/07832309        \n",
       "3  5099353000169  http://world.openfoodfacts.org/product/5099353000169   \n",
       "4  82592720153    http://world.openfoodfacts.org/product/0082592720153   \n",
       "\n",
       "                      creator   created_t  last_modified_t  \\\n",
       "0  bcatelin                    1389309305  1461479010        \n",
       "1  openfoodfacts-contributors  1385850411  1459174448        \n",
       "2  openfoodfacts-contributors  1403210081  1458995984        \n",
       "3  bcatelin                    1385926289  1413659845        \n",
       "4  openfoodfacts-contributors  1389308826  1459174499        \n",
       "\n",
       "           product_name generic_name              quantity    packaging  \\\n",
       "0  Soft white            White bread  800g                  Plastic bag   \n",
       "1  Wheat Thins Original  NaN          258g                  NaN           \n",
       "2  Diet Dr Pepper        NaN          NaN                   can           \n",
       "3  Eggs                  Eggs         6                     Cardbox       \n",
       "4  Green Machine         NaN          15.2 fl. oz (450 mL)  NaN           \n",
       "\n",
       "  packaging_tags      ...      taurine_100g ph_100g  \\\n",
       "0  plastic-bag        ...      NaN          NaN       \n",
       "1  NaN                ...      NaN          NaN       \n",
       "2  can                ...      NaN          NaN       \n",
       "3  cardbox            ...      NaN          NaN       \n",
       "4  NaN                ...      NaN          NaN       \n",
       "\n",
       "  fruits-vegetables-nuts_100g collagen-meat-protein-ratio_100g cocoa_100g  \\\n",
       "0 NaN                         NaN                              NaN          \n",
       "1 NaN                         NaN                              NaN          \n",
       "2 NaN                         NaN                              NaN          \n",
       "3 NaN                         NaN                              NaN          \n",
       "4 NaN                         NaN                              NaN          \n",
       "\n",
       "  chlorophyl_100g carbon-footprint_100g nutrition-score-fr_100g  \\\n",
       "0 NaN              125.0                -1.0                      \n",
       "1 NaN             NaN                   NaN                       \n",
       "2 NaN             NaN                   NaN                       \n",
       "3 NaN             NaN                   NaN                       \n",
       "4 NaN             NaN                   NaN                       \n",
       "\n",
       "  nutrition-score-uk_100g calories_100g  \n",
       "0 -1.0                     232.400       \n",
       "1 NaN                     NaN            \n",
       "2 NaN                     NaN            \n",
       "3 NaN                     NaN            \n",
       "4 NaN                      58.532        \n",
       "\n",
       "[5 rows x 151 columns]"
      ]
     },
     "execution_count": 21,
     "metadata": {},
     "output_type": "execute_result"
    }
   ],
   "source": [
    "###This value is nearly identical to the value listed for 113 grams on activia's website\n",
    "###it is safe to use this calorie value in place of the energy_100g field\n",
    "df.head()"
   ]
  },
  {
   "cell_type": "code",
   "execution_count": 12,
   "metadata": {
    "collapsed": false
   },
   "outputs": [
    {
     "ename": "KeyError",
     "evalue": "'calories_100g'",
     "output_type": "error",
     "traceback": [
      "\u001b[0;31m---------------------------------------------------------------------------\u001b[0m",
      "\u001b[0;31mKeyError\u001b[0m                                  Traceback (most recent call last)",
      "\u001b[0;32m/Users/nicholeh/anaconda/lib/python3.5/site-packages/pandas/indexes/base.py\u001b[0m in \u001b[0;36mget_loc\u001b[0;34m(self, key, method, tolerance)\u001b[0m\n\u001b[1;32m   1944\u001b[0m             \u001b[0;32mtry\u001b[0m\u001b[0;34m:\u001b[0m\u001b[0;34m\u001b[0m\u001b[0m\n\u001b[0;32m-> 1945\u001b[0;31m                 \u001b[0;32mreturn\u001b[0m \u001b[0mself\u001b[0m\u001b[0;34m.\u001b[0m\u001b[0m_engine\u001b[0m\u001b[0;34m.\u001b[0m\u001b[0mget_loc\u001b[0m\u001b[0;34m(\u001b[0m\u001b[0mkey\u001b[0m\u001b[0;34m)\u001b[0m\u001b[0;34m\u001b[0m\u001b[0m\n\u001b[0m\u001b[1;32m   1946\u001b[0m             \u001b[0;32mexcept\u001b[0m \u001b[0mKeyError\u001b[0m\u001b[0;34m:\u001b[0m\u001b[0;34m\u001b[0m\u001b[0m\n",
      "\u001b[0;32mpandas/index.pyx\u001b[0m in \u001b[0;36mpandas.index.IndexEngine.get_loc (pandas/index.c:4154)\u001b[0;34m()\u001b[0m\n",
      "\u001b[0;32mpandas/index.pyx\u001b[0m in \u001b[0;36mpandas.index.IndexEngine.get_loc (pandas/index.c:4018)\u001b[0;34m()\u001b[0m\n",
      "\u001b[0;32mpandas/hashtable.pyx\u001b[0m in \u001b[0;36mpandas.hashtable.PyObjectHashTable.get_item (pandas/hashtable.c:12368)\u001b[0;34m()\u001b[0m\n",
      "\u001b[0;32mpandas/hashtable.pyx\u001b[0m in \u001b[0;36mpandas.hashtable.PyObjectHashTable.get_item (pandas/hashtable.c:12322)\u001b[0;34m()\u001b[0m\n",
      "\u001b[0;31mKeyError\u001b[0m: 'calories_100g'",
      "\nDuring handling of the above exception, another exception occurred:\n",
      "\u001b[0;31mKeyError\u001b[0m                                  Traceback (most recent call last)",
      "\u001b[0;32m<ipython-input-12-018638106747>\u001b[0m in \u001b[0;36m<module>\u001b[0;34m()\u001b[0m\n\u001b[0;32m----> 1\u001b[0;31m \u001b[0mdf\u001b[0m\u001b[0;34m[\u001b[0m\u001b[0;34m'calories_100g'\u001b[0m\u001b[0;34m]\u001b[0m\u001b[0;34m.\u001b[0m\u001b[0mdescribe\u001b[0m\u001b[0;34m(\u001b[0m\u001b[0;34m)\u001b[0m\u001b[0;34m\u001b[0m\u001b[0m\n\u001b[0m",
      "\u001b[0;32m/Users/nicholeh/anaconda/lib/python3.5/site-packages/pandas/core/frame.py\u001b[0m in \u001b[0;36m__getitem__\u001b[0;34m(self, key)\u001b[0m\n\u001b[1;32m   1995\u001b[0m             \u001b[0;32mreturn\u001b[0m \u001b[0mself\u001b[0m\u001b[0;34m.\u001b[0m\u001b[0m_getitem_multilevel\u001b[0m\u001b[0;34m(\u001b[0m\u001b[0mkey\u001b[0m\u001b[0;34m)\u001b[0m\u001b[0;34m\u001b[0m\u001b[0m\n\u001b[1;32m   1996\u001b[0m         \u001b[0;32melse\u001b[0m\u001b[0;34m:\u001b[0m\u001b[0;34m\u001b[0m\u001b[0m\n\u001b[0;32m-> 1997\u001b[0;31m             \u001b[0;32mreturn\u001b[0m \u001b[0mself\u001b[0m\u001b[0;34m.\u001b[0m\u001b[0m_getitem_column\u001b[0m\u001b[0;34m(\u001b[0m\u001b[0mkey\u001b[0m\u001b[0;34m)\u001b[0m\u001b[0;34m\u001b[0m\u001b[0m\n\u001b[0m\u001b[1;32m   1998\u001b[0m \u001b[0;34m\u001b[0m\u001b[0m\n\u001b[1;32m   1999\u001b[0m     \u001b[0;32mdef\u001b[0m \u001b[0m_getitem_column\u001b[0m\u001b[0;34m(\u001b[0m\u001b[0mself\u001b[0m\u001b[0;34m,\u001b[0m \u001b[0mkey\u001b[0m\u001b[0;34m)\u001b[0m\u001b[0;34m:\u001b[0m\u001b[0;34m\u001b[0m\u001b[0m\n",
      "\u001b[0;32m/Users/nicholeh/anaconda/lib/python3.5/site-packages/pandas/core/frame.py\u001b[0m in \u001b[0;36m_getitem_column\u001b[0;34m(self, key)\u001b[0m\n\u001b[1;32m   2002\u001b[0m         \u001b[0;31m# get column\u001b[0m\u001b[0;34m\u001b[0m\u001b[0;34m\u001b[0m\u001b[0m\n\u001b[1;32m   2003\u001b[0m         \u001b[0;32mif\u001b[0m \u001b[0mself\u001b[0m\u001b[0;34m.\u001b[0m\u001b[0mcolumns\u001b[0m\u001b[0;34m.\u001b[0m\u001b[0mis_unique\u001b[0m\u001b[0;34m:\u001b[0m\u001b[0;34m\u001b[0m\u001b[0m\n\u001b[0;32m-> 2004\u001b[0;31m             \u001b[0;32mreturn\u001b[0m \u001b[0mself\u001b[0m\u001b[0;34m.\u001b[0m\u001b[0m_get_item_cache\u001b[0m\u001b[0;34m(\u001b[0m\u001b[0mkey\u001b[0m\u001b[0;34m)\u001b[0m\u001b[0;34m\u001b[0m\u001b[0m\n\u001b[0m\u001b[1;32m   2005\u001b[0m \u001b[0;34m\u001b[0m\u001b[0m\n\u001b[1;32m   2006\u001b[0m         \u001b[0;31m# duplicate columns & possible reduce dimensionality\u001b[0m\u001b[0;34m\u001b[0m\u001b[0;34m\u001b[0m\u001b[0m\n",
      "\u001b[0;32m/Users/nicholeh/anaconda/lib/python3.5/site-packages/pandas/core/generic.py\u001b[0m in \u001b[0;36m_get_item_cache\u001b[0;34m(self, item)\u001b[0m\n\u001b[1;32m   1348\u001b[0m         \u001b[0mres\u001b[0m \u001b[0;34m=\u001b[0m \u001b[0mcache\u001b[0m\u001b[0;34m.\u001b[0m\u001b[0mget\u001b[0m\u001b[0;34m(\u001b[0m\u001b[0mitem\u001b[0m\u001b[0;34m)\u001b[0m\u001b[0;34m\u001b[0m\u001b[0m\n\u001b[1;32m   1349\u001b[0m         \u001b[0;32mif\u001b[0m \u001b[0mres\u001b[0m \u001b[0;32mis\u001b[0m \u001b[0;32mNone\u001b[0m\u001b[0;34m:\u001b[0m\u001b[0;34m\u001b[0m\u001b[0m\n\u001b[0;32m-> 1350\u001b[0;31m             \u001b[0mvalues\u001b[0m \u001b[0;34m=\u001b[0m \u001b[0mself\u001b[0m\u001b[0;34m.\u001b[0m\u001b[0m_data\u001b[0m\u001b[0;34m.\u001b[0m\u001b[0mget\u001b[0m\u001b[0;34m(\u001b[0m\u001b[0mitem\u001b[0m\u001b[0;34m)\u001b[0m\u001b[0;34m\u001b[0m\u001b[0m\n\u001b[0m\u001b[1;32m   1351\u001b[0m             \u001b[0mres\u001b[0m \u001b[0;34m=\u001b[0m \u001b[0mself\u001b[0m\u001b[0;34m.\u001b[0m\u001b[0m_box_item_values\u001b[0m\u001b[0;34m(\u001b[0m\u001b[0mitem\u001b[0m\u001b[0;34m,\u001b[0m \u001b[0mvalues\u001b[0m\u001b[0;34m)\u001b[0m\u001b[0;34m\u001b[0m\u001b[0m\n\u001b[1;32m   1352\u001b[0m             \u001b[0mcache\u001b[0m\u001b[0;34m[\u001b[0m\u001b[0mitem\u001b[0m\u001b[0;34m]\u001b[0m \u001b[0;34m=\u001b[0m \u001b[0mres\u001b[0m\u001b[0;34m\u001b[0m\u001b[0m\n",
      "\u001b[0;32m/Users/nicholeh/anaconda/lib/python3.5/site-packages/pandas/core/internals.py\u001b[0m in \u001b[0;36mget\u001b[0;34m(self, item, fastpath)\u001b[0m\n\u001b[1;32m   3288\u001b[0m \u001b[0;34m\u001b[0m\u001b[0m\n\u001b[1;32m   3289\u001b[0m             \u001b[0;32mif\u001b[0m \u001b[0;32mnot\u001b[0m \u001b[0misnull\u001b[0m\u001b[0;34m(\u001b[0m\u001b[0mitem\u001b[0m\u001b[0;34m)\u001b[0m\u001b[0;34m:\u001b[0m\u001b[0;34m\u001b[0m\u001b[0m\n\u001b[0;32m-> 3290\u001b[0;31m                 \u001b[0mloc\u001b[0m \u001b[0;34m=\u001b[0m \u001b[0mself\u001b[0m\u001b[0;34m.\u001b[0m\u001b[0mitems\u001b[0m\u001b[0;34m.\u001b[0m\u001b[0mget_loc\u001b[0m\u001b[0;34m(\u001b[0m\u001b[0mitem\u001b[0m\u001b[0;34m)\u001b[0m\u001b[0;34m\u001b[0m\u001b[0m\n\u001b[0m\u001b[1;32m   3291\u001b[0m             \u001b[0;32melse\u001b[0m\u001b[0;34m:\u001b[0m\u001b[0;34m\u001b[0m\u001b[0m\n\u001b[1;32m   3292\u001b[0m                 \u001b[0mindexer\u001b[0m \u001b[0;34m=\u001b[0m \u001b[0mnp\u001b[0m\u001b[0;34m.\u001b[0m\u001b[0marange\u001b[0m\u001b[0;34m(\u001b[0m\u001b[0mlen\u001b[0m\u001b[0;34m(\u001b[0m\u001b[0mself\u001b[0m\u001b[0;34m.\u001b[0m\u001b[0mitems\u001b[0m\u001b[0;34m)\u001b[0m\u001b[0;34m)\u001b[0m\u001b[0;34m[\u001b[0m\u001b[0misnull\u001b[0m\u001b[0;34m(\u001b[0m\u001b[0mself\u001b[0m\u001b[0;34m.\u001b[0m\u001b[0mitems\u001b[0m\u001b[0;34m)\u001b[0m\u001b[0;34m]\u001b[0m\u001b[0;34m\u001b[0m\u001b[0m\n",
      "\u001b[0;32m/Users/nicholeh/anaconda/lib/python3.5/site-packages/pandas/indexes/base.py\u001b[0m in \u001b[0;36mget_loc\u001b[0;34m(self, key, method, tolerance)\u001b[0m\n\u001b[1;32m   1945\u001b[0m                 \u001b[0;32mreturn\u001b[0m \u001b[0mself\u001b[0m\u001b[0;34m.\u001b[0m\u001b[0m_engine\u001b[0m\u001b[0;34m.\u001b[0m\u001b[0mget_loc\u001b[0m\u001b[0;34m(\u001b[0m\u001b[0mkey\u001b[0m\u001b[0;34m)\u001b[0m\u001b[0;34m\u001b[0m\u001b[0m\n\u001b[1;32m   1946\u001b[0m             \u001b[0;32mexcept\u001b[0m \u001b[0mKeyError\u001b[0m\u001b[0;34m:\u001b[0m\u001b[0;34m\u001b[0m\u001b[0m\n\u001b[0;32m-> 1947\u001b[0;31m                 \u001b[0;32mreturn\u001b[0m \u001b[0mself\u001b[0m\u001b[0;34m.\u001b[0m\u001b[0m_engine\u001b[0m\u001b[0;34m.\u001b[0m\u001b[0mget_loc\u001b[0m\u001b[0;34m(\u001b[0m\u001b[0mself\u001b[0m\u001b[0;34m.\u001b[0m\u001b[0m_maybe_cast_indexer\u001b[0m\u001b[0;34m(\u001b[0m\u001b[0mkey\u001b[0m\u001b[0;34m)\u001b[0m\u001b[0;34m)\u001b[0m\u001b[0;34m\u001b[0m\u001b[0m\n\u001b[0m\u001b[1;32m   1948\u001b[0m \u001b[0;34m\u001b[0m\u001b[0m\n\u001b[1;32m   1949\u001b[0m         \u001b[0mindexer\u001b[0m \u001b[0;34m=\u001b[0m \u001b[0mself\u001b[0m\u001b[0;34m.\u001b[0m\u001b[0mget_indexer\u001b[0m\u001b[0;34m(\u001b[0m\u001b[0;34m[\u001b[0m\u001b[0mkey\u001b[0m\u001b[0;34m]\u001b[0m\u001b[0;34m,\u001b[0m \u001b[0mmethod\u001b[0m\u001b[0;34m=\u001b[0m\u001b[0mmethod\u001b[0m\u001b[0;34m,\u001b[0m \u001b[0mtolerance\u001b[0m\u001b[0;34m=\u001b[0m\u001b[0mtolerance\u001b[0m\u001b[0;34m)\u001b[0m\u001b[0;34m\u001b[0m\u001b[0m\n",
      "\u001b[0;32mpandas/index.pyx\u001b[0m in \u001b[0;36mpandas.index.IndexEngine.get_loc (pandas/index.c:4154)\u001b[0;34m()\u001b[0m\n",
      "\u001b[0;32mpandas/index.pyx\u001b[0m in \u001b[0;36mpandas.index.IndexEngine.get_loc (pandas/index.c:4018)\u001b[0;34m()\u001b[0m\n",
      "\u001b[0;32mpandas/hashtable.pyx\u001b[0m in \u001b[0;36mpandas.hashtable.PyObjectHashTable.get_item (pandas/hashtable.c:12368)\u001b[0;34m()\u001b[0m\n",
      "\u001b[0;32mpandas/hashtable.pyx\u001b[0m in \u001b[0;36mpandas.hashtable.PyObjectHashTable.get_item (pandas/hashtable.c:12322)\u001b[0;34m()\u001b[0m\n",
      "\u001b[0;31mKeyError\u001b[0m: 'calories_100g'"
     ]
    }
   ],
   "source": [
    "df['calories_100g'].describe()"
   ]
  },
  {
   "cell_type": "code",
   "execution_count": 23,
   "metadata": {
    "collapsed": false
   },
   "outputs": [
    {
     "name": "stderr",
     "output_type": "stream",
     "text": [
      "/Users/nicholeh/anaconda/lib/python3.5/site-packages/numpy/lib/function_base.py:3834: RuntimeWarning: Invalid value encountered in percentile\n",
      "  RuntimeWarning)\n"
     ]
    },
    {
     "data": {
      "text/plain": [
       "count    1284.000000\n",
       "mean     6.568091   \n",
       "std      7.565550   \n",
       "min      0.000000   \n",
       "25%     NaN         \n",
       "50%     NaN         \n",
       "75%     NaN         \n",
       "max      70.000000  \n",
       "Name: proteins_100g, dtype: float64"
      ]
     },
     "execution_count": 23,
     "metadata": {},
     "output_type": "execute_result"
    }
   ],
   "source": [
    "df['proteins_100g'].describe()"
   ]
  },
  {
   "cell_type": "code",
   "execution_count": 24,
   "metadata": {
    "collapsed": false
   },
   "outputs": [
    {
     "name": "stderr",
     "output_type": "stream",
     "text": [
      "/Users/nicholeh/anaconda/lib/python3.5/site-packages/numpy/lib/function_base.py:3834: RuntimeWarning: Invalid value encountered in percentile\n",
      "  RuntimeWarning)\n"
     ]
    },
    {
     "data": {
      "text/plain": [
       "count    1295.000000\n",
       "mean     13.589666  \n",
       "std      18.440903  \n",
       "min      0.000000   \n",
       "25%     NaN         \n",
       "50%     NaN         \n",
       "75%     NaN         \n",
       "max      100.000000 \n",
       "Name: fat_100g, dtype: float64"
      ]
     },
     "execution_count": 24,
     "metadata": {},
     "output_type": "execute_result"
    }
   ],
   "source": [
    "df['fat_100g'].describe()"
   ]
  },
  {
   "cell_type": "code",
   "execution_count": 25,
   "metadata": {
    "collapsed": false
   },
   "outputs": [
    {
     "name": "stderr",
     "output_type": "stream",
     "text": [
      "/Users/nicholeh/anaconda/lib/python3.5/site-packages/numpy/lib/function_base.py:3834: RuntimeWarning: Invalid value encountered in percentile\n",
      "  RuntimeWarning)\n"
     ]
    },
    {
     "data": {
      "text/plain": [
       "count    1292.000000\n",
       "mean     35.559534  \n",
       "std      30.094423  \n",
       "min      0.000000   \n",
       "25%     NaN         \n",
       "50%     NaN         \n",
       "75%     NaN         \n",
       "max      120.000000 \n",
       "Name: carbohydrates_100g, dtype: float64"
      ]
     },
     "execution_count": 25,
     "metadata": {},
     "output_type": "execute_result"
    }
   ],
   "source": [
    "df['carbohydrates_100g'].describe()"
   ]
  },
  {
   "cell_type": "code",
   "execution_count": 103,
   "metadata": {
    "collapsed": true
   },
   "outputs": [],
   "source": [
    "###save the df with the new calories\n",
    "df.to_csv('groomed_food_facts_data.cs', sep = '\\t')"
   ]
  },
  {
   "cell_type": "code",
   "execution_count": 26,
   "metadata": {
    "collapsed": false
   },
   "outputs": [
    {
     "name": "stderr",
     "output_type": "stream",
     "text": [
      "/Users/nicholeh/anaconda/lib/python3.5/site-packages/numpy/lib/function_base.py:3834: RuntimeWarning: Invalid value encountered in percentile\n",
      "  RuntimeWarning)\n"
     ]
    },
    {
     "data": {
      "text/plain": [
       "count    1110.000000\n",
       "mean     8.779279   \n",
       "std      9.420778   \n",
       "min     -10.000000  \n",
       "25%     NaN         \n",
       "50%     NaN         \n",
       "75%     NaN         \n",
       "max      29.000000  \n",
       "Name: nutrition-score-uk_100g, dtype: float64"
      ]
     },
     "execution_count": 26,
     "metadata": {},
     "output_type": "execute_result"
    }
   ],
   "source": [
    "###according to the source material, the following score gives information the total nutritive value of a \n",
    "###product\n",
    "###nutrition-score-uk_100g\n",
    "###from the Food Standards Administration:\n",
    "###A food is classified as 'less healthy' where it scores 4 points or more.\n",
    "###A drink is classified as 'less healthy' where it scores 1 point or more. \n",
    "###so, a product's score is like golf; the lower the better\n",
    "###The score  can be verified using the information on this site:\n",
    "###http://www.food.gov.uk/sites/default/files/multimedia/pdfs/techguidenutprofiling.pdf\n",
    "df['nutrition-score-uk_100g'].describe()"
   ]
  },
  {
   "cell_type": "code",
   "execution_count": 27,
   "metadata": {
    "collapsed": false
   },
   "outputs": [
    {
     "data": {
      "text/plain": [
       "code                       36632036506                                         \n",
       "url                        http://world.openfoodfacts.org/product/0036632036506\n",
       "product_name               Activia light blueberry                             \n",
       "energy_100g                222                                                 \n",
       "carbohydrates_100g         9.73                                                \n",
       "fat_100g                   0                                                   \n",
       "proteins_100g              3.54                                                \n",
       "serving_size               1 container (113g)                                  \n",
       "calories_100g              53.08                                               \n",
       "nutrition-score-uk_100g   -3                                                   \n",
       "Name: 20, dtype: object"
      ]
     },
     "execution_count": 27,
     "metadata": {},
     "output_type": "execute_result"
    }
   ],
   "source": [
    "###let's check to see if a score exits for the yogurt example\n",
    "#verify against a known product:\n",
    "df[['code', 'url', 'product_name', 'energy_100g','carbohydrates_100g', \n",
    "    'fat_100g', 'proteins_100g','serving_size', 'calories_100g', 'nutrition-score-uk_100g']].iloc[20]"
   ]
  },
  {
   "cell_type": "code",
   "execution_count": 5,
   "metadata": {
    "collapsed": false
   },
   "outputs": [
    {
     "data": {
      "text/plain": [
       "1                       60\n",
       "16 oz                   17\n",
       "12 oz                   16\n",
       "16 fl oz                15\n",
       "12 oz (340 g)           14\n",
       "12 fl oz                14\n",
       "8 oz                    13\n",
       "3.75 oz (106 g)         11\n",
       "6 oz (170 g)            11\n",
       "15 oz (425 g)           11\n",
       "8 oz (227 g)            11\n",
       "1 LB (454 g)            10\n",
       "6 oz                    10\n",
       "12 OZ (340 g)           10\n",
       "7 oz (198 g)            10\n",
       "2 L                     9 \n",
       "100 g                   9 \n",
       "1 gallon (3.78 L)       8 \n",
       "750 ML                  8 \n",
       "10 oz                   8 \n",
       "1 lb                    8 \n",
       "5 oz (142 g)            7 \n",
       "3.5 OZ (100g)           7 \n",
       "450g                    7 \n",
       "750 ml                  7 \n",
       "1 serving               7 \n",
       "3 oz (85 g)             7 \n",
       "340 g                   7 \n",
       "500 ml                  7 \n",
       "150g                    6 \n",
       "                       .. \n",
       "19 OZ                   1 \n",
       " 4 servings             1 \n",
       "24 oz.                  1 \n",
       " 7 servings             1 \n",
       "238g                    1 \n",
       "19.5 oz (552g)          1 \n",
       "6 fl oz (177 mL)        1 \n",
       "12 bars (820 g)         1 \n",
       "795 g                   1 \n",
       "4lbs                    1 \n",
       "0.53oz                  1 \n",
       "1 dry pint              1 \n",
       "7 oz (200 g)            1 \n",
       "56.5 g                  1 \n",
       "269 g                   1 \n",
       "6.5 fl oz               1 \n",
       "24 cans                 1 \n",
       "5.25 oz.                1 \n",
       "359 grams               1 \n",
       "36 g                    1 \n",
       "NET WT. 12 OZ (340g)    1 \n",
       "6 x 35 g (210 g)        1 \n",
       "23 g                    1 \n",
       "19.8 oz.                1 \n",
       "198 g                   1 \n",
       "450 mL                  1 \n",
       "624g                    1 \n",
       "1.89 l                  1 \n",
       " 1                      1 \n",
       "2.25 oz (64 g)          1 \n",
       "Name: quantity, dtype: int64"
      ]
     },
     "execution_count": 5,
     "metadata": {},
     "output_type": "execute_result"
    }
   ],
   "source": [
    "#investiate quantity; does quantity contain information of servings per unit or total size of unit?\n",
    "df['quantity'].head(20)\n",
    "df['quantity'].value_counts()"
   ]
  },
  {
   "cell_type": "code",
   "execution_count": 6,
   "metadata": {
    "collapsed": false
   },
   "outputs": [
    {
     "data": {
      "text/plain": [
       "Sugary snacks,Biscuits and cakes,Biscuits,Cookies                                                                                                                                              27\n",
       "Plant-based foods and beverages,Plant-based foods,Cereals and potatoes,Cereals and their products,Pastas                                                                                       24\n",
       "Sugary snacks,Confectioneries,Candies                                                                                                                                                          20\n",
       "Plant-based foods and beverages,Plant-based foods,Breakfasts,Cereals and potatoes,Cereals and their products,Breakfast cereals                                                                 20\n",
       "Groceries,Sauces,Tomato sauces,Ketchup                                                                                                                                                         15\n",
       "Plant-based foods and beverages,Plant-based foods,Cereals and potatoes,Cereals and their products,Noodles,Instant noodles                                                                      14\n",
       "Dairies,Milks                                                                                                                                                                                  13\n",
       "Crackers                                                                                                                                                                                       13\n",
       "Salty snacks,Appetizers,Crackers                                                                                                                                                               13\n",
       "Groceries,Sauces,Mayonnaises                                                                                                                                                                   12\n",
       "Beverages,Alcoholic beverages,Beers                                                                                                                                                            12\n",
       "Snacks                                                                                                                                                                                         11\n",
       "Groceries,Sauces,Pasta sauces                                                                                                                                                                  11\n",
       "Groceries,Condiments,Sauces,Mustards                                                                                                                                                           11\n",
       "Sugary snacks,Chocolates,Dark chocolates                                                                                                                                                       10\n",
       "Dairies,Cheeses                                                                                                                                                                                10\n",
       "Beers                                                                                                                                                                                          10\n",
       "Beverages,Waters,Non-sugared beverages                                                                                                                                                         9 \n",
       "Dairies,Yogurts                                                                                                                                                                                9 \n",
       "pasta                                                                                                                                                                                          9 \n",
       "Dairies,Yogurts,Greek yogurts                                                                                                                                                                  9 \n",
       "Sugary snacks,Bars                                                                                                                                                                             9 \n",
       "Breakfast cereals                                                                                                                                                                              8 \n",
       "water                                                                                                                                                                                          8 \n",
       "Cheese                                                                                                                                                                                         8 \n",
       "Groceries,Sauces                                                                                                                                                                               8 \n",
       "Sugary snacks,Biscuits and cakes,Biscuits,Cookies,Chocolate cookies                                                                                                                            8 \n",
       "Candies                                                                                                                                                                                        7 \n",
       "Dairies,Yogurts,Low-fat yogurts                                                                                                                                                                7 \n",
       "Plant-based foods and beverages,Plant-based foods,Cereals and potatoes,Breads                                                                                                                  7 \n",
       "                                                                                                                                                                                              .. \n",
       "Soy Sauce                                                                                                                                                                                      1 \n",
       "Beverages,Plant-based beverages,Fruit-based beverages,Juices and nectars,Fruit juices and nectars,Fruit juices,Orange juices,juices                                                            1 \n",
       "Tennessee Whiskey                                                                                                                                                                              1 \n",
       "soda,cola                                                                                                                                                                                      1 \n",
       "Plant-based foods and beverages,Plant-based foods,Canned foods,Fruits and vegetables based foods,Vegetables based foods,Tomatoes and tomato products,Canned vegetables,Canned tomatoes         1 \n",
       "banana                                                                                                                                                                                         1 \n",
       "Beverages,Carbonated drinks,Waters,Mineral waters,Carbonated mineral waters,Carbonated waters                                                                                                  1 \n",
       "Sugary snacks,Desserts,Biscuits and cakes,Cakes,Puddings                                                                                                                                       1 \n",
       "Plant-based foods and beverages,Plant-based foods,Breakfasts,Cereals and potatoes,Cereals and their products,Breakfast cereals,Flakes,Cereal flakes,Mixed cereal flakes,Mueslis,Wholegrains    1 \n",
       "Cottage cheese                                                                                                                                                                                 1 \n",
       "White wines,fr:Vins américains                                                                                                                                                                 1 \n",
       "Green kale                                                                                                                                                                                     1 \n",
       "Meats,Prepared meats,Sausages,Bologna,beef                                                                                                                                                     1 \n",
       "meats,PORK                                                                                                                                                                                     1 \n",
       "Beverages,Syrups,Flavoured syrups,Non-sugared beverages,Sugared beverages                                                                                                                      1 \n",
       "Whole wheat tortillas,tortillas,wheat tortillas                                                                                                                                                1 \n",
       "Instant Noodles,Dehydrated Soups                                                                                                                                                               1 \n",
       "Gum and Mints,Gum                                                                                                                                                                              1 \n",
       "Whole bean coffee                                                                                                                                                                              1 \n",
       "Lemon juice from concentrate,Lemon juice                                                                                                                                                       1 \n",
       "pretzel                                                                                                                                                                                        1 \n",
       "Salads                                                                                                                                                                                         1 \n",
       "Sweet Cornbread,Cornbreads                                                                                                                                                                     1 \n",
       "Sugary Snacks                                                                                                                                                                                  1 \n",
       "bar                                                                                                                                                                                            1 \n",
       "Snacks,Crackers                                                                                                                                                                                1 \n",
       "Meats,Prepared meats,Sausages,Bologna,pork,chicken                                                                                                                                             1 \n",
       "Wasabi horseradish                                                                                                                                                                             1 \n",
       "Salami                                                                                                                                                                                         1 \n",
       "calorie free soda,soda                                                                                                                                                                         1 \n",
       "Name: categories, dtype: int64"
      ]
     },
     "execution_count": 6,
     "metadata": {},
     "output_type": "execute_result"
    }
   ],
   "source": [
    "#investiate categories\n",
    "df['categories'].value_counts()"
   ]
  },
  {
   "cell_type": "code",
   "execution_count": 7,
   "metadata": {
    "collapsed": false
   },
   "outputs": [
    {
     "data": {
      "text/plain": [
       "en:sugary-snacks,en:biscuits-and-cakes,en:biscuits,en:cookies                                                                                                                                                                                                                                                              42\n",
       "en:plant-based-foods-and-beverages,en:plant-based-foods,en:breakfasts,en:cereals-and-potatoes,en:cereals-and-their-products,en:breakfast-cereals                                                                                                                                                                           40\n",
       "en:plant-based-foods-and-beverages,en:plant-based-foods,en:cereals-and-potatoes,en:cereals-and-their-products,en:pastas                                                                                                                                                                                                    39\n",
       "en:sugary-snacks,en:confectioneries,en:candies                                                                                                                                                                                                                                                                             36\n",
       "en:beverages,en:alcoholic-beverages,en:beers                                                                                                                                                                                                                                                                               30\n",
       "en:salty-snacks,en:appetizers,en:crackers                                                                                                                                                                                                                                                                                  30\n",
       "en:beverages,en:waters,en:non-sugared-beverages                                                                                                                                                                                                                                                                            22\n",
       "en:groceries,en:sauces,en:pasta-sauces                                                                                                                                                                                                                                                                                     21\n",
       "en:groceries,en:condiments,en:sauces,en:mustards                                                                                                                                                                                                                                                                           21\n",
       "en:dairies,en:milks                                                                                                                                                                                                                                                                                                        21\n",
       "en:groceries,en:sauces,en:tomato-sauces,en:ketchup                                                                                                                                                                                                                                                                         21\n",
       "en:dairies,en:yogurts                                                                                                                                                                                                                                                                                                      21\n",
       "en:dairies,en:cheeses                                                                                                                                                                                                                                                                                                      20\n",
       "en:groceries,en:sauces,en:mayonnaises                                                                                                                                                                                                                                                                                      20\n",
       "en:sugary-snacks,en:bars                                                                                                                                                                                                                                                                                                   20\n",
       "en:plant-based-foods-and-beverages,en:plant-based-foods,en:cereals-and-potatoes,en:cereals-and-their-products,en:noodles,en:instant-noodles                                                                                                                                                                                18\n",
       "en:sugary-snacks,en:chocolates,en:dark-chocolates                                                                                                                                                                                                                                                                          18\n",
       "en:plant-based-foods-and-beverages,en:plant-based-foods,en:legumes-and-their-products,en:spreads,en:nuts-and-their-products,en:plant-based-spreads,en:oilseed-purees,en:nut-butters,en:legume-butters,en:peanut-butters                                                                                                    17\n",
       "en:groceries,en:sauces                                                                                                                                                                                                                                                                                                     16\n",
       "en:snacks                                                                                                                                                                                                                                                                                                                  16\n",
       "en:beverages,en:carbonated-drinks,en:sodas,en:sugared-beverages                                                                                                                                                                                                                                                            15\n",
       "en:dairies,en:yogurts,en:greek-yogurts                                                                                                                                                                                                                                                                                     14\n",
       "en:groceries,en:sauces,en:salad-dressings                                                                                                                                                                                                                                                                                  14\n",
       "en:groceries,en:sauces,en:hot-sauces                                                                                                                                                                                                                                                                                       13\n",
       "en:beverages,en:hot-beverages,en:coffees,en:non-sugared-beverages                                                                                                                                                                                                                                                          11\n",
       "en:groceries,en:sauces,en:barbecue-sauces                                                                                                                                                                                                                                                                                  11\n",
       "en:sugary-snacks,en:chocolates,en:milk-chocolates                                                                                                                                                                                                                                                                          11\n",
       "en:sweeteners,en:syrups,en:simple-syrups,en:maple-syrups                                                                                                                                                                                                                                                                   11\n",
       "en:sugary-snacks,en:biscuits-and-cakes,en:biscuits,en:chocolate-biscuits,en:cookies,en:chocolate-cookies                                                                                                                                                                                                                   9 \n",
       "en:spreads                                                                                                                                                                                                                                                                                                                 9 \n",
       "                                                                                                                                                                                                                                                                                                                          .. \n",
       "en:plant-based-foods-and-beverages,en:plant-based-foods,en:cereals-and-potatoes,en:cereals-and-their-products,en:pastas,en:dry-pasta                                                                                                                                                                                       1 \n",
       "en:mix                                                                                                                                                                                                                                                                                                                     1 \n",
       "en:meals,en:soups,en:chicken-noodle-soup,en:chicken-soup,en:noodle-soup                                                                                                                                                                                                                                                    1 \n",
       "en:beverages,en:plant-based-beverages,en:fruit-based-beverages,en:juices-and-nectars,en:fruit-juices-and-nectars,en:fruit-juices,en:lemon-juice,en:lemon-juice-from-concentrate,en:non-alcoholic-beverages                                                                                                                 1 \n",
       "en:beef-broth                                                                                                                                                                                                                                                                                                              1 \n",
       "en:meats,en:poultries,en:turkeys,en:turkey-breasts                                                                                                                                                                                                                                                                         1 \n",
       "en:groceries,en:sauces,en:salad-dressings,en:peppercorn-ranch-dressing                                                                                                                                                                                                                                                     1 \n",
       "en:multivitamin-supplement                                                                                                                                                                                                                                                                                                 1 \n",
       "en:brownie                                                                                                                                                                                                                                                                                                                 1 \n",
       "en:sugary-snacks,en:biscuits-and-cakes,en:biscuits,en:chocolates,en:bars,en:cookies,en:candy-bars,en:chocolate-chip-cookies                                                                                                                                                                                                1 \n",
       "en:plant-based-foods-and-beverages,en:plant-based-foods,en:cereals-and-potatoes,en:cereals-and-their-products,en:noodles                                                                                                                                                                                                   1 \n",
       "en:plant-based-foods-and-beverages,en:plant-based-foods,en:groceries,en:condiments,en:spices                                                                                                                                                                                                                               1 \n",
       "en:plant-based-foods-and-beverages,en:beverages,en:plant-based-foods,en:legumes-and-their-products,en:plant-based-beverages,en:plant-milks,en:legume-milks,en:soy-milks,en:non-sugared-beverages                                                                                                                           1 \n",
       "en:spreads,en:dairies,en:fats,en:spreadable-fats,en:animal-fats,en:milkfat,en:butters,en:salted-butters                                                                                                                                                                                                                    1 \n",
       "en:plant-based-foods-and-beverages,en:plant-based-foods,en:fruits-and-vegetables-based-foods,en:fruits-based-foods,en:fruits,en:berries,en:blueberries                                                                                                                                                                     1 \n",
       "en:groceries,en:condiments,en:sauces,en:soy-sauces                                                                                                                                                                                                                                                                         1 \n",
       "en:plant-based-foods-and-beverages,en:plant-based-foods,en:flours,en:self-rising-flour                                                                                                                                                                                                                                     1 \n",
       "en:macaroni,en:macaroni-cheese                                                                                                                                                                                                                                                                                             1 \n",
       "en:plant-based-foods-and-beverages,en:beverages,en:plant-based-foods,en:fruits-and-vegetables-based-foods,en:vegetables-based-foods,en:plant-based-beverages,en:juices-and-nectars,en:vegetable-based-beverages,en:tomatoes-and-tomato-products,en:vegetable-juices,en:tomato-juices,en:non-sugared-beverages,en:juices    1 \n",
       "en:plant-based-foods-and-beverages,en:plant-based-foods,en:fruits-and-vegetables-based-foods,en:canned-foods,en:canned-plant-based-foods,en:desserts,en:fruits-based-foods,en:canned-fruits,en:fruits-in-syrup,en:cherries-in-syrup                                                                                        1 \n",
       "en:sugary-snacks,en:biscuits-and-cakes,en:biscuits,en:cookies,en:fortune-cookies                                                                                                                                                                                                                                           1 \n",
       "en:beverages,en:plant-based-beverages,en:artificially-sweetened-beverages,en:juices-and-nectars,en:vegetable-based-beverages,en:vegetable-juices,en:non-sugared-beverages                                                                                                                                                  1 \n",
       "en:plant-based-foods-and-beverages,en:plant-based-foods,en:fresh-foods,en:fruits-and-vegetables-based-foods,en:fresh-plant-based-foods,en:vegetables-based-foods,en:fresh-vegetables,en:tomatoes-and-tomato-products,en:tomatoes,en:cherry-tomatoes                                                                        1 \n",
       "en:sugary-snacks,en:bars,en:sugary-sncks                                                                                                                                                                                                                                                                                   1 \n",
       "en:sugary-snacks,en:dairies,en:yogurts                                                                                                                                                                                                                                                                                     1 \n",
       "en:spam                                                                                                                                                                                                                                                                                                                    1 \n",
       "en:reduced-fat-milk                                                                                                                                                                                                                                                                                                        1 \n",
       "en:groceries,en:sauces,en:wing-sauce                                                                                                                                                                                                                                                                                       1 \n",
       "en:canned-foods,en:canned-meats                                                                                                                                                                                                                                                                                            1 \n",
       "en:groceries,en:sauces,en:salad-dressings,en:caesar-sauce                                                                                                                                                                                                                                                                  1 \n",
       "Name: categories_tags, dtype: int64"
      ]
     },
     "execution_count": 7,
     "metadata": {},
     "output_type": "execute_result"
    }
   ],
   "source": [
    "df['categories_tags'].value_counts()"
   ]
  },
  {
   "cell_type": "code",
   "execution_count": 8,
   "metadata": {
    "collapsed": false
   },
   "outputs": [
    {
     "data": {
      "text/plain": [
       "1695"
      ]
     },
     "execution_count": 8,
     "metadata": {},
     "output_type": "execute_result"
    }
   ],
   "source": [
    "###how often are the categories present?\n",
    "df[df['categories']!= np.nan]['categories'].count()"
   ]
  },
  {
   "cell_type": "code",
   "execution_count": 9,
   "metadata": {
    "collapsed": false
   },
   "outputs": [
    {
     "data": {
      "text/html": [
       "<div>\n",
       "<table border=\"1\" class=\"dataframe\">\n",
       "  <thead>\n",
       "    <tr style=\"text-align: right;\">\n",
       "      <th></th>\n",
       "      <th>code</th>\n",
       "      <th>url</th>\n",
       "      <th>creator</th>\n",
       "      <th>created_t</th>\n",
       "      <th>last_modified_t</th>\n",
       "      <th>product_name</th>\n",
       "      <th>generic_name</th>\n",
       "      <th>quantity</th>\n",
       "      <th>packaging</th>\n",
       "      <th>packaging_tags</th>\n",
       "      <th>...</th>\n",
       "      <th>caffeine_100g</th>\n",
       "      <th>taurine_100g</th>\n",
       "      <th>ph_100g</th>\n",
       "      <th>fruits-vegetables-nuts_100g</th>\n",
       "      <th>collagen-meat-protein-ratio_100g</th>\n",
       "      <th>cocoa_100g</th>\n",
       "      <th>chlorophyl_100g</th>\n",
       "      <th>carbon-footprint_100g</th>\n",
       "      <th>nutrition-score-fr_100g</th>\n",
       "      <th>nutrition-score-uk_100g</th>\n",
       "    </tr>\n",
       "  </thead>\n",
       "  <tbody>\n",
       "    <tr>\n",
       "      <th>0</th>\n",
       "      <td>5010092093045</td>\n",
       "      <td>http://world.openfoodfacts.org/product/5010092093045</td>\n",
       "      <td>bcatelin</td>\n",
       "      <td>1389309305</td>\n",
       "      <td>1461479010</td>\n",
       "      <td>Soft white</td>\n",
       "      <td>White bread</td>\n",
       "      <td>800g</td>\n",
       "      <td>Plastic bag</td>\n",
       "      <td>plastic-bag</td>\n",
       "      <td>...</td>\n",
       "      <td>NaN</td>\n",
       "      <td>NaN</td>\n",
       "      <td>NaN</td>\n",
       "      <td>NaN</td>\n",
       "      <td>NaN</td>\n",
       "      <td>NaN</td>\n",
       "      <td>NaN</td>\n",
       "      <td>125.0</td>\n",
       "      <td>-1.0</td>\n",
       "      <td>-1.0</td>\n",
       "    </tr>\n",
       "    <tr>\n",
       "      <th>1</th>\n",
       "      <td>44000030377</td>\n",
       "      <td>http://world.openfoodfacts.org/product/0044000030377</td>\n",
       "      <td>openfoodfacts-contributors</td>\n",
       "      <td>1385850411</td>\n",
       "      <td>1459174448</td>\n",
       "      <td>Wheat Thins Original</td>\n",
       "      <td>NaN</td>\n",
       "      <td>258g</td>\n",
       "      <td>NaN</td>\n",
       "      <td>NaN</td>\n",
       "      <td>...</td>\n",
       "      <td>NaN</td>\n",
       "      <td>NaN</td>\n",
       "      <td>NaN</td>\n",
       "      <td>NaN</td>\n",
       "      <td>NaN</td>\n",
       "      <td>NaN</td>\n",
       "      <td>NaN</td>\n",
       "      <td>NaN</td>\n",
       "      <td>NaN</td>\n",
       "      <td>NaN</td>\n",
       "    </tr>\n",
       "    <tr>\n",
       "      <th>2</th>\n",
       "      <td>7832309</td>\n",
       "      <td>http://world.openfoodfacts.org/product/07832309</td>\n",
       "      <td>openfoodfacts-contributors</td>\n",
       "      <td>1403210081</td>\n",
       "      <td>1458995984</td>\n",
       "      <td>Diet Dr Pepper</td>\n",
       "      <td>NaN</td>\n",
       "      <td>NaN</td>\n",
       "      <td>can</td>\n",
       "      <td>can</td>\n",
       "      <td>...</td>\n",
       "      <td>NaN</td>\n",
       "      <td>NaN</td>\n",
       "      <td>NaN</td>\n",
       "      <td>NaN</td>\n",
       "      <td>NaN</td>\n",
       "      <td>NaN</td>\n",
       "      <td>NaN</td>\n",
       "      <td>NaN</td>\n",
       "      <td>NaN</td>\n",
       "      <td>NaN</td>\n",
       "    </tr>\n",
       "    <tr>\n",
       "      <th>3</th>\n",
       "      <td>5099353000169</td>\n",
       "      <td>http://world.openfoodfacts.org/product/5099353000169</td>\n",
       "      <td>bcatelin</td>\n",
       "      <td>1385926289</td>\n",
       "      <td>1413659845</td>\n",
       "      <td>Eggs</td>\n",
       "      <td>Eggs</td>\n",
       "      <td>6</td>\n",
       "      <td>Cardbox</td>\n",
       "      <td>cardbox</td>\n",
       "      <td>...</td>\n",
       "      <td>NaN</td>\n",
       "      <td>NaN</td>\n",
       "      <td>NaN</td>\n",
       "      <td>NaN</td>\n",
       "      <td>NaN</td>\n",
       "      <td>NaN</td>\n",
       "      <td>NaN</td>\n",
       "      <td>NaN</td>\n",
       "      <td>NaN</td>\n",
       "      <td>NaN</td>\n",
       "    </tr>\n",
       "    <tr>\n",
       "      <th>4</th>\n",
       "      <td>82592720153</td>\n",
       "      <td>http://world.openfoodfacts.org/product/0082592720153</td>\n",
       "      <td>openfoodfacts-contributors</td>\n",
       "      <td>1389308826</td>\n",
       "      <td>1459174499</td>\n",
       "      <td>Green Machine</td>\n",
       "      <td>NaN</td>\n",
       "      <td>15.2 fl. oz (450 mL)</td>\n",
       "      <td>NaN</td>\n",
       "      <td>NaN</td>\n",
       "      <td>...</td>\n",
       "      <td>NaN</td>\n",
       "      <td>NaN</td>\n",
       "      <td>NaN</td>\n",
       "      <td>NaN</td>\n",
       "      <td>NaN</td>\n",
       "      <td>NaN</td>\n",
       "      <td>NaN</td>\n",
       "      <td>NaN</td>\n",
       "      <td>NaN</td>\n",
       "      <td>NaN</td>\n",
       "    </tr>\n",
       "  </tbody>\n",
       "</table>\n",
       "<p>5 rows × 150 columns</p>\n",
       "</div>"
      ],
      "text/plain": [
       "            code                                                   url  \\\n",
       "0  5010092093045  http://world.openfoodfacts.org/product/5010092093045   \n",
       "1  44000030377    http://world.openfoodfacts.org/product/0044000030377   \n",
       "2  7832309        http://world.openfoodfacts.org/product/07832309        \n",
       "3  5099353000169  http://world.openfoodfacts.org/product/5099353000169   \n",
       "4  82592720153    http://world.openfoodfacts.org/product/0082592720153   \n",
       "\n",
       "                      creator   created_t  last_modified_t  \\\n",
       "0  bcatelin                    1389309305  1461479010        \n",
       "1  openfoodfacts-contributors  1385850411  1459174448        \n",
       "2  openfoodfacts-contributors  1403210081  1458995984        \n",
       "3  bcatelin                    1385926289  1413659845        \n",
       "4  openfoodfacts-contributors  1389308826  1459174499        \n",
       "\n",
       "           product_name generic_name              quantity    packaging  \\\n",
       "0  Soft white            White bread  800g                  Plastic bag   \n",
       "1  Wheat Thins Original  NaN          258g                  NaN           \n",
       "2  Diet Dr Pepper        NaN          NaN                   can           \n",
       "3  Eggs                  Eggs         6                     Cardbox       \n",
       "4  Green Machine         NaN          15.2 fl. oz (450 mL)  NaN           \n",
       "\n",
       "  packaging_tags           ...           caffeine_100g taurine_100g ph_100g  \\\n",
       "0  plastic-bag             ...           NaN           NaN          NaN       \n",
       "1  NaN                     ...           NaN           NaN          NaN       \n",
       "2  can                     ...           NaN           NaN          NaN       \n",
       "3  cardbox                 ...           NaN           NaN          NaN       \n",
       "4  NaN                     ...           NaN           NaN          NaN       \n",
       "\n",
       "  fruits-vegetables-nuts_100g collagen-meat-protein-ratio_100g cocoa_100g  \\\n",
       "0 NaN                         NaN                              NaN          \n",
       "1 NaN                         NaN                              NaN          \n",
       "2 NaN                         NaN                              NaN          \n",
       "3 NaN                         NaN                              NaN          \n",
       "4 NaN                         NaN                              NaN          \n",
       "\n",
       "  chlorophyl_100g carbon-footprint_100g nutrition-score-fr_100g  \\\n",
       "0 NaN              125.0                -1.0                      \n",
       "1 NaN             NaN                   NaN                       \n",
       "2 NaN             NaN                   NaN                       \n",
       "3 NaN             NaN                   NaN                       \n",
       "4 NaN             NaN                   NaN                       \n",
       "\n",
       "  nutrition-score-uk_100g  \n",
       "0 -1.0                     \n",
       "1 NaN                      \n",
       "2 NaN                      \n",
       "3 NaN                      \n",
       "4 NaN                      \n",
       "\n",
       "[5 rows x 150 columns]"
      ]
     },
     "execution_count": 9,
     "metadata": {},
     "output_type": "execute_result"
    }
   ],
   "source": [
    "#subset the data to only include rows with macronutrients and categories\n",
    "df.head()\n"
   ]
  },
  {
   "cell_type": "code",
   "execution_count": 10,
   "metadata": {
    "collapsed": false
   },
   "outputs": [
    {
     "data": {
      "text/plain": [
       "['code',\n",
       " 'url',\n",
       " 'creator',\n",
       " 'created_t',\n",
       " 'last_modified_t',\n",
       " 'product_name',\n",
       " 'generic_name',\n",
       " 'quantity',\n",
       " 'packaging',\n",
       " 'packaging_tags',\n",
       " 'brands',\n",
       " 'brands_tags',\n",
       " 'categories',\n",
       " 'categories_tags',\n",
       " 'labels',\n",
       " 'labels_tags',\n",
       " 'origins',\n",
       " 'origins_tags',\n",
       " 'manufacturing_places',\n",
       " 'manufacturing_places_tags',\n",
       " 'emb_codes',\n",
       " 'emb_codes_tags',\n",
       " 'cities',\n",
       " 'cities_tags',\n",
       " 'purchase_places',\n",
       " 'stores',\n",
       " 'countries',\n",
       " 'ingredients_text',\n",
       " 'allergens',\n",
       " 'allergens_tags',\n",
       " 'traces',\n",
       " 'traces_tags',\n",
       " 'serving_size',\n",
       " 'no_nutriments',\n",
       " 'additives_n',\n",
       " 'additives',\n",
       " 'additives_tags',\n",
       " 'ingredients_from_palm_oil_n',\n",
       " 'ingredients_from_palm_oil',\n",
       " 'ingredients_from_palm_oil_tags',\n",
       " 'ingredients_that_may_be_from_palm_oil_n',\n",
       " 'ingredients_that_may_be_from_palm_oil',\n",
       " 'ingredients_that_may_be_from_palm_oil_tags',\n",
       " 'pnns_groups_1',\n",
       " 'pnns_groups_2',\n",
       " 'main_category',\n",
       " 'image_url',\n",
       " 'image_small_url',\n",
       " 'image_front_url',\n",
       " 'image_front_small_url',\n",
       " 'image_ingredients_url',\n",
       " 'image_ingredients_small_url',\n",
       " 'image_nutrition_url',\n",
       " 'image_nutrition_small_url',\n",
       " 'energy_100g',\n",
       " 'energy-from-fat_100g',\n",
       " 'fat_100g',\n",
       " 'saturated-fat_100g',\n",
       " '-butyric-acid_100g',\n",
       " '-caproic-acid_100g',\n",
       " '-caprylic-acid_100g',\n",
       " '-capric-acid_100g',\n",
       " '-lauric-acid_100g',\n",
       " '-myristic-acid_100g',\n",
       " '-palmitic-acid_100g',\n",
       " '-stearic-acid_100g',\n",
       " '-arachidic-acid_100g',\n",
       " '-behenic-acid_100g',\n",
       " '-lignoceric-acid_100g',\n",
       " '-cerotic-acid_100g',\n",
       " '-montanic-acid_100g',\n",
       " '-melissic-acid_100g',\n",
       " 'monounsaturated-fat_100g',\n",
       " 'polyunsaturated-fat_100g',\n",
       " 'omega-3-fat_100g',\n",
       " '-alpha-linolenic-acid_100g',\n",
       " '-eicosapentaenoic-acid_100g',\n",
       " '-docosahexaenoic-acid_100g',\n",
       " 'omega-6-fat_100g',\n",
       " '-linoleic-acid_100g',\n",
       " '-arachidonic-acid_100g',\n",
       " '-gamma-linolenic-acid_100g',\n",
       " '-dihomo-gamma-linolenic-acid_100g',\n",
       " 'omega-9-fat_100g',\n",
       " '-oleic-acid_100g',\n",
       " '-elaidic-acid_100g',\n",
       " '-gondoic-acid_100g',\n",
       " '-mead-acid_100g',\n",
       " '-erucic-acid_100g',\n",
       " '-nervonic-acid_100g',\n",
       " 'trans-fat_100g',\n",
       " 'cholesterol_100g',\n",
       " 'carbohydrates_100g',\n",
       " 'sugars_100g',\n",
       " '-sucrose_100g',\n",
       " '-glucose_100g',\n",
       " '-fructose_100g',\n",
       " '-lactose_100g',\n",
       " '-maltose_100g',\n",
       " '-maltodextrins_100g',\n",
       " 'starch_100g',\n",
       " 'polyols_100g',\n",
       " 'fiber_100g',\n",
       " 'proteins_100g',\n",
       " 'casein_100g',\n",
       " 'serum-proteins_100g',\n",
       " 'nucleotides_100g',\n",
       " 'salt_100g',\n",
       " 'sodium_100g',\n",
       " 'alcohol_100g',\n",
       " 'vitamin-a_100g',\n",
       " 'beta-carotene_100g',\n",
       " 'vitamin-d_100g',\n",
       " 'vitamin-e_100g',\n",
       " 'vitamin-k_100g',\n",
       " 'vitamin-c_100g',\n",
       " 'vitamin-b1_100g',\n",
       " 'vitamin-b2_100g',\n",
       " 'vitamin-pp_100g',\n",
       " 'vitamin-b6_100g',\n",
       " 'vitamin-b9_100g',\n",
       " 'vitamin-b12_100g',\n",
       " 'biotin_100g',\n",
       " 'pantothenic-acid_100g',\n",
       " 'silica_100g',\n",
       " 'bicarbonate_100g',\n",
       " 'potassium_100g',\n",
       " 'chloride_100g',\n",
       " 'calcium_100g',\n",
       " 'phosphorus_100g',\n",
       " 'iron_100g',\n",
       " 'magnesium_100g',\n",
       " 'zinc_100g',\n",
       " 'copper_100g',\n",
       " 'manganese_100g',\n",
       " 'fluoride_100g',\n",
       " 'selenium_100g',\n",
       " 'chromium_100g',\n",
       " 'molybdenum_100g',\n",
       " 'iodine_100g',\n",
       " 'caffeine_100g',\n",
       " 'taurine_100g',\n",
       " 'ph_100g',\n",
       " 'fruits-vegetables-nuts_100g',\n",
       " 'collagen-meat-protein-ratio_100g',\n",
       " 'cocoa_100g',\n",
       " 'chlorophyl_100g',\n",
       " 'carbon-footprint_100g',\n",
       " 'nutrition-score-fr_100g',\n",
       " 'nutrition-score-uk_100g']"
      ]
     },
     "execution_count": 10,
     "metadata": {},
     "output_type": "execute_result"
    }
   ],
   "source": [
    "list(df.columns)"
   ]
  },
  {
   "cell_type": "code",
   "execution_count": 15,
   "metadata": {
    "collapsed": false
   },
   "outputs": [],
   "source": [
    "### Parse down to important data:\n",
    "keep_cols = ['code', 'product_name', 'generic_name','categories','categories_tags', 'ingredients_text','main_category',\n",
    "            'fat_100g', 'saturated-fat_100g','monounsaturated-fat_100g', 'polyunsaturated-fat_100g','omega-3-fat_100g',\n",
    "            'omega-6-fat_100g', 'omega-9-fat_100g', 'cholesterol_100g', 'carbohydrates_100g', 'sugars_100g','fiber_100g',\n",
    "            'proteins_100g','salt_100g', 'sodium_100g', 'alcohol_100g', 'vitamin-a_100g','vitamin-c_100g','potassium_100g',\n",
    "             'chloride_100g', 'calcium_100g', 'iron_100g', 'fruits-vegetables-nuts_100g', 'nutrition-score-uk_100g', 'calories_100g'\n",
    "            ]\n",
    "\n",
    "df_keep = df[keep_cols]\n",
    "df_keep = df_keep.dropna(subset=['calories_100g'])\n",
    "\n"
   ]
  },
  {
   "cell_type": "code",
   "execution_count": 16,
   "metadata": {
    "collapsed": false
   },
   "outputs": [],
   "source": [
    "df_keep.reset_index(inplace=True)\n"
   ]
  },
  {
   "cell_type": "code",
   "execution_count": 19,
   "metadata": {
    "collapsed": false
   },
   "outputs": [
    {
     "data": {
      "text/html": [
       "<div>\n",
       "<table border=\"1\" class=\"dataframe\">\n",
       "  <thead>\n",
       "    <tr style=\"text-align: right;\">\n",
       "      <th></th>\n",
       "      <th>code</th>\n",
       "      <th>product_name</th>\n",
       "      <th>generic_name</th>\n",
       "      <th>categories</th>\n",
       "      <th>categories_tags</th>\n",
       "      <th>ingredients_text</th>\n",
       "      <th>main_category</th>\n",
       "      <th>fat_100g</th>\n",
       "      <th>saturated-fat_100g</th>\n",
       "      <th>monounsaturated-fat_100g</th>\n",
       "      <th>...</th>\n",
       "      <th>alcohol_100g</th>\n",
       "      <th>vitamin-a_100g</th>\n",
       "      <th>vitamin-c_100g</th>\n",
       "      <th>potassium_100g</th>\n",
       "      <th>chloride_100g</th>\n",
       "      <th>calcium_100g</th>\n",
       "      <th>iron_100g</th>\n",
       "      <th>fruits-vegetables-nuts_100g</th>\n",
       "      <th>nutrition-score-uk_100g</th>\n",
       "      <th>calories_100g</th>\n",
       "    </tr>\n",
       "  </thead>\n",
       "  <tbody>\n",
       "    <tr>\n",
       "      <th>0</th>\n",
       "      <td>5010092093045</td>\n",
       "      <td>Soft white</td>\n",
       "      <td>White bread</td>\n",
       "      <td>Plant-based foods and beverages,Plant-based foods,Cereals and potatoes,Breads</td>\n",
       "      <td>en:plant-based-foods-and-beverages,en:plant-based-foods,en:cereals-and-potatoes,en:breads</td>\n",
       "      <td>Wheat flour, Water, Yeast, Salt, Vinegar, Vegetable oil, Soya flour, E472e, Calcium propionate, Ascorbic acid</td>\n",
       "      <td>en:breads</td>\n",
       "      <td>2.00</td>\n",
       "      <td>0.30</td>\n",
       "      <td>NaN</td>\n",
       "      <td>...</td>\n",
       "      <td>NaN</td>\n",
       "      <td>NaN</td>\n",
       "      <td>NaN</td>\n",
       "      <td>NaN</td>\n",
       "      <td>NaN</td>\n",
       "      <td>NaN</td>\n",
       "      <td>NaN</td>\n",
       "      <td>NaN</td>\n",
       "      <td>-1.0</td>\n",
       "      <td>232.400</td>\n",
       "    </tr>\n",
       "    <tr>\n",
       "      <th>1</th>\n",
       "      <td>82592720153</td>\n",
       "      <td>Green Machine</td>\n",
       "      <td>NaN</td>\n",
       "      <td>Juices</td>\n",
       "      <td>en:juices</td>\n",
       "      <td>APPLE JUICE, MANGO PUREE, PINEAPPLE JUICE, BANANA PUREE, KIWI PUREE, SPIRULINA, NATURAL FLAVORS, ALFALFA, BROCCOLI, SPINACH, BARLEY GRASS, _WHEAT_ GRASS, PARSLEY, GINGER ROOT, KALE, ODORLESS GARLIC</td>\n",
       "      <td>en:juices</td>\n",
       "      <td>0.00</td>\n",
       "      <td>NaN</td>\n",
       "      <td>NaN</td>\n",
       "      <td>...</td>\n",
       "      <td>NaN</td>\n",
       "      <td>0.000313</td>\n",
       "      <td>0.01</td>\n",
       "      <td>0.167</td>\n",
       "      <td>NaN</td>\n",
       "      <td>0.00833</td>\n",
       "      <td>0.000300</td>\n",
       "      <td>NaN</td>\n",
       "      <td>NaN</td>\n",
       "      <td>58.532</td>\n",
       "    </tr>\n",
       "    <tr>\n",
       "      <th>2</th>\n",
       "      <td>9800895250</td>\n",
       "      <td>Nutella</td>\n",
       "      <td>Hazelnut spread with skim milk &amp; cacao</td>\n",
       "      <td>Petit-déjeuners,Produits à tartiner,Produits à tartiner sucrés,Pâtes à tartiner,Pâtes à tartiner au chocolat,Pâtes à tartiner aux noisettes,Pâtes à tartiner aux noisettes et au cacao</td>\n",
       "      <td>en:petit-dejeuners,en:produits-a-tartiner,en:produits-a-tartiner-sucres,en:pates-a-tartiner,en:pates-a-tartiner-au-chocolat,en:pates-a-tartiner-aux-noisettes,en:pates-a-tartiner-aux-noisettes-et-au-cacao</td>\n",
       "      <td>SUGAR, PALM OIL, _HAZELNUTS_, COCOA, SKIM MILK, REDUCED MINERALS WHEY (MILK), LECITHIN AS EMULSIFIER (SOY), VANILLIN: AN ARTIFICIAL FLAVOR</td>\n",
       "      <td>en:petit-dejeuners</td>\n",
       "      <td>32.40</td>\n",
       "      <td>10.80</td>\n",
       "      <td>NaN</td>\n",
       "      <td>...</td>\n",
       "      <td>NaN</td>\n",
       "      <td>0.000000</td>\n",
       "      <td>0.00</td>\n",
       "      <td>NaN</td>\n",
       "      <td>NaN</td>\n",
       "      <td>0.10800</td>\n",
       "      <td>0.001950</td>\n",
       "      <td>NaN</td>\n",
       "      <td>23.0</td>\n",
       "      <td>540.440</td>\n",
       "    </tr>\n",
       "    <tr>\n",
       "      <th>3</th>\n",
       "      <td>71443003903</td>\n",
       "      <td>NaN</td>\n",
       "      <td>NaN</td>\n",
       "      <td>Dark chocolates</td>\n",
       "      <td>en:sugary-snacks,en:chocolates,en:dark-chocolates</td>\n",
       "      <td>Dark Chocolate (Sugar, Chocolate Liquor, Cocoa Butter, Chocolate Liquor Processed with Alkali, _Soy_ Lecithin (added as an emulsifier), Pure Vanilla, Salt, Artificial Flavor), Corn Syrup, Sugar, Pectin, Glycerine, Malic Acid, Natural Flavor, Sodium Citrate, Yellow #6, Red #3.</td>\n",
       "      <td>en:dark-chocolates</td>\n",
       "      <td>9.52</td>\n",
       "      <td>5.95</td>\n",
       "      <td>NaN</td>\n",
       "      <td>...</td>\n",
       "      <td>NaN</td>\n",
       "      <td>NaN</td>\n",
       "      <td>NaN</td>\n",
       "      <td>NaN</td>\n",
       "      <td>NaN</td>\n",
       "      <td>NaN</td>\n",
       "      <td>0.000857</td>\n",
       "      <td>NaN</td>\n",
       "      <td>16.0</td>\n",
       "      <td>400.000</td>\n",
       "    </tr>\n",
       "    <tr>\n",
       "      <th>4</th>\n",
       "      <td>36632036506</td>\n",
       "      <td>Activia light blueberry</td>\n",
       "      <td>Yaourt</td>\n",
       "      <td>yogurt</td>\n",
       "      <td>en:dairies,en:yogurts</td>\n",
       "      <td>NaN</td>\n",
       "      <td>en:yogurts</td>\n",
       "      <td>0.00</td>\n",
       "      <td>0.00</td>\n",
       "      <td>NaN</td>\n",
       "      <td>...</td>\n",
       "      <td>NaN</td>\n",
       "      <td>NaN</td>\n",
       "      <td>NaN</td>\n",
       "      <td>0.177</td>\n",
       "      <td>NaN</td>\n",
       "      <td>0.13300</td>\n",
       "      <td>NaN</td>\n",
       "      <td>NaN</td>\n",
       "      <td>-3.0</td>\n",
       "      <td>53.080</td>\n",
       "    </tr>\n",
       "  </tbody>\n",
       "</table>\n",
       "<p>5 rows × 31 columns</p>\n",
       "</div>"
      ],
      "text/plain": [
       "            code             product_name  \\\n",
       "0  5010092093045  Soft white                \n",
       "1  82592720153    Green Machine             \n",
       "2  9800895250     Nutella                   \n",
       "3  71443003903    NaN                       \n",
       "4  36632036506    Activia light blueberry   \n",
       "\n",
       "                             generic_name  \\\n",
       "0  White bread                              \n",
       "1  NaN                                      \n",
       "2  Hazelnut spread with skim milk & cacao   \n",
       "3  NaN                                      \n",
       "4  Yaourt                                   \n",
       "\n",
       "                                                                                                                                                                               categories  \\\n",
       "0  Plant-based foods and beverages,Plant-based foods,Cereals and potatoes,Breads                                                                                                            \n",
       "1  Juices                                                                                                                                                                                   \n",
       "2  Petit-déjeuners,Produits à tartiner,Produits à tartiner sucrés,Pâtes à tartiner,Pâtes à tartiner au chocolat,Pâtes à tartiner aux noisettes,Pâtes à tartiner aux noisettes et au cacao   \n",
       "3  Dark chocolates                                                                                                                                                                          \n",
       "4  yogurt                                                                                                                                                                                   \n",
       "\n",
       "                                                                                                                                                                                               categories_tags  \\\n",
       "0  en:plant-based-foods-and-beverages,en:plant-based-foods,en:cereals-and-potatoes,en:breads                                                                                                                     \n",
       "1  en:juices                                                                                                                                                                                                     \n",
       "2  en:petit-dejeuners,en:produits-a-tartiner,en:produits-a-tartiner-sucres,en:pates-a-tartiner,en:pates-a-tartiner-au-chocolat,en:pates-a-tartiner-aux-noisettes,en:pates-a-tartiner-aux-noisettes-et-au-cacao   \n",
       "3  en:sugary-snacks,en:chocolates,en:dark-chocolates                                                                                                                                                             \n",
       "4  en:dairies,en:yogurts                                                                                                                                                                                         \n",
       "\n",
       "                                                                                                                                                                                                                                                                       ingredients_text  \\\n",
       "0  Wheat flour, Water, Yeast, Salt, Vinegar, Vegetable oil, Soya flour, E472e, Calcium propionate, Ascorbic acid                                                                                                                                                                          \n",
       "1  APPLE JUICE, MANGO PUREE, PINEAPPLE JUICE, BANANA PUREE, KIWI PUREE, SPIRULINA, NATURAL FLAVORS, ALFALFA, BROCCOLI, SPINACH, BARLEY GRASS, _WHEAT_ GRASS, PARSLEY, GINGER ROOT, KALE, ODORLESS GARLIC                                                                                  \n",
       "2  SUGAR, PALM OIL, _HAZELNUTS_, COCOA, SKIM MILK, REDUCED MINERALS WHEY (MILK), LECITHIN AS EMULSIFIER (SOY), VANILLIN: AN ARTIFICIAL FLAVOR                                                                                                                                             \n",
       "3  Dark Chocolate (Sugar, Chocolate Liquor, Cocoa Butter, Chocolate Liquor Processed with Alkali, _Soy_ Lecithin (added as an emulsifier), Pure Vanilla, Salt, Artificial Flavor), Corn Syrup, Sugar, Pectin, Glycerine, Malic Acid, Natural Flavor, Sodium Citrate, Yellow #6, Red #3.   \n",
       "4  NaN                                                                                                                                                                                                                                                                                    \n",
       "\n",
       "        main_category  fat_100g  saturated-fat_100g  monounsaturated-fat_100g  \\\n",
       "0  en:breads           2.00      0.30               NaN                         \n",
       "1  en:juices           0.00     NaN                 NaN                         \n",
       "2  en:petit-dejeuners  32.40     10.80              NaN                         \n",
       "3  en:dark-chocolates  9.52      5.95               NaN                         \n",
       "4  en:yogurts          0.00      0.00               NaN                         \n",
       "\n",
       "       ...        alcohol_100g  vitamin-a_100g  vitamin-c_100g  \\\n",
       "0      ...       NaN           NaN             NaN               \n",
       "1      ...       NaN            0.000313        0.01             \n",
       "2      ...       NaN            0.000000        0.00             \n",
       "3      ...       NaN           NaN             NaN               \n",
       "4      ...       NaN           NaN             NaN               \n",
       "\n",
       "   potassium_100g  chloride_100g  calcium_100g  iron_100g  \\\n",
       "0 NaN             NaN            NaN           NaN          \n",
       "1  0.167          NaN             0.00833       0.000300    \n",
       "2 NaN             NaN             0.10800       0.001950    \n",
       "3 NaN             NaN            NaN            0.000857    \n",
       "4  0.177          NaN             0.13300      NaN          \n",
       "\n",
       "   fruits-vegetables-nuts_100g  nutrition-score-uk_100g  calories_100g  \n",
       "0 NaN                          -1.0                      232.400        \n",
       "1 NaN                          NaN                       58.532         \n",
       "2 NaN                           23.0                     540.440        \n",
       "3 NaN                           16.0                     400.000        \n",
       "4 NaN                          -3.0                      53.080         \n",
       "\n",
       "[5 rows x 31 columns]"
      ]
     },
     "execution_count": 19,
     "metadata": {},
     "output_type": "execute_result"
    }
   ],
   "source": [
    "del df_keep['index']\n",
    "df_keep.head()"
   ]
  },
  {
   "cell_type": "code",
   "execution_count": 55,
   "metadata": {
    "collapsed": true
   },
   "outputs": [],
   "source": [
    "### df_keep constitutes our dataset, let's save it off\n",
    "\n",
    "df_keep.to_csv('valid_entries.tsv', sep = '\\t')"
   ]
  },
  {
   "cell_type": "code",
   "execution_count": 20,
   "metadata": {
    "collapsed": true
   },
   "outputs": [],
   "source": [
    "### now, let's create a random sampling for 10,000 days.\n",
    "### each day will have 20 - 100 gram servings randomly selected from the df_keep set.  We chose 20-100 gram servings\n",
    "### because humans on average eat 4.5 pounds of food per day, which is something like 2,040 grams.  We will sample \n",
    "### with replacement, as we are following the bootstrapping method, which expects that a set is incomplete and \n",
    "### mitigates this issue by sampling with replacement.  Furthermore, it is not uncommon for people to eat two servings\n",
    "### of a purchased food during a day.  \n",
    "\n",
    "### Our 10,000 day dataframe  will start with aggregate values\n",
    "### showing the total calories, carbs, fat, protein, and major vitamims.\n",
    "### next, there will be a micronutrient_complete column that will have a Boolean value of True or False.  If the \n",
    "### micronutrient_complete column is False, we will know that for that day, our vitamin/mineral numbers may not be \n",
    "### complete.  We will also keep each of the codes, as they are the keys, as well as the product_name\n",
    "###generic_name categories categories_tags ingredients_text and main_category fields for each food.  All in all, we'll\n",
    "### have a very wide dataframe, something along the lines of 10,000 rows x 190 columns"
   ]
  },
  {
   "cell_type": "code",
   "execution_count": 21,
   "metadata": {
    "collapsed": false
   },
   "outputs": [
    {
     "name": "stdout",
     "output_type": "stream",
     "text": [
      "[ 517 1034  843  382  190 1015  951 1101  174  906]\n",
      "              code                 product_name          generic_name  \\\n",
      "517   697658201264  Hemp Hearts                  Hemp Hearts            \n",
      "1034  11110618825   Sliced Almonds               NaN                    \n",
      "843   41364002095   Original Red Twists          NaN                    \n",
      "382   994965        Dark Chocolate Mints         NaN                    \n",
      "190   854142000257  Black & White Cookie         NaN                    \n",
      "1015  891613000224  Sharp Cheddar                NaN                    \n",
      "951   48001139985   Real Mayonnaise              NaN                    \n",
      "1101  72368136011   Sun dried tomato Bruschetta  NaN                    \n",
      "174   51000012913   Bean with Bacon              Bean with Bacon Soup   \n",
      "906   360845        Potato Pancakes              NaN                    \n",
      "\n",
      "                                             categories  \\\n",
      "517   seeds                                               \n",
      "1034  Salty snacks,Nuts,Almonds                           \n",
      "843   Sugary snacks,Confectioneries,Candies               \n",
      "382   Chocolate Mints                                     \n",
      "190   Sugary snacks,Biscuits and cakes,Biscuits,Cookies   \n",
      "1015  Dairies,Cheeses                                     \n",
      "951   Groceries,Sauces,Mayonnaises                        \n",
      "1101  Bruschetta                                          \n",
      "174   soups,Canned meals                                  \n",
      "906   frozen foods                                        \n",
      "\n",
      "                                                                                                            categories_tags  \\\n",
      "517   en:plant-based-foods-and-beverages,en:plant-based-foods,en:seeds                                                        \n",
      "1034  en:plant-based-foods-and-beverages,en:plant-based-foods,en:nuts-and-their-products,en:salty-snacks,en:nuts,en:almonds   \n",
      "843   en:sugary-snacks,en:confectioneries,en:candies                                                                          \n",
      "382   en:chocolate-mints                                                                                                      \n",
      "190   en:sugary-snacks,en:biscuits-and-cakes,en:biscuits,en:cookies                                                           \n",
      "1015  en:dairies,en:cheeses                                                                                                   \n",
      "951   en:groceries,en:sauces,en:mayonnaises                                                                                   \n",
      "1101  en:bruschetta                                                                                                           \n",
      "174   en:canned-foods,en:meals,en:soups,en:canned-meals                                                                       \n",
      "906   en:frozen-foods                                                                                                         \n",
      "\n",
      "                                                                                                                                                                                                                                                                                                                                                                                                                                                                                                                                                                                                                                                                              ingredients_text  \\\n",
      "517   raw shelled hemp seed                                                                                                                                                                                                                                                                                                                                                                                                                                                                                                                                                                                                                                                                      \n",
      "1034  NaN                                                                                                                                                                                                                                                                                                                                                                                                                                                                                                                                                                                                                                                                                        \n",
      "843   CORN SYRUP, _WHEAT_ FLOUR, CITRIC ACID, ARTIFICIAL FLAVOR, RED 40.                                                                                                                                                                                                                                                                                                                                                                                                                                                                                                                                                                                                                         \n",
      "382   NaN                                                                                                                                                                                                                                                                                                                                                                                                                                                                                                                                                                                                                                                                                        \n",
      "190   Sugar, Enriched Bleached _Wheat_ Flour (Bleached _Wheat_ Flour, Niacin, reduced Iron, Thiamin Mononitrate, Riboflavin, Folic Acid, Malted Barley Flour), _Eggs_, Sweet Butter, Cocoa Powder, Dried _Egg_ Whites, Leavening (Sodium Bicarbonate, Sodium Aluminum Phosphate, Monocalcium Phosphate), Emulsifier Blend (Propylene Glycol, Monoester, _Soy_ & Palm Oils, Mono & Diglycerides, Lecithin, BHA, Citric Acid), Contains 2% or less of the following: Non Fat Dry _Milk_, Dried, _Egg_ Yolks, Modified Food Starch, Dextrose, Salt, Artificial Flavor, Polysorbate 60, Tetrasodium Pyrophosphate, Gum Arabic, Sodium Propionate, Calcium Acetate, Lecithin, Corn Starch, Vanilla.   \n",
      "1015  Pasteurized _Milk_, Salt, Cultures, Enzymes (Vegetable Rennet)                                                                                                                                                                                                                                                                                                                                                                                                                                                                                                                                                                                                                             \n",
      "951   Soybean oil, water, whole eggs and egg yolks, vinegar, salt, sugar, lemon juice, calcium disodium EDTA (used to protect quality), natural flavors.                                                                                                                                                                                                                                                                                                                                                                                                                                                                                                                                         \n",
      "1101  SUNDRIED TOMATOES (TOMATOES, _SULFUR DIOXIDE_), OLIVE OIL, VINEGAR, SALT, SPICES, CITRIC ACID.                                                                                                                                                                                                                                                                                                                                                                                                                                                                                                                                                                                             \n",
      "174   NaN                                                                                                                                                                                                                                                                                                                                                                                                                                                                                                                                                                                                                                                                                        \n",
      "906   Potatoes, Onions, Water, Dehydrated Potatoes, Canola Oil, Matzoh Meal (_Wheat_), _Egg_ Whites, _Egg_, Salt, White Pepper                                                                                                                                                                                                                                                                                                                                                                                                                                                                                                                                                                   \n",
      "\n",
      "           main_category  fat_100g  saturated-fat_100g  \\\n",
      "517   en:seeds            13.0      1.500                \n",
      "1034  en:almonds          50.0      3.330                \n",
      "843   en:candies          0.0       0.000                \n",
      "382   en:chocolate-mints  10.5      6.140                \n",
      "190   en:cookies          17.4      3.260                \n",
      "1015  en:cheeses          35.7      25.000               \n",
      "951   en:mayonnaises      76.9      11.500               \n",
      "1101  en:bruschetta       46.7      8.330                \n",
      "174   en:canned-meals     2.5       0.833                \n",
      "906   en:frozen-foods     8.0       0.667                \n",
      "\n",
      "      monounsaturated-fat_100g      ...        alcohol_100g  vitamin-a_100g  \\\n",
      "517  NaN                            ...       NaN           NaN               \n",
      "1034  33.300                        ...       NaN            0.000000         \n",
      "843  NaN                            ...       NaN           NaN               \n",
      "382  NaN                            ...       NaN            0.000000         \n",
      "190  NaN                            ...       NaN            0.000033         \n",
      "1015 NaN                            ...       NaN            0.000000         \n",
      "951   19.200                        ...       NaN            0.000000         \n",
      "1101 NaN                            ...       NaN            0.000000         \n",
      "174   0.833                         ...       NaN            0.000075         \n",
      "906  NaN                            ...       NaN            0.000000         \n",
      "\n",
      "      vitamin-c_100g  potassium_100g  chloride_100g  calcium_100g  iron_100g  \\\n",
      "517  NaN             NaN             NaN            NaN           NaN          \n",
      "1034  0.000           0.733          NaN             0.2670        0.003600    \n",
      "843  NaN             NaN             NaN            NaN           NaN          \n",
      "382   0.000          NaN             NaN             0.0351        0.000632    \n",
      "190   0.000          NaN             NaN             0.0434        0.001560    \n",
      "1015  0.000          NaN             NaN             0.6430        0.000000    \n",
      "951   0.000          NaN             NaN             0.0000        0.000000    \n",
      "1101  0.016          NaN             NaN             0.0667        0.001200    \n",
      "174   0.000           0.400          NaN             0.0500        0.001500    \n",
      "906   0.000          NaN             NaN             0.0000        0.000000    \n",
      "\n",
      "      fruits-vegetables-nuts_100g  nutrition-score-uk_100g  calories_100g  \n",
      "517  NaN                          -8.0                      169.00         \n",
      "1034 NaN                           0.0                      623.20         \n",
      "843  NaN                           12.0                     350.00         \n",
      "382  NaN                           19.0                     424.30         \n",
      "190  NaN                           17.0                     386.76         \n",
      "1015 NaN                           22.0                     421.30         \n",
      "951  NaN                           25.0                     692.10         \n",
      "1101 NaN                           16.0                     486.82         \n",
      "174  NaN                           1.0                      132.62         \n",
      "906  NaN                           2.0                      200.12         \n",
      "\n",
      "[10 rows x 31 columns]\n"
     ]
    },
    {
     "data": {
      "text/plain": [
       "3886.2199999999998"
      ]
     },
     "execution_count": 21,
     "metadata": {},
     "output_type": "execute_result"
    }
   ],
   "source": [
    "### test on one day, to prove the concept\n",
    "### get the indices for our test\n",
    "import numpy.random as npr\n",
    "day = npr.randint(0, len(df_keep), 10)\n",
    "print(day)\n",
    "samples_with_replacement = df_keep.ix[day]\n",
    "print(samples_with_replacement)\n",
    "sum(samples_with_replacement['calories_100g'])"
   ]
  },
  {
   "cell_type": "code",
   "execution_count": 22,
   "metadata": {
    "collapsed": false
   },
   "outputs": [
    {
     "name": "stdout",
     "output_type": "stream",
     "text": [
      "[ 245  919  975 1032  596  910  594  107  865  120]\n",
      "              code                                     product_name  \\\n",
      "245   96619505456   Cheese Pizza                                      \n",
      "919   73007106730   Prosciutto                                        \n",
      "975   41129077641   Roasted Garlic Alfredo Pasta Sauce                \n",
      "1032  37600106252   Skippy Creamy Peanut Butter                       \n",
      "596   648436100699  Kokomen                                           \n",
      "910   838128241445  Premium tea & lemonade                            \n",
      "594   3448005       King Size Peanut Butter Cups                      \n",
      "107   48500305690   100% pure orange juice with calcium & vitamin D   \n",
      "865   40000294801   Peanut M&M's                                      \n",
      "120   36300416      Activia Greek Vanilla                             \n",
      "\n",
      "                    generic_name  \\\n",
      "245   Frozen Pizza                 \n",
      "919   NaN                          \n",
      "975   NaN                          \n",
      "1032  NaN                          \n",
      "596   Ramen Spicy Chicken Flavor   \n",
      "910   NaN                          \n",
      "594   NaN                          \n",
      "107   NaN                          \n",
      "865   NaN                          \n",
      "120   Non fat yogurt               \n",
      "\n",
      "                                                                                                                     categories  \\\n",
      "245   Frozen foods,Meals,Pizzas pies and quiches,Frozen ready-made meals,Frozen pizzas,Frozen pizzas and pies,Pizzas              \n",
      "919   Prosciutto                                                                                                                  \n",
      "975   Groceries,Sauces,Pasta sauces                                                                                               \n",
      "1032  Peanut Butter                                                                                                               \n",
      "596   Plant-based foods and beverages,Plant-based foods,Cereals and potatoes,Cereals and their products,Noodles,Instant noodles   \n",
      "910   NaN                                                                                                                         \n",
      "594   Sugary snacks,Confectioneries,Candies                                                                                       \n",
      "107   Orange Juices                                                                                                               \n",
      "865   Sugary snacks,Confectioneries,Candies                                                                                       \n",
      "120   Dairies,Yogurts,Greek yogurts,low-fat yogurts                                                                               \n",
      "\n",
      "                                                                                                                                                                                                              categories_tags  \\\n",
      "245   en:frozen-foods,en:meals,en:pizzas-pies-and-quiches,en:frozen-ready-made-meals,en:pizzas,en:frozen-pizzas,en:frozen-pizzas-and-pies                                                                                       \n",
      "919   en:prosciutto                                                                                                                                                                                                             \n",
      "975   en:groceries,en:sauces,en:pasta-sauces                                                                                                                                                                                    \n",
      "1032  en:plant-based-foods-and-beverages,en:plant-based-foods,en:legumes-and-their-products,en:spreads,en:nuts-and-their-products,en:plant-based-spreads,en:oilseed-purees,en:nut-butters,en:legume-butters,en:peanut-butters   \n",
      "596   en:plant-based-foods-and-beverages,en:plant-based-foods,en:cereals-and-potatoes,en:cereals-and-their-products,en:noodles,en:instant-noodles                                                                               \n",
      "910   NaN                                                                                                                                                                                                                       \n",
      "594   en:sugary-snacks,en:confectioneries,en:candies                                                                                                                                                                            \n",
      "107   en:beverages,en:plant-based-beverages,en:fruit-based-beverages,en:juices-and-nectars,en:fruit-juices-and-nectars,en:fruit-juices,en:orange-juices,en:non-alcoholic-beverages                                              \n",
      "865   en:sugary-snacks,en:confectioneries,en:candies                                                                                                                                                                            \n",
      "120   en:dairies,en:yogurts,en:greek-yogurts,en:low-fat-yogurts                                                                                                                                                                 \n",
      "\n",
      "                                                                                                                                                                                                                                                                                                                                                                                                                                                                                                                       ingredients_text  \\\n",
      "245   Crust (Enriched _wheat_ flour [{flour, niacin, reduced iron, thiamin mononitrate, riboflavin, folic acid}, malted barley flour, ascorbic acid], water, _soybean_ oil, breadcrumbs [_wheat_ flour, yeast, sugar, salt], yeast, two percent or less of the following: honey, sugar, salt), cheeses (low moisture park-skim mozzarella cheese [part-skim _milk_, cheese culture, salt, enzymes], white cheddar cheese [milk, cheese culture, salt, enzymes]), sauce (tomato puree, water, sugar, salt, garlic, spices)                 \n",
      "919   Pork ham, salt, and less than 2% of the following : Sugar, sodium nitrate, natural flavorings, sodium ascorbate, sodium nitrite, lactic acid starter culture.                                                                                                                                                                                                                                                                                                                                                                       \n",
      "975   CREAM, WATER, PARMESAN _CHEESE_ (CULTURED PART SKIM _MILK_, SALT, ENZYMES), ENZYME MODIFIED _EGG_ YOLKS, MODIFIED CORN STARCH, SALT, _BUTTER_, SUGAR, ROASTED GARLIC, _WHEY_ PROTEIN CONCENTRATE (_MILK_), CANOLA OIL, XANTHAN GUM, HIGH MALTOSE CORN SYRUP SOLIDS, NATURAL FLAVORS (INCLUDING GARLIC AND ONION), LACTIC ACID, _SOYBEAN_ OIL.                                                                                                                                                                                       \n",
      "1032  Roasted _Peanuts_, Sugar, Hydrogenated Vegetable Oils (Cottonseed, _Soybean_ and Rapeseed) to prevent separation, Salt                                                                                                                                                                                                                                                                                                                                                                                                              \n",
      "596   Noodles: _Wheat_ flour, palm oil, potato starch, modified potato starch, vegetable seasoning, _gluten_, emulsified oil, alkaline agent, guar gum, calcium powder, onion extract, riboflavin, green tea extract.  Soup base: Chicken broth, sugar, salt, artificial chicken stock powder, flavor enhancer, corn starch, _soy_ sauce powder, green onion extract powder, red pepper powder, _soybean_ oil, artificial chicken flavor, black pepper powder.  Flake soup: Green onion flake, egg flake, chicken breast, pepper flake.   \n",
      "910   NaN                                                                                                                                                                                                                                                                                                                                                                                                                                                                                                                                 \n",
      "594   _MILK_ CHOCOLATE (SUGAR; COCOA BUTTER; CHOCOLATE; NONFAT _MILK_; _MILK_ FAT; _LACTOSE_; _SOY_ LECITHIN; PGPR, EMULSIFIER); _PEANUTS_; SUGAR; DEXTROSE; SALT; TBHQ (PRESERVATIVE).                                                                                                                                                                                                                                                                                                                                                   \n",
      "107   100% pure pasteurized orange juice, calcium hydroxyde, malic acid, citric acid, vitamin D3                                                                                                                                                                                                                                                                                                                                                                                                                                          \n",
      "865   MILK CHOCOLATE (SUGAR, CHOCOLATE, COCOA BUTTER, SKIM _MILK_, _LACTOSE_, MILKFAT, _PEANUTS_, _SOY_ LECITHIN, SALT, ARTIFICIAL FLAVORS), SUGAR, _PEANUTS_, CORNSTARCH, LESS THAN 1% - CORN SYRUP, GUM ACACIA, COLORING (INCLUDES BLUE 1 LAKE, YELLOW 6, RED 40 LAKE, YELLOW 5, RED 40, BLUE 1, BLUE 2 LAKE, YELLOW 6 LAKE, YELLOW 5 LAKE, BLUE 2) DEXTRIN.                                                                                                                                                                            \n",
      "120   CULTURED GRADE A NON FAT MILK, WATER, SUGAR, FRUCTOSE, CONTAINS LESS THAN 1% OF: MODIFIED CORN STARCH, NATURAL VANILLA FLAVOR, CAROB BEAN GUM, LACTIC ACID, VITAMIN D3, SODIUM CITRATE.                                                                                                                                                                                                                                                                                                                                             \n",
      "\n",
      "           main_category  fat_100g  saturated-fat_100g  \\\n",
      "245   en:frozen-pizzas    10.00     4.17                 \n",
      "919   en:prosciutto       10.70     3.57                 \n",
      "975   en:pasta-sauces     6.67      4.17                 \n",
      "1032  en:legume-butters   50.00     9.38                 \n",
      "596   en:instant-noodles  15.00     8.33                 \n",
      "910   NaN                 0.00     NaN                   \n",
      "594   en:candies          30.40     10.10                \n",
      "107   en:orange-juices    0.00      0.00                 \n",
      "865   en:candies          25.90     10.60                \n",
      "120   en:greek-yogurts    0.00      0.00                 \n",
      "\n",
      "      monounsaturated-fat_100g      ...        alcohol_100g  vitamin-a_100g  \\\n",
      "245  NaN                            ...       NaN            0.0001           \n",
      "919  NaN                            ...       NaN            0.0000           \n",
      "975  NaN                            ...       NaN            0.0000           \n",
      "1032 NaN                            ...       NaN            0.0000           \n",
      "596  NaN                            ...       NaN            0.0000           \n",
      "910  NaN                            ...       NaN           NaN               \n",
      "594  NaN                            ...       NaN            0.0000           \n",
      "107  NaN                            ...       NaN            0.0000           \n",
      "865  NaN                            ...       NaN            0.0000           \n",
      "120  NaN                            ...       NaN            0.0000           \n",
      "\n",
      "      vitamin-c_100g  potassium_100g  chloride_100g  calcium_100g  iron_100g  \\\n",
      "245   0.002          NaN             NaN             0.1670        0.001500    \n",
      "919   0.000          NaN             NaN             0.0000        0.000000    \n",
      "975   0.000          NaN             NaN             0.0667        0.000000    \n",
      "1032  0.000          NaN             NaN             0.0000        0.001130    \n",
      "596   0.000          NaN             NaN             0.0000        0.000000    \n",
      "910  NaN             NaN             NaN            NaN           NaN          \n",
      "594   0.000          NaN             NaN             0.0759        0.001820    \n",
      "107   0.030          NaN             NaN             0.1460        0.000000    \n",
      "865   0.000          NaN             NaN             0.0941        0.000847    \n",
      "120   0.000           0.12           NaN             0.1000        0.000000    \n",
      "\n",
      "      fruits-vegetables-nuts_100g  nutrition-score-uk_100g  calories_100g  \n",
      "245  NaN                           11.0                     236.400        \n",
      "919  NaN                           15.0                     210.700        \n",
      "975  NaN                           11.0                     93.350         \n",
      "1032 NaN                           18.0                     612.800        \n",
      "596  NaN                           23.0                     435.120        \n",
      "910  NaN                          NaN                       33.320         \n",
      "594  NaN                           25.0                     542.000        \n",
      "107  NaN                          -1.0                      46.532         \n",
      "865  NaN                           23.0                     505.940        \n",
      "120  NaN                           0.0                      90.800         \n",
      "\n",
      "[10 rows x 31 columns]\n",
      "Empty DataFrame\n",
      "Columns: [total_calories, complete_micronutrients?, total_fat, total_saturated_fat, total_carbohydrates, total_fiber, total_sugar, total_protein, total_cholesterol_(mg), total_sodium_(mg), total_potassium_(mg), total_vitamin-a_(mcg), total_vitamin-c_(mg), total_calcium_(mg), total_iron_(mg), codes, product_names, generic_names, categories, categories_tags, ingredients_texts, main_categories, fruits-vegetables-nuts_100g, nutrition-score-uk_100g]\n",
      "Index: []\n",
      "\n",
      "[0 rows x 24 columns]\n"
     ]
    }
   ],
   "source": [
    "### testing one day worked, let's try making a builder dataframe now...\n",
    "day = npr.randint(0, len(df_keep), 10)\n",
    "print(day)\n",
    "samples_with_replacement = df_keep.ix[day]\n",
    "print(samples_with_replacement)\n",
    "\n",
    "calculated_cols = ['total_calories', 'complete_micronutrients?','total_fat','total_saturated_fat', 'total_carbohydrates', \n",
    "        'total_fiber', 'total_sugar', 'total_protein', 'total_cholesterol_(mg)','total_sodium_(mg)', 'total_potassium_(mg)',\n",
    "       'total_vitamin-a_(mcg)','total_vitamin-c_(mg)','total_calcium_(mg)', 'total_iron_(mg)']\n",
    "other_cols = ['codes', 'product_names', 'generic_names', 'categories','categories_tags', 'ingredients_texts',\n",
    "              'main_categories', 'fruits-vegetables-nuts_100g', 'nutrition-score-uk_100g']\n",
    "\n",
    "\n",
    "pen_df = pd.DataFrame(columns= calculated_cols+other_cols)\n",
    "#final_df = pd.DataFrame()\n",
    "print(pen_df)"
   ]
  },
  {
   "cell_type": "code",
   "execution_count": 155,
   "metadata": {
    "collapsed": false,
    "scrolled": true
   },
   "outputs": [
    {
     "data": {
      "text/plain": [
       "['total_calories',\n",
       " 'complete_micronutrients?',\n",
       " 'total_fat',\n",
       " 'total_saturated_fat',\n",
       " 'total_carbohydrates',\n",
       " 'total_fiber',\n",
       " 'total_sugar',\n",
       " 'total_protein',\n",
       " 'total_cholesterol_(mg)',\n",
       " 'total_sodium_(mg)',\n",
       " 'total_potassium_(mg)',\n",
       " 'total_vitamin-a_(mcg)',\n",
       " 'total_vitamin-c_(mg)',\n",
       " 'total_calcium_(mg)',\n",
       " 'total_iron_(mg)',\n",
       " 'codes',\n",
       " 'product_names',\n",
       " 'generic_names',\n",
       " 'categories',\n",
       " 'categories_tags',\n",
       " 'ingredients_texts',\n",
       " 'main_categories',\n",
       " 'fruits-vegetables-nuts_100g',\n",
       " 'nutrition-score-uk_100g']"
      ]
     },
     "execution_count": 155,
     "metadata": {},
     "output_type": "execute_result"
    }
   ],
   "source": [
    "list(pen_df.columns)"
   ]
  },
  {
   "cell_type": "code",
   "execution_count": 161,
   "metadata": {
    "collapsed": false
   },
   "outputs": [
    {
     "name": "stdout",
     "output_type": "stream",
     "text": [
      "2684.76\n"
     ]
    }
   ],
   "source": [
    "print(sum(samples_with_replacement['calories_100g']))"
   ]
  },
  {
   "cell_type": "code",
   "execution_count": 23,
   "metadata": {
    "collapsed": false
   },
   "outputs": [
    {
     "name": "stdout",
     "output_type": "stream",
     "text": [
      "  total_calories complete_micronutrients? total_fat total_saturated_fat  \\\n",
      "0  2806.96        None                     148.67    50.32                \n",
      "\n",
      "  total_carbohydrates total_fiber total_sugar total_protein  \\\n",
      "0  264.63              13.233      147.18      102.603        \n",
      "\n",
      "  total_cholesterol_(mg) total_sodium_(mg)  \\\n",
      "0  189.86                 5415.63            \n",
      "\n",
      "                              ...                             total_iron_(mg)  \\\n",
      "0                             ...                              5.297            \n",
      "\n",
      "                                                                                                                           codes  \\\n",
      "0  [96619505456, 73007106730, 41129077641, 37600106252, 648436100699, 838128241445, 3448005, 48500305690, 40000294801, 36300416]   \n",
      "\n",
      "                                                                                                                                                                                                                                      product_names  \\\n",
      "0  [Cheese Pizza, Prosciutto, Roasted Garlic Alfredo Pasta Sauce, Skippy Creamy Peanut Butter, Kokomen, Premium tea & lemonade, King Size Peanut Butter Cups, 100% pure orange juice with calcium & vitamin D, Peanut M&M's, Activia Greek Vanilla]   \n",
      "\n",
      "                                                                                   generic_names  \\\n",
      "0  [Frozen Pizza, nan, nan, nan, Ramen Spicy Chicken Flavor, nan, nan, nan, nan, Non fat yogurt]   \n",
      "\n",
      "                                                                                                                                                                                                                                                                                                                                                                                                                                               categories  \\\n",
      "0  [Frozen foods,Meals,Pizzas pies and quiches,Frozen ready-made meals,Frozen pizzas,Frozen pizzas and pies,Pizzas, Prosciutto, Groceries,Sauces,Pasta sauces, Peanut Butter, Plant-based foods and beverages,Plant-based foods,Cereals and potatoes,Cereals and their products,Noodles,Instant noodles, nan, Sugary snacks,Confectioneries,Candies, Orange Juices, Sugary snacks,Confectioneries,Candies, Dairies,Yogurts,Greek yogurts,low-fat yogurts]   \n",
      "\n",
      "                                                                                                                                                                                                                                                                                                                                                                                                                                                                                                                                                                                                                                                                                                                                                                                                                                                                                                    categories_tags  \\\n",
      "0  [en:frozen-foods,en:meals,en:pizzas-pies-and-quiches,en:frozen-ready-made-meals,en:pizzas,en:frozen-pizzas,en:frozen-pizzas-and-pies, en:prosciutto, en:groceries,en:sauces,en:pasta-sauces, en:plant-based-foods-and-beverages,en:plant-based-foods,en:legumes-and-their-products,en:spreads,en:nuts-and-their-products,en:plant-based-spreads,en:oilseed-purees,en:nut-butters,en:legume-butters,en:peanut-butters, en:plant-based-foods-and-beverages,en:plant-based-foods,en:cereals-and-potatoes,en:cereals-and-their-products,en:noodles,en:instant-noodles, nan, en:sugary-snacks,en:confectioneries,en:candies, en:beverages,en:plant-based-beverages,en:fruit-based-beverages,en:juices-and-nectars,en:fruit-juices-and-nectars,en:fruit-juices,en:orange-juices,en:non-alcoholic-beverages, en:sugary-snacks,en:confectioneries,en:candies, en:dairies,en:yogurts,en:greek-yogurts,en:low-fat-yogurts]   \n",
      "\n",
      "                                                                                                                                                                                                                                                                                                                                                                                                                                                                                                                                                                                                                                                                                                                                                                                                                                                                                                                                                                                                                                                                                                                                                                                                                                                                                                                                                                                                                                                                                                                                                                                                                                                                                                                                                                                                                                                                                                                                                                                                                                                                                                                                                                                                                                                                                                                                                                                                                                                                                                                           ingredients_texts  \\\n",
      "0  [Crust (Enriched _wheat_ flour [{flour, niacin, reduced iron, thiamin mononitrate, riboflavin, folic acid}, malted barley flour, ascorbic acid], water, _soybean_ oil, breadcrumbs [_wheat_ flour, yeast, sugar, salt], yeast, two percent or less of the following: honey, sugar, salt), cheeses (low moisture park-skim mozzarella cheese [part-skim _milk_, cheese culture, salt, enzymes], white cheddar cheese [milk, cheese culture, salt, enzymes]), sauce (tomato puree, water, sugar, salt, garlic, spices), Pork ham, salt, and less than 2% of the following : Sugar, sodium nitrate, natural flavorings, sodium ascorbate, sodium nitrite, lactic acid starter culture., CREAM, WATER, PARMESAN _CHEESE_ (CULTURED PART SKIM _MILK_, SALT, ENZYMES), ENZYME MODIFIED _EGG_ YOLKS, MODIFIED CORN STARCH, SALT, _BUTTER_, SUGAR, ROASTED GARLIC, _WHEY_ PROTEIN CONCENTRATE (_MILK_), CANOLA OIL, XANTHAN GUM, HIGH MALTOSE CORN SYRUP SOLIDS, NATURAL FLAVORS (INCLUDING GARLIC AND ONION), LACTIC ACID, _SOYBEAN_ OIL. , Roasted _Peanuts_, Sugar, Hydrogenated Vegetable Oils (Cottonseed, _Soybean_ and Rapeseed) to prevent separation, Salt, Noodles: _Wheat_ flour, palm oil, potato starch, modified potato starch, vegetable seasoning, _gluten_, emulsified oil, alkaline agent, guar gum, calcium powder, onion extract, riboflavin, green tea extract.  Soup base: Chicken broth, sugar, salt, artificial chicken stock powder, flavor enhancer, corn starch, _soy_ sauce powder, green onion extract powder, red pepper powder, _soybean_ oil, artificial chicken flavor, black pepper powder.  Flake soup: Green onion flake, egg flake, chicken breast, pepper flake., nan, _MILK_ CHOCOLATE (SUGAR; COCOA BUTTER; CHOCOLATE; NONFAT _MILK_; _MILK_ FAT; _LACTOSE_; _SOY_ LECITHIN; PGPR, EMULSIFIER); _PEANUTS_; SUGAR; DEXTROSE; SALT; TBHQ (PRESERVATIVE). , 100% pure pasteurized orange juice, calcium hydroxyde, malic acid, citric acid, vitamin D3, MILK CHOCOLATE (SUGAR, CHOCOLATE, COCOA BUTTER, SKIM _MILK_, _LACTOSE_, MILKFAT, _PEANUTS_, _SOY_ LECITHIN, SALT, ARTIFICIAL FLAVORS), SUGAR, _PEANUTS_, CORNSTARCH, LESS THAN 1% - CORN SYRUP, GUM ACACIA, COLORING (INCLUDES BLUE 1 LAKE, YELLOW 6, RED 40 LAKE, YELLOW 5, RED 40, BLUE 1, BLUE 2 LAKE, YELLOW 6 LAKE, YELLOW 5 LAKE, BLUE 2) DEXTRIN., CULTURED GRADE A NON FAT MILK, WATER, SUGAR, FRUCTOSE, CONTAINS LESS THAN 1% OF: MODIFIED CORN STARCH, NATURAL VANILLA FLAVOR, CAROB BEAN GUM, LACTIC ACID, VITAMIN D3, SODIUM CITRATE.  ]   \n",
      "\n",
      "                                                                                                                                              main_categories  \\\n",
      "0  [en:frozen-pizzas, en:prosciutto, en:pasta-sauces, en:legume-butters, en:instant-noodles, nan, en:candies, en:orange-juices, en:candies, en:greek-yogurts]   \n",
      "\n",
      "                          fruits-vegetables-nuts_100g  \\\n",
      "0  [nan, nan, nan, nan, nan, nan, nan, nan, nan, nan]   \n",
      "\n",
      "                                      nutrition-score-uk_100g  \n",
      "0  [11.0, 15.0, 11.0, 18.0, 23.0, nan, 25.0, -1.0, 23.0, 0.0]  \n",
      "\n",
      "[1 rows x 24 columns]\n"
     ]
    }
   ],
   "source": [
    "### populate the builder dataframe with the samples_with_replacement data\n",
    "pen_df = pd.DataFrame(index = ['0'], columns= calculated_cols+other_cols )\n",
    "\n",
    "def sett(col1, col2):\n",
    "    \"\"\"\n",
    "    short hand to set the relevant builder dataframe values as lists\n",
    "    \"\"\"\n",
    "    pen_df.set_value('0', col1, list(samples_with_replacement[col2]))\n",
    "       \n",
    "def calc(col1, col2, q = 1):\n",
    "    \"\"\"\n",
    "    short hand to set the relevant builder dataframe values as sums\n",
    "    \"\"\"\n",
    "    pen_df.set_value('0', col1, q*np.sum(samples_with_replacement[col2]))\n",
    "    \n",
    "sett('codes', 'code')\n",
    "sett('product_names', 'product_name')\n",
    "sett('generic_names', 'generic_name')\n",
    "sett('categories', 'categories')\n",
    "sett('categories_tags', 'categories_tags')\n",
    "sett('ingredients_texts', 'ingredients_text')\n",
    "sett('main_categories', 'main_category')\n",
    "sett('fruits-vegetables-nuts_100g', 'fruits-vegetables-nuts_100g')\n",
    "sett('nutrition-score-uk_100g', 'nutrition-score-uk_100g')\n",
    "\n",
    "calc('total_calories', 'calories_100g')\n",
    "calc('total_fat', 'fat_100g')\n",
    "calc('total_saturated_fat', 'saturated-fat_100g')\n",
    "calc('total_carbohydrates', 'carbohydrates_100g')\n",
    "calc('total_fiber', 'fiber_100g')\n",
    "calc('total_sugar', 'sugars_100g')\n",
    "calc('total_protein', 'proteins_100g')\n",
    "calc('total_cholesterol_(mg)', 'cholesterol_100g', 1000)\n",
    "calc('total_sodium_(mg)', 'sodium_100g', 1000)\n",
    "calc('total_potassium_(mg)', 'potassium_100g', 1000)\n",
    "calc('total_vitamin-a_(mcg)', 'vitamin-a_100g', 1000000)\n",
    "calc('total_vitamin-c_(mg)', 'vitamin-c_100g', 1000)\n",
    "calc('total_calcium_(mg)', 'calcium_100g', 1000)\n",
    "calc('total_iron_(mg)', 'iron_100g', 1000)\n",
    "\n",
    "pen_df.set_value('0', 'complete_micronutrients?', None) #replace with something less dumb when I'm awake\n",
    "\n",
    "print(pen_df)\n",
    "\n"
   ]
  },
  {
   "cell_type": "code",
   "execution_count": 104,
   "metadata": {
    "collapsed": false
   },
   "outputs": [
    {
     "data": {
      "text/plain": [
       "['total_calories',\n",
       " 'complete_micronutrients?',\n",
       " 'total_fat',\n",
       " 'total_saturated_fat',\n",
       " 'total_carbohydrates',\n",
       " 'total_fiber',\n",
       " 'total_sugar',\n",
       " 'total_protein',\n",
       " 'total_cholesterol',\n",
       " 'total_sodium',\n",
       " 'total_potassium',\n",
       " 'total_vitamin-a',\n",
       " 'total_vitamin-c',\n",
       " 'total_calcium',\n",
       " 'total_iron',\n",
       " 'codes',\n",
       " 'product_names',\n",
       " 'generic_names',\n",
       " 'categories',\n",
       " 'categories_tags',\n",
       " 'ingredients_texts',\n",
       " 'main_categories',\n",
       " 'fruits-vegetables-nuts_100g',\n",
       " 'nutrition-score-uk_100g']"
      ]
     },
     "execution_count": 104,
     "metadata": {},
     "output_type": "execute_result"
    }
   ],
   "source": [
    "list(pen_df.columns)"
   ]
  },
  {
   "cell_type": "code",
   "execution_count": 168,
   "metadata": {
    "collapsed": false
   },
   "outputs": [
    {
     "data": {
      "text/plain": [
       "0    2684.76\n",
       "Name: total_calories, dtype: object"
      ]
     },
     "execution_count": 168,
     "metadata": {},
     "output_type": "execute_result"
    }
   ],
   "source": [
    "pen_df['total_calories']"
   ]
  },
  {
   "cell_type": "code",
   "execution_count": 166,
   "metadata": {
    "collapsed": false
   },
   "outputs": [
    {
     "data": {
      "text/plain": [
       "0    183.3\n",
       "Name: total_potassium_(mg), dtype: object"
      ]
     },
     "execution_count": 166,
     "metadata": {},
     "output_type": "execute_result"
    }
   ],
   "source": [
    "pen_df['total_potassium_(mg)']"
   ]
  },
  {
   "cell_type": "code",
   "execution_count": 167,
   "metadata": {
    "collapsed": false
   },
   "outputs": [
    {
     "data": {
      "text/plain": [
       "0    13.3\n",
       "Name: total_vitamin-c_(mg), dtype: object"
      ]
     },
     "execution_count": 167,
     "metadata": {},
     "output_type": "execute_result"
    }
   ],
   "source": [
    "pen_df['total_vitamin-c_(mg)']"
   ]
  },
  {
   "cell_type": "code",
   "execution_count": 28,
   "metadata": {
    "collapsed": false
   },
   "outputs": [
    {
     "data": {
      "text/plain": [
       "Index(['code', 'product_name', 'generic_name', 'categories', 'categories_tags',\n",
       "       'ingredients_text', 'main_category', 'fat_100g', 'saturated-fat_100g',\n",
       "       'monounsaturated-fat_100g', 'polyunsaturated-fat_100g',\n",
       "       'omega-3-fat_100g', 'omega-6-fat_100g', 'omega-9-fat_100g',\n",
       "       'cholesterol_100g', 'carbohydrates_100g', 'sugars_100g', 'fiber_100g',\n",
       "       'proteins_100g', 'salt_100g', 'sodium_100g', 'alcohol_100g',\n",
       "       'vitamin-a_100g', 'vitamin-c_100g', 'potassium_100g', 'chloride_100g',\n",
       "       'calcium_100g', 'iron_100g', 'fruits-vegetables-nuts_100g',\n",
       "       'nutrition-score-uk_100g', 'calories_100g'],\n",
       "      dtype='object')"
      ]
     },
     "execution_count": 28,
     "metadata": {},
     "output_type": "execute_result"
    }
   ],
   "source": [
    "samples_with_replacement.columns"
   ]
  },
  {
   "cell_type": "code",
   "execution_count": 30,
   "metadata": {
    "collapsed": false
   },
   "outputs": [
    {
     "data": {
      "text/plain": [
       "Int64Index([245, 919, 975, 1032, 596, 910, 594, 107, 865, 120], dtype='int64')"
      ]
     },
     "execution_count": 30,
     "metadata": {},
     "output_type": "execute_result"
    }
   ],
   "source": [
    "samples_with_replacement.index"
   ]
  },
  {
   "cell_type": "code",
   "execution_count": 36,
   "metadata": {
    "collapsed": false
   },
   "outputs": [],
   "source": [
    "samples_with_replacement = samples_with_replacement.fillna('-')"
   ]
  },
  {
   "cell_type": "code",
   "execution_count": 37,
   "metadata": {
    "collapsed": false
   },
   "outputs": [
    {
     "data": {
      "text/plain": [
       "245     0.0001\n",
       "919     0     \n",
       "975     0     \n",
       "1032    0     \n",
       "596     0     \n",
       "910     -     \n",
       "594     0     \n",
       "107     0     \n",
       "865     0     \n",
       "120     0     \n",
       "Name: vitamin-a_100g, dtype: object"
      ]
     },
     "execution_count": 37,
     "metadata": {},
     "output_type": "execute_result"
    }
   ],
   "source": [
    "samples_with_replacement['vitamin-a_100g']"
   ]
  },
  {
   "cell_type": "code",
   "execution_count": 44,
   "metadata": {
    "collapsed": false
   },
   "outputs": [
    {
     "data": {
      "text/plain": [
       "True"
      ]
     },
     "execution_count": 44,
     "metadata": {},
     "output_type": "execute_result"
    }
   ],
   "source": [
    "'-' in list(samples_with_replacement['vitamin-a_100g'])"
   ]
  },
  {
   "cell_type": "code",
   "execution_count": 60,
   "metadata": {
    "collapsed": false
   },
   "outputs": [
    {
     "data": {
      "text/plain": [
       "False"
      ]
     },
     "execution_count": 60,
     "metadata": {},
     "output_type": "execute_result"
    }
   ],
   "source": [
    "#figure out how to populate the complete nutrients field\n",
    "\n",
    "\n",
    "nutrients_list1 = [x for x in list(samples_with_replacement.columns.values) if re.search('_100g$', x)]\n",
    "\n",
    "'-' not in samples_with_replacement[nutrients_list1].values.flatten().tolist()"
   ]
  },
  {
   "cell_type": "code",
   "execution_count": 94,
   "metadata": {
    "collapsed": false
   },
   "outputs": [
    {
     "name": "stdout",
     "output_type": "stream",
     "text": [
      "  total_calories complete_micronutrients? total_fat total_saturated_fat  \\\n",
      "0  1463.19        False                    34.19     1.82                 \n",
      "\n",
      "  total_carbohydrates total_fiber total_sugar total_protein  \\\n",
      "0  243.65              9.16        89.85       45.22          \n",
      "\n",
      "  total_cholesterol_(mg) total_sodium_(mg)  \\\n",
      "0  63.6                   1269.63            \n",
      "\n",
      "                          ...                          total_iron_(mg)  \\\n",
      "0                         ...                           4.884            \n",
      "\n",
      "                                                                                                                        codes  \\\n",
      "0  [1223004, 99482403676, 41735020000, 92325222250, 11156054502, 70718001576, 796631287018, 76808518290, 780117, 40600341226]   \n",
      "\n",
      "                                                                                                                                                                                             product_names  \\\n",
      "0  [Pepsi, Mango Madness , Apple Cider Vinegar, Organic Ketchup, British Blend Premium Black Tea, Skinless Boneless Smoked Sardine Fillets, Fresh Cauliflower , Tri-Color Rotini, Spaghetti, Spray Butter]   \n",
      "\n",
      "                                                                                          generic_names  \\\n",
      "0  [nan, Snapple, nan, nan, Black Tea , nan, Cauliflower , nan, Organic Pasta Imported From Italy, nan]   \n",
      "\n",
      "                                                                                                                                                                                                                                                                                                                                                                                                                                                                                                                                                                    categories  \\\n",
      "0  [Beverages,Carbonated drinks,Sodas,Sugared beverages,Colas, juices,beverages, nan, Groceries,Sauces,Tomato sauces,Ketchup, Black Tea, Canned foods,Seafood,Fishes,Canned fishes,Sardines,Canned sardines, Plant-based foods and beverages,Plant-based foods,Fruits and vegetables based foods,Vegetables based foods, Plant-based foods and beverages,Plant-based foods,Cereals and potatoes,Cereals and their products,Pastas, Plant-based foods and beverages,Plant-based foods,Cereals and potatoes,Cereals and their products,Pastas, Dairies,Fats,Animal fats,Butters]   \n",
      "\n",
      "                                                                                                                                                                                                                                                                                                                                                                                                                                                                                                                                                                                                                                                                                                                                                                                                                                                                                categories_tags  \\\n",
      "0  [en:beverages,en:carbonated-drinks,en:sodas,en:colas,en:sugared-beverages, en:beverages,en:sugared-beverages,en:juices, nan, en:groceries,en:sauces,en:tomato-sauces,en:ketchup, en:plant-based-foods-and-beverages,en:beverages,en:plant-based-foods,en:hot-beverages,en:herbal-teas,en:teas,en:black-teas,en:non-sugared-beverages, en:canned-foods,en:seafood,en:fishes,en:canned-fishes,en:sardines,en:canned-sardines, en:plant-based-foods-and-beverages,en:plant-based-foods,en:fruits-and-vegetables-based-foods,en:vegetables-based-foods, en:plant-based-foods-and-beverages,en:plant-based-foods,en:cereals-and-potatoes,en:cereals-and-their-products,en:pastas, en:plant-based-foods-and-beverages,en:plant-based-foods,en:cereals-and-potatoes,en:cereals-and-their-products,en:pastas, en:spreads,en:dairies,en:fats,en:spreadable-fats,en:animal-fats,en:milkfat,en:butters]   \n",
      "\n",
      "                                                                                                                                                                                                                                                                                                                                                                                                                                                                                                                                                                                                                                                                                                                                                                                                                                                                                                                                           ingredients_texts  \\\n",
      "0  [carbonated water, high fructose corn syrup, caramel color, sugar, phosphoric acid, caffeine, citric acid, natural flavor, FILTERED WATER, SUGAR, KIWI JUICE CONCENTRATE, CITRIC ACID, MANGO PUREE, NATURAL FLAVORS, VEGETABLE JUICES AND BETA CAROTENE (FOR COLOR), Apple Cider Vinegar (diluted with water to 5% acidity), *TOMATO PASTE, *DISTILLED WHITE VINEGAR, WATER, *CANE SUGAR, SEA SALT, *ONION, *ALLSPICE, *CLOVE. *ORGANIC INGREDIENTS, Ingredients: Black Tea, Wood Smoked _Sardine_ Fillets, Salt, Cauliflower , SEMOLINA (_WHEAT_), DURUM _WHEAT_ FLOUR, DRIED SPINACH, DRIED TOMATO, NIACIN, IRON (FERROUS SULFATE), THIAMINE MONONITRATE, RIBOFLAVIN, FOLIC ACID., nan, WATER, _SOYBEAN_ OIL, SALT, SWEET _CREAM_ BUTTERMILK, XANTHAN GUM, _SOY_ LECITHIN, POLYSORBATE 60, LACTIC ACID, (POTASSIUM SORBATE, CALCIUM DISODIUM EDTA) USED TO PROTECT QUALITY, NATURAL AND ARTIFICIAL FLAVOR, VITAMIN A PALMITATE, BETA CAROTENE (COLOR).]   \n",
      "\n",
      "                                                                                                                                     main_categories  \\\n",
      "0  [en:colas, en:sugared-beverages, nan, en:ketchup, en:black-teas, en:canned-sardines, en:vegetables-based-foods, en:pastas, en:pastas, en:butters]   \n",
      "\n",
      "                          fruits-vegetables-nuts_100g  \\\n",
      "0  [nan, nan, nan, nan, nan, nan, nan, nan, nan, nan]   \n",
      "\n",
      "                               nutrition-score-uk_100g  \n",
      "0  [2.0, nan, nan, nan, nan, 2.0, nan, -6.0, nan, nan]  \n",
      "\n",
      "[1 rows x 24 columns]\n",
      "Empty DataFrame\n",
      "Columns: [total_calories, complete_micronutrients?, total_fat, total_saturated_fat, total_carbohydrates, total_fiber, total_sugar, total_protein, total_cholesterol_(mg), total_sodium_(mg), total_potassium_(mg), total_vitamin-a_(mcg), total_vitamin-c_(mg), total_calcium_(mg), total_iron_(mg), codes, product_names, generic_names, categories, categories_tags, ingredients_texts, main_categories, fruits-vegetables-nuts_100g, nutrition-score-uk_100g]\n",
      "Index: []\n",
      "\n",
      "[0 rows x 24 columns]\n",
      "[ True  True  True  True  True  True  True  True  True  True  True  True\n",
      "  True  True  True  True  True  True  True  True  True  True  True  True]\n"
     ]
    }
   ],
   "source": [
    "### sweet, let's put it all together\n",
    "def sett(col1, col2):\n",
    "    \"\"\"\n",
    "    short hand to set the relevant builder dataframe values as lists\n",
    "    \"\"\"\n",
    "    pen_df.set_value('0', col1, list(samples_with_replacement[col2]))\n",
    "       \n",
    "def calc(col1, col2, q = 1):\n",
    "    \"\"\"\n",
    "    short hand to set the relevant builder dataframe values as sums\n",
    "    \"\"\"\n",
    "    pen_df.set_value('0', col1, q*np.sum(samples_with_replacement[col2]))\n",
    "\n",
    "calculated_cols = ['total_calories', 'complete_micronutrients?','total_fat','total_saturated_fat', 'total_carbohydrates', \n",
    "        'total_fiber', 'total_sugar', 'total_protein', 'total_cholesterol_(mg)','total_sodium_(mg)', 'total_potassium_(mg)',\n",
    "       'total_vitamin-a_(mcg)','total_vitamin-c_(mg)','total_calcium_(mg)', 'total_iron_(mg)']\n",
    "\n",
    "other_cols = ['codes', 'product_names', 'generic_names', 'categories','categories_tags', 'ingredients_texts',\n",
    "              'main_categories', 'fruits-vegetables-nuts_100g', 'nutrition-score-uk_100g']\n",
    "\n",
    "\n",
    "nutrients_list1 = ['fat_100g','cholesterol_100g', 'carbohydrates_100g', 'sugars_100g', 'fiber_100g', 'proteins_100g',\n",
    "       'sodium_100g', 'vitamin-a_100g', 'vitamin-c_100g','potassium_100g', 'calcium_100g', 'iron_100g']\n",
    "\n",
    "##select our food for the day from the list \n",
    "day = npr.randint(0, len(df_keep), 10)\n",
    "\n",
    "#build a dataframe of that day\n",
    "samples_with_replacement = df_keep.ix[day]\n",
    "\n",
    "\n",
    "### populate the builder dataframe with the samples_with_replacement data\n",
    "pen_df = pd.DataFrame(index = ['0'], columns= calculated_cols+other_cols )\n",
    "\n",
    "\n",
    "    \n",
    "sett('codes', 'code')\n",
    "sett('product_names', 'product_name')\n",
    "sett('generic_names', 'generic_name')\n",
    "sett('categories', 'categories')\n",
    "sett('categories_tags', 'categories_tags')\n",
    "sett('ingredients_texts', 'ingredients_text')\n",
    "sett('main_categories', 'main_category')\n",
    "sett('fruits-vegetables-nuts_100g', 'fruits-vegetables-nuts_100g')\n",
    "sett('nutrition-score-uk_100g', 'nutrition-score-uk_100g')\n",
    "\n",
    "calc('total_calories', 'calories_100g')\n",
    "calc('total_fat', 'fat_100g')\n",
    "calc('total_saturated_fat', 'saturated-fat_100g')\n",
    "calc('total_carbohydrates', 'carbohydrates_100g')\n",
    "calc('total_fiber', 'fiber_100g')\n",
    "calc('total_sugar', 'sugars_100g')\n",
    "calc('total_protein', 'proteins_100g')\n",
    "calc('total_cholesterol_(mg)', 'cholesterol_100g', 1000)\n",
    "calc('total_sodium_(mg)', 'sodium_100g', 1000)\n",
    "calc('total_potassium_(mg)', 'potassium_100g', 1000)\n",
    "calc('total_vitamin-a_(mcg)', 'vitamin-a_100g', 1000000)\n",
    "calc('total_vitamin-c_(mg)', 'vitamin-c_100g', 1000)\n",
    "calc('total_calcium_(mg)', 'calcium_100g', 1000)\n",
    "calc('total_iron_(mg)', 'iron_100g', 1000)\n",
    "\n",
    "pen_df.set_value('0', 'complete_micronutrients?', '-' not in samples_with_replacement[nutrients_list1].fillna('-').values.flatten().tolist()) #replace with something less dumb when I'm awake\n",
    "\n",
    "print(pen_df)\n",
    "\n",
    "final_df = pd.DataFrame(columns= calculated_cols+other_cols)\n",
    "\n",
    "#pd.concat([final_df, pen_df])\n",
    "print(final_df)\n",
    "print(final_df.columns == pen_df.columns)"
   ]
  },
  {
   "cell_type": "code",
   "execution_count": 102,
   "metadata": {
    "collapsed": false
   },
   "outputs": [],
   "source": [
    "### sweet, that works, let's try now appending these rows to a final dataframe\n",
    "\n",
    "### sweet, let's put it all together\n",
    "def sett(col1, col2):\n",
    "    \"\"\"\n",
    "    short hand to set the relevant builder dataframe values as lists\n",
    "    \"\"\"\n",
    "    pen_df.set_value('0', col1, list(samples_with_replacement[col2]))\n",
    "       \n",
    "def calc(col1, col2, q = 1):\n",
    "    \"\"\"\n",
    "    short hand to set the relevant builder dataframe values as sums\n",
    "    \"\"\"\n",
    "    pen_df.set_value('0', col1, q*np.sum(samples_with_replacement[col2]))\n",
    "\n",
    "calculated_cols = ['total_calories', 'complete_micronutrients?','total_fat','total_saturated_fat', 'total_carbohydrates', \n",
    "        'total_fiber', 'total_sugar', 'total_protein', 'total_cholesterol_(mg)','total_sodium_(mg)', 'total_potassium_(mg)',\n",
    "       'total_vitamin-a_(mcg)','total_vitamin-c_(mg)','total_calcium_(mg)', 'total_iron_(mg)']\n",
    "\n",
    "other_cols = ['codes', 'product_names', 'generic_names', 'categories','categories_tags', 'ingredients_texts',\n",
    "              'main_categories', 'fruits-vegetables-nuts_100g', 'nutrition-score-uk_100g']\n",
    "\n",
    "\n",
    "nutrients_list1 = ['fat_100g','cholesterol_100g', 'carbohydrates_100g', 'sugars_100g', 'fiber_100g', 'proteins_100g',\n",
    "       'sodium_100g', 'vitamin-a_100g', 'vitamin-c_100g','potassium_100g', 'calcium_100g', 'iron_100g']\n",
    "\n",
    "final_df = pd.DataFrame(columns= calculated_cols+other_cols)\n",
    "\n",
    "for i in range(3):\n",
    "##select our food for the day from the list \n",
    "    day = npr.randint(0, len(df_keep), 10)\n",
    "\n",
    "    #build a dataframe of that day\n",
    "    samples_with_replacement = df_keep.ix[day]\n",
    "\n",
    "\n",
    "    ### populate the builder dataframe with the samples_with_replacement data\n",
    "    pen_df = pd.DataFrame(index = ['0'], columns= calculated_cols+other_cols )\n",
    "\n",
    "\n",
    "\n",
    "    sett('codes', 'code')\n",
    "    sett('product_names', 'product_name')\n",
    "    sett('generic_names', 'generic_name')\n",
    "    sett('categories', 'categories')\n",
    "    sett('categories_tags', 'categories_tags')\n",
    "    sett('ingredients_texts', 'ingredients_text')\n",
    "    sett('main_categories', 'main_category')\n",
    "    sett('fruits-vegetables-nuts_100g', 'fruits-vegetables-nuts_100g')\n",
    "    sett('nutrition-score-uk_100g', 'nutrition-score-uk_100g')\n",
    "\n",
    "    calc('total_calories', 'calories_100g')\n",
    "    calc('total_fat', 'fat_100g')\n",
    "    calc('total_saturated_fat', 'saturated-fat_100g')\n",
    "    calc('total_carbohydrates', 'carbohydrates_100g')\n",
    "    calc('total_fiber', 'fiber_100g')\n",
    "    calc('total_sugar', 'sugars_100g')\n",
    "    calc('total_protein', 'proteins_100g')\n",
    "    calc('total_cholesterol_(mg)', 'cholesterol_100g', 1000)\n",
    "    calc('total_sodium_(mg)', 'sodium_100g', 1000)\n",
    "    calc('total_potassium_(mg)', 'potassium_100g', 1000)\n",
    "    calc('total_vitamin-a_(mcg)', 'vitamin-a_100g', 1000000)\n",
    "    calc('total_vitamin-c_(mg)', 'vitamin-c_100g', 1000)\n",
    "    calc('total_calcium_(mg)', 'calcium_100g', 1000)\n",
    "    calc('total_iron_(mg)', 'iron_100g', 1000)\n",
    "\n",
    "    pen_df.set_value('0', 'complete_micronutrients?', '-' not in samples_with_replacement[nutrients_list1].fillna('-').values.flatten().tolist()) #replace with something less dumb when I'm awake\n",
    "    if len(final_df) ==0:\n",
    "        final_df = pen_df\n",
    "    else:\n",
    "        final_df = pd.concat([final_df, pen_df])\n",
    "    i += 1\n",
    "\n"
   ]
  },
  {
   "cell_type": "code",
   "execution_count": 105,
   "metadata": {
    "collapsed": false
   },
   "outputs": [
    {
     "data": {
      "text/plain": [
       "0    False\n",
       "0    False\n",
       "0    False\n",
       "Name: complete_micronutrients?, dtype: object"
      ]
     },
     "execution_count": 105,
     "metadata": {},
     "output_type": "execute_result"
    }
   ],
   "source": [
    "final_df['complete_micronutrients?']"
   ]
  },
  {
   "cell_type": "code",
   "execution_count": 106,
   "metadata": {
    "collapsed": false
   },
   "outputs": [],
   "source": [
    "#miracles of miracles, that worked.  Now, build our 10,000 days"
   ]
  },
  {
   "cell_type": "code",
   "execution_count": 107,
   "metadata": {
    "collapsed": true
   },
   "outputs": [],
   "source": [
    "### sweet, that works, let's try now appending these rows to a final dataframe\n",
    "\n",
    "### sweet, let's put it all together\n",
    "def sett(col1, col2):\n",
    "    \"\"\"\n",
    "    short hand to set the relevant builder dataframe values as lists\n",
    "    \"\"\"\n",
    "    pen_df.set_value('0', col1, list(samples_with_replacement[col2]))\n",
    "       \n",
    "def calc(col1, col2, q = 1):\n",
    "    \"\"\"\n",
    "    short hand to set the relevant builder dataframe values as sums\n",
    "    \"\"\"\n",
    "    pen_df.set_value('0', col1, q*np.sum(samples_with_replacement[col2]))\n",
    "\n",
    "calculated_cols = ['total_calories', 'complete_micronutrients?','total_fat','total_saturated_fat', 'total_carbohydrates', \n",
    "        'total_fiber', 'total_sugar', 'total_protein', 'total_cholesterol_(mg)','total_sodium_(mg)', 'total_potassium_(mg)',\n",
    "       'total_vitamin-a_(mcg)','total_vitamin-c_(mg)','total_calcium_(mg)', 'total_iron_(mg)']\n",
    "\n",
    "other_cols = ['codes', 'product_names', 'generic_names', 'categories','categories_tags', 'ingredients_texts',\n",
    "              'main_categories', 'fruits-vegetables-nuts_100g', 'nutrition-score-uk_100g']\n",
    "\n",
    "\n",
    "nutrients_list1 = ['fat_100g','cholesterol_100g', 'carbohydrates_100g', 'sugars_100g', 'fiber_100g', 'proteins_100g',\n",
    "       'sodium_100g', 'vitamin-a_100g', 'vitamin-c_100g','potassium_100g', 'calcium_100g', 'iron_100g']\n",
    "\n",
    "final_df = pd.DataFrame(columns= calculated_cols+other_cols)\n",
    "\n",
    "for i in range(10000):\n",
    "##select our food for the day from the list \n",
    "    day = npr.randint(0, len(df_keep), 10)\n",
    "\n",
    "    #build a dataframe of that day\n",
    "    samples_with_replacement = df_keep.ix[day]\n",
    "\n",
    "\n",
    "    ### populate the builder dataframe with the samples_with_replacement data\n",
    "    pen_df = pd.DataFrame(index = ['0'], columns= calculated_cols+other_cols )\n",
    "\n",
    "\n",
    "\n",
    "    sett('codes', 'code')\n",
    "    sett('product_names', 'product_name')\n",
    "    sett('generic_names', 'generic_name')\n",
    "    sett('categories', 'categories')\n",
    "    sett('categories_tags', 'categories_tags')\n",
    "    sett('ingredients_texts', 'ingredients_text')\n",
    "    sett('main_categories', 'main_category')\n",
    "    sett('fruits-vegetables-nuts_100g', 'fruits-vegetables-nuts_100g')\n",
    "    sett('nutrition-score-uk_100g', 'nutrition-score-uk_100g')\n",
    "\n",
    "    calc('total_calories', 'calories_100g')\n",
    "    calc('total_fat', 'fat_100g')\n",
    "    calc('total_saturated_fat', 'saturated-fat_100g')\n",
    "    calc('total_carbohydrates', 'carbohydrates_100g')\n",
    "    calc('total_fiber', 'fiber_100g')\n",
    "    calc('total_sugar', 'sugars_100g')\n",
    "    calc('total_protein', 'proteins_100g')\n",
    "    calc('total_cholesterol_(mg)', 'cholesterol_100g', 1000)\n",
    "    calc('total_sodium_(mg)', 'sodium_100g', 1000)\n",
    "    calc('total_potassium_(mg)', 'potassium_100g', 1000)\n",
    "    calc('total_vitamin-a_(mcg)', 'vitamin-a_100g', 1000000)\n",
    "    calc('total_vitamin-c_(mg)', 'vitamin-c_100g', 1000)\n",
    "    calc('total_calcium_(mg)', 'calcium_100g', 1000)\n",
    "    calc('total_iron_(mg)', 'iron_100g', 1000)\n",
    "\n",
    "    pen_df.set_value('0', 'complete_micronutrients?', '-' not in samples_with_replacement[nutrients_list1].fillna('-').values.flatten().tolist()) #replace with something less dumb when I'm awake\n",
    "    if len(final_df) ==0:\n",
    "        final_df = pen_df\n",
    "    else:\n",
    "        final_df = pd.concat([final_df, pen_df])\n",
    "    i += 1\n",
    "\n"
   ]
  },
  {
   "cell_type": "code",
   "execution_count": 108,
   "metadata": {
    "collapsed": false
   },
   "outputs": [
    {
     "data": {
      "text/plain": [
       "10000"
      ]
     },
     "execution_count": 108,
     "metadata": {},
     "output_type": "execute_result"
    }
   ],
   "source": [
    "len(final_df)"
   ]
  },
  {
   "cell_type": "code",
   "execution_count": 110,
   "metadata": {
    "collapsed": false
   },
   "outputs": [
    {
     "data": {
      "text/plain": [
       "670.718"
      ]
     },
     "execution_count": 110,
     "metadata": {},
     "output_type": "execute_result"
    }
   ],
   "source": [
    "min(final_df['total_calories'])"
   ]
  },
  {
   "cell_type": "code",
   "execution_count": 111,
   "metadata": {
    "collapsed": false
   },
   "outputs": [
    {
     "data": {
      "text/plain": [
       "5406.900000000001"
      ]
     },
     "execution_count": 111,
     "metadata": {},
     "output_type": "execute_result"
    }
   ],
   "source": [
    "max(final_df['total_calories'])"
   ]
  },
  {
   "cell_type": "code",
   "execution_count": 117,
   "metadata": {
    "collapsed": false
   },
   "outputs": [
    {
     "data": {
      "text/plain": [
       "2893.4578753000037"
      ]
     },
     "execution_count": 117,
     "metadata": {},
     "output_type": "execute_result"
    }
   ],
   "source": [
    "final_df['total_calories'].mean(axis=0)"
   ]
  },
  {
   "cell_type": "code",
   "execution_count": 118,
   "metadata": {
    "collapsed": true
   },
   "outputs": [],
   "source": [
    "final_df.to_csv('random_days.tsv', sep='\\t')"
   ]
  },
  {
   "cell_type": "code",
   "execution_count": null,
   "metadata": {
    "collapsed": true
   },
   "outputs": [],
   "source": []
  }
 ],
 "metadata": {
  "anaconda-cloud": {},
  "kernelspec": {
   "display_name": "Python [Root]",
   "language": "python",
   "name": "Python [Root]"
  },
  "language_info": {
   "codemirror_mode": {
    "name": "ipython",
    "version": 3
   },
   "file_extension": ".py",
   "mimetype": "text/x-python",
   "name": "python",
   "nbconvert_exporter": "python",
   "pygments_lexer": "ipython3",
   "version": "3.5.2"
  }
 },
 "nbformat": 4,
 "nbformat_minor": 0
}
