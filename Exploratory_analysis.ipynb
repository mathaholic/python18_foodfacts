{
 "cells": [
  {
   "cell_type": "code",
   "execution_count": 1,
   "metadata": {
    "collapsed": false
   },
   "outputs": [
    {
     "name": "stdout",
     "output_type": "stream",
     "text": [
      "3.5.2 |Anaconda 4.1.1 (x86_64)| (default, Jul  2 2016, 17:52:12) \n",
      "[GCC 4.2.1 Compatible Apple LLVM 4.2 (clang-425.0.28)]\n",
      "1.11.1\n",
      "0.18.1\n"
     ]
    }
   ],
   "source": [
    "import sys\n",
    "print(sys.version)\n",
    "import numpy as np\n",
    "print(np.__version__)\n",
    "import pandas as pd\n",
    "print(pd.__version__)\n",
    "import matplotlib.pyplot as plt\n",
    "import re"
   ]
  },
  {
   "cell_type": "code",
   "execution_count": 2,
   "metadata": {
    "collapsed": false
   },
   "outputs": [
    {
     "data": {
      "text/html": [
       "<div>\n",
       "<table border=\"1\" class=\"dataframe\">\n",
       "  <thead>\n",
       "    <tr style=\"text-align: right;\">\n",
       "      <th></th>\n",
       "      <th>code</th>\n",
       "      <th>url</th>\n",
       "      <th>creator</th>\n",
       "      <th>created_t</th>\n",
       "      <th>last_modified_t</th>\n",
       "      <th>product_name</th>\n",
       "      <th>generic_name</th>\n",
       "      <th>quantity</th>\n",
       "      <th>packaging</th>\n",
       "      <th>packaging_tags</th>\n",
       "      <th>...</th>\n",
       "      <th>caffeine_100g</th>\n",
       "      <th>taurine_100g</th>\n",
       "      <th>ph_100g</th>\n",
       "      <th>fruits-vegetables-nuts_100g</th>\n",
       "      <th>collagen-meat-protein-ratio_100g</th>\n",
       "      <th>cocoa_100g</th>\n",
       "      <th>chlorophyl_100g</th>\n",
       "      <th>carbon-footprint_100g</th>\n",
       "      <th>nutrition-score-fr_100g</th>\n",
       "      <th>nutrition-score-uk_100g</th>\n",
       "    </tr>\n",
       "  </thead>\n",
       "  <tbody>\n",
       "    <tr>\n",
       "      <th>0</th>\n",
       "      <td>5010092093045</td>\n",
       "      <td>http://world.openfoodfacts.org/product/5010092...</td>\n",
       "      <td>bcatelin</td>\n",
       "      <td>1389309305</td>\n",
       "      <td>1461479010</td>\n",
       "      <td>Soft white</td>\n",
       "      <td>White bread</td>\n",
       "      <td>800g</td>\n",
       "      <td>Plastic bag</td>\n",
       "      <td>plastic-bag</td>\n",
       "      <td>...</td>\n",
       "      <td>NaN</td>\n",
       "      <td>NaN</td>\n",
       "      <td>NaN</td>\n",
       "      <td>NaN</td>\n",
       "      <td>NaN</td>\n",
       "      <td>NaN</td>\n",
       "      <td>NaN</td>\n",
       "      <td>125.0</td>\n",
       "      <td>-1.0</td>\n",
       "      <td>-1.0</td>\n",
       "    </tr>\n",
       "    <tr>\n",
       "      <th>1</th>\n",
       "      <td>44000030377</td>\n",
       "      <td>http://world.openfoodfacts.org/product/0044000...</td>\n",
       "      <td>openfoodfacts-contributors</td>\n",
       "      <td>1385850411</td>\n",
       "      <td>1459174448</td>\n",
       "      <td>Wheat Thins Original</td>\n",
       "      <td>NaN</td>\n",
       "      <td>258g</td>\n",
       "      <td>NaN</td>\n",
       "      <td>NaN</td>\n",
       "      <td>...</td>\n",
       "      <td>NaN</td>\n",
       "      <td>NaN</td>\n",
       "      <td>NaN</td>\n",
       "      <td>NaN</td>\n",
       "      <td>NaN</td>\n",
       "      <td>NaN</td>\n",
       "      <td>NaN</td>\n",
       "      <td>NaN</td>\n",
       "      <td>NaN</td>\n",
       "      <td>NaN</td>\n",
       "    </tr>\n",
       "    <tr>\n",
       "      <th>2</th>\n",
       "      <td>7832309</td>\n",
       "      <td>http://world.openfoodfacts.org/product/07832309</td>\n",
       "      <td>openfoodfacts-contributors</td>\n",
       "      <td>1403210081</td>\n",
       "      <td>1458995984</td>\n",
       "      <td>Diet Dr Pepper</td>\n",
       "      <td>NaN</td>\n",
       "      <td>NaN</td>\n",
       "      <td>can</td>\n",
       "      <td>can</td>\n",
       "      <td>...</td>\n",
       "      <td>NaN</td>\n",
       "      <td>NaN</td>\n",
       "      <td>NaN</td>\n",
       "      <td>NaN</td>\n",
       "      <td>NaN</td>\n",
       "      <td>NaN</td>\n",
       "      <td>NaN</td>\n",
       "      <td>NaN</td>\n",
       "      <td>NaN</td>\n",
       "      <td>NaN</td>\n",
       "    </tr>\n",
       "    <tr>\n",
       "      <th>3</th>\n",
       "      <td>5099353000169</td>\n",
       "      <td>http://world.openfoodfacts.org/product/5099353...</td>\n",
       "      <td>bcatelin</td>\n",
       "      <td>1385926289</td>\n",
       "      <td>1413659845</td>\n",
       "      <td>Eggs</td>\n",
       "      <td>Eggs</td>\n",
       "      <td>6</td>\n",
       "      <td>Cardbox</td>\n",
       "      <td>cardbox</td>\n",
       "      <td>...</td>\n",
       "      <td>NaN</td>\n",
       "      <td>NaN</td>\n",
       "      <td>NaN</td>\n",
       "      <td>NaN</td>\n",
       "      <td>NaN</td>\n",
       "      <td>NaN</td>\n",
       "      <td>NaN</td>\n",
       "      <td>NaN</td>\n",
       "      <td>NaN</td>\n",
       "      <td>NaN</td>\n",
       "    </tr>\n",
       "    <tr>\n",
       "      <th>4</th>\n",
       "      <td>82592720153</td>\n",
       "      <td>http://world.openfoodfacts.org/product/0082592...</td>\n",
       "      <td>openfoodfacts-contributors</td>\n",
       "      <td>1389308826</td>\n",
       "      <td>1459174499</td>\n",
       "      <td>Green Machine</td>\n",
       "      <td>NaN</td>\n",
       "      <td>15.2 fl. oz (450 mL)</td>\n",
       "      <td>NaN</td>\n",
       "      <td>NaN</td>\n",
       "      <td>...</td>\n",
       "      <td>NaN</td>\n",
       "      <td>NaN</td>\n",
       "      <td>NaN</td>\n",
       "      <td>NaN</td>\n",
       "      <td>NaN</td>\n",
       "      <td>NaN</td>\n",
       "      <td>NaN</td>\n",
       "      <td>NaN</td>\n",
       "      <td>NaN</td>\n",
       "      <td>NaN</td>\n",
       "    </tr>\n",
       "  </tbody>\n",
       "</table>\n",
       "<p>5 rows × 150 columns</p>\n",
       "</div>"
      ],
      "text/plain": [
       "            code                                                url  \\\n",
       "0  5010092093045  http://world.openfoodfacts.org/product/5010092...   \n",
       "1    44000030377  http://world.openfoodfacts.org/product/0044000...   \n",
       "2        7832309    http://world.openfoodfacts.org/product/07832309   \n",
       "3  5099353000169  http://world.openfoodfacts.org/product/5099353...   \n",
       "4    82592720153  http://world.openfoodfacts.org/product/0082592...   \n",
       "\n",
       "                      creator   created_t  last_modified_t  \\\n",
       "0                    bcatelin  1389309305       1461479010   \n",
       "1  openfoodfacts-contributors  1385850411       1459174448   \n",
       "2  openfoodfacts-contributors  1403210081       1458995984   \n",
       "3                    bcatelin  1385926289       1413659845   \n",
       "4  openfoodfacts-contributors  1389308826       1459174499   \n",
       "\n",
       "           product_name generic_name              quantity    packaging  \\\n",
       "0            Soft white  White bread                  800g  Plastic bag   \n",
       "1  Wheat Thins Original          NaN                  258g          NaN   \n",
       "2        Diet Dr Pepper          NaN                   NaN          can   \n",
       "3                  Eggs         Eggs                     6      Cardbox   \n",
       "4         Green Machine          NaN  15.2 fl. oz (450 mL)          NaN   \n",
       "\n",
       "  packaging_tags           ...           caffeine_100g taurine_100g ph_100g  \\\n",
       "0    plastic-bag           ...                     NaN          NaN     NaN   \n",
       "1            NaN           ...                     NaN          NaN     NaN   \n",
       "2            can           ...                     NaN          NaN     NaN   \n",
       "3        cardbox           ...                     NaN          NaN     NaN   \n",
       "4            NaN           ...                     NaN          NaN     NaN   \n",
       "\n",
       "  fruits-vegetables-nuts_100g collagen-meat-protein-ratio_100g cocoa_100g  \\\n",
       "0                         NaN                              NaN        NaN   \n",
       "1                         NaN                              NaN        NaN   \n",
       "2                         NaN                              NaN        NaN   \n",
       "3                         NaN                              NaN        NaN   \n",
       "4                         NaN                              NaN        NaN   \n",
       "\n",
       "  chlorophyl_100g carbon-footprint_100g nutrition-score-fr_100g  \\\n",
       "0             NaN                 125.0                    -1.0   \n",
       "1             NaN                   NaN                     NaN   \n",
       "2             NaN                   NaN                     NaN   \n",
       "3             NaN                   NaN                     NaN   \n",
       "4             NaN                   NaN                     NaN   \n",
       "\n",
       "  nutrition-score-uk_100g  \n",
       "0                    -1.0  \n",
       "1                     NaN  \n",
       "2                     NaN  \n",
       "3                     NaN  \n",
       "4                     NaN  \n",
       "\n",
       "[5 rows x 150 columns]"
      ]
     },
     "execution_count": 2,
     "metadata": {},
     "output_type": "execute_result"
    }
   ],
   "source": [
    "df = pd.read_csv(\"openfoodfacts_search.csv\", sep = '\\t')\n",
    "df.head()"
   ]
  },
  {
   "cell_type": "code",
   "execution_count": 3,
   "metadata": {
    "collapsed": false
   },
   "outputs": [],
   "source": [
    "###it apppears that pandas is truncating some data.  let's change that\n",
    "pd.set_option('display.max_colwidth', -1)"
   ]
  },
  {
   "cell_type": "code",
   "execution_count": 4,
   "metadata": {
    "collapsed": false
   },
   "outputs": [
    {
     "data": {
      "text/html": [
       "<div>\n",
       "<table border=\"1\" class=\"dataframe\">\n",
       "  <thead>\n",
       "    <tr style=\"text-align: right;\">\n",
       "      <th></th>\n",
       "      <th>code</th>\n",
       "      <th>url</th>\n",
       "      <th>creator</th>\n",
       "      <th>created_t</th>\n",
       "      <th>last_modified_t</th>\n",
       "      <th>product_name</th>\n",
       "      <th>generic_name</th>\n",
       "      <th>quantity</th>\n",
       "      <th>packaging</th>\n",
       "      <th>packaging_tags</th>\n",
       "      <th>...</th>\n",
       "      <th>caffeine_100g</th>\n",
       "      <th>taurine_100g</th>\n",
       "      <th>ph_100g</th>\n",
       "      <th>fruits-vegetables-nuts_100g</th>\n",
       "      <th>collagen-meat-protein-ratio_100g</th>\n",
       "      <th>cocoa_100g</th>\n",
       "      <th>chlorophyl_100g</th>\n",
       "      <th>carbon-footprint_100g</th>\n",
       "      <th>nutrition-score-fr_100g</th>\n",
       "      <th>nutrition-score-uk_100g</th>\n",
       "    </tr>\n",
       "  </thead>\n",
       "  <tbody>\n",
       "    <tr>\n",
       "      <th>0</th>\n",
       "      <td>5010092093045</td>\n",
       "      <td>http://world.openfoodfacts.org/product/5010092093045</td>\n",
       "      <td>bcatelin</td>\n",
       "      <td>1389309305</td>\n",
       "      <td>1461479010</td>\n",
       "      <td>Soft white</td>\n",
       "      <td>White bread</td>\n",
       "      <td>800g</td>\n",
       "      <td>Plastic bag</td>\n",
       "      <td>plastic-bag</td>\n",
       "      <td>...</td>\n",
       "      <td>NaN</td>\n",
       "      <td>NaN</td>\n",
       "      <td>NaN</td>\n",
       "      <td>NaN</td>\n",
       "      <td>NaN</td>\n",
       "      <td>NaN</td>\n",
       "      <td>NaN</td>\n",
       "      <td>125.0</td>\n",
       "      <td>-1.0</td>\n",
       "      <td>-1.0</td>\n",
       "    </tr>\n",
       "    <tr>\n",
       "      <th>1</th>\n",
       "      <td>44000030377</td>\n",
       "      <td>http://world.openfoodfacts.org/product/0044000030377</td>\n",
       "      <td>openfoodfacts-contributors</td>\n",
       "      <td>1385850411</td>\n",
       "      <td>1459174448</td>\n",
       "      <td>Wheat Thins Original</td>\n",
       "      <td>NaN</td>\n",
       "      <td>258g</td>\n",
       "      <td>NaN</td>\n",
       "      <td>NaN</td>\n",
       "      <td>...</td>\n",
       "      <td>NaN</td>\n",
       "      <td>NaN</td>\n",
       "      <td>NaN</td>\n",
       "      <td>NaN</td>\n",
       "      <td>NaN</td>\n",
       "      <td>NaN</td>\n",
       "      <td>NaN</td>\n",
       "      <td>NaN</td>\n",
       "      <td>NaN</td>\n",
       "      <td>NaN</td>\n",
       "    </tr>\n",
       "    <tr>\n",
       "      <th>2</th>\n",
       "      <td>7832309</td>\n",
       "      <td>http://world.openfoodfacts.org/product/07832309</td>\n",
       "      <td>openfoodfacts-contributors</td>\n",
       "      <td>1403210081</td>\n",
       "      <td>1458995984</td>\n",
       "      <td>Diet Dr Pepper</td>\n",
       "      <td>NaN</td>\n",
       "      <td>NaN</td>\n",
       "      <td>can</td>\n",
       "      <td>can</td>\n",
       "      <td>...</td>\n",
       "      <td>NaN</td>\n",
       "      <td>NaN</td>\n",
       "      <td>NaN</td>\n",
       "      <td>NaN</td>\n",
       "      <td>NaN</td>\n",
       "      <td>NaN</td>\n",
       "      <td>NaN</td>\n",
       "      <td>NaN</td>\n",
       "      <td>NaN</td>\n",
       "      <td>NaN</td>\n",
       "    </tr>\n",
       "    <tr>\n",
       "      <th>3</th>\n",
       "      <td>5099353000169</td>\n",
       "      <td>http://world.openfoodfacts.org/product/5099353000169</td>\n",
       "      <td>bcatelin</td>\n",
       "      <td>1385926289</td>\n",
       "      <td>1413659845</td>\n",
       "      <td>Eggs</td>\n",
       "      <td>Eggs</td>\n",
       "      <td>6</td>\n",
       "      <td>Cardbox</td>\n",
       "      <td>cardbox</td>\n",
       "      <td>...</td>\n",
       "      <td>NaN</td>\n",
       "      <td>NaN</td>\n",
       "      <td>NaN</td>\n",
       "      <td>NaN</td>\n",
       "      <td>NaN</td>\n",
       "      <td>NaN</td>\n",
       "      <td>NaN</td>\n",
       "      <td>NaN</td>\n",
       "      <td>NaN</td>\n",
       "      <td>NaN</td>\n",
       "    </tr>\n",
       "    <tr>\n",
       "      <th>4</th>\n",
       "      <td>82592720153</td>\n",
       "      <td>http://world.openfoodfacts.org/product/0082592720153</td>\n",
       "      <td>openfoodfacts-contributors</td>\n",
       "      <td>1389308826</td>\n",
       "      <td>1459174499</td>\n",
       "      <td>Green Machine</td>\n",
       "      <td>NaN</td>\n",
       "      <td>15.2 fl. oz (450 mL)</td>\n",
       "      <td>NaN</td>\n",
       "      <td>NaN</td>\n",
       "      <td>...</td>\n",
       "      <td>NaN</td>\n",
       "      <td>NaN</td>\n",
       "      <td>NaN</td>\n",
       "      <td>NaN</td>\n",
       "      <td>NaN</td>\n",
       "      <td>NaN</td>\n",
       "      <td>NaN</td>\n",
       "      <td>NaN</td>\n",
       "      <td>NaN</td>\n",
       "      <td>NaN</td>\n",
       "    </tr>\n",
       "  </tbody>\n",
       "</table>\n",
       "<p>5 rows × 150 columns</p>\n",
       "</div>"
      ],
      "text/plain": [
       "            code                                                   url  \\\n",
       "0  5010092093045  http://world.openfoodfacts.org/product/5010092093045   \n",
       "1  44000030377    http://world.openfoodfacts.org/product/0044000030377   \n",
       "2  7832309        http://world.openfoodfacts.org/product/07832309        \n",
       "3  5099353000169  http://world.openfoodfacts.org/product/5099353000169   \n",
       "4  82592720153    http://world.openfoodfacts.org/product/0082592720153   \n",
       "\n",
       "                      creator   created_t  last_modified_t  \\\n",
       "0  bcatelin                    1389309305  1461479010        \n",
       "1  openfoodfacts-contributors  1385850411  1459174448        \n",
       "2  openfoodfacts-contributors  1403210081  1458995984        \n",
       "3  bcatelin                    1385926289  1413659845        \n",
       "4  openfoodfacts-contributors  1389308826  1459174499        \n",
       "\n",
       "           product_name generic_name              quantity    packaging  \\\n",
       "0  Soft white            White bread  800g                  Plastic bag   \n",
       "1  Wheat Thins Original  NaN          258g                  NaN           \n",
       "2  Diet Dr Pepper        NaN          NaN                   can           \n",
       "3  Eggs                  Eggs         6                     Cardbox       \n",
       "4  Green Machine         NaN          15.2 fl. oz (450 mL)  NaN           \n",
       "\n",
       "  packaging_tags           ...           caffeine_100g taurine_100g ph_100g  \\\n",
       "0  plastic-bag             ...           NaN           NaN          NaN       \n",
       "1  NaN                     ...           NaN           NaN          NaN       \n",
       "2  can                     ...           NaN           NaN          NaN       \n",
       "3  cardbox                 ...           NaN           NaN          NaN       \n",
       "4  NaN                     ...           NaN           NaN          NaN       \n",
       "\n",
       "  fruits-vegetables-nuts_100g collagen-meat-protein-ratio_100g cocoa_100g  \\\n",
       "0 NaN                         NaN                              NaN          \n",
       "1 NaN                         NaN                              NaN          \n",
       "2 NaN                         NaN                              NaN          \n",
       "3 NaN                         NaN                              NaN          \n",
       "4 NaN                         NaN                              NaN          \n",
       "\n",
       "  chlorophyl_100g carbon-footprint_100g nutrition-score-fr_100g  \\\n",
       "0 NaN              125.0                -1.0                      \n",
       "1 NaN             NaN                   NaN                       \n",
       "2 NaN             NaN                   NaN                       \n",
       "3 NaN             NaN                   NaN                       \n",
       "4 NaN             NaN                   NaN                       \n",
       "\n",
       "  nutrition-score-uk_100g  \n",
       "0 -1.0                     \n",
       "1 NaN                      \n",
       "2 NaN                      \n",
       "3 NaN                      \n",
       "4 NaN                      \n",
       "\n",
       "[5 rows x 150 columns]"
      ]
     },
     "execution_count": 4,
     "metadata": {},
     "output_type": "execute_result"
    }
   ],
   "source": [
    "df.head()"
   ]
  },
  {
   "cell_type": "code",
   "execution_count": 5,
   "metadata": {
    "collapsed": false
   },
   "outputs": [
    {
     "data": {
      "text/plain": [
       "['code',\n",
       " 'url',\n",
       " 'creator',\n",
       " 'created_t',\n",
       " 'last_modified_t',\n",
       " 'product_name',\n",
       " 'generic_name',\n",
       " 'quantity',\n",
       " 'packaging',\n",
       " 'packaging_tags',\n",
       " 'brands',\n",
       " 'brands_tags',\n",
       " 'categories',\n",
       " 'categories_tags',\n",
       " 'labels',\n",
       " 'labels_tags',\n",
       " 'origins',\n",
       " 'origins_tags',\n",
       " 'manufacturing_places',\n",
       " 'manufacturing_places_tags',\n",
       " 'emb_codes',\n",
       " 'emb_codes_tags',\n",
       " 'cities',\n",
       " 'cities_tags',\n",
       " 'purchase_places',\n",
       " 'stores',\n",
       " 'countries',\n",
       " 'ingredients_text',\n",
       " 'allergens',\n",
       " 'allergens_tags',\n",
       " 'traces',\n",
       " 'traces_tags',\n",
       " 'serving_size',\n",
       " 'no_nutriments',\n",
       " 'additives_n',\n",
       " 'additives',\n",
       " 'additives_tags',\n",
       " 'ingredients_from_palm_oil_n',\n",
       " 'ingredients_from_palm_oil',\n",
       " 'ingredients_from_palm_oil_tags',\n",
       " 'ingredients_that_may_be_from_palm_oil_n',\n",
       " 'ingredients_that_may_be_from_palm_oil',\n",
       " 'ingredients_that_may_be_from_palm_oil_tags',\n",
       " 'pnns_groups_1',\n",
       " 'pnns_groups_2',\n",
       " 'main_category',\n",
       " 'image_url',\n",
       " 'image_small_url',\n",
       " 'image_front_url',\n",
       " 'image_front_small_url',\n",
       " 'image_ingredients_url',\n",
       " 'image_ingredients_small_url',\n",
       " 'image_nutrition_url',\n",
       " 'image_nutrition_small_url',\n",
       " 'energy_100g',\n",
       " 'energy-from-fat_100g',\n",
       " 'fat_100g',\n",
       " 'saturated-fat_100g',\n",
       " '-butyric-acid_100g',\n",
       " '-caproic-acid_100g',\n",
       " '-caprylic-acid_100g',\n",
       " '-capric-acid_100g',\n",
       " '-lauric-acid_100g',\n",
       " '-myristic-acid_100g',\n",
       " '-palmitic-acid_100g',\n",
       " '-stearic-acid_100g',\n",
       " '-arachidic-acid_100g',\n",
       " '-behenic-acid_100g',\n",
       " '-lignoceric-acid_100g',\n",
       " '-cerotic-acid_100g',\n",
       " '-montanic-acid_100g',\n",
       " '-melissic-acid_100g',\n",
       " 'monounsaturated-fat_100g',\n",
       " 'polyunsaturated-fat_100g',\n",
       " 'omega-3-fat_100g',\n",
       " '-alpha-linolenic-acid_100g',\n",
       " '-eicosapentaenoic-acid_100g',\n",
       " '-docosahexaenoic-acid_100g',\n",
       " 'omega-6-fat_100g',\n",
       " '-linoleic-acid_100g',\n",
       " '-arachidonic-acid_100g',\n",
       " '-gamma-linolenic-acid_100g',\n",
       " '-dihomo-gamma-linolenic-acid_100g',\n",
       " 'omega-9-fat_100g',\n",
       " '-oleic-acid_100g',\n",
       " '-elaidic-acid_100g',\n",
       " '-gondoic-acid_100g',\n",
       " '-mead-acid_100g',\n",
       " '-erucic-acid_100g',\n",
       " '-nervonic-acid_100g',\n",
       " 'trans-fat_100g',\n",
       " 'cholesterol_100g',\n",
       " 'carbohydrates_100g',\n",
       " 'sugars_100g',\n",
       " '-sucrose_100g',\n",
       " '-glucose_100g',\n",
       " '-fructose_100g',\n",
       " '-lactose_100g',\n",
       " '-maltose_100g',\n",
       " '-maltodextrins_100g',\n",
       " 'starch_100g',\n",
       " 'polyols_100g',\n",
       " 'fiber_100g',\n",
       " 'proteins_100g',\n",
       " 'casein_100g',\n",
       " 'serum-proteins_100g',\n",
       " 'nucleotides_100g',\n",
       " 'salt_100g',\n",
       " 'sodium_100g',\n",
       " 'alcohol_100g',\n",
       " 'vitamin-a_100g',\n",
       " 'beta-carotene_100g',\n",
       " 'vitamin-d_100g',\n",
       " 'vitamin-e_100g',\n",
       " 'vitamin-k_100g',\n",
       " 'vitamin-c_100g',\n",
       " 'vitamin-b1_100g',\n",
       " 'vitamin-b2_100g',\n",
       " 'vitamin-pp_100g',\n",
       " 'vitamin-b6_100g',\n",
       " 'vitamin-b9_100g',\n",
       " 'vitamin-b12_100g',\n",
       " 'biotin_100g',\n",
       " 'pantothenic-acid_100g',\n",
       " 'silica_100g',\n",
       " 'bicarbonate_100g',\n",
       " 'potassium_100g',\n",
       " 'chloride_100g',\n",
       " 'calcium_100g',\n",
       " 'phosphorus_100g',\n",
       " 'iron_100g',\n",
       " 'magnesium_100g',\n",
       " 'zinc_100g',\n",
       " 'copper_100g',\n",
       " 'manganese_100g',\n",
       " 'fluoride_100g',\n",
       " 'selenium_100g',\n",
       " 'chromium_100g',\n",
       " 'molybdenum_100g',\n",
       " 'iodine_100g',\n",
       " 'caffeine_100g',\n",
       " 'taurine_100g',\n",
       " 'ph_100g',\n",
       " 'fruits-vegetables-nuts_100g',\n",
       " 'collagen-meat-protein-ratio_100g',\n",
       " 'cocoa_100g',\n",
       " 'chlorophyl_100g',\n",
       " 'carbon-footprint_100g',\n",
       " 'nutrition-score-fr_100g',\n",
       " 'nutrition-score-uk_100g']"
      ]
     },
     "execution_count": 5,
     "metadata": {},
     "output_type": "execute_result"
    }
   ],
   "source": [
    "list(df.columns)"
   ]
  },
  {
   "cell_type": "code",
   "execution_count": 6,
   "metadata": {
    "collapsed": false
   },
   "outputs": [
    {
     "data": {
      "text/plain": [
       "0    1007.0\n",
       "1   NaN    \n",
       "2   NaN    \n",
       "3   NaN    \n",
       "4    244.0 \n",
       "Name: energy_100g, dtype: float64"
      ]
     },
     "execution_count": 6,
     "metadata": {},
     "output_type": "execute_result"
    }
   ],
   "source": [
    "df['energy_100g'].head()"
   ]
  },
  {
   "cell_type": "code",
   "execution_count": 7,
   "metadata": {
    "collapsed": false
   },
   "outputs": [
    {
     "data": {
      "text/plain": [
       "0    44.6\n",
       "1   NaN  \n",
       "2   NaN  \n",
       "3   NaN  \n",
       "4    13.8\n",
       "Name: carbohydrates_100g, dtype: float64"
      ]
     },
     "execution_count": 7,
     "metadata": {},
     "output_type": "execute_result"
    }
   ],
   "source": [
    "df['carbohydrates_100g'].head()"
   ]
  },
  {
   "cell_type": "code",
   "execution_count": 8,
   "metadata": {
    "collapsed": false
   },
   "outputs": [
    {
     "data": {
      "text/plain": [
       "1292"
      ]
     },
     "execution_count": 8,
     "metadata": {},
     "output_type": "execute_result"
    }
   ],
   "source": [
    "df['carbohydrates_100g'].count()"
   ]
  },
  {
   "cell_type": "code",
   "execution_count": 9,
   "metadata": {
    "collapsed": false
   },
   "outputs": [
    {
     "data": {
      "text/plain": [
       "1295"
      ]
     },
     "execution_count": 9,
     "metadata": {},
     "output_type": "execute_result"
    }
   ],
   "source": [
    "df['fat_100g'].count()"
   ]
  },
  {
   "cell_type": "code",
   "execution_count": 10,
   "metadata": {
    "collapsed": false
   },
   "outputs": [
    {
     "data": {
      "text/plain": [
       "1284"
      ]
     },
     "execution_count": 10,
     "metadata": {},
     "output_type": "execute_result"
    }
   ],
   "source": [
    "df['proteins_100g'].count()"
   ]
  },
  {
   "cell_type": "code",
   "execution_count": 11,
   "metadata": {
    "collapsed": false
   },
   "outputs": [
    {
     "data": {
      "text/plain": [
       "1283"
      ]
     },
     "execution_count": 11,
     "metadata": {},
     "output_type": "execute_result"
    }
   ],
   "source": [
    "df['energy_100g'].count()"
   ]
  },
  {
   "cell_type": "code",
   "execution_count": 12,
   "metadata": {
    "collapsed": false
   },
   "outputs": [
    {
     "data": {
      "text/plain": [
       "code                  36632036506                                         \n",
       "url                   http://world.openfoodfacts.org/product/0036632036506\n",
       "product_name          Activia light blueberry                             \n",
       "energy_100g           222                                                 \n",
       "carbohydrates_100g    9.73                                                \n",
       "fat_100g              0                                                   \n",
       "proteins_100g         3.54                                                \n",
       "serving_size          1 container (113g)                                  \n",
       "Name: 20, dtype: object"
      ]
     },
     "execution_count": 12,
     "metadata": {},
     "output_type": "execute_result"
    }
   ],
   "source": [
    "###verify the nutrition facts add up with the manufacturer's data\n",
    "### it appears from the site's documentation that \n",
    "###http://world.openfoodfacts.org/data/data-fields.txt\n",
    "###[nutrient]_100gr is nutrients per 100gr or mL\n",
    "###step 1, grab data for an identifable product\n",
    "\n",
    "df[['code', 'url', 'product_name', 'energy_100g','carbohydrates_100g', \n",
    "    'fat_100g', 'proteins_100g','serving_size']].iloc[20]"
   ]
  },
  {
   "cell_type": "code",
   "execution_count": 13,
   "metadata": {
    "collapsed": false
   },
   "outputs": [
    {
     "data": {
      "text/html": [
       "<div>\n",
       "<table border=\"1\" class=\"dataframe\">\n",
       "  <thead>\n",
       "    <tr style=\"text-align: right;\">\n",
       "      <th></th>\n",
       "      <th>per serving (113g)</th>\n",
       "      <th>Calories from Fat</th>\n",
       "    </tr>\n",
       "    <tr>\n",
       "      <th>Nutritional Facts</th>\n",
       "      <th></th>\n",
       "      <th></th>\n",
       "    </tr>\n",
       "  </thead>\n",
       "  <tbody>\n",
       "    <tr>\n",
       "      <th>NaN</th>\n",
       "      <td>NaN</td>\n",
       "      <td>% Daily Value*</td>\n",
       "    </tr>\n",
       "    <tr>\n",
       "      <th>Calories</th>\n",
       "      <td>60</td>\n",
       "      <td>0</td>\n",
       "    </tr>\n",
       "    <tr>\n",
       "      <th>Total Fat</th>\n",
       "      <td>0g</td>\n",
       "      <td>0%</td>\n",
       "    </tr>\n",
       "    <tr>\n",
       "      <th>Saturated Fat</th>\n",
       "      <td>0g</td>\n",
       "      <td>0%</td>\n",
       "    </tr>\n",
       "    <tr>\n",
       "      <th>Trans Fat</th>\n",
       "      <td>0g</td>\n",
       "      <td>NaN</td>\n",
       "    </tr>\n",
       "    <tr>\n",
       "      <th>Cholesterol</th>\n",
       "      <td>&lt;5mg</td>\n",
       "      <td>1%</td>\n",
       "    </tr>\n",
       "    <tr>\n",
       "      <th>Sodium</th>\n",
       "      <td>65mg</td>\n",
       "      <td>3%</td>\n",
       "    </tr>\n",
       "    <tr>\n",
       "      <th>Potassium</th>\n",
       "      <td>200mg</td>\n",
       "      <td>6%</td>\n",
       "    </tr>\n",
       "    <tr>\n",
       "      <th>Total Carbohydrate</th>\n",
       "      <td>11g</td>\n",
       "      <td>4%</td>\n",
       "    </tr>\n",
       "    <tr>\n",
       "      <th>Dietary Fiber</th>\n",
       "      <td>2g</td>\n",
       "      <td>8%</td>\n",
       "    </tr>\n",
       "    <tr>\n",
       "      <th>Sugars</th>\n",
       "      <td>7g</td>\n",
       "      <td>NaN</td>\n",
       "    </tr>\n",
       "    <tr>\n",
       "      <th>Protein</th>\n",
       "      <td>4g</td>\n",
       "      <td>8%</td>\n",
       "    </tr>\n",
       "    <tr>\n",
       "      <th>Vitamin A</th>\n",
       "      <td>NaN</td>\n",
       "      <td>0%</td>\n",
       "    </tr>\n",
       "    <tr>\n",
       "      <th>Vitamin C</th>\n",
       "      <td>NaN</td>\n",
       "      <td>0%</td>\n",
       "    </tr>\n",
       "    <tr>\n",
       "      <th>Calcium</th>\n",
       "      <td>NaN</td>\n",
       "      <td>15%</td>\n",
       "    </tr>\n",
       "    <tr>\n",
       "      <th>Iron</th>\n",
       "      <td>NaN</td>\n",
       "      <td>0%</td>\n",
       "    </tr>\n",
       "  </tbody>\n",
       "</table>\n",
       "</div>"
      ],
      "text/plain": [
       "                   per serving (113g) Calories from Fat \n",
       "Nutritional Facts                                       \n",
       "NaN                 NaN                % Daily Value*   \n",
       "Calories            60                 0                \n",
       "Total Fat           0g                 0%               \n",
       "Saturated Fat       0g                 0%               \n",
       "Trans Fat           0g                 NaN              \n",
       "Cholesterol         <5mg               1%               \n",
       "Sodium              65mg               3%               \n",
       "Potassium           200mg              6%               \n",
       "Total Carbohydrate  11g                4%               \n",
       "Dietary Fiber       2g                 8%               \n",
       "Sugars              7g                 NaN              \n",
       "Protein             4g                 8%               \n",
       "Vitamin A           NaN                0%               \n",
       "Vitamin C           NaN                0%               \n",
       "Calcium             NaN                15%              \n",
       "Iron                NaN                0%               "
      ]
     },
     "execution_count": 13,
     "metadata": {},
     "output_type": "execute_result"
    }
   ],
   "source": [
    "#step 2: verify the data on the site's own product page\n",
    "import html5lib\n",
    "site = 'http://www.activia.us.com/probiotic-yogurt/products/activia-light-blueberry'\n",
    "blueberry_yougurt = pd.read_html(site)[0].set_index('Nutritional Facts')\n",
    "blueberry_yougurt"
   ]
  },
  {
   "cell_type": "code",
   "execution_count": 14,
   "metadata": {
    "collapsed": false
   },
   "outputs": [
    {
     "name": "stdout",
     "output_type": "stream",
     "text": [
      "3.5398230088495577\n",
      "9.734513274336283\n",
      "0.0\n"
     ]
    }
   ],
   "source": [
    "### the calroies(energy) does not look like it is 220 cals/100gr, but the carb/protein/fat ratio looks about right\n",
    "### verify the macronutrients per 100gr are equivalent to the food facts db:\n",
    "print(float(blueberry_yougurt.loc['Protein'][0].strip('g'))/1.13)\n",
    "print(float(blueberry_yougurt.loc['Total Carbohydrate'][0].strip('g'))/1.13)\n",
    "print(float(blueberry_yougurt.loc['Total Fat'][0].strip('g'))/1.13)"
   ]
  },
  {
   "cell_type": "code",
   "execution_count": 15,
   "metadata": {
    "collapsed": false
   },
   "outputs": [
    {
     "data": {
      "text/plain": [
       "code                  27000379097                                         \n",
       "url                   http://world.openfoodfacts.org/product/0027000379097\n",
       "product_name          Crushed tomatoes                                    \n",
       "energy_100g           155                                                 \n",
       "carbohydrates_100g    7.44                                                \n",
       "fat_100g              0                                                   \n",
       "proteins_100g         1.65                                                \n",
       "serving_size          121 g                                               \n",
       "Name: 1146, dtype: object"
      ]
     },
     "execution_count": 15,
     "metadata": {},
     "output_type": "execute_result"
    }
   ],
   "source": [
    "###the total macronutrients per 100 grams posted in the food facts db roughly matches what is posted on the product's\n",
    "###own site.  Let's check anoother product, this time at random:\n",
    "np.random.seed(4)\n",
    "df[['code', 'url', 'product_name', 'energy_100g','carbohydrates_100g', \n",
    "    'fat_100g', 'proteins_100g','serving_size']].iloc[np.random.randint(0,len(df))]"
   ]
  },
  {
   "cell_type": "code",
   "execution_count": 16,
   "metadata": {
    "collapsed": false
   },
   "outputs": [
    {
     "data": {
      "text/html": [
       "<div>\n",
       "<table border=\"1\" class=\"dataframe\">\n",
       "  <thead>\n",
       "    <tr style=\"text-align: right;\">\n",
       "      <th></th>\n",
       "      <th>0</th>\n",
       "      <th>1</th>\n",
       "      <th>2</th>\n",
       "    </tr>\n",
       "  </thead>\n",
       "  <tbody>\n",
       "    <tr>\n",
       "      <th>0</th>\n",
       "      <td>Nutrition Facts</td>\n",
       "      <td>NaN</td>\n",
       "      <td>NaN</td>\n",
       "    </tr>\n",
       "    <tr>\n",
       "      <th>1</th>\n",
       "      <td>Serving Size  1/2 cup (121g)</td>\n",
       "      <td>NaN</td>\n",
       "      <td>NaN</td>\n",
       "    </tr>\n",
       "    <tr>\n",
       "      <th>2</th>\n",
       "      <td>Servings Per Container about 7</td>\n",
       "      <td>NaN</td>\n",
       "      <td>NaN</td>\n",
       "    </tr>\n",
       "    <tr>\n",
       "      <th>3</th>\n",
       "      <td>NaN</td>\n",
       "      <td>NaN</td>\n",
       "      <td>NaN</td>\n",
       "    </tr>\n",
       "    <tr>\n",
       "      <th>4</th>\n",
       "      <td>Amount Per Serving</td>\n",
       "      <td>NaN</td>\n",
       "      <td>NaN</td>\n",
       "    </tr>\n",
       "    <tr>\n",
       "      <th>5</th>\n",
       "      <td>Calories 45Calories from Fat 0</td>\n",
       "      <td>NaN</td>\n",
       "      <td>NaN</td>\n",
       "    </tr>\n",
       "    <tr>\n",
       "      <th>6</th>\n",
       "      <td>NaN</td>\n",
       "      <td>NaN</td>\n",
       "      <td>NaN</td>\n",
       "    </tr>\n",
       "    <tr>\n",
       "      <th>7</th>\n",
       "      <td>NaN</td>\n",
       "      <td>% Daily Value*</td>\n",
       "      <td>NaN</td>\n",
       "    </tr>\n",
       "    <tr>\n",
       "      <th>8</th>\n",
       "      <td>Total Fat 0g</td>\n",
       "      <td>0%</td>\n",
       "      <td>NaN</td>\n",
       "    </tr>\n",
       "    <tr>\n",
       "      <th>9</th>\n",
       "      <td>NaN</td>\n",
       "      <td>Saturated Fat 0g</td>\n",
       "      <td>0%</td>\n",
       "    </tr>\n",
       "    <tr>\n",
       "      <th>10</th>\n",
       "      <td>NaN</td>\n",
       "      <td>Trans Fat 0g</td>\n",
       "      <td>NaN</td>\n",
       "    </tr>\n",
       "    <tr>\n",
       "      <th>11</th>\n",
       "      <td>Cholesterol 0mg</td>\n",
       "      <td>0%</td>\n",
       "      <td>NaN</td>\n",
       "    </tr>\n",
       "    <tr>\n",
       "      <th>12</th>\n",
       "      <td>Sodium 210mg</td>\n",
       "      <td>9%</td>\n",
       "      <td>NaN</td>\n",
       "    </tr>\n",
       "    <tr>\n",
       "      <th>13</th>\n",
       "      <td>Potassium 370mg</td>\n",
       "      <td>11%</td>\n",
       "      <td>NaN</td>\n",
       "    </tr>\n",
       "    <tr>\n",
       "      <th>14</th>\n",
       "      <td>Total Carbohydrate 9g</td>\n",
       "      <td>3%</td>\n",
       "      <td>NaN</td>\n",
       "    </tr>\n",
       "    <tr>\n",
       "      <th>15</th>\n",
       "      <td>NaN</td>\n",
       "      <td>Dietary Fiber 3g</td>\n",
       "      <td>12%</td>\n",
       "    </tr>\n",
       "    <tr>\n",
       "      <th>16</th>\n",
       "      <td>NaN</td>\n",
       "      <td>Sugars 4g</td>\n",
       "      <td>NaN</td>\n",
       "    </tr>\n",
       "    <tr>\n",
       "      <th>17</th>\n",
       "      <td>Protein 2g</td>\n",
       "      <td>NaN</td>\n",
       "      <td>NaN</td>\n",
       "    </tr>\n",
       "  </tbody>\n",
       "</table>\n",
       "</div>"
      ],
      "text/plain": [
       "                                 0                 1    2\n",
       "0   Nutrition Facts                 NaN               NaN\n",
       "1   Serving Size  1/2 cup (121g)    NaN               NaN\n",
       "2   Servings Per Container about 7  NaN               NaN\n",
       "3   NaN                             NaN               NaN\n",
       "4   Amount Per Serving              NaN               NaN\n",
       "5   Calories 45Calories from Fat 0  NaN               NaN\n",
       "6   NaN                             NaN               NaN\n",
       "7   NaN                             % Daily Value*    NaN\n",
       "8   Total Fat 0g                    0%                NaN\n",
       "9   NaN                             Saturated Fat 0g  0% \n",
       "10  NaN                             Trans Fat 0g      NaN\n",
       "11  Cholesterol 0mg                 0%                NaN\n",
       "12  Sodium 210mg                    9%                NaN\n",
       "13  Potassium 370mg                 11%               NaN\n",
       "14  Total Carbohydrate 9g           3%                NaN\n",
       "15  NaN                             Dietary Fiber 3g  12%\n",
       "16  NaN                             Sugars 4g         NaN\n",
       "17  Protein 2g                      NaN               NaN"
      ]
     },
     "execution_count": 16,
     "metadata": {},
     "output_type": "execute_result"
    }
   ],
   "source": [
    "site = 'http://www.hunts.com/nutrition-label?upc=2700037909&inline=false'\n",
    "hunts_tomatoes = pd.read_html(site)\n",
    "hunts_tomatoes[1]"
   ]
  },
  {
   "cell_type": "code",
   "execution_count": 17,
   "metadata": {
    "collapsed": false
   },
   "outputs": [
    {
     "name": "stdout",
     "output_type": "stream",
     "text": [
      "carbs:  7.43801652892562 protein:  1.6528925619834711 cals:  37.1900826446281\n"
     ]
    }
   ],
   "source": [
    "###this product's label isn't as nicely formattted, but we can get some information from it\n",
    "#per 121 grams, there are 0 grams of fat, 9 gr of carbohydrate, and 2 gr of protein\n",
    "carbs_per_100g = 9/1.21\n",
    "protein_per_100g = 2/1.21\n",
    "cals_per_100gr = 45/1.21\n",
    "print('carbs: ',carbs_per_100g, 'protein: ', protein_per_100g, 'cals: ', cals_per_100gr)"
   ]
  },
  {
   "cell_type": "code",
   "execution_count": 18,
   "metadata": {
    "collapsed": false
   },
   "outputs": [],
   "source": [
    "###again, we have parity except with the energy field.  \n",
    "### it would make the most sense to add in a new calculated field that looks at total calories per 100 gr.\n",
    "###Calories is a function of the macro nutrients and can be found using basic algebra\n",
    "### cals = 9*fat + 4* protein + 4*carbohydrates + 7*alcohol\n",
    "###  let's add in the correctd calories per 100 grams\n",
    "def cals(w, x, y):\n",
    "    return (9*w) + (4*(x + y))\n",
    "\n",
    "df['calories_100g'] = np.vectorize(cals)(df['fat_100g'], df['proteins_100g'], df['carbohydrates_100g'])\n",
    "\n",
    "\n",
    "\n"
   ]
  },
  {
   "cell_type": "code",
   "execution_count": 19,
   "metadata": {
    "collapsed": false
   },
   "outputs": [
    {
     "data": {
      "text/plain": [
       "code                  36632036506                                         \n",
       "url                   http://world.openfoodfacts.org/product/0036632036506\n",
       "product_name          Activia light blueberry                             \n",
       "energy_100g           222                                                 \n",
       "carbohydrates_100g    9.73                                                \n",
       "fat_100g              0                                                   \n",
       "proteins_100g         3.54                                                \n",
       "serving_size          1 container (113g)                                  \n",
       "calories_100g         53.08                                               \n",
       "Name: 20, dtype: object"
      ]
     },
     "execution_count": 19,
     "metadata": {},
     "output_type": "execute_result"
    }
   ],
   "source": [
    "#verify against a known product:\n",
    "df[['code', 'url', 'product_name', 'energy_100g','carbohydrates_100g', \n",
    "    'fat_100g', 'proteins_100g','serving_size', 'calories_100g']].iloc[20]\n"
   ]
  },
  {
   "cell_type": "code",
   "execution_count": 20,
   "metadata": {
    "collapsed": false
   },
   "outputs": [
    {
     "data": {
      "text/plain": [
       "59.980399999999996"
      ]
     },
     "execution_count": 20,
     "metadata": {},
     "output_type": "execute_result"
    }
   ],
   "source": [
    "df['calories_100g'].iloc[20]*1.13"
   ]
  },
  {
   "cell_type": "code",
   "execution_count": 21,
   "metadata": {
    "collapsed": false
   },
   "outputs": [
    {
     "data": {
      "text/html": [
       "<div>\n",
       "<table border=\"1\" class=\"dataframe\">\n",
       "  <thead>\n",
       "    <tr style=\"text-align: right;\">\n",
       "      <th></th>\n",
       "      <th>code</th>\n",
       "      <th>url</th>\n",
       "      <th>creator</th>\n",
       "      <th>created_t</th>\n",
       "      <th>last_modified_t</th>\n",
       "      <th>product_name</th>\n",
       "      <th>generic_name</th>\n",
       "      <th>quantity</th>\n",
       "      <th>packaging</th>\n",
       "      <th>packaging_tags</th>\n",
       "      <th>...</th>\n",
       "      <th>taurine_100g</th>\n",
       "      <th>ph_100g</th>\n",
       "      <th>fruits-vegetables-nuts_100g</th>\n",
       "      <th>collagen-meat-protein-ratio_100g</th>\n",
       "      <th>cocoa_100g</th>\n",
       "      <th>chlorophyl_100g</th>\n",
       "      <th>carbon-footprint_100g</th>\n",
       "      <th>nutrition-score-fr_100g</th>\n",
       "      <th>nutrition-score-uk_100g</th>\n",
       "      <th>calories_100g</th>\n",
       "    </tr>\n",
       "  </thead>\n",
       "  <tbody>\n",
       "    <tr>\n",
       "      <th>0</th>\n",
       "      <td>5010092093045</td>\n",
       "      <td>http://world.openfoodfacts.org/product/5010092093045</td>\n",
       "      <td>bcatelin</td>\n",
       "      <td>1389309305</td>\n",
       "      <td>1461479010</td>\n",
       "      <td>Soft white</td>\n",
       "      <td>White bread</td>\n",
       "      <td>800g</td>\n",
       "      <td>Plastic bag</td>\n",
       "      <td>plastic-bag</td>\n",
       "      <td>...</td>\n",
       "      <td>NaN</td>\n",
       "      <td>NaN</td>\n",
       "      <td>NaN</td>\n",
       "      <td>NaN</td>\n",
       "      <td>NaN</td>\n",
       "      <td>NaN</td>\n",
       "      <td>125.0</td>\n",
       "      <td>-1.0</td>\n",
       "      <td>-1.0</td>\n",
       "      <td>232.400</td>\n",
       "    </tr>\n",
       "    <tr>\n",
       "      <th>1</th>\n",
       "      <td>44000030377</td>\n",
       "      <td>http://world.openfoodfacts.org/product/0044000030377</td>\n",
       "      <td>openfoodfacts-contributors</td>\n",
       "      <td>1385850411</td>\n",
       "      <td>1459174448</td>\n",
       "      <td>Wheat Thins Original</td>\n",
       "      <td>NaN</td>\n",
       "      <td>258g</td>\n",
       "      <td>NaN</td>\n",
       "      <td>NaN</td>\n",
       "      <td>...</td>\n",
       "      <td>NaN</td>\n",
       "      <td>NaN</td>\n",
       "      <td>NaN</td>\n",
       "      <td>NaN</td>\n",
       "      <td>NaN</td>\n",
       "      <td>NaN</td>\n",
       "      <td>NaN</td>\n",
       "      <td>NaN</td>\n",
       "      <td>NaN</td>\n",
       "      <td>NaN</td>\n",
       "    </tr>\n",
       "    <tr>\n",
       "      <th>2</th>\n",
       "      <td>7832309</td>\n",
       "      <td>http://world.openfoodfacts.org/product/07832309</td>\n",
       "      <td>openfoodfacts-contributors</td>\n",
       "      <td>1403210081</td>\n",
       "      <td>1458995984</td>\n",
       "      <td>Diet Dr Pepper</td>\n",
       "      <td>NaN</td>\n",
       "      <td>NaN</td>\n",
       "      <td>can</td>\n",
       "      <td>can</td>\n",
       "      <td>...</td>\n",
       "      <td>NaN</td>\n",
       "      <td>NaN</td>\n",
       "      <td>NaN</td>\n",
       "      <td>NaN</td>\n",
       "      <td>NaN</td>\n",
       "      <td>NaN</td>\n",
       "      <td>NaN</td>\n",
       "      <td>NaN</td>\n",
       "      <td>NaN</td>\n",
       "      <td>NaN</td>\n",
       "    </tr>\n",
       "    <tr>\n",
       "      <th>3</th>\n",
       "      <td>5099353000169</td>\n",
       "      <td>http://world.openfoodfacts.org/product/5099353000169</td>\n",
       "      <td>bcatelin</td>\n",
       "      <td>1385926289</td>\n",
       "      <td>1413659845</td>\n",
       "      <td>Eggs</td>\n",
       "      <td>Eggs</td>\n",
       "      <td>6</td>\n",
       "      <td>Cardbox</td>\n",
       "      <td>cardbox</td>\n",
       "      <td>...</td>\n",
       "      <td>NaN</td>\n",
       "      <td>NaN</td>\n",
       "      <td>NaN</td>\n",
       "      <td>NaN</td>\n",
       "      <td>NaN</td>\n",
       "      <td>NaN</td>\n",
       "      <td>NaN</td>\n",
       "      <td>NaN</td>\n",
       "      <td>NaN</td>\n",
       "      <td>NaN</td>\n",
       "    </tr>\n",
       "    <tr>\n",
       "      <th>4</th>\n",
       "      <td>82592720153</td>\n",
       "      <td>http://world.openfoodfacts.org/product/0082592720153</td>\n",
       "      <td>openfoodfacts-contributors</td>\n",
       "      <td>1389308826</td>\n",
       "      <td>1459174499</td>\n",
       "      <td>Green Machine</td>\n",
       "      <td>NaN</td>\n",
       "      <td>15.2 fl. oz (450 mL)</td>\n",
       "      <td>NaN</td>\n",
       "      <td>NaN</td>\n",
       "      <td>...</td>\n",
       "      <td>NaN</td>\n",
       "      <td>NaN</td>\n",
       "      <td>NaN</td>\n",
       "      <td>NaN</td>\n",
       "      <td>NaN</td>\n",
       "      <td>NaN</td>\n",
       "      <td>NaN</td>\n",
       "      <td>NaN</td>\n",
       "      <td>NaN</td>\n",
       "      <td>58.532</td>\n",
       "    </tr>\n",
       "  </tbody>\n",
       "</table>\n",
       "<p>5 rows × 151 columns</p>\n",
       "</div>"
      ],
      "text/plain": [
       "            code                                                   url  \\\n",
       "0  5010092093045  http://world.openfoodfacts.org/product/5010092093045   \n",
       "1  44000030377    http://world.openfoodfacts.org/product/0044000030377   \n",
       "2  7832309        http://world.openfoodfacts.org/product/07832309        \n",
       "3  5099353000169  http://world.openfoodfacts.org/product/5099353000169   \n",
       "4  82592720153    http://world.openfoodfacts.org/product/0082592720153   \n",
       "\n",
       "                      creator   created_t  last_modified_t  \\\n",
       "0  bcatelin                    1389309305  1461479010        \n",
       "1  openfoodfacts-contributors  1385850411  1459174448        \n",
       "2  openfoodfacts-contributors  1403210081  1458995984        \n",
       "3  bcatelin                    1385926289  1413659845        \n",
       "4  openfoodfacts-contributors  1389308826  1459174499        \n",
       "\n",
       "           product_name generic_name              quantity    packaging  \\\n",
       "0  Soft white            White bread  800g                  Plastic bag   \n",
       "1  Wheat Thins Original  NaN          258g                  NaN           \n",
       "2  Diet Dr Pepper        NaN          NaN                   can           \n",
       "3  Eggs                  Eggs         6                     Cardbox       \n",
       "4  Green Machine         NaN          15.2 fl. oz (450 mL)  NaN           \n",
       "\n",
       "  packaging_tags      ...      taurine_100g ph_100g  \\\n",
       "0  plastic-bag        ...      NaN          NaN       \n",
       "1  NaN                ...      NaN          NaN       \n",
       "2  can                ...      NaN          NaN       \n",
       "3  cardbox            ...      NaN          NaN       \n",
       "4  NaN                ...      NaN          NaN       \n",
       "\n",
       "  fruits-vegetables-nuts_100g collagen-meat-protein-ratio_100g cocoa_100g  \\\n",
       "0 NaN                         NaN                              NaN          \n",
       "1 NaN                         NaN                              NaN          \n",
       "2 NaN                         NaN                              NaN          \n",
       "3 NaN                         NaN                              NaN          \n",
       "4 NaN                         NaN                              NaN          \n",
       "\n",
       "  chlorophyl_100g carbon-footprint_100g nutrition-score-fr_100g  \\\n",
       "0 NaN              125.0                -1.0                      \n",
       "1 NaN             NaN                   NaN                       \n",
       "2 NaN             NaN                   NaN                       \n",
       "3 NaN             NaN                   NaN                       \n",
       "4 NaN             NaN                   NaN                       \n",
       "\n",
       "  nutrition-score-uk_100g calories_100g  \n",
       "0 -1.0                     232.400       \n",
       "1 NaN                     NaN            \n",
       "2 NaN                     NaN            \n",
       "3 NaN                     NaN            \n",
       "4 NaN                      58.532        \n",
       "\n",
       "[5 rows x 151 columns]"
      ]
     },
     "execution_count": 21,
     "metadata": {},
     "output_type": "execute_result"
    }
   ],
   "source": [
    "###This value is nearly identical to the value listed for 113 grams on activia's website\n",
    "###it is safe to use this calorie value in place of the energy_100g field\n",
    "df.head()"
   ]
  },
  {
   "cell_type": "code",
   "execution_count": 22,
   "metadata": {
    "collapsed": false
   },
   "outputs": [
    {
     "name": "stderr",
     "output_type": "stream",
     "text": [
      "/Users/nicholeh/anaconda/lib/python3.5/site-packages/numpy/lib/function_base.py:3834: RuntimeWarning: Invalid value encountered in percentile\n",
      "  RuntimeWarning)\n"
     ]
    },
    {
     "data": {
      "text/plain": [
       "count    1270.000000\n",
       "mean     289.772217 \n",
       "std      201.152261 \n",
       "min      0.000000   \n",
       "25%     NaN         \n",
       "50%     NaN         \n",
       "75%     NaN         \n",
       "max      900.000000 \n",
       "Name: calories_100g, dtype: float64"
      ]
     },
     "execution_count": 22,
     "metadata": {},
     "output_type": "execute_result"
    }
   ],
   "source": [
    "df['calories_100g'].describe()"
   ]
  },
  {
   "cell_type": "code",
   "execution_count": 23,
   "metadata": {
    "collapsed": false
   },
   "outputs": [
    {
     "name": "stderr",
     "output_type": "stream",
     "text": [
      "/Users/nicholeh/anaconda/lib/python3.5/site-packages/numpy/lib/function_base.py:3834: RuntimeWarning: Invalid value encountered in percentile\n",
      "  RuntimeWarning)\n"
     ]
    },
    {
     "data": {
      "text/plain": [
       "count    1284.000000\n",
       "mean     6.568091   \n",
       "std      7.565550   \n",
       "min      0.000000   \n",
       "25%     NaN         \n",
       "50%     NaN         \n",
       "75%     NaN         \n",
       "max      70.000000  \n",
       "Name: proteins_100g, dtype: float64"
      ]
     },
     "execution_count": 23,
     "metadata": {},
     "output_type": "execute_result"
    }
   ],
   "source": [
    "df['proteins_100g'].describe()"
   ]
  },
  {
   "cell_type": "code",
   "execution_count": 24,
   "metadata": {
    "collapsed": false
   },
   "outputs": [
    {
     "name": "stderr",
     "output_type": "stream",
     "text": [
      "/Users/nicholeh/anaconda/lib/python3.5/site-packages/numpy/lib/function_base.py:3834: RuntimeWarning: Invalid value encountered in percentile\n",
      "  RuntimeWarning)\n"
     ]
    },
    {
     "data": {
      "text/plain": [
       "count    1295.000000\n",
       "mean     13.589666  \n",
       "std      18.440903  \n",
       "min      0.000000   \n",
       "25%     NaN         \n",
       "50%     NaN         \n",
       "75%     NaN         \n",
       "max      100.000000 \n",
       "Name: fat_100g, dtype: float64"
      ]
     },
     "execution_count": 24,
     "metadata": {},
     "output_type": "execute_result"
    }
   ],
   "source": [
    "df['fat_100g'].describe()"
   ]
  },
  {
   "cell_type": "code",
   "execution_count": 25,
   "metadata": {
    "collapsed": false
   },
   "outputs": [
    {
     "name": "stderr",
     "output_type": "stream",
     "text": [
      "/Users/nicholeh/anaconda/lib/python3.5/site-packages/numpy/lib/function_base.py:3834: RuntimeWarning: Invalid value encountered in percentile\n",
      "  RuntimeWarning)\n"
     ]
    },
    {
     "data": {
      "text/plain": [
       "count    1292.000000\n",
       "mean     35.559534  \n",
       "std      30.094423  \n",
       "min      0.000000   \n",
       "25%     NaN         \n",
       "50%     NaN         \n",
       "75%     NaN         \n",
       "max      120.000000 \n",
       "Name: carbohydrates_100g, dtype: float64"
      ]
     },
     "execution_count": 25,
     "metadata": {},
     "output_type": "execute_result"
    }
   ],
   "source": [
    "df['carbohydrates_100g'].describe()"
   ]
  },
  {
   "cell_type": "code",
   "execution_count": 103,
   "metadata": {
    "collapsed": true
   },
   "outputs": [],
   "source": [
    "###save the df with the new calories\n",
    "df.to_csv('groomed_food_facts_data.cs', sep = '\\t')"
   ]
  },
  {
   "cell_type": "code",
   "execution_count": 26,
   "metadata": {
    "collapsed": false
   },
   "outputs": [
    {
     "name": "stderr",
     "output_type": "stream",
     "text": [
      "/Users/nicholeh/anaconda/lib/python3.5/site-packages/numpy/lib/function_base.py:3834: RuntimeWarning: Invalid value encountered in percentile\n",
      "  RuntimeWarning)\n"
     ]
    },
    {
     "data": {
      "text/plain": [
       "count    1110.000000\n",
       "mean     8.779279   \n",
       "std      9.420778   \n",
       "min     -10.000000  \n",
       "25%     NaN         \n",
       "50%     NaN         \n",
       "75%     NaN         \n",
       "max      29.000000  \n",
       "Name: nutrition-score-uk_100g, dtype: float64"
      ]
     },
     "execution_count": 26,
     "metadata": {},
     "output_type": "execute_result"
    }
   ],
   "source": [
    "###according to the source material, the following score gives information the total nutritive value of a \n",
    "###product\n",
    "###nutrition-score-uk_100g\n",
    "###from the Food Standards Administration:\n",
    "###A food is classified as 'less healthy' where it scores 4 points or more.\n",
    "###A drink is classified as 'less healthy' where it scores 1 point or more. \n",
    "###so, a product's score is like golf; the lower the better\n",
    "###The score  can be verified using the information on this site:\n",
    "###http://www.food.gov.uk/sites/default/files/multimedia/pdfs/techguidenutprofiling.pdf\n",
    "df['nutrition-score-uk_100g'].describe()"
   ]
  },
  {
   "cell_type": "code",
   "execution_count": 27,
   "metadata": {
    "collapsed": false
   },
   "outputs": [
    {
     "data": {
      "text/plain": [
       "code                       36632036506                                         \n",
       "url                        http://world.openfoodfacts.org/product/0036632036506\n",
       "product_name               Activia light blueberry                             \n",
       "energy_100g                222                                                 \n",
       "carbohydrates_100g         9.73                                                \n",
       "fat_100g                   0                                                   \n",
       "proteins_100g              3.54                                                \n",
       "serving_size               1 container (113g)                                  \n",
       "calories_100g              53.08                                               \n",
       "nutrition-score-uk_100g   -3                                                   \n",
       "Name: 20, dtype: object"
      ]
     },
     "execution_count": 27,
     "metadata": {},
     "output_type": "execute_result"
    }
   ],
   "source": [
    "###let's check to see if a score exits for the yogurt example\n",
    "#verify against a known product:\n",
    "df[['code', 'url', 'product_name', 'energy_100g','carbohydrates_100g', \n",
    "    'fat_100g', 'proteins_100g','serving_size', 'calories_100g', 'nutrition-score-uk_100g']].iloc[20]"
   ]
  },
  {
   "cell_type": "code",
   "execution_count": 28,
   "metadata": {
    "collapsed": false
   },
   "outputs": [
    {
     "data": {
      "text/plain": [
       "1                                      60\n",
       "16 oz                                  17\n",
       "12 oz                                  16\n",
       "16 fl oz                               15\n",
       "12 oz (340 g)                          14\n",
       "12 fl oz                               14\n",
       "8 oz                                   13\n",
       "6 oz (170 g)                           11\n",
       "8 oz (227 g)                           11\n",
       "3.75 oz (106 g)                        11\n",
       "15 oz (425 g)                          11\n",
       "7 oz (198 g)                           10\n",
       "1 LB (454 g)                           10\n",
       "12 OZ (340 g)                          10\n",
       "6 oz                                   10\n",
       "100 g                                  9 \n",
       "2 L                                    9 \n",
       "1 lb                                   8 \n",
       "1 gallon (3.78 L)                      8 \n",
       "750 ML                                 8 \n",
       "10 oz                                  8 \n",
       "3 oz (85 g)                            7 \n",
       "500 ml                                 7 \n",
       "5 oz (142 g)                           7 \n",
       "340 g                                  7 \n",
       "3.5 OZ (100g)                          7 \n",
       "750 ml                                 7 \n",
       "1 serving                              7 \n",
       "450g                                   7 \n",
       "946 ml                                 6 \n",
       "                                      .. \n",
       "11.2 oz                                1 \n",
       "12 oz (340g)                           1 \n",
       "10 servings                            1 \n",
       "4 fl oz (118 mL)                       1 \n",
       "32 FL OZ, 945 ml                       1 \n",
       "14 FL OZ (414 mL)                      1 \n",
       "2.38 OZ.                               1 \n",
       "10 fl ounce, 295 ml                    1 \n",
       "360 g                                  1 \n",
       "13 oz (368 g)                          1 \n",
       "7.25 oz (206 g)                        1 \n",
       "3 fl. oz. (88 mL)                      1 \n",
       "2.25 oz (64 g)                         1 \n",
       "6 cans of 3.75 oz (6 x 106 g) 636 g    1 \n",
       "5 oz.                                  1 \n",
       "8 capsules                             1 \n",
       "408 g                                  1 \n",
       "450 ml (15.2 fl. oz.)                  1 \n",
       "2.25 OZ                                1 \n",
       "795g                                   1 \n",
       "12.2 oz (345 g)                        1 \n",
       "162g                                   1 \n",
       "19 servings                            1 \n",
       "6oz (170g)                             1 \n",
       "454 G                                  1 \n",
       "385g                                   1 \n",
       "340mL                                  1 \n",
       "19.8 OZ (1 LB 3.8 OZ) 561 g            1 \n",
       "3 OZ (85g)                             1 \n",
       "16 OZ (453g)                           1 \n",
       "Name: quantity, dtype: int64"
      ]
     },
     "execution_count": 28,
     "metadata": {},
     "output_type": "execute_result"
    }
   ],
   "source": [
    "#investiate quantity; does quantity contain information of servings per unit or total size of unit?\n",
    "df['quantity'].head(20)\n",
    "df['quantity'].value_counts()"
   ]
  },
  {
   "cell_type": "code",
   "execution_count": 112,
   "metadata": {
    "collapsed": false
   },
   "outputs": [
    {
     "data": {
      "text/plain": [
       "Sugary snacks,Biscuits and cakes,Biscuits,Cookies                                                                                                                                            27\n",
       "Plant-based foods and beverages,Plant-based foods,Cereals and potatoes,Cereals and their products,Pastas                                                                                     24\n",
       "Sugary snacks,Confectioneries,Candies                                                                                                                                                        20\n",
       "Plant-based foods and beverages,Plant-based foods,Breakfasts,Cereals and potatoes,Cereals and their products,Breakfast cereals                                                               20\n",
       "Groceries,Sauces,Tomato sauces,Ketchup                                                                                                                                                       15\n",
       "Plant-based foods and beverages,Plant-based foods,Cereals and potatoes,Cereals and their products,Noodles,Instant noodles                                                                    14\n",
       "Crackers                                                                                                                                                                                     13\n",
       "Salty snacks,Appetizers,Crackers                                                                                                                                                             13\n",
       "Dairies,Milks                                                                                                                                                                                13\n",
       "Groceries,Sauces,Mayonnaises                                                                                                                                                                 12\n",
       "Beverages,Alcoholic beverages,Beers                                                                                                                                                          12\n",
       "Groceries,Condiments,Sauces,Mustards                                                                                                                                                         11\n",
       "Snacks                                                                                                                                                                                       11\n",
       "Groceries,Sauces,Pasta sauces                                                                                                                                                                11\n",
       "Sugary snacks,Chocolates,Dark chocolates                                                                                                                                                     10\n",
       "Dairies,Cheeses                                                                                                                                                                              10\n",
       "Beers                                                                                                                                                                                        10\n",
       "Sugary snacks,Bars                                                                                                                                                                           9 \n",
       "pasta                                                                                                                                                                                        9 \n",
       "Beverages,Waters,Non-sugared beverages                                                                                                                                                       9 \n",
       "Dairies,Yogurts                                                                                                                                                                              9 \n",
       "Dairies,Yogurts,Greek yogurts                                                                                                                                                                9 \n",
       "Cheese                                                                                                                                                                                       8 \n",
       "Groceries,Sauces                                                                                                                                                                             8 \n",
       "water                                                                                                                                                                                        8 \n",
       "Breakfast cereals                                                                                                                                                                            8 \n",
       "Sugary snacks,Biscuits and cakes,Biscuits,Cookies,Chocolate cookies                                                                                                                          8 \n",
       "Sugary snacks,Chocolates,Milk chocolates                                                                                                                                                     7 \n",
       "Candies                                                                                                                                                                                      7 \n",
       "Plant-based foods and beverages,Plant-based foods,Cereals and potatoes,Breads                                                                                                                7 \n",
       "                                                                                                                                                                                            .. \n",
       "Fruit spreads                                                                                                                                                                                1 \n",
       "Red wines,fr:Vins américains                                                                                                                                                                 1 \n",
       "Beverages,Carbonated drinks,Sodas,Sugared beverages,Tonic water                                                                                                                              1 \n",
       "Chili                                                                                                                                                                                        1 \n",
       "Sauce                                                                                                                                                                                        1 \n",
       "Plant-based foods and beverages,Plant-based foods,Cereals and potatoes,Cereals and their products,Noodles,Instant noodles,Asian Foods                                                        1 \n",
       "Dairies,Cheeses,mild cheddar cheese                                                                                                                                                          1 \n",
       "Dark chocolates,chocolates                                                                                                                                                                   1 \n",
       "Skinless & Boneless Sardines in Olive Oil,Sardines in Olive Oil                                                                                                                              1 \n",
       "Sweets                                                                                                                                                                                       1 \n",
       "banana                                                                                                                                                                                       1 \n",
       "Houmous                                                                                                                                                                                      1 \n",
       "Cream cheeses                                                                                                                                                                                1 \n",
       "ketchup                                                                                                                                                                                      1 \n",
       "Beverages,Plant-based beverages,Fruit-based beverages,Non-sugared beverages                                                                                                                  1 \n",
       "Cherry Pie Filling                                                                                                                                                                           1 \n",
       "wing sauce,sauce                                                                                                                                                                             1 \n",
       "Concentrated multifruit juices                                                                                                                                                               1 \n",
       "Sugary snacks,Biscuits and cakes,Pastries                                                                                                                                                    1 \n",
       "Fruit juices                                                                                                                                                                                 1 \n",
       "Milk chocolates                                                                                                                                                                              1 \n",
       "Lollipops                                                                                                                                                                                    1 \n",
       "Beverages,Plant-based beverages,Fruit-based beverages,Fruit juices and nectars,Fruit juices                                                                                                  1 \n",
       "Pesto sauce mix,sauce mix,pesto sauce                                                                                                                                                        1 \n",
       "Cream horseradish                                                                                                                                                                            1 \n",
       "Ham                                                                                                                                                                                          1 \n",
       "Beverages,Plant-based beverages,Fruit-based beverages,Juices and nectars,Fruit juices and nectars,Fruit juices,Concentrated fruit juices,Multifruit juices,Concentrated multifruit juices    1 \n",
       "Sugary Snacks                                                                                                                                                                                1 \n",
       "Beverages,Non-sugared beverages,Vegetable juices                                                                                                                                             1 \n",
       "Toppings                                                                                                                                                                                     1 \n",
       "Name: categories, dtype: int64"
      ]
     },
     "execution_count": 112,
     "metadata": {},
     "output_type": "execute_result"
    }
   ],
   "source": [
    "#investiate categories\n",
    "df['categories'].value_counts()"
   ]
  },
  {
   "cell_type": "code",
   "execution_count": 109,
   "metadata": {
    "collapsed": false
   },
   "outputs": [
    {
     "data": {
      "text/plain": [
       "en:sugary-snacks,en:biscuits-and-cakes,en:biscuits,en:cookies                                                                                                                                                              42\n",
       "en:plant-based-foods-and-beverages,en:plant-based-foods,en:breakfasts,en:cereals-and-potatoes,en:cereals-and-their-products,en:breakfast-cereals                                                                           40\n",
       "en:plant-based-foods-and-beverages,en:plant-based-foods,en:cereals-and-potatoes,en:cereals-and-their-products,en:pastas                                                                                                    39\n",
       "en:sugary-snacks,en:confectioneries,en:candies                                                                                                                                                                             36\n",
       "en:beverages,en:alcoholic-beverages,en:beers                                                                                                                                                                               30\n",
       "en:salty-snacks,en:appetizers,en:crackers                                                                                                                                                                                  30\n",
       "en:beverages,en:waters,en:non-sugared-beverages                                                                                                                                                                            22\n",
       "en:dairies,en:milks                                                                                                                                                                                                        21\n",
       "en:groceries,en:condiments,en:sauces,en:mustards                                                                                                                                                                           21\n",
       "en:dairies,en:yogurts                                                                                                                                                                                                      21\n",
       "en:groceries,en:sauces,en:pasta-sauces                                                                                                                                                                                     21\n",
       "en:groceries,en:sauces,en:tomato-sauces,en:ketchup                                                                                                                                                                         21\n",
       "en:sugary-snacks,en:bars                                                                                                                                                                                                   20\n",
       "en:dairies,en:cheeses                                                                                                                                                                                                      20\n",
       "en:groceries,en:sauces,en:mayonnaises                                                                                                                                                                                      20\n",
       "en:sugary-snacks,en:chocolates,en:dark-chocolates                                                                                                                                                                          18\n",
       "en:plant-based-foods-and-beverages,en:plant-based-foods,en:cereals-and-potatoes,en:cereals-and-their-products,en:noodles,en:instant-noodles                                                                                18\n",
       "en:plant-based-foods-and-beverages,en:plant-based-foods,en:legumes-and-their-products,en:spreads,en:nuts-and-their-products,en:plant-based-spreads,en:oilseed-purees,en:nut-butters,en:legume-butters,en:peanut-butters    17\n",
       "en:groceries,en:sauces                                                                                                                                                                                                     16\n",
       "en:snacks                                                                                                                                                                                                                  16\n",
       "en:beverages,en:carbonated-drinks,en:sodas,en:sugared-beverages                                                                                                                                                            15\n",
       "en:dairies,en:yogurts,en:greek-yogurts                                                                                                                                                                                     14\n",
       "en:groceries,en:sauces,en:salad-dressings                                                                                                                                                                                  14\n",
       "en:groceries,en:sauces,en:hot-sauces                                                                                                                                                                                       13\n",
       "en:beverages,en:hot-beverages,en:coffees,en:non-sugared-beverages                                                                                                                                                          11\n",
       "en:sugary-snacks,en:chocolates,en:milk-chocolates                                                                                                                                                                          11\n",
       "en:sweeteners,en:syrups,en:simple-syrups,en:maple-syrups                                                                                                                                                                   11\n",
       "en:groceries,en:sauces,en:barbecue-sauces                                                                                                                                                                                  11\n",
       "en:canned-foods,en:seafood,en:fishes,en:canned-fishes,en:sardines,en:canned-sardines                                                                                                                                       9 \n",
       "en:breakfasts,en:spreads,en:sweet-spreads,en:bee-products,en:farming-products,en:sweeteners,en:honeys                                                                                                                      9 \n",
       "                                                                                                                                                                                                                          .. \n",
       "en:plant-based-foods-and-beverages,en:plant-based-foods,en:fresh-foods,en:fruits-and-vegetables-based-foods,en:fresh-plant-based-foods,en:vegetables-based-foods,en:fresh-vegetables,en:brussels-sprouts                   1 \n",
       "en:chips-and-fries,en:fries                                                                                                                                                                                                1 \n",
       "en:sugary-snacks,en:desserts,en:biscuits-and-cakes,en:cakes,en:cheesecakes                                                                                                                                                 1 \n",
       "en:plant-based-foods-and-beverages,en:plant-based-foods,en:groceries,en:broths,en:vegetable-broths                                                                                                                         1 \n",
       "en:plant-based-foods-and-beverages,en:plant-based-foods,en:legumes-and-their-products,en:misos                                                                                                                             1 \n",
       "en:plant-based-foods-and-beverages,en:plant-based-foods,en:cereals-and-potatoes,en:cereals-and-their-products,en:pastas,fr:pates-d-alsace,en:pasta-of-alsace                                                               1 \n",
       "en:salads                                                                                                                                                                                                                  1 \n",
       "en:whipping-cream                                                                                                                                                                                                          1 \n",
       "en:plant-based-foods-and-beverages,en:plant-based-foods,en:fats,en:vegetable-fats,en:vegetable-oils,en:palm-oils                                                                                                           1 \n",
       "en:sugary-snacks,en:biscuits-and-cakes,en:biscuits,en:biscuit-mix,en:grain-products,en:scone-mix,en:scones                                                                                                                 1 \n",
       "en:plant-based-foods-and-beverages,en:plant-based-foods,en:cereals-and-potatoes,en:breads,en:products-without-gluten,en:gluten-free-breads,en:baked-goods,en:gain-products                                                 1 \n",
       "en:groceries,en:sauces,en:salad-dressings,en:caesar-sauce                                                                                                                                                                  1 \n",
       "en:sparkling-water-beverage                                                                                                                                                                                                1 \n",
       "en:sugary-snacks,en:confectioneries,en:chewing-gum,en:bubble-gums                                                                                                                                                          1 \n",
       "en:meats,en:prepared-meats,en:poultries,en:pork,en:bologna                                                                                                                                                                 1 \n",
       "en:meats,en:prepared-meats,fr:saucissons,en:salami                                                                                                                                                                         1 \n",
       "en:plant-based-foods-and-beverages,en:beverages,en:plant-based-foods,en:hot-beverages,en:herbal-teas,en:teas,en:lemon-teas,en:non-sugared-beverages                                                                        1 \n",
       "en:juice                                                                                                                                                                                                                   1 \n",
       "en:dairies,en:yogurts,en:fruit-yogurts,en:blueberry-yogurts,en:low-fat-yogurts                                                                                                                                             1 \n",
       "en:thin-mints                                                                                                                                                                                                              1 \n",
       "en:beverages,en:alcoholic-beverages,en:wines,en:white-wines,en:wines-from-america                                                                                                                                          1 \n",
       "en:grape-juice-drink                                                                                                                                                                                                       1 \n",
       "en:raspberry-preserve                                                                                                                                                                                                      1 \n",
       "en:baby-spinach                                                                                                                                                                                                            1 \n",
       "en:breakfasts,en:waffles                                                                                                                                                                                                   1 \n",
       "en:bean-flour                                                                                                                                                                                                              1 \n",
       "en:plant-based-foods-and-beverages,en:beverages,en:plant-based-foods,en:hot-beverages,en:herbal-teas,en:non-sugared-beverages                                                                                              1 \n",
       "en:turkey-bacon                                                                                                                                                                                                            1 \n",
       "en:desserts,en:non-dairy-desserts                                                                                                                                                                                          1 \n",
       "en:sugary-snacks,en:desserts,en:biscuits-and-cakes,en:cakes,en:sponge-cakes                                                                                                                                                1 \n",
       "Name: categories_tags, dtype: int64"
      ]
     },
     "execution_count": 109,
     "metadata": {},
     "output_type": "execute_result"
    }
   ],
   "source": [
    "df['categories_tags'].value_counts()"
   ]
  },
  {
   "cell_type": "code",
   "execution_count": 29,
   "metadata": {
    "collapsed": false
   },
   "outputs": [
    {
     "data": {
      "text/plain": [
       "1695"
      ]
     },
     "execution_count": 29,
     "metadata": {},
     "output_type": "execute_result"
    }
   ],
   "source": [
    "###how often are the categories present?\n",
    "df[df['categories']!= np.nan]['categories'].count()"
   ]
  },
  {
   "cell_type": "code",
   "execution_count": null,
   "metadata": {
    "collapsed": true
   },
   "outputs": [],
   "source": [
    "#subset the data to only include rows with macronutrients and categories\n",
    "\n"
   ]
  }
 ],
 "metadata": {
  "anaconda-cloud": {},
  "kernelspec": {
   "display_name": "Python [Root]",
   "language": "python",
   "name": "Python [Root]"
  },
  "language_info": {
   "codemirror_mode": {
    "name": "ipython",
    "version": 3
   },
   "file_extension": ".py",
   "mimetype": "text/x-python",
   "name": "python",
   "nbconvert_exporter": "python",
   "pygments_lexer": "ipython3",
   "version": "3.5.2"
  }
 },
 "nbformat": 4,
 "nbformat_minor": 0
}
