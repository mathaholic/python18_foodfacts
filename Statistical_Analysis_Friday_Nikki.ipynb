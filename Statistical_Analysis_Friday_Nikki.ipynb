{
 "cells": [
  {
   "cell_type": "code",
   "execution_count": 1,
   "metadata": {
    "collapsed": false
   },
   "outputs": [
    {
     "name": "stdout",
     "output_type": "stream",
     "text": [
      "3.5.2 |Anaconda 4.1.1 (x86_64)| (default, Jul  2 2016, 17:52:12) \n",
      "[GCC 4.2.1 Compatible Apple LLVM 4.2 (clang-425.0.28)]\n",
      "1.11.1\n",
      "0.18.1\n"
     ]
    }
   ],
   "source": [
    "%matplotlib inline\n",
    "import sys\n",
    "print(sys.version)\n",
    "import numpy as np\n",
    "print(np.__version__)\n",
    "import pandas as pd\n",
    "print(pd.__version__)\n",
    "import matplotlib.pyplot as plt\n",
    "import re"
   ]
  },
  {
   "cell_type": "markdown",
   "metadata": {},
   "source": [
    "### Question 1\n",
    "How likely is it that a basket of commercially available food items is going to meet recommended levels of nutrients while staying within recommended calorie allowance?"
   ]
  },
  {
   "cell_type": "code",
   "execution_count": 2,
   "metadata": {
    "collapsed": false
   },
   "outputs": [
    {
     "data": {
      "text/html": [
       "<div>\n",
       "<table border=\"1\" class=\"dataframe\">\n",
       "  <thead>\n",
       "    <tr style=\"text-align: right;\">\n",
       "      <th></th>\n",
       "      <th>total_calories</th>\n",
       "      <th>complete_micronutrients?</th>\n",
       "      <th>total_fat</th>\n",
       "      <th>total_saturated_fat</th>\n",
       "      <th>total_carbohydrates</th>\n",
       "      <th>total_fiber</th>\n",
       "      <th>total_sugar</th>\n",
       "      <th>total_protein</th>\n",
       "      <th>total_cholesterol_(mg)</th>\n",
       "      <th>total_sodium_(mg)</th>\n",
       "      <th>...</th>\n",
       "      <th>total_iron_(mg)</th>\n",
       "      <th>codes</th>\n",
       "      <th>product_names</th>\n",
       "      <th>generic_names</th>\n",
       "      <th>categories</th>\n",
       "      <th>categories_tags</th>\n",
       "      <th>ingredients_texts</th>\n",
       "      <th>main_categories</th>\n",
       "      <th>fruits-vegetables-nuts_100g</th>\n",
       "      <th>nutrition-score-uk_100g</th>\n",
       "    </tr>\n",
       "  </thead>\n",
       "  <tbody>\n",
       "    <tr>\n",
       "      <th>0</th>\n",
       "      <td>2616.284</td>\n",
       "      <td>False</td>\n",
       "      <td>122.300</td>\n",
       "      <td>60.533</td>\n",
       "      <td>356.49</td>\n",
       "      <td>13.567</td>\n",
       "      <td>253.51</td>\n",
       "      <td>22.406</td>\n",
       "      <td>54.17</td>\n",
       "      <td>3342.181890</td>\n",
       "      <td>...</td>\n",
       "      <td>3.295</td>\n",
       "      <td>[51000012913, 5900344018141, 973458, 9542018054, 16000159105, 1389900, 27000378953, 22000011879, 12000151903, 99482405458]</td>\n",
       "      <td>['Bean with Bacon', 'Filety śledziowe w sosie musztardowym', 'Milk chocolate filled with caramel', 'Creme Brulee', 'Fruit Gushers Variety Pack', 'Organic Tomato Ketchup', 'Diced tomatoes, basil, garlic &amp; oregano', 'Starburst Original', '1893 Ginger Cola', 'Organic apple juice']</td>\n",
       "      <td>['Bean with Bacon Soup', nan, nan, 'Milk chocolate with a caramelized sugar and cream filling', 'Fruit flavored snacks', nan, nan, 'Fruit Chews', 'Ginger Cola', nan]</td>\n",
       "      <td>['soups,Canned meals', nan, 'Milk chocolate filled with caramel', 'Sugary snacks,Chocolates,Milk chocolates', 'Sugary snacks', 'Groceries,Sauces,Tomato sauces,Ketchup', 'Canned tomatoes', 'Sugary snacks,Confectioneries,Candies', 'Beverages,Plant-based beverages,Carbonated drinks,Fruit-based beverages,Sodas,Fruit sodas,Sodas with exotic fruits,Sugared beverages', 'Apple juice']</td>\n",
       "      <td>['en:canned-foods,en:meals,en:soups,en:canned-meals', nan, 'en:milk-chocolate-filled-with-caramel', 'en:sugary-snacks,en:chocolates,en:milk-chocolates', 'en:sugary-snacks', 'en:groceries,en:sauces,en:tomato-sauces,en:ketchup', 'en:plant-based-foods-and-beverages,en:plant-based-foods,en:fruits-and-vegetables-based-foods,en:canned-foods,en:vegetables-based-foods,en:canned-plant-based-foods,en:canned-vegetables,en:tomatoes-and-tomato-products,en:canned-tomatoes', 'en:sugary-snacks,en:confectioneries,en:candies', 'en:beverages,en:plant-based-beverages,en:carbonated-drinks,en:fruit-based-beverages,en:sodas,en:fruit-sodas,en:sodas-with-exotic-fruits,en:sugared-beverages', 'en:beverages,en:plant-based-beverages,en:fruit-based-beverages,en:juices-and-nectars,en:fruit-juices-and-nectars,en:fruit-juices,en:apple-juices,en:non-alcoholic-beverages']</td>\n",
       "      <td>[nan, nan, nan, 'Sugar, cocoa butter, _milk_, milkfat, chocolate, _lactose, caramelized sugar, skim _milk_, crumbled wafer [_wheat_ flour, rice flour, sugar, leavening (sodium bicarbonate), palm oil], _soya_ lecithin (emulsifier), barley malt powder, artificial flavors. Milk chocolate contains: Cocoa solids 30% min., _Milk_ Solids 20% min.', 'Strawberry ingredients: Corn Syrup, Sugar, Pear Puree Concentrate, Modified Corn Starch, Fructose, Maltodextrin, Palm Oil, Glycerin. Contains 2% or less of : Cottonseed Oil, Grape Juice Concentrate, Carrageenan, Citric Acid, Monoglycerides, Sodium Citrate, Malic Acid, Vitamin C (ascorbic acid), Natural Flavor, Potassium Citrate, Agar-Agar, Red 40, Xanthan Gum.    Tropical Ingredients : Corn Syrup, Sugar, Pear Puree Concentrate, Fructose, Modified Corn Starch, Maltodextrin, Palm Oil, Glycerin. Contains 2% or less of : Cottonseed Oil, Grape Juice Concentrate, Carrageenan, Citric Acid, Monoglycerides, Sodium Citrate, Malic Acid, Vitamin C (ascorbic acid), Natural Flavor, Potassium Citrate, Agar-Agar, Xanthan Gum, Color (red 40, blue 1, yellow 5, yellow 6).', nan, 'Tomatoes, tomato juice, less than 2% of: Sugar, salt, citric acid, calcium chloride, spices, dried basil, natural flavor, dried oregano, dried parsley flakes, garlic powder.', 'CORN SYRUP, SUGAR, HYDROGENATED PALM KERNEL OIL, FRUIT JUICE FROM CONCENTRATE (APPLE, LEMON, STRAWBERRY, ORANGE, CHERRY). LESS THAN 2% - CITRIC ACID, TAPIOCA DEXTRIN, GELATIN, MODIFIED CORN STARCH, NATURAL AND ARTIFICIAL FLAVORS, ASCORBIC ACID (VITAMIN C), COLORING (RED 40, YELLOW 5, YELLOW 6, BLUE 1)', 'carbonated water, sugar, caramel color, natural flavor, phosphoric acid, sodium citrate, caffeine, potassium sorbate (preserves freshness), modified food starch,, kola nut extract, ginger oleoresin', 'Organic pasteurized, unfiltered apple juice.']</td>\n",
       "      <td>['en:canned-meals', nan, 'en:milk-chocolate-filled-with-caramel', 'en:milk-chocolates', 'en:sugary-snacks', 'en:ketchup', 'en:canned-tomatoes', 'en:candies', 'en:fruit-sodas', 'en:apple-juices']</td>\n",
       "      <td>[nan, nan, nan, nan, nan, nan, nan, nan, nan, nan]</td>\n",
       "      <td>[1.0, 19.0, 23.0, 24.0, 14.0, 16.0, -5.0, 21.0, nan, -3.0]</td>\n",
       "    </tr>\n",
       "    <tr>\n",
       "      <th>1</th>\n",
       "      <td>4386.960</td>\n",
       "      <td>False</td>\n",
       "      <td>297.040</td>\n",
       "      <td>40.190</td>\n",
       "      <td>391.50</td>\n",
       "      <td>40.310</td>\n",
       "      <td>132.42</td>\n",
       "      <td>36.900</td>\n",
       "      <td>38.50</td>\n",
       "      <td>7702.770079</td>\n",
       "      <td>...</td>\n",
       "      <td>32.960</td>\n",
       "      <td>[48001139985, 88702015652, 788821008022, 746454123130, 28400071345, 41790214260, 16000275713, 5054269267556, 6194620845616, 663836008468]</td>\n",
       "      <td>['Real Mayonnaise', 'Raspberry preserve', 'Spice mix for Lahori Fish', 'Tomatillo Salsa', 'Simply Natural Blue Corn Tortilla Chips', 'Bertolli Extra Virgin Olive Oil', 'Honey Nut Cheerios', 'Authentic Delicious Tagliatelle', 'Extra Virgin Olive Oil', nan]</td>\n",
       "      <td>[nan, nan, nan, nan, nan, 'Extra Virgin Olive Oil', nan, nan, 'Olive Oil', nan]</td>\n",
       "      <td>['Groceries,Sauces,Mayonnaises', 'Raspberry preserve', 'Groceries,Spices,Spice Mix', nan, 'Tortilla chips,Corn chips', 'Olive oil', 'Plant-based foods and beverages,Plant-based foods,Breakfasts,Cereals and potatoes,Cereals and their products,Breakfast cereals', nan, 'Extra-virgin olive oils', 'sweet olives']</td>\n",
       "      <td>['en:groceries,en:sauces,en:mayonnaises', 'en:raspberry-preserve', 'en:plant-based-foods-and-beverages,en:plant-based-foods,en:groceries,en:condiments,en:spices,en:spice-mix', nan, 'en:salty-snacks,en:appetizers,en:chips-and-fries,en:crisps,en:corn-chips,en:tortilla-chips', 'en:plant-based-foods-and-beverages,en:plant-based-foods,en:fats,en:olive-tree-products,en:vegetable-fats,en:vegetable-oils,en:olive-oils', 'en:plant-based-foods-and-beverages,en:plant-based-foods,en:breakfasts,en:cereals-and-potatoes,en:cereals-and-their-products,en:breakfast-cereals', nan, 'en:plant-based-foods-and-beverages,en:plant-based-foods,en:fats,en:olive-tree-products,en:vegetable-fats,en:vegetable-oils,en:olive-oils,en:extra-virgin-olive-oils', 'en:sweet-olives']</td>\n",
       "      <td>['Soybean oil, water, whole eggs and egg yolks, vinegar, salt, sugar, lemon juice, calcium disodium EDTA (used to protect quality), natural flavors.', nan, 'Wheat/Corn/Gram flour (_Wheat_), salt, red chili, dehydrated onion, garlic, ginger, bay leaf, black cumin, clove, black pepper, cinnamon, carom, turmeric, citric acid, maltodextrin, hydrolyzed _soy_ protein, cane sugar, canola oil, silicon dioxide, dried mango powder', 'Fire roasted tomatillos, onio, garlic, jalapeno, cilantro, lime &amp; pepper.', 'Organic Blue Corn, Expeller-Pressed Sun flower Oil, Sea salt.', 'Extra Virgin Olive Oil', 'Whole Grain Oats, Sugar, Oat Bran, Corn Starch, Honey, Brown Sugar Syrup, Salt, Tripotassium Phosphate, Rice Bran and/or Canola Oil, Natural _Almond_ Flavor. Vitamin E (mixed tocopherols)Added to Preserve Freshness. Vitamins and Minerals: Calcium Carbonate, Zinc and Iron (mineral nutrients), Vitamin C (sodium ascorbate), A B Vitamin (niacinamide), Vitamin B6 (pyridoxine hydrochloride), Vitamin B2 (riboflavin), Vitamin B1 (thiamin mononitrate), Vitamin A (palmitate), A B Vitamin (folic acid), Vitamin B12, Vitamin D3.', 'Durum _Wheat_ Semolina, _Wheat_ Flour, _Egg_ (15%), Water', 'Olives', 'Dried fruit, sugar, salt, licorice.']</td>\n",
       "      <td>['en:mayonnaises', 'en:raspberry-preserve', 'en:spice-mix', nan, 'en:corn-chips', 'en:olive-oils', 'en:breakfast-cereals', nan, 'en:extra-virgin-olive-oils', 'en:sweet-olives']</td>\n",
       "      <td>[nan, nan, nan, nan, nan, nan, nan, nan, nan, nan]</td>\n",
       "      <td>[25.0, nan, 17.0, -1.0, 1.0, nan, 12.0, -4.0, nan, 2.0]</td>\n",
       "    </tr>\n",
       "    <tr>\n",
       "      <th>2</th>\n",
       "      <td>3709.380</td>\n",
       "      <td>False</td>\n",
       "      <td>216.420</td>\n",
       "      <td>43.540</td>\n",
       "      <td>382.40</td>\n",
       "      <td>21.750</td>\n",
       "      <td>189.34</td>\n",
       "      <td>58.000</td>\n",
       "      <td>234.57</td>\n",
       "      <td>6974.600000</td>\n",
       "      <td>...</td>\n",
       "      <td>13.800</td>\n",
       "      <td>[10700531001, 51000012913, 70462098358, 35826087904, 10852997489, 85239089071, 44000031275, 4891136030186, 853016002038, 71479000013]</td>\n",
       "      <td>['Milk Duds', 'Bean with Bacon', 'Sour Patch Kids', 'Real Mayonnaise', 'Cream on Top strawberry Organic Yogurt', 'Mayonnaise', 'Cheese Nips Angry Birds', 'Famous Spicy Satay Paste', 'Turkey Jerky Teriyaki', 'English muffins original']</td>\n",
       "      <td>[nan, 'Bean with Bacon Soup', 'Soft &amp; Chewy Candy', nan, nan, nan, 'Naturally flavored cheddar baked snack crackers', 'Satay Sauce', nan, nan]</td>\n",
       "      <td>['candy', 'soups,Canned meals', 'candy', 'Mayonnaise', 'Dairies,Yogurts', 'Groceries,Sauces,Mayonnaises', 'Crackers', 'Groceries,Sauces', nan, 'Sugary snacks,Biscuits and cakes,Pastries,English muffins']</td>\n",
       "      <td>['en:sugary-snacks,en:confectioneries,en:candies', 'en:canned-foods,en:meals,en:soups,en:canned-meals', 'en:sugary-snacks,en:confectioneries,en:candies', 'en:groceries,en:sauces,en:mayonnaises', 'en:dairies,en:yogurts', 'en:groceries,en:sauces,en:mayonnaises', 'en:salty-snacks,en:appetizers,en:crackers', 'en:groceries,en:sauces', nan, 'en:plant-based-foods-and-beverages,en:plant-based-foods,en:cereals-and-potatoes,en:sugary-snacks,en:biscuits-and-cakes,en:breads,en:pastries,en:special-breads,en:english-muffins']</td>\n",
       "      <td>[nan, nan, 'SUGAR, INVERT SUGAR, CORN SYRUP, MODIFIED CORN STARCH, TARTARIC ACID, CITRIC ACID, NATURAL AND ARTIFICIAL FLAVORING, YELLOW 6, RED 40, YELLOW 5 AND BLUE 1.', nan, 'Organic Grade A Pasteurized _Milk_, Organic Pasteurized _Cream_, Organic Nonfat Pasteurized _Milk_, Organic Strawberries (Organic Cane Sugar, Organic Strawberries, Pectin, Organic Locust Bean Gum, Natural Flavor, Organic Fruit &amp; Vegetable Juice (color), Citric Acid), Organic Cane Sugar, Pectin, Organic Corn Starch, Live Active Cultures.', '_SOYBEAN_ OIL, WHOLE _EGGS_ AND _EGG_ YOLKS, WATER, CONTAINS 2% OR LESS OF: VINEGAR, SALT SUGAR, LEMON JUICE CONCENTRATE, NATURAL FLAVOR, CALCIUM DISODIUM EDTA (TO PROTECT FLAVOR), OLEORESIN PAPRIKA.  ', nan, 'Chilli, Satay Spices, _Peanut_, Vegetable oil, Salt, Sugar, Shallots, Garlics, Water, Starch, MSG.', nan, nan]</td>\n",
       "      <td>['en:candies', 'en:canned-meals', 'en:candies', 'en:mayonnaises', 'en:yogurts', 'en:mayonnaises', 'en:crackers', 'en:sauces', nan, 'en:english-muffins']</td>\n",
       "      <td>[nan, nan, nan, nan, nan, nan, nan, nan, nan, nan]</td>\n",
       "      <td>[24.0, 1.0, nan, 22.0, 5.0, nan, 10.0, 11.0, 20.0, 11.0]</td>\n",
       "    </tr>\n",
       "    <tr>\n",
       "      <th>3</th>\n",
       "      <td>3322.122</td>\n",
       "      <td>False</td>\n",
       "      <td>151.290</td>\n",
       "      <td>47.410</td>\n",
       "      <td>383.17</td>\n",
       "      <td>45.630</td>\n",
       "      <td>132.53</td>\n",
       "      <td>106.958</td>\n",
       "      <td>167.40</td>\n",
       "      <td>4300.310000</td>\n",
       "      <td>...</td>\n",
       "      <td>47.160</td>\n",
       "      <td>[30304600323, 88775169900, 72463000200, 85239323083, 16000275287, 85692224552, 3431801, 856088003163, 862325, 787692834631]</td>\n",
       "      <td>['100% Fresh Squeezed Orange Juice', 'Chinese Style Sausage', 'Irish Oatmeal', 'Archer farms roasted jumbo cashews', 'Cheerios', 'Natural Applesauce', 'Strawberry Syrup', 'Bircher (unsweetened) Muesli', 'Authentic Greek Feta', 'The complete cookie peanut butter']</td>\n",
       "      <td>['Orange Juice', 'Lap Xuong Mai Quê Lô', nan, 'Cashews', nan, nan, nan, nan, 'Feta Cheese', nan]</td>\n",
       "      <td>['Beverages,Plant-based beverages,Fruit-based beverages,Juices and nectars,Fruit juices and nectars,Fruit juices,Orange juices,Juices', 'Sausages', nan, 'Cashews', 'Plant-based foods and beverages,Plant-based foods,Breakfasts,Cereals and potatoes,Breakfast cereals', 'Spreads', 'Beverages,Syrups,Flavoured syrups,Non-sugared beverages', 'Plant-based foods and beverages,Plant-based foods,Breakfasts,Cereals and potatoes,Cereals and their products,Breakfast cereals,Flakes,Cereal flakes,Mixed cereal flakes,Mueslis', 'Dairies,Cheeses', 'Sugary snacks,Biscuits and cakes,Biscuits,Cookies']</td>\n",
       "      <td>['en:beverages,en:plant-based-beverages,en:fruit-based-beverages,en:juices-and-nectars,en:fruit-juices-and-nectars,en:fruit-juices,en:orange-juices,en:juices,en:non-alcoholic-beverages', 'en:meats,en:prepared-meats,en:sausages', nan, 'en:cashews', 'en:plant-based-foods-and-beverages,en:plant-based-foods,en:breakfasts,en:cereals-and-potatoes,en:cereals-and-their-products,en:breakfast-cereals', 'en:spreads', 'en:beverages,en:syrups,en:flavoured-syrups,en:non-sugared-beverages,en:sugared-beverages', 'en:plant-based-foods-and-beverages,en:plant-based-foods,en:breakfasts,en:cereals-and-potatoes,en:cereals-and-their-products,en:breakfast-cereals,en:flakes,en:cereal-flakes,en:mixed-cereal-flakes,en:mueslis', 'en:dairies,en:cheeses', 'en:sugary-snacks,en:biscuits-and-cakes,en:biscuits,en:cookies']</td>\n",
       "      <td>[nan, nan, '100% whole grain irish oats', 'Cashews, vegetable oil (peanut, cottonseed, soybean, and/or sunflower seed), sea salt', 'Whole Grain _Oats_, Corn Starch, Sugar, Salt, Tripotassium Phosphate, _Wheat_ Starch, Vitamin E (mixed tocopherols) Added to Preserve Freshness, Vitamins and Minerals (Calcium Carbonate, Iron, Zinc (mineral nutrients), Vitamin C (sodium ascorbate), A B Vitamin (niacinamide), Vitamin B5 (pyridoxine hydrochioride), Vitamin A (palmitate), Vitamin B1 (thiamin mononitrate), A B Vitamin (folic acid), Vitamin B12, Vitamin D3)', 'apples and water', 'HIGH FRUCTOSE CORN SYRUP; WATER; SUGAR; CORN SYRUP; CONTAINS 2% OR LESS OF: ARTIFICIAL FLAVORS; CITRIC ACID; SODIUM BENZOATE (PRESERVATIVE); XANTHAN GUM; ARTIFICIAL COLOR (RED 40).', 'Organic whole grain oats, whole grain barley, whole grain rye, sunflower seeds, dates (dates, oat flour), _almonds_, _coconut_, apples, raisins, pumpkin seeds, golden flax seeds, spices.', nan, 'enriched wheat flour (wheat flour (unbleached), niacin, iron, thiamine mononitrate, riboflavin, folic acid), cane sugar, palm margarine, (palm oil, palm kernel oil, sunflower oil, water, salt, vegetable monoglycerides, sunflower lecithin, flavoring, citric acid, vitamine A palmitate, vitamin D3), peanut butter (peanuts, salt), protein blend (pea protein isolate, brown rice protein, wheat gluten), oat fiber, apple fiber, molasses, vanilla flavor, baking soda, salt, flaxseed, oregano, sun flower lecithin ']</td>\n",
       "      <td>['en:orange-juices', 'en:sausages', nan, 'en:cashews', 'en:breakfast-cereals', 'en:spreads', 'en:flavoured-syrups', 'en:mueslis', 'en:cheeses', 'en:cookies']</td>\n",
       "      <td>[nan, nan, nan, nan, nan, nan, nan, nan, nan, nan]</td>\n",
       "      <td>[nan, nan, -5.0, 14.0, -3.0, -1.0, 13.0, 6.0, 23.0, 10.0]</td>\n",
       "    </tr>\n",
       "    <tr>\n",
       "      <th>4</th>\n",
       "      <td>2379.607</td>\n",
       "      <td>False</td>\n",
       "      <td>95.731</td>\n",
       "      <td>24.526</td>\n",
       "      <td>316.56</td>\n",
       "      <td>37.670</td>\n",
       "      <td>131.46</td>\n",
       "      <td>62.947</td>\n",
       "      <td>125.01</td>\n",
       "      <td>3447.400000</td>\n",
       "      <td>...</td>\n",
       "      <td>10.350</td>\n",
       "      <td>[70470003009, 898999777771, 854142000257, 49000054552, 14054030517, 4897878000036, 34800005255, 4400002007, 84253222143, 41331024785]</td>\n",
       "      <td>['Yoplait original strawberry', 'VitaCoco Café', 'Black &amp; White Cookie', 'Sprite', 'Bluberry Protein Shake', 'Nissin Demae Artificial Chicken Flavor', 'Sardines in extra virgin olive oil', 'Mini Chips Ahoy!', 'Rice drink vanilla classic', 'Garbanzos/Chick Peas']</td>\n",
       "      <td>[nan, nan, nan, nan, nan, 'Chicken flavor ramen noodle soup', nan, 'Real Chocolate Chip Cookies', nan, 'Raw Chick Peas']</td>\n",
       "      <td>['Dairies,Yogurts', 'Beverages', 'Sugary snacks,Biscuits and cakes,Biscuits,Cookies', 'Soda', 'Protein shakes', 'Plant-based foods and beverages,Plant-based foods,Cereals and potatoes,Cereals and their products,Noodles,Instant noodles', nan, 'Chocolate cookies', 'Beverages,Dairies,Plant-based beverages,Milks,Plant milks,Cereal milks,Rice milks,Non-sugared beverages', 'Chickpeas']</td>\n",
       "      <td>['en:dairies,en:yogurts', 'en:beverages,en:sugared-beverages', 'en:sugary-snacks,en:biscuits-and-cakes,en:biscuits,en:cookies', 'en:beverages,en:carbonated-drinks,en:sodas,en:sugared-beverages', 'en:dietary-supplements,en:bodybuilding-supplements,en:protein-shakes', 'en:plant-based-foods-and-beverages,en:plant-based-foods,en:cereals-and-potatoes,en:cereals-and-their-products,en:noodles,en:instant-noodles', nan, 'en:sugary-snacks,en:biscuits-and-cakes,en:biscuits,en:chocolate-biscuits,en:cookies,en:chocolate-cookies', 'en:plant-based-foods-and-beverages,en:beverages,en:plant-based-foods,en:cereals-and-potatoes,en:cereals-and-their-products,en:dairies,en:plant-based-beverages,en:plant-milks,en:cereal-milks,en:milks,en:non-sugared-beverages,en:rice-milks', 'en:plant-based-foods-and-beverages,en:plant-based-foods,en:legumes-and-their-products,en:legumes,en:seeds,en:legume-seeds,en:pulses,en:chickpeas']</td>\n",
       "      <td>['Cultured Pasteurized Grade A Low Fat _Milk_, Sugar, Strawberries, Modified Corn Starch, High Fructose Corn Syrup, Nonfat _Milk_, Kosher Gelatin, Citric Acid, Tricalcium Phosphate, Colored with Carmine, Natural Flavor, Pectin, Vitamin A Acetate, Vitamin D3.', 'Coconut Water, Whole _Milk_, Skim _Milk_, Expresso (Water, Coffee), Sugar, Natural Flavor, Carrageenan', 'Sugar, Enriched Bleached _Wheat_ Flour (Bleached _Wheat_ Flour, Niacin, reduced Iron, Thiamin Mononitrate, Riboflavin, Folic Acid, Malted Barley Flour), _Eggs_, Sweet Butter, Cocoa Powder, Dried _Egg_ Whites, Leavening (Sodium Bicarbonate, Sodium Aluminum Phosphate, Monocalcium Phosphate), Emulsifier Blend (Propylene Glycol, Monoester, _Soy_ &amp; Palm Oils, Mono &amp; Diglycerides, Lecithin, BHA, Citric Acid), Contains 2% or less of the following: Non Fat Dry _Milk_, Dried, _Egg_ Yolks, Modified Food Starch, Dextrose, Salt, Artificial Flavor, Polysorbate 60, Tetrasodium Pyrophosphate, Gum Arabic, Sodium Propionate, Calcium Acetate, Lecithin, Corn Starch, Vanilla.', nan, 'Soymilk (Water, _Soybeans_), Filtered Water, Cane Sugar, Blueberry Purée, Less Than 2% of: _Milk_ Protein Concentrate, Isolated _Soy_ Protein, Grape Juice, Tricalcium Phosphate, Vanilla Extract, Vegetable and Berry Extracts (Purple Carrot, Black Carrot, Lingonberry), Natural Flavors, Carrageenan, Sea Salt, Zinc Gluconate, Agar, Vitamin B6 (Pyridoxine Hydrochloride), Vitamin B12 (Cyanocobalamin).', 'Noodles: _wheat_ flour, palm oil, salt, potassium carbonate, sodium tripolyphosphate, sodium carbonate, sodium hexametaphosphate, alginic acid, sodium phosphate, guar gum, tocopherols, ascorbyl palmitate.  Soup base: salt, monosodium glutamate, sugar, autolyzed yeast extract, chinese cabbage powder, hydrolyzed _soy_ protein, garlic powder, soy sauce powder, dehydrated green onion, onion powder, maltodextrin, ginger powder, white pepper powder, black pepper powder, turmeric powder, disodium guanylate, disodium inosinate, artificial chicken flavor, silicon dioxide.  Seasoning oil: vegetable oil (sesame oil, rice oil), natural and artificial sesame flavor, annatto extract color.', 'Brisling sardines, extra virgin olive oil, salt', 'UNBLEACHED ENRICHED FLOUR (_WHEAT_ FLOUR NIACIN REDUCED IRON, THIAMINE, MONONITRATE {VITAMIN B1}, RIBOFLAVIN {VITAMIN B2}, FOLIC ACID), SEMISWEET CHOCOLATE CHIPS (SUGAR, CHOCOLATE, COCOA BUTTER, DEXTROSE, _SOY_ LECITHIN, _MILK_), SUGAR, _SOYBEAN_ OIL PARTIALLY HYDROGENATED COTTONSEED OIL, HIGH FRUCTOSE CORN SYRUP, SALT, BAKING SODA, NATURAL AND ARTIFICIAL FLAVOR, CARAMEL COLOR.', 'FILTERED WATER, BROWN RICE (PARTIALLY MILLED), EXPELLER PRESSED HIGH OLEIC SAFFLOWER OIL AND/OR SUNFLOWER OIL AND/OR CANOLA OIL, NATURAL VANILLA FLAVOR WITH OTHER NATURAL FLAVORS, SEA SALT.  ', nan]</td>\n",
       "      <td>['en:yogurts', 'en:sugared-beverages', 'en:cookies', 'en:sodas', 'en:bodybuilding-supplements', 'en:instant-noodles', nan, 'en:chocolate-cookies', 'en:rice-milks', 'en:chickpeas']</td>\n",
       "      <td>[nan, nan, nan, nan, nan, nan, nan, nan, nan, nan]</td>\n",
       "      <td>[3.0, 0.0, 17.0, nan, 0.0, 18.0, 5.0, 17.0, 1.0, -7.0]</td>\n",
       "    </tr>\n",
       "  </tbody>\n",
       "</table>\n",
       "<p>5 rows × 24 columns</p>\n",
       "</div>"
      ],
      "text/plain": [
       "   total_calories complete_micronutrients?  total_fat  total_saturated_fat  \\\n",
       "0  2616.284        False                    122.300    60.533                \n",
       "1  4386.960        False                    297.040    40.190                \n",
       "2  3709.380        False                    216.420    43.540                \n",
       "3  3322.122        False                    151.290    47.410                \n",
       "4  2379.607        False                    95.731     24.526                \n",
       "\n",
       "   total_carbohydrates  total_fiber  total_sugar  total_protein  \\\n",
       "0  356.49               13.567       253.51       22.406          \n",
       "1  391.50               40.310       132.42       36.900          \n",
       "2  382.40               21.750       189.34       58.000          \n",
       "3  383.17               45.630       132.53       106.958         \n",
       "4  316.56               37.670       131.46       62.947          \n",
       "\n",
       "   total_cholesterol_(mg)  total_sodium_(mg)  \\\n",
       "0  54.17                   3342.181890         \n",
       "1  38.50                   7702.770079         \n",
       "2  234.57                  6974.600000         \n",
       "3  167.40                  4300.310000         \n",
       "4  125.01                  3447.400000         \n",
       "\n",
       "                              ...                              \\\n",
       "0                             ...                               \n",
       "1                             ...                               \n",
       "2                             ...                               \n",
       "3                             ...                               \n",
       "4                             ...                               \n",
       "\n",
       "   total_iron_(mg)  \\\n",
       "0  3.295             \n",
       "1  32.960            \n",
       "2  13.800            \n",
       "3  47.160            \n",
       "4  10.350            \n",
       "\n",
       "                                                                                                                                       codes  \\\n",
       "0  [51000012913, 5900344018141, 973458, 9542018054, 16000159105, 1389900, 27000378953, 22000011879, 12000151903, 99482405458]                  \n",
       "1  [48001139985, 88702015652, 788821008022, 746454123130, 28400071345, 41790214260, 16000275713, 5054269267556, 6194620845616, 663836008468]   \n",
       "2  [10700531001, 51000012913, 70462098358, 35826087904, 10852997489, 85239089071, 44000031275, 4891136030186, 853016002038, 71479000013]       \n",
       "3  [30304600323, 88775169900, 72463000200, 85239323083, 16000275287, 85692224552, 3431801, 856088003163, 862325, 787692834631]                 \n",
       "4  [70470003009, 898999777771, 854142000257, 49000054552, 14054030517, 4897878000036, 34800005255, 4400002007, 84253222143, 41331024785]       \n",
       "\n",
       "                                                                                                                                                                                                                                                                            product_names  \\\n",
       "0  ['Bean with Bacon', 'Filety śledziowe w sosie musztardowym', 'Milk chocolate filled with caramel', 'Creme Brulee', 'Fruit Gushers Variety Pack', 'Organic Tomato Ketchup', 'Diced tomatoes, basil, garlic & oregano', 'Starburst Original', '1893 Ginger Cola', 'Organic apple juice']   \n",
       "1  ['Real Mayonnaise', 'Raspberry preserve', 'Spice mix for Lahori Fish', 'Tomatillo Salsa', 'Simply Natural Blue Corn Tortilla Chips', 'Bertolli Extra Virgin Olive Oil', 'Honey Nut Cheerios', 'Authentic Delicious Tagliatelle', 'Extra Virgin Olive Oil', nan]                          \n",
       "2  ['Milk Duds', 'Bean with Bacon', 'Sour Patch Kids', 'Real Mayonnaise', 'Cream on Top strawberry Organic Yogurt', 'Mayonnaise', 'Cheese Nips Angry Birds', 'Famous Spicy Satay Paste', 'Turkey Jerky Teriyaki', 'English muffins original']                                               \n",
       "3  ['100% Fresh Squeezed Orange Juice', 'Chinese Style Sausage', 'Irish Oatmeal', 'Archer farms roasted jumbo cashews', 'Cheerios', 'Natural Applesauce', 'Strawberry Syrup', 'Bircher (unsweetened) Muesli', 'Authentic Greek Feta', 'The complete cookie peanut butter']                  \n",
       "4  ['Yoplait original strawberry', 'VitaCoco Café', 'Black & White Cookie', 'Sprite', 'Bluberry Protein Shake', 'Nissin Demae Artificial Chicken Flavor', 'Sardines in extra virgin olive oil', 'Mini Chips Ahoy!', 'Rice drink vanilla classic', 'Garbanzos/Chick Peas']                   \n",
       "\n",
       "                                                                                                                                                           generic_names  \\\n",
       "0  ['Bean with Bacon Soup', nan, nan, 'Milk chocolate with a caramelized sugar and cream filling', 'Fruit flavored snacks', nan, nan, 'Fruit Chews', 'Ginger Cola', nan]   \n",
       "1  [nan, nan, nan, nan, nan, 'Extra Virgin Olive Oil', nan, nan, 'Olive Oil', nan]                                                                                         \n",
       "2  [nan, 'Bean with Bacon Soup', 'Soft & Chewy Candy', nan, nan, nan, 'Naturally flavored cheddar baked snack crackers', 'Satay Sauce', nan, nan]                          \n",
       "3  ['Orange Juice', 'Lap Xuong Mai Quê Lô', nan, 'Cashews', nan, nan, nan, nan, 'Feta Cheese', nan]                                                                        \n",
       "4  [nan, nan, nan, nan, nan, 'Chicken flavor ramen noodle soup', nan, 'Real Chocolate Chip Cookies', nan, 'Raw Chick Peas']                                                \n",
       "\n",
       "                                                                                                                                                                                                                                                                                                                                                                                                                                                                                                                                                                                                    categories  \\\n",
       "0  ['soups,Canned meals', nan, 'Milk chocolate filled with caramel', 'Sugary snacks,Chocolates,Milk chocolates', 'Sugary snacks', 'Groceries,Sauces,Tomato sauces,Ketchup', 'Canned tomatoes', 'Sugary snacks,Confectioneries,Candies', 'Beverages,Plant-based beverages,Carbonated drinks,Fruit-based beverages,Sodas,Fruit sodas,Sodas with exotic fruits,Sugared beverages', 'Apple juice']                                                                                                                                                                                                                   \n",
       "1  ['Groceries,Sauces,Mayonnaises', 'Raspberry preserve', 'Groceries,Spices,Spice Mix', nan, 'Tortilla chips,Corn chips', 'Olive oil', 'Plant-based foods and beverages,Plant-based foods,Breakfasts,Cereals and potatoes,Cereals and their products,Breakfast cereals', nan, 'Extra-virgin olive oils', 'sweet olives']                                                                                                                                                                                                                                                                                         \n",
       "2  ['candy', 'soups,Canned meals', 'candy', 'Mayonnaise', 'Dairies,Yogurts', 'Groceries,Sauces,Mayonnaises', 'Crackers', 'Groceries,Sauces', nan, 'Sugary snacks,Biscuits and cakes,Pastries,English muffins']                                                                                                                                                                                                                                                                                                                                                                                                   \n",
       "3  ['Beverages,Plant-based beverages,Fruit-based beverages,Juices and nectars,Fruit juices and nectars,Fruit juices,Orange juices,Juices', 'Sausages', nan, 'Cashews', 'Plant-based foods and beverages,Plant-based foods,Breakfasts,Cereals and potatoes,Breakfast cereals', 'Spreads', 'Beverages,Syrups,Flavoured syrups,Non-sugared beverages', 'Plant-based foods and beverages,Plant-based foods,Breakfasts,Cereals and potatoes,Cereals and their products,Breakfast cereals,Flakes,Cereal flakes,Mixed cereal flakes,Mueslis', 'Dairies,Cheeses', 'Sugary snacks,Biscuits and cakes,Biscuits,Cookies']   \n",
       "4  ['Dairies,Yogurts', 'Beverages', 'Sugary snacks,Biscuits and cakes,Biscuits,Cookies', 'Soda', 'Protein shakes', 'Plant-based foods and beverages,Plant-based foods,Cereals and potatoes,Cereals and their products,Noodles,Instant noodles', nan, 'Chocolate cookies', 'Beverages,Dairies,Plant-based beverages,Milks,Plant milks,Cereal milks,Rice milks,Non-sugared beverages', 'Chickpeas']                                                                                                                                                                                                                \n",
       "\n",
       "                                                                                                                                                                                                                                                                                                                                                                                                                                                                                                                                                                                                                                                                                                                                                                                                                                                                                                                                   categories_tags  \\\n",
       "0  ['en:canned-foods,en:meals,en:soups,en:canned-meals', nan, 'en:milk-chocolate-filled-with-caramel', 'en:sugary-snacks,en:chocolates,en:milk-chocolates', 'en:sugary-snacks', 'en:groceries,en:sauces,en:tomato-sauces,en:ketchup', 'en:plant-based-foods-and-beverages,en:plant-based-foods,en:fruits-and-vegetables-based-foods,en:canned-foods,en:vegetables-based-foods,en:canned-plant-based-foods,en:canned-vegetables,en:tomatoes-and-tomato-products,en:canned-tomatoes', 'en:sugary-snacks,en:confectioneries,en:candies', 'en:beverages,en:plant-based-beverages,en:carbonated-drinks,en:fruit-based-beverages,en:sodas,en:fruit-sodas,en:sodas-with-exotic-fruits,en:sugared-beverages', 'en:beverages,en:plant-based-beverages,en:fruit-based-beverages,en:juices-and-nectars,en:fruit-juices-and-nectars,en:fruit-juices,en:apple-juices,en:non-alcoholic-beverages']                                                                 \n",
       "1  ['en:groceries,en:sauces,en:mayonnaises', 'en:raspberry-preserve', 'en:plant-based-foods-and-beverages,en:plant-based-foods,en:groceries,en:condiments,en:spices,en:spice-mix', nan, 'en:salty-snacks,en:appetizers,en:chips-and-fries,en:crisps,en:corn-chips,en:tortilla-chips', 'en:plant-based-foods-and-beverages,en:plant-based-foods,en:fats,en:olive-tree-products,en:vegetable-fats,en:vegetable-oils,en:olive-oils', 'en:plant-based-foods-and-beverages,en:plant-based-foods,en:breakfasts,en:cereals-and-potatoes,en:cereals-and-their-products,en:breakfast-cereals', nan, 'en:plant-based-foods-and-beverages,en:plant-based-foods,en:fats,en:olive-tree-products,en:vegetable-fats,en:vegetable-oils,en:olive-oils,en:extra-virgin-olive-oils', 'en:sweet-olives']                                                                                                                                                                 \n",
       "2  ['en:sugary-snacks,en:confectioneries,en:candies', 'en:canned-foods,en:meals,en:soups,en:canned-meals', 'en:sugary-snacks,en:confectioneries,en:candies', 'en:groceries,en:sauces,en:mayonnaises', 'en:dairies,en:yogurts', 'en:groceries,en:sauces,en:mayonnaises', 'en:salty-snacks,en:appetizers,en:crackers', 'en:groceries,en:sauces', nan, 'en:plant-based-foods-and-beverages,en:plant-based-foods,en:cereals-and-potatoes,en:sugary-snacks,en:biscuits-and-cakes,en:breads,en:pastries,en:special-breads,en:english-muffins']                                                                                                                                                                                                                                                                                                                                                                                                             \n",
       "3  ['en:beverages,en:plant-based-beverages,en:fruit-based-beverages,en:juices-and-nectars,en:fruit-juices-and-nectars,en:fruit-juices,en:orange-juices,en:juices,en:non-alcoholic-beverages', 'en:meats,en:prepared-meats,en:sausages', nan, 'en:cashews', 'en:plant-based-foods-and-beverages,en:plant-based-foods,en:breakfasts,en:cereals-and-potatoes,en:cereals-and-their-products,en:breakfast-cereals', 'en:spreads', 'en:beverages,en:syrups,en:flavoured-syrups,en:non-sugared-beverages,en:sugared-beverages', 'en:plant-based-foods-and-beverages,en:plant-based-foods,en:breakfasts,en:cereals-and-potatoes,en:cereals-and-their-products,en:breakfast-cereals,en:flakes,en:cereal-flakes,en:mixed-cereal-flakes,en:mueslis', 'en:dairies,en:cheeses', 'en:sugary-snacks,en:biscuits-and-cakes,en:biscuits,en:cookies']                                                                                                                  \n",
       "4  ['en:dairies,en:yogurts', 'en:beverages,en:sugared-beverages', 'en:sugary-snacks,en:biscuits-and-cakes,en:biscuits,en:cookies', 'en:beverages,en:carbonated-drinks,en:sodas,en:sugared-beverages', 'en:dietary-supplements,en:bodybuilding-supplements,en:protein-shakes', 'en:plant-based-foods-and-beverages,en:plant-based-foods,en:cereals-and-potatoes,en:cereals-and-their-products,en:noodles,en:instant-noodles', nan, 'en:sugary-snacks,en:biscuits-and-cakes,en:biscuits,en:chocolate-biscuits,en:cookies,en:chocolate-cookies', 'en:plant-based-foods-and-beverages,en:beverages,en:plant-based-foods,en:cereals-and-potatoes,en:cereals-and-their-products,en:dairies,en:plant-based-beverages,en:plant-milks,en:cereal-milks,en:milks,en:non-sugared-beverages,en:rice-milks', 'en:plant-based-foods-and-beverages,en:plant-based-foods,en:legumes-and-their-products,en:legumes,en:seeds,en:legume-seeds,en:pulses,en:chickpeas']   \n",
       "\n",
       "                                                                                                                                                                                                                                                                                                                                                                                                                                                                                                                                                                                                                                                                                                                                                                                                                                                                                                                                                                                                                                                                                                                                                                                                                                                                                                                                                                                                                                                                                                                                                                                                                                                                                                                                                                                                                                                                                                                                                                                                                                                                                                                                                                                                                                                                                                                                                                                                                                                                                                                                                                                                                                                                                                                                                                                                                                                              ingredients_texts  \\\n",
       "0  [nan, nan, nan, 'Sugar, cocoa butter, _milk_, milkfat, chocolate, _lactose, caramelized sugar, skim _milk_, crumbled wafer [_wheat_ flour, rice flour, sugar, leavening (sodium bicarbonate), palm oil], _soya_ lecithin (emulsifier), barley malt powder, artificial flavors. Milk chocolate contains: Cocoa solids 30% min., _Milk_ Solids 20% min.', 'Strawberry ingredients: Corn Syrup, Sugar, Pear Puree Concentrate, Modified Corn Starch, Fructose, Maltodextrin, Palm Oil, Glycerin. Contains 2% or less of : Cottonseed Oil, Grape Juice Concentrate, Carrageenan, Citric Acid, Monoglycerides, Sodium Citrate, Malic Acid, Vitamin C (ascorbic acid), Natural Flavor, Potassium Citrate, Agar-Agar, Red 40, Xanthan Gum.    Tropical Ingredients : Corn Syrup, Sugar, Pear Puree Concentrate, Fructose, Modified Corn Starch, Maltodextrin, Palm Oil, Glycerin. Contains 2% or less of : Cottonseed Oil, Grape Juice Concentrate, Carrageenan, Citric Acid, Monoglycerides, Sodium Citrate, Malic Acid, Vitamin C (ascorbic acid), Natural Flavor, Potassium Citrate, Agar-Agar, Xanthan Gum, Color (red 40, blue 1, yellow 5, yellow 6).', nan, 'Tomatoes, tomato juice, less than 2% of: Sugar, salt, citric acid, calcium chloride, spices, dried basil, natural flavor, dried oregano, dried parsley flakes, garlic powder.', 'CORN SYRUP, SUGAR, HYDROGENATED PALM KERNEL OIL, FRUIT JUICE FROM CONCENTRATE (APPLE, LEMON, STRAWBERRY, ORANGE, CHERRY). LESS THAN 2% - CITRIC ACID, TAPIOCA DEXTRIN, GELATIN, MODIFIED CORN STARCH, NATURAL AND ARTIFICIAL FLAVORS, ASCORBIC ACID (VITAMIN C), COLORING (RED 40, YELLOW 5, YELLOW 6, BLUE 1)', 'carbonated water, sugar, caramel color, natural flavor, phosphoric acid, sodium citrate, caffeine, potassium sorbate (preserves freshness), modified food starch,, kola nut extract, ginger oleoresin', 'Organic pasteurized, unfiltered apple juice.']                                                                                                                                                                                                                                                                                                                                                                                                                                                                                                                                                                                                                                                                                                                                                                                                                                                                                                                                                        \n",
       "1  ['Soybean oil, water, whole eggs and egg yolks, vinegar, salt, sugar, lemon juice, calcium disodium EDTA (used to protect quality), natural flavors.', nan, 'Wheat/Corn/Gram flour (_Wheat_), salt, red chili, dehydrated onion, garlic, ginger, bay leaf, black cumin, clove, black pepper, cinnamon, carom, turmeric, citric acid, maltodextrin, hydrolyzed _soy_ protein, cane sugar, canola oil, silicon dioxide, dried mango powder', 'Fire roasted tomatillos, onio, garlic, jalapeno, cilantro, lime & pepper.', 'Organic Blue Corn, Expeller-Pressed Sun flower Oil, Sea salt.', 'Extra Virgin Olive Oil', 'Whole Grain Oats, Sugar, Oat Bran, Corn Starch, Honey, Brown Sugar Syrup, Salt, Tripotassium Phosphate, Rice Bran and/or Canola Oil, Natural _Almond_ Flavor. Vitamin E (mixed tocopherols)Added to Preserve Freshness. Vitamins and Minerals: Calcium Carbonate, Zinc and Iron (mineral nutrients), Vitamin C (sodium ascorbate), A B Vitamin (niacinamide), Vitamin B6 (pyridoxine hydrochloride), Vitamin B2 (riboflavin), Vitamin B1 (thiamin mononitrate), Vitamin A (palmitate), A B Vitamin (folic acid), Vitamin B12, Vitamin D3.', 'Durum _Wheat_ Semolina, _Wheat_ Flour, _Egg_ (15%), Water', 'Olives', 'Dried fruit, sugar, salt, licorice.']                                                                                                                                                                                                                                                                                                                                                                                                                                                                                                                                                                                                                                                                                                                                                                                                                                                                                                                                                                                                                                                                                                                                                                                                                                                                                                                                                                                                                                                                                                                                                                                                  \n",
       "2  [nan, nan, 'SUGAR, INVERT SUGAR, CORN SYRUP, MODIFIED CORN STARCH, TARTARIC ACID, CITRIC ACID, NATURAL AND ARTIFICIAL FLAVORING, YELLOW 6, RED 40, YELLOW 5 AND BLUE 1.', nan, 'Organic Grade A Pasteurized _Milk_, Organic Pasteurized _Cream_, Organic Nonfat Pasteurized _Milk_, Organic Strawberries (Organic Cane Sugar, Organic Strawberries, Pectin, Organic Locust Bean Gum, Natural Flavor, Organic Fruit & Vegetable Juice (color), Citric Acid), Organic Cane Sugar, Pectin, Organic Corn Starch, Live Active Cultures.', '_SOYBEAN_ OIL, WHOLE _EGGS_ AND _EGG_ YOLKS, WATER, CONTAINS 2% OR LESS OF: VINEGAR, SALT SUGAR, LEMON JUICE CONCENTRATE, NATURAL FLAVOR, CALCIUM DISODIUM EDTA (TO PROTECT FLAVOR), OLEORESIN PAPRIKA.  ', nan, 'Chilli, Satay Spices, _Peanut_, Vegetable oil, Salt, Sugar, Shallots, Garlics, Water, Starch, MSG.', nan, nan]                                                                                                                                                                                                                                                                                                                                                                                                                                                                                                                                                                                                                                                                                                                                                                                                                                                                                                                                                                                                                                                                                                                                                                                                                                                                                                                                                                                                                                                                                                                                                                                                                                                                                                                                                                                                                                                                                                                                                                                                         \n",
       "3  [nan, nan, '100% whole grain irish oats', 'Cashews, vegetable oil (peanut, cottonseed, soybean, and/or sunflower seed), sea salt', 'Whole Grain _Oats_, Corn Starch, Sugar, Salt, Tripotassium Phosphate, _Wheat_ Starch, Vitamin E (mixed tocopherols) Added to Preserve Freshness, Vitamins and Minerals (Calcium Carbonate, Iron, Zinc (mineral nutrients), Vitamin C (sodium ascorbate), A B Vitamin (niacinamide), Vitamin B5 (pyridoxine hydrochioride), Vitamin A (palmitate), Vitamin B1 (thiamin mononitrate), A B Vitamin (folic acid), Vitamin B12, Vitamin D3)', 'apples and water', 'HIGH FRUCTOSE CORN SYRUP; WATER; SUGAR; CORN SYRUP; CONTAINS 2% OR LESS OF: ARTIFICIAL FLAVORS; CITRIC ACID; SODIUM BENZOATE (PRESERVATIVE); XANTHAN GUM; ARTIFICIAL COLOR (RED 40).', 'Organic whole grain oats, whole grain barley, whole grain rye, sunflower seeds, dates (dates, oat flour), _almonds_, _coconut_, apples, raisins, pumpkin seeds, golden flax seeds, spices.', nan, 'enriched wheat flour (wheat flour (unbleached), niacin, iron, thiamine mononitrate, riboflavin, folic acid), cane sugar, palm margarine, (palm oil, palm kernel oil, sunflower oil, water, salt, vegetable monoglycerides, sunflower lecithin, flavoring, citric acid, vitamine A palmitate, vitamin D3), peanut butter (peanuts, salt), protein blend (pea protein isolate, brown rice protein, wheat gluten), oat fiber, apple fiber, molasses, vanilla flavor, baking soda, salt, flaxseed, oregano, sun flower lecithin ']                                                                                                                                                                                                                                                                                                                                                                                                                                                                                                                                                                                                                                                                                                                                                                                                                                                                                                                                                                                                                                                                                                                                                                                                                                                                                                                                                    \n",
       "4  ['Cultured Pasteurized Grade A Low Fat _Milk_, Sugar, Strawberries, Modified Corn Starch, High Fructose Corn Syrup, Nonfat _Milk_, Kosher Gelatin, Citric Acid, Tricalcium Phosphate, Colored with Carmine, Natural Flavor, Pectin, Vitamin A Acetate, Vitamin D3.', 'Coconut Water, Whole _Milk_, Skim _Milk_, Expresso (Water, Coffee), Sugar, Natural Flavor, Carrageenan', 'Sugar, Enriched Bleached _Wheat_ Flour (Bleached _Wheat_ Flour, Niacin, reduced Iron, Thiamin Mononitrate, Riboflavin, Folic Acid, Malted Barley Flour), _Eggs_, Sweet Butter, Cocoa Powder, Dried _Egg_ Whites, Leavening (Sodium Bicarbonate, Sodium Aluminum Phosphate, Monocalcium Phosphate), Emulsifier Blend (Propylene Glycol, Monoester, _Soy_ & Palm Oils, Mono & Diglycerides, Lecithin, BHA, Citric Acid), Contains 2% or less of the following: Non Fat Dry _Milk_, Dried, _Egg_ Yolks, Modified Food Starch, Dextrose, Salt, Artificial Flavor, Polysorbate 60, Tetrasodium Pyrophosphate, Gum Arabic, Sodium Propionate, Calcium Acetate, Lecithin, Corn Starch, Vanilla.', nan, 'Soymilk (Water, _Soybeans_), Filtered Water, Cane Sugar, Blueberry Purée, Less Than 2% of: _Milk_ Protein Concentrate, Isolated _Soy_ Protein, Grape Juice, Tricalcium Phosphate, Vanilla Extract, Vegetable and Berry Extracts (Purple Carrot, Black Carrot, Lingonberry), Natural Flavors, Carrageenan, Sea Salt, Zinc Gluconate, Agar, Vitamin B6 (Pyridoxine Hydrochloride), Vitamin B12 (Cyanocobalamin).', 'Noodles: _wheat_ flour, palm oil, salt, potassium carbonate, sodium tripolyphosphate, sodium carbonate, sodium hexametaphosphate, alginic acid, sodium phosphate, guar gum, tocopherols, ascorbyl palmitate.  Soup base: salt, monosodium glutamate, sugar, autolyzed yeast extract, chinese cabbage powder, hydrolyzed _soy_ protein, garlic powder, soy sauce powder, dehydrated green onion, onion powder, maltodextrin, ginger powder, white pepper powder, black pepper powder, turmeric powder, disodium guanylate, disodium inosinate, artificial chicken flavor, silicon dioxide.  Seasoning oil: vegetable oil (sesame oil, rice oil), natural and artificial sesame flavor, annatto extract color.', 'Brisling sardines, extra virgin olive oil, salt', 'UNBLEACHED ENRICHED FLOUR (_WHEAT_ FLOUR NIACIN REDUCED IRON, THIAMINE, MONONITRATE {VITAMIN B1}, RIBOFLAVIN {VITAMIN B2}, FOLIC ACID), SEMISWEET CHOCOLATE CHIPS (SUGAR, CHOCOLATE, COCOA BUTTER, DEXTROSE, _SOY_ LECITHIN, _MILK_), SUGAR, _SOYBEAN_ OIL PARTIALLY HYDROGENATED COTTONSEED OIL, HIGH FRUCTOSE CORN SYRUP, SALT, BAKING SODA, NATURAL AND ARTIFICIAL FLAVOR, CARAMEL COLOR.', 'FILTERED WATER, BROWN RICE (PARTIALLY MILLED), EXPELLER PRESSED HIGH OLEIC SAFFLOWER OIL AND/OR SUNFLOWER OIL AND/OR CANOLA OIL, NATURAL VANILLA FLAVOR WITH OTHER NATURAL FLAVORS, SEA SALT.  ', nan]   \n",
       "\n",
       "                                                                                                                                                                                      main_categories  \\\n",
       "0  ['en:canned-meals', nan, 'en:milk-chocolate-filled-with-caramel', 'en:milk-chocolates', 'en:sugary-snacks', 'en:ketchup', 'en:canned-tomatoes', 'en:candies', 'en:fruit-sodas', 'en:apple-juices']   \n",
       "1  ['en:mayonnaises', 'en:raspberry-preserve', 'en:spice-mix', nan, 'en:corn-chips', 'en:olive-oils', 'en:breakfast-cereals', nan, 'en:extra-virgin-olive-oils', 'en:sweet-olives']                     \n",
       "2  ['en:candies', 'en:canned-meals', 'en:candies', 'en:mayonnaises', 'en:yogurts', 'en:mayonnaises', 'en:crackers', 'en:sauces', nan, 'en:english-muffins']                                             \n",
       "3  ['en:orange-juices', 'en:sausages', nan, 'en:cashews', 'en:breakfast-cereals', 'en:spreads', 'en:flavoured-syrups', 'en:mueslis', 'en:cheeses', 'en:cookies']                                        \n",
       "4  ['en:yogurts', 'en:sugared-beverages', 'en:cookies', 'en:sodas', 'en:bodybuilding-supplements', 'en:instant-noodles', nan, 'en:chocolate-cookies', 'en:rice-milks', 'en:chickpeas']                  \n",
       "\n",
       "                          fruits-vegetables-nuts_100g  \\\n",
       "0  [nan, nan, nan, nan, nan, nan, nan, nan, nan, nan]   \n",
       "1  [nan, nan, nan, nan, nan, nan, nan, nan, nan, nan]   \n",
       "2  [nan, nan, nan, nan, nan, nan, nan, nan, nan, nan]   \n",
       "3  [nan, nan, nan, nan, nan, nan, nan, nan, nan, nan]   \n",
       "4  [nan, nan, nan, nan, nan, nan, nan, nan, nan, nan]   \n",
       "\n",
       "                                      nutrition-score-uk_100g  \n",
       "0  [1.0, 19.0, 23.0, 24.0, 14.0, 16.0, -5.0, 21.0, nan, -3.0]  \n",
       "1  [25.0, nan, 17.0, -1.0, 1.0, nan, 12.0, -4.0, nan, 2.0]     \n",
       "2  [24.0, 1.0, nan, 22.0, 5.0, nan, 10.0, 11.0, 20.0, 11.0]    \n",
       "3  [nan, nan, -5.0, 14.0, -3.0, -1.0, 13.0, 6.0, 23.0, 10.0]   \n",
       "4  [3.0, 0.0, 17.0, nan, 0.0, 18.0, 5.0, 17.0, 1.0, -7.0]      \n",
       "\n",
       "[5 rows x 24 columns]"
      ]
     },
     "execution_count": 2,
     "metadata": {},
     "output_type": "execute_result"
    }
   ],
   "source": [
    "df = pd.read_csv(\"random_days.tsv\", sep = '\\t')\n",
    "#the datafields are quite long; tell pandas to show the whole fields\n",
    "pd.set_option('display.max_colwidth', -1)\n",
    "del df['Unnamed: 0']\n",
    "df.head()"
   ]
  },
  {
   "cell_type": "code",
   "execution_count": 3,
   "metadata": {
    "collapsed": false
   },
   "outputs": [
    {
     "data": {
      "text/html": [
       "<div>\n",
       "<table border=\"1\" class=\"dataframe\">\n",
       "  <thead>\n",
       "    <tr style=\"text-align: right;\">\n",
       "      <th></th>\n",
       "      <th>total_calories</th>\n",
       "      <th>total_fat</th>\n",
       "      <th>total_saturated_fat</th>\n",
       "      <th>total_carbohydrates</th>\n",
       "      <th>total_fiber</th>\n",
       "      <th>total_sugar</th>\n",
       "      <th>total_protein</th>\n",
       "    </tr>\n",
       "  </thead>\n",
       "  <tbody>\n",
       "    <tr>\n",
       "      <th>count</th>\n",
       "      <td>10000.000000</td>\n",
       "      <td>10000.000000</td>\n",
       "      <td>10000.000000</td>\n",
       "      <td>10000.000000</td>\n",
       "      <td>10000.000000</td>\n",
       "      <td>10000.000000</td>\n",
       "      <td>10000.000000</td>\n",
       "    </tr>\n",
       "    <tr>\n",
       "      <th>mean</th>\n",
       "      <td>2915.073874</td>\n",
       "      <td>136.271122</td>\n",
       "      <td>47.682588</td>\n",
       "      <td>356.491245</td>\n",
       "      <td>24.868441</td>\n",
       "      <td>152.386828</td>\n",
       "      <td>65.667199</td>\n",
       "    </tr>\n",
       "    <tr>\n",
       "      <th>std</th>\n",
       "      <td>637.433161</td>\n",
       "      <td>58.090969</td>\n",
       "      <td>26.586153</td>\n",
       "      <td>93.566278</td>\n",
       "      <td>13.127283</td>\n",
       "      <td>61.896888</td>\n",
       "      <td>23.821865</td>\n",
       "    </tr>\n",
       "    <tr>\n",
       "      <th>min</th>\n",
       "      <td>823.280000</td>\n",
       "      <td>3.200000</td>\n",
       "      <td>0.000000</td>\n",
       "      <td>55.180000</td>\n",
       "      <td>0.000000</td>\n",
       "      <td>8.080000</td>\n",
       "      <td>2.365000</td>\n",
       "    </tr>\n",
       "    <tr>\n",
       "      <th>25%</th>\n",
       "      <td>2470.752000</td>\n",
       "      <td>93.267500</td>\n",
       "      <td>28.709250</td>\n",
       "      <td>291.385000</td>\n",
       "      <td>15.563500</td>\n",
       "      <td>107.047500</td>\n",
       "      <td>48.662750</td>\n",
       "    </tr>\n",
       "    <tr>\n",
       "      <th>50%</th>\n",
       "      <td>2899.332000</td>\n",
       "      <td>129.425000</td>\n",
       "      <td>42.620000</td>\n",
       "      <td>354.220000</td>\n",
       "      <td>22.698500</td>\n",
       "      <td>147.285000</td>\n",
       "      <td>62.916500</td>\n",
       "    </tr>\n",
       "    <tr>\n",
       "      <th>75%</th>\n",
       "      <td>3349.925250</td>\n",
       "      <td>171.890000</td>\n",
       "      <td>61.300500</td>\n",
       "      <td>418.790000</td>\n",
       "      <td>31.663250</td>\n",
       "      <td>191.577500</td>\n",
       "      <td>80.457750</td>\n",
       "    </tr>\n",
       "    <tr>\n",
       "      <th>max</th>\n",
       "      <td>5592.860000</td>\n",
       "      <td>479.900000</td>\n",
       "      <td>220.480000</td>\n",
       "      <td>726.000000</td>\n",
       "      <td>114.107000</td>\n",
       "      <td>428.200000</td>\n",
       "      <td>197.970000</td>\n",
       "    </tr>\n",
       "  </tbody>\n",
       "</table>\n",
       "</div>"
      ],
      "text/plain": [
       "       total_calories     total_fat  total_saturated_fat  total_carbohydrates  \\\n",
       "count  10000.000000    10000.000000  10000.000000         10000.000000          \n",
       "mean   2915.073874     136.271122    47.682588            356.491245            \n",
       "std    637.433161      58.090969     26.586153            93.566278             \n",
       "min    823.280000      3.200000      0.000000             55.180000             \n",
       "25%    2470.752000     93.267500     28.709250            291.385000            \n",
       "50%    2899.332000     129.425000    42.620000            354.220000            \n",
       "75%    3349.925250     171.890000    61.300500            418.790000            \n",
       "max    5592.860000     479.900000    220.480000           726.000000            \n",
       "\n",
       "        total_fiber   total_sugar  total_protein  \n",
       "count  10000.000000  10000.000000  10000.000000   \n",
       "mean   24.868441     152.386828    65.667199      \n",
       "std    13.127283     61.896888     23.821865      \n",
       "min    0.000000      8.080000      2.365000       \n",
       "25%    15.563500     107.047500    48.662750      \n",
       "50%    22.698500     147.285000    62.916500      \n",
       "75%    31.663250     191.577500    80.457750      \n",
       "max    114.107000    428.200000    197.970000     "
      ]
     },
     "execution_count": 3,
     "metadata": {},
     "output_type": "execute_result"
    }
   ],
   "source": [
    "##get a quick shot of the macronutrients\n",
    "df[['total_calories','total_fat', 'total_saturated_fat', 'total_carbohydrates', 'total_fiber', 'total_sugar', 'total_protein']].describe()"
   ]
  },
  {
   "cell_type": "code",
   "execution_count": 4,
   "metadata": {
    "collapsed": false
   },
   "outputs": [
    {
     "data": {
      "text/plain": [
       "<matplotlib.axes._subplots.AxesSubplot at 0x114b9fba8>"
      ]
     },
     "execution_count": 4,
     "metadata": {},
     "output_type": "execute_result"
    },
    {
     "data": {
      "image/png": "[encoded data removed]",
      "text/plain": [
       "<matplotlib.figure.Figure at 0x10645dd68>"
      ]
     },
     "metadata": {},
     "output_type": "display_data"
    }
   ],
   "source": [
    "df['total_calories'].plot(kind = 'box', figsize=(10,8))"
   ]
  },
  {
   "cell_type": "markdown",
   "metadata": {},
   "source": [
    "We can see that the majority of the calorie amounts are close around the median (the first and third quartile are hardly 900 calories apart) and we can see a long tail on both ends.  If this translates into a histogram approximating the normal curve, we can say this data is normal enough for a student-T statistical analysis."
   ]
  },
  {
   "cell_type": "code",
   "execution_count": 5,
   "metadata": {
    "collapsed": false
   },
   "outputs": [
    {
     "data": {
      "text/plain": [
       "array([[<matplotlib.axes._subplots.AxesSubplot object at 0x117166358>]], dtype=object)"
      ]
     },
     "execution_count": 5,
     "metadata": {},
     "output_type": "execute_result"
    },
    {
     "data": {
      "image/png": "[encoded data removed]",
      "text/plain": [
       "<matplotlib.figure.Figure at 0x114d0cb00>"
      ]
     },
     "metadata": {},
     "output_type": "display_data"
    }
   ],
   "source": [
    "df.hist('total_calories', bins = 20, figsize=(10,8))"
   ]
  },
  {
   "cell_type": "code",
   "execution_count": 6,
   "metadata": {
    "collapsed": false
   },
   "outputs": [
    {
     "data": {
      "text/plain": [
       "0.1028769620525793"
      ]
     },
     "execution_count": 6,
     "metadata": {},
     "output_type": "execute_result"
    }
   ],
   "source": [
    "###check the skew\n",
    "import scipy.stats\n",
    "scipy.stats.skew(df['total_calories'])"
   ]
  },
  {
   "cell_type": "markdown",
   "metadata": {},
   "source": [
    "The histogram for calories follows the normal curve of standard statistcal distributions.  Since calories is a calculated field from carbohydrates, fat, and protein, we know that they are also going to have a normal shaped histogram.  When we calculate the skewness of the data, we can see that is it close to zero, with a slight skew towards the higher end.  Shew calculations range between [-1,1], and a skew of zero means there is no skew in the data.  This is good, as it shows that our data is very regular and good for further statistical analysis."
   ]
  },
  {
   "cell_type": "code",
   "execution_count": 7,
   "metadata": {
    "collapsed": false
   },
   "outputs": [
    {
     "data": {
      "text/html": [
       "<div>\n",
       "<table border=\"1\" class=\"dataframe\">\n",
       "  <thead>\n",
       "    <tr style=\"text-align: right;\">\n",
       "      <th></th>\n",
       "      <th>total_cholesterol_(mg)</th>\n",
       "      <th>total_sodium_(mg)</th>\n",
       "      <th>total_potassium_(mg)</th>\n",
       "      <th>total_vitamin-a_(mcg)</th>\n",
       "      <th>total_vitamin-c_(mg)</th>\n",
       "      <th>total_calcium_(mg)</th>\n",
       "      <th>total_iron_(mg)</th>\n",
       "    </tr>\n",
       "  </thead>\n",
       "  <tbody>\n",
       "    <tr>\n",
       "      <th>count</th>\n",
       "      <td>10000.000000</td>\n",
       "      <td>10000.000000</td>\n",
       "      <td>10000.000000</td>\n",
       "      <td>10000.000000</td>\n",
       "      <td>10000.000000</td>\n",
       "      <td>10000.000000</td>\n",
       "      <td>10000.000000</td>\n",
       "    </tr>\n",
       "    <tr>\n",
       "      <th>mean</th>\n",
       "      <td>139.260431</td>\n",
       "      <td>4709.403828</td>\n",
       "      <td>613.663790</td>\n",
       "      <td>868.329880</td>\n",
       "      <td>42.305719</td>\n",
       "      <td>665.865436</td>\n",
       "      <td>17.423480</td>\n",
       "    </tr>\n",
       "    <tr>\n",
       "      <th>std</th>\n",
       "      <td>131.133053</td>\n",
       "      <td>5621.807131</td>\n",
       "      <td>2291.781088</td>\n",
       "      <td>1147.411306</td>\n",
       "      <td>46.360955</td>\n",
       "      <td>466.921131</td>\n",
       "      <td>12.489114</td>\n",
       "    </tr>\n",
       "    <tr>\n",
       "      <th>min</th>\n",
       "      <td>0.000000</td>\n",
       "      <td>286.690000</td>\n",
       "      <td>0.000000</td>\n",
       "      <td>0.000000</td>\n",
       "      <td>0.000000</td>\n",
       "      <td>0.000000</td>\n",
       "      <td>0.000000</td>\n",
       "    </tr>\n",
       "    <tr>\n",
       "      <th>25%</th>\n",
       "      <td>44.635000</td>\n",
       "      <td>2671.715000</td>\n",
       "      <td>50.000000</td>\n",
       "      <td>272.375000</td>\n",
       "      <td>11.038000</td>\n",
       "      <td>327.275000</td>\n",
       "      <td>8.820000</td>\n",
       "    </tr>\n",
       "    <tr>\n",
       "      <th>50%</th>\n",
       "      <td>106.555000</td>\n",
       "      <td>3648.740000</td>\n",
       "      <td>248.700000</td>\n",
       "      <td>601.000000</td>\n",
       "      <td>30.000000</td>\n",
       "      <td>548.400000</td>\n",
       "      <td>13.323000</td>\n",
       "    </tr>\n",
       "    <tr>\n",
       "      <th>75%</th>\n",
       "      <td>191.125000</td>\n",
       "      <td>4846.509252</td>\n",
       "      <td>575.000000</td>\n",
       "      <td>1107.250000</td>\n",
       "      <td>57.177500</td>\n",
       "      <td>893.407500</td>\n",
       "      <td>22.678500</td>\n",
       "    </tr>\n",
       "    <tr>\n",
       "      <th>max</th>\n",
       "      <td>1409.430000</td>\n",
       "      <td>85529.760000</td>\n",
       "      <td>27012.000000</td>\n",
       "      <td>13728.600000</td>\n",
       "      <td>392.400000</td>\n",
       "      <td>3926.000000</td>\n",
       "      <td>118.363000</td>\n",
       "    </tr>\n",
       "  </tbody>\n",
       "</table>\n",
       "</div>"
      ],
      "text/plain": [
       "       total_cholesterol_(mg)  total_sodium_(mg)  total_potassium_(mg)  \\\n",
       "count  10000.000000            10000.000000       10000.000000           \n",
       "mean   139.260431              4709.403828        613.663790             \n",
       "std    131.133053              5621.807131        2291.781088            \n",
       "min    0.000000                286.690000         0.000000               \n",
       "25%    44.635000               2671.715000        50.000000              \n",
       "50%    106.555000              3648.740000        248.700000             \n",
       "75%    191.125000              4846.509252        575.000000             \n",
       "max    1409.430000             85529.760000       27012.000000           \n",
       "\n",
       "       total_vitamin-a_(mcg)  total_vitamin-c_(mg)  total_calcium_(mg)  \\\n",
       "count  10000.000000           10000.000000          10000.000000         \n",
       "mean   868.329880             42.305719             665.865436           \n",
       "std    1147.411306            46.360955             466.921131           \n",
       "min    0.000000               0.000000              0.000000             \n",
       "25%    272.375000             11.038000             327.275000           \n",
       "50%    601.000000             30.000000             548.400000           \n",
       "75%    1107.250000            57.177500             893.407500           \n",
       "max    13728.600000           392.400000            3926.000000          \n",
       "\n",
       "       total_iron_(mg)  \n",
       "count  10000.000000     \n",
       "mean   17.423480        \n",
       "std    12.489114        \n",
       "min    0.000000         \n",
       "25%    8.820000         \n",
       "50%    13.323000        \n",
       "75%    22.678500        \n",
       "max    118.363000       "
      ]
     },
     "execution_count": 7,
     "metadata": {},
     "output_type": "execute_result"
    }
   ],
   "source": [
    "### get a quick shot of the micronutrients\n",
    "df[['total_cholesterol_(mg)',\n",
    " 'total_sodium_(mg)',\n",
    " 'total_potassium_(mg)',\n",
    " 'total_vitamin-a_(mcg)',\n",
    " 'total_vitamin-c_(mg)',\n",
    " 'total_calcium_(mg)',\n",
    " 'total_iron_(mg)']].describe()"
   ]
  },
  {
   "cell_type": "code",
   "execution_count": 8,
   "metadata": {
    "collapsed": false
   },
   "outputs": [
    {
     "data": {
      "text/plain": [
       "['total_calories',\n",
       " 'complete_micronutrients?',\n",
       " 'total_fat',\n",
       " 'total_saturated_fat',\n",
       " 'total_carbohydrates',\n",
       " 'total_fiber',\n",
       " 'total_sugar',\n",
       " 'total_protein',\n",
       " 'total_cholesterol_(mg)',\n",
       " 'total_sodium_(mg)',\n",
       " 'total_potassium_(mg)',\n",
       " 'total_vitamin-a_(mcg)',\n",
       " 'total_vitamin-c_(mg)',\n",
       " 'total_calcium_(mg)',\n",
       " 'total_iron_(mg)',\n",
       " 'codes',\n",
       " 'product_names',\n",
       " 'generic_names',\n",
       " 'categories',\n",
       " 'categories_tags',\n",
       " 'ingredients_texts',\n",
       " 'main_categories',\n",
       " 'fruits-vegetables-nuts_100g',\n",
       " 'nutrition-score-uk_100g']"
      ]
     },
     "execution_count": 8,
     "metadata": {},
     "output_type": "execute_result"
    }
   ],
   "source": [
    "list(df.columns)"
   ]
  },
  {
   "cell_type": "code",
   "execution_count": 9,
   "metadata": {
    "collapsed": false
   },
   "outputs": [
    {
     "data": {
      "text/plain": [
       "False    9894\n",
       "True     106 \n",
       "Name: complete_micronutrients?, dtype: int64"
      ]
     },
     "execution_count": 9,
     "metadata": {},
     "output_type": "execute_result"
    }
   ],
   "source": [
    "df['complete_micronutrients?'].value_counts()"
   ]
  },
  {
   "cell_type": "markdown",
   "metadata": {},
   "source": [
    "Of the 10,000 tests, we have found that relatively few days contain complete macronutrient data.  This implies that nutritional databases like this one are not always comprehensive.  This can cause consumer confusion. "
   ]
  },
  {
   "cell_type": "code",
   "execution_count": null,
   "metadata": {
    "collapsed": true
   },
   "outputs": [],
   "source": []
  }
 ],
 "metadata": {
  "anaconda-cloud": {},
  "kernelspec": {
   "display_name": "Python [Root]",
   "language": "python",
   "name": "Python [Root]"
  },
  "language_info": {
   "codemirror_mode": {
    "name": "ipython",
    "version": 3
   },
   "file_extension": ".py",
   "mimetype": "text/x-python",
   "name": "python",
   "nbconvert_exporter": "python",
   "pygments_lexer": "ipython3",
   "version": "3.5.2"
  }
 },
 "nbformat": 4,
 "nbformat_minor": 0
}
