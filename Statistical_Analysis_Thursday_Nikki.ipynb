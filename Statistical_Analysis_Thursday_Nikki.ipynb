{
 "cells": [
  {
   "cell_type": "code",
   "execution_count": 18,
   "metadata": {
    "collapsed": false
   },
   "outputs": [
    {
     "name": "stdout",
     "output_type": "stream",
     "text": [
      "3.5.2 |Anaconda 4.1.1 (x86_64)| (default, Jul  2 2016, 17:52:12) \n",
      "[GCC 4.2.1 Compatible Apple LLVM 4.2 (clang-425.0.28)]\n",
      "1.11.1\n",
      "0.18.1\n"
     ]
    }
   ],
   "source": [
    "%matplotlib inline\n",
    "import sys\n",
    "print(sys.version)\n",
    "import numpy as np\n",
    "print(np.__version__)\n",
    "import pandas as pd\n",
    "print(pd.__version__)\n",
    "import matplotlib.pyplot as plt\n",
    "import re"
   ]
  },
  {
   "cell_type": "markdown",
   "metadata": {},
   "source": [
    "### Question 1\n",
    "How likely is it that a basket of commercially available food items is going to meet recommended levels of nutrients while staying within recommended calorie allowance?"
   ]
  },
  {
   "cell_type": "code",
   "execution_count": 3,
   "metadata": {
    "collapsed": false
   },
   "outputs": [
    {
     "data": {
      "text/html": [
       "<div>\n",
       "<table border=\"1\" class=\"dataframe\">\n",
       "  <thead>\n",
       "    <tr style=\"text-align: right;\">\n",
       "      <th></th>\n",
       "      <th>total_calories</th>\n",
       "      <th>complete_micronutrients?</th>\n",
       "      <th>total_fat</th>\n",
       "      <th>total_saturated_fat</th>\n",
       "      <th>total_carbohydrates</th>\n",
       "      <th>total_fiber</th>\n",
       "      <th>total_sugar</th>\n",
       "      <th>total_protein</th>\n",
       "      <th>total_cholesterol_(mg)</th>\n",
       "      <th>total_sodium_(mg)</th>\n",
       "      <th>...</th>\n",
       "      <th>total_iron_(mg)</th>\n",
       "      <th>codes</th>\n",
       "      <th>product_names</th>\n",
       "      <th>generic_names</th>\n",
       "      <th>categories</th>\n",
       "      <th>categories_tags</th>\n",
       "      <th>ingredients_texts</th>\n",
       "      <th>main_categories</th>\n",
       "      <th>fruits-vegetables-nuts_100g</th>\n",
       "      <th>nutrition-score-uk_100g</th>\n",
       "    </tr>\n",
       "  </thead>\n",
       "  <tbody>\n",
       "    <tr>\n",
       "      <th>0</th>\n",
       "      <td>3594.400</td>\n",
       "      <td>False</td>\n",
       "      <td>194.680</td>\n",
       "      <td>68.03</td>\n",
       "      <td>361.50</td>\n",
       "      <td>41.458</td>\n",
       "      <td>145.249</td>\n",
       "      <td>99.07</td>\n",
       "      <td>11.80</td>\n",
       "      <td>2865.100000</td>\n",
       "      <td>...</td>\n",
       "      <td>26.41</td>\n",
       "      <td>[77034009880, 24300031083, 85239194775, 76808280739, 602652170065, 37600209571, 21130016495, 30000063019, 892809000028, 70852991450]</td>\n",
       "      <td>['Roasted Salted Peanuts', 'Peanut Butter Chip Chewy Granola Bars', 'Black Beans', 'Penne', 'Kind Fruit and Nut', 'SPAM chopped pork and ham', 'Dark chocolate 78% Cacao', \"Cap'n Crunch\", 'Lemonade', 'Cream on Top Forest Berry Organic Yogurt ']</td>\n",
       "      <td>['peanuts', nan, nan, 'Pasta', 'Nut delight ', nan, nan, 'Sweetened corn &amp; oat cereal', nan, nan]</td>\n",
       "      <td>['Plant-based foods and beverages,Plant-based foods,Salty snacks,Nuts,Peanuts', 'Sugary snacks,Bars', 'Canned common beans', 'Plant-based foods and beverages,Plant-based foods,Cereals and potatoes,Cereals and their products,Pastas', 'Energy bar', 'Canned meat', 'Dark chocolate', 'Plant-based foods and beverages,Plant-based foods,Breakfasts,Cereals and potatoes,Cereals and their products,Breakfast cereals', 'Lemonade', 'Dairies,Yogurts']</td>\n",
       "      <td>['en:plant-based-foods-and-beverages,en:plant-based-foods,en:legumes-and-their-products,en:legumes,en:nuts-and-their-products,en:salty-snacks,en:nuts,en:peanuts', 'en:sugary-snacks,en:bars', 'en:plant-based-foods-and-beverages,en:plant-based-foods,en:legumes-and-their-products,en:canned-foods,en:canned-plant-based-foods,en:canned-legumes,en:canned-common-beans', 'en:plant-based-foods-and-beverages,en:plant-based-foods,en:cereals-and-potatoes,en:cereals-and-their-products,en:pastas', 'en:sugary-snacks,en:dietary-supplements,en:bars,en:bodybuilding-supplements,en:energy-bars', 'en:canned-foods,en:canned-meats', 'en:sugary-snacks,en:chocolates,en:dark-chocolates', 'en:plant-based-foods-and-beverages,en:plant-based-foods,en:breakfasts,en:cereals-and-potatoes,en:cereals-and-their-products,en:breakfast-cereals', 'en:beverages,en:carbonated-drinks,en:sodas,en:lemonades,en:sugared-beverages', 'en:dairies,en:yogurts']</td>\n",
       "      <td>['_Peanuts_ Roasted in peanut, Sunflower and/or Cottonseed oil, salt. ', nan, nan, 'SEMOLINA (_WHEAT_), DURUM _WHEAT_ FLOUR, NIACIN, IRON (FERROUS SULFATE), THIAMINE MONONITRATE, RIBOFLAVIN, FOLIC ACID.', 'Almonds, Walnuts, Brazil nuts, peanuts, honey, rice, flax', 'Pork 89%, Salt, Starch, Water, Ham 2%, Sugar, Stabiliser: Trisodium Diphosphate, Flavourings, Antioxidant: Sodium Ascorbate, Preservative: Sodium Nitrite', 'Chocolate Liquor, Cocoa Butter, Sugar, Cocoa Powder, Natural Flavor', 'Corn flour, sugar, _oat_ flour, brown sugar, _coconut_ oil, salt, niacinamide*, yellow 5, reduced iron, zinc oxide, yellow 6, thiamin mononitrate*, BHT (a preservative), pyridoxine hydrochloride*, riboflavin*, folic acid*. *One of the B vitamins', nan, 'Organic Pasteurized _Milk_, Organic Pasteurized _Cream_, Organic Nonfat Pasteurized _Milk_, Organic Raspberries, Organic Strawberries, Organic Blueberries, Organic Cane Sugar, Pectin, Organic Corn Starch, Natural Flavor, Live Active Cultures.  ']</td>\n",
       "      <td>['en:peanuts', 'en:bars', 'en:canned-common-beans', 'en:pastas', 'en:bodybuilding-supplements', 'en:canned-meats', 'en:dark-chocolates', 'en:breakfast-cereals', 'en:lemonades', 'en:yogurts']</td>\n",
       "      <td>[nan, nan, nan, nan, nan, nan, nan, nan, 15.0, nan]</td>\n",
       "      <td>[13.0, 21.0, -6.0, -6.0, 7.0, 22.0, 15.0, 21.0, nan, 5.0]</td>\n",
       "    </tr>\n",
       "    <tr>\n",
       "      <th>1</th>\n",
       "      <td>2172.910</td>\n",
       "      <td>False</td>\n",
       "      <td>43.830</td>\n",
       "      <td>5.95</td>\n",
       "      <td>363.10</td>\n",
       "      <td>30.023</td>\n",
       "      <td>133.100</td>\n",
       "      <td>81.51</td>\n",
       "      <td>430.00</td>\n",
       "      <td>2575.580000</td>\n",
       "      <td>...</td>\n",
       "      <td>12.29</td>\n",
       "      <td>[199681, 2502108, 854252, 791669368678, 20662101266, 639277135322, 51000000118, 819898010004, 717544301721, 711575102104]</td>\n",
       "      <td>['Multigrain Toaster Waffles', 'Simply Lemonade', 'Mango Ginger Chutney', 'Crisp Rice Toasted Rice Cereal', 'Virgin Lemonade', 'Lite pancake syrup', 'Campbell Tomato Soup', 'Sea Salt &amp; Cracked Black Pepper Rice Thin Crackers', 'Large Grade AA 5 Dozen Eggs', 'Spicy Wasabi']</td>\n",
       "      <td>[nan, nan, nan, nan, nan, nan, 'Tomato Soup', nan, nan, nan]</td>\n",
       "      <td>['Breakfasts,Waffles', 'Beverages,Carbonated drinks,Sodas,Lemonades', nan, 'Cereal', nan, 'Sweeteners,Syrups,Simple syrups,Maple syrups', 'Meals,Soups,Tomato Soups', 'Salty snacks,Appetizers,Crackers', 'Farming products,Eggs', nan]</td>\n",
       "      <td>['en:breakfasts,en:waffles', 'en:beverages,en:carbonated-drinks,en:sodas,en:lemonades,en:sugared-beverages', nan, 'en:plant-based-foods-and-beverages,en:plant-based-foods,en:cereals-and-potatoes,en:cereals-and-their-products', nan, 'en:sweeteners,en:syrups,en:simple-syrups,en:maple-syrups', 'en:meals,en:soups,en:tomato-soups', 'en:salty-snacks,en:appetizers,en:crackers', 'en:farming-products,en:bird-eggs,en:eggs', nan]</td>\n",
       "      <td>['Water, Whole _Wheat_ Flour, Enriched Flour (_Wheat_ Flour, Niacin, Reduced Iron, Thiamin Mononitrate, Riboflavin, Folic Acid), Canola and/or _Soybean_ Oil, Evaporated Cane Sugar (Naturally Milled Can Sugar), _Whey_ Powder (_milk_), Leavening (Sodium Acid Pyrophosphate, Sodium Bicarbonate, Monocalcium Phosphate) _Egg_ Whites, Oat Bran, Brown Rice Flour, Barley Flour, Dark Rye Flour, Corn Flour, _Soy_ Lecithin (emulsifier), Honey, Salt.', 'PURE FILTERED WATER, SUGAR, LEMON JUICE, NATURAL FLAVORS.', 'MANGO, SUGAR, RED BELL PEPPER, WATER, RED WINE VINEGAR, RAISINS, GINGER, TAPIOCA STARCH, CAYENNE PEPPER, SEA SALT, LOCUST BEAN GUM, XANTHAN GUM.', nan, nan, 'WATER, HIGH FRUCTOSE CORN SYRUP, CONTAINS LESS THAN 2% OF CELLULOSE GUM, CARMEL COLOR, SALT, NATURAL AND ARTIFICIAL FLAVORS, PHOSPHORIC ACID, POTASSIUM SORBATE, SODIUM HEXAMETAPHOSPHATE, SODIUM BENZOATE (PRESERVATIVES)', 'Tomato Puree (Water, Tomato Paste), High Fructose Corn Syrup, _Wheat_ Flour, Water, Salt, Potassium Chloride, Flavoring, Citric Acid, Lower Sodium Natural Sea Salt, Ascorbic Acid [Vitamin C], Monopotassium Phosphate', 'Brown Rice Flour, Potato Starch, Safflower Oil, Whole Grain Sorghum Flour, Quinoa Seeds, Sesame Seeds, Sea Salt &amp; Pepper Seasoning (Sea Salt, Potassium Chloride, Black Pepper, Natural Flavors), Millet, Flax Seeds, Amaranth Seeds', 'Large Grade AA eggs.', nan]</td>\n",
       "      <td>['en:waffles', 'en:lemonades', nan, 'en:cereals-and-their-products', nan, 'en:maple-syrups', 'en:soups', 'en:crackers', 'en:eggs', nan]</td>\n",
       "      <td>[nan, nan, nan, nan, nan, nan, nan, nan, nan, nan]</td>\n",
       "      <td>[2.0, nan, 10.0, 12.0, nan, nan, 4.0, nan, -1.0, 0.0]</td>\n",
       "    </tr>\n",
       "    <tr>\n",
       "      <th>2</th>\n",
       "      <td>3385.220</td>\n",
       "      <td>False</td>\n",
       "      <td>140.940</td>\n",
       "      <td>80.40</td>\n",
       "      <td>395.60</td>\n",
       "      <td>22.297</td>\n",
       "      <td>256.780</td>\n",
       "      <td>133.59</td>\n",
       "      <td>118.13</td>\n",
       "      <td>4885.740157</td>\n",
       "      <td>...</td>\n",
       "      <td>6.87</td>\n",
       "      <td>[73214004034, 13764027138, 894700010335, 37466062150, 818290012289, 43000928608, 2000000020920, 26200140605, 78742370101, 4000539221606]</td>\n",
       "      <td>['Imported Gourmet Non-Pareil Capers', nan, 'Chobani Greek Yogurt Strawberry on the bottom', 'Lindor White', 'Greek Yogurt &amp;quot;Flip&amp;quot; Almond Coco Loco', 'Lemonade', 'Lotao Glam Wedding Pink', 'slim jim', 'Reduced Calorie Syrup', 'Cookies &amp; Cream']</td>\n",
       "      <td>[nan, nan, 'Greek Yogurt', 'White chocolate truffles', nan, nan, 'Pink Rice', nan, nan, nan]</td>\n",
       "      <td>['Capers', 'sliced bread', 'Dairies,Yogurts,Greek yogurts', 'Bonbons', 'Greek Yogurt', 'Lemonade', 'Plant-based foods and beverages,Plant-based foods,Cereals and potatoes,Seeds,Cereals and their products,Cereal grains,Rices', nan, 'maple syrup', nan]</td>\n",
       "      <td>['en:capers', 'en:plant-based-foods-and-beverages,en:plant-based-foods,en:cereals-and-potatoes,en:breads,en:sliced-breads', 'en:dairies,en:yogurts,en:greek-yogurts', 'en:sugary-snacks,en:confectioneries,en:candies,en:bonbons', 'en:dairies,en:yogurts,en:greek-yogurts', 'en:beverages,en:carbonated-drinks,en:sodas,en:lemonades,en:sugared-beverages', 'en:plant-based-foods-and-beverages,en:plant-based-foods,en:cereals-and-potatoes,en:seeds,en:cereals-and-their-products,en:cereal-grains,en:rices', nan, 'en:sweeteners,en:syrups,en:simple-syrups,en:maple-syrups', nan]</td>\n",
       "      <td>['CAPERS, WATER, DISTILLED VINEGAR, SEA SALT.', nan, 'Nonfat Yogurt (Cultured Pasteurized Nonfat Milk, Live and Active Cultures, S. Thermophilus, L. Bulgaricus, L. Acidophilus, Bifidus and L. Case), Strawberries, Evaporated Cane Juice, Pectin, Locust Bean Gum, Natural Flavour', nan, 'LOWFAT YOGURT (CULTURED PASTEURIZED NONFAT MILK, CREAM, LIVE AND ACTIVE CULTURES (S. Thermophilus, L. BULGARICUS, L. ACIDOPHILUS, BIFIDUS AND L. CASEI)), EVAPORATED CANE JUICE, WATER, Almonds, Chocolate Liquor, Sugar,    Coconut, HONEY, COOOA POWDER, COCOA BUTTER, NATURAL FLAVORS. PECTIN, SEA SALT, GUAR GUM, LOCUST BEAN GUM', nan, nan, nan, 'WATER, HIGH FRUCTOSE CORN SYRUP, SUGAR SYRUP, CONTAINS LESS THAN 2% OF CELLULOSE GUM, SALT, NATURAL AND ARTIFICIAL FLAVORS, SORBIC ACID AND SODIUM BENZOATE (PRESERVATIVES), CARMEL COLOR, SODIUM HEXAMETAPHOSPHATE, CITRIC ACID.', nan]</td>\n",
       "      <td>['en:capers', 'en:sliced-breads', 'en:greek-yogurts', 'en:bonbons', 'en:greek-yogurts', 'en:lemonades', 'en:rices', nan, 'en:maple-syrups', nan]</td>\n",
       "      <td>[nan, nan, nan, nan, nan, nan, nan, nan, nan, nan]</td>\n",
       "      <td>[4.0, -4.0, -2.0, 22.0, 1.0, nan, nan, 24.0, 11.0, 27.0]</td>\n",
       "    </tr>\n",
       "    <tr>\n",
       "      <th>3</th>\n",
       "      <td>3699.781</td>\n",
       "      <td>False</td>\n",
       "      <td>169.429</td>\n",
       "      <td>34.93</td>\n",
       "      <td>448.34</td>\n",
       "      <td>31.640</td>\n",
       "      <td>110.280</td>\n",
       "      <td>95.39</td>\n",
       "      <td>387.30</td>\n",
       "      <td>6523.600000</td>\n",
       "      <td>...</td>\n",
       "      <td>36.52</td>\n",
       "      <td>[48001213920, 715141113563, 38000787270, 70221011116, 72000753330, 93215150400, 71429098497, 72368136011, 11110673541, 21000002825]</td>\n",
       "      <td>['Canola mayonnaise dressing', \"Egg Land's best\", 'Special K Protein', 'Toblerone', 'Pretzel Nuggets Peanut Butter Filled', 'Oyster Crackers', 'Red Beans and Rice', 'Sun dried tomato Bruschetta', 'Orange Gelatin Dessert', 'Balsamic vinaigrette dressing']</td>\n",
       "      <td>['Mayonnaise', 'Grade A extra large eggs', 'Lightly Sweetened Wheat, Rice &amp; Soy Flakes', 'Swiss Milk Chocolate with Honey &amp; Almond Nougat', nan, nan, nan, nan, nan, nan]</td>\n",
       "      <td>['Groceries,Sauces,Mayonnaises', 'Farming products,Eggs', 'Plant-based foods and beverages,Plant-based foods,Breakfasts,Cereals and potatoes,Cereals and their products,Breakfast cereals,Flakes,Cereal flakes,Wheat flakes,Rice flakes', 'Sugary snacks,Confectioneries,Candies,Chocolates,Milk chocolates', 'Snacks,salty snack,pretzels', 'Salty snacks,Appetizers,Crackers', nan, 'Bruschetta', 'Desserts,Non-dairy desserts', 'Balsamic vinaigrette dressing']</td>\n",
       "      <td>['en:groceries,en:sauces,en:mayonnaises', 'en:farming-products,en:bird-eggs,en:eggs', 'en:plant-based-foods-and-beverages,en:plant-based-foods,en:breakfasts,en:cereals-and-potatoes,en:cereals-and-their-products,en:breakfast-cereals,en:flakes,en:cereal-flakes,en:wheat-flakes,en:rice-flakes', 'en:sugary-snacks,en:confectioneries,en:candies,en:chocolates,en:milk-chocolates', 'en:salty-snacks,en:appetizers,en:crackers,en:pretzel,en:snacks', 'en:salty-snacks,en:appetizers,en:crackers', nan, 'en:bruschetta', 'en:desserts,en:non-dairy-desserts', 'en:balsamic-vinaigrette-dressing']</td>\n",
       "      <td>['Water, canola oil, modified food starch (corn, potato), eggs, sugar, vinegar, salt, natural flavor (_soy_), lemon juice concentrate, sorbic acid and calcium disodium edta, extractives of paprika, vitamin e, beta carotene (color).', nan, 'Whole grain _wheat_, _wheat_ _gluten_, sugar, rice, _soy_ protein isolate, _wheat_ bran, defatted _soy_ grits, contains 2% or less of salt, cinnamon, malt flavor, L-lysine monohydrochloride, _soy_ lecithin, sucralose, BHT for freshness. Vitamins and Minerals: Reduced iron, niacinamide, vitamin B6 (pyridoxine hydrochloride), vitamin B1 (thiamin hydrochloride), vitamin A palmitate, vitamin B2 (riboflavin), folic acid, vitamin B12, vitamin D3.', 'MILK CHOCOLATE (SUGAR, _MILK_, COCOA BUTTER, CHOCOLATE, MILKFAT, _SOY_ LECITHIN - AN EMULSIFIER, VANILLIN - AN ARTIFICIAL FLAVOR), SUGAR, HONEY, _ALMONDS_, INVERT SUGAR, _EGG_ WHITES.', 'Enriched _Wheat_ Flour (_Wheat_ Flour, Niacin, Reduced Iron, Thiamine Mononitrate, Riboflavin, Folic Acid), _Peanut_ Butter (_Peanuts_, Sugar, Mono- and Diglycerides, Salt), Salt, Less than 2% of: Vegetable Oil (Canola Oil and/or _Soybean_ Oil), Corn Syrup, _Barley_ Malt Extract, Caramel Color, Leavening (Contains One or More of the Following: Yeast, Sodium Bicarbonate, Ammonium Bicarbonate)', 'Unbleached _Wheat_ Flour, Water, Canola Oil, Cane Sugar, Salt, Yeast, Baking Soda', nan, 'SUNDRIED TOMATOES (TOMATOES, _SULFUR DIOXIDE_), OLIVE OIL, VINEGAR, SALT, SPICES, CITRIC ACID.  ', 'SUGAR, GELATIN, CONTAINS 2% OR LESS OF: DISODIUM PHOSPHATE, FUMARIC ACID, ADIPIC ACID, NATURAL AND ARTIFICIAL FLAVOR WITH BHA, COLOR (YELLOW 6).', nan]</td>\n",
       "      <td>['en:mayonnaises', 'en:eggs', 'en:cereal-flakes', 'en:milk-chocolates', 'en:pretzel', 'en:crackers', nan, 'en:bruschetta', 'en:non-dairy-desserts', 'en:balsamic-vinaigrette-dressing']</td>\n",
       "      <td>[nan, nan, nan, nan, nan, nan, nan, nan, nan, nan]</td>\n",
       "      <td>[nan, nan, 9.0, 22.0, 16.0, nan, 9.0, 16.0, nan, 15.0]</td>\n",
       "    </tr>\n",
       "    <tr>\n",
       "      <th>4</th>\n",
       "      <td>4397.990</td>\n",
       "      <td>False</td>\n",
       "      <td>276.310</td>\n",
       "      <td>80.74</td>\n",
       "      <td>398.85</td>\n",
       "      <td>61.010</td>\n",
       "      <td>196.460</td>\n",
       "      <td>78.95</td>\n",
       "      <td>145.50</td>\n",
       "      <td>4558.200000</td>\n",
       "      <td>...</td>\n",
       "      <td>19.96</td>\n",
       "      <td>[44000072742, 41268113033, 72878275637, 38000845512, 20420888, 37466042695, 48001139985, 765171301553, 96619111558, 812907011160]</td>\n",
       "      <td>['Oreo', 'Creamy Peanut Butter', 'Salsa Casera Mild', 'Pringles Original', 'Four multi grain rolls', 'Excellence 90% Cocoa Supreme Dark', 'Real Mayonnaise', 'Sorpressa Veneta', 'Clover Honey', 'Organic Blueberries']</td>\n",
       "      <td>['Chocolate sandwich cookies', 'Peanut butter', nan, nan, 'Buns', nan, nan, nan, nan, nan]</td>\n",
       "      <td>['Sugary snacks,Biscuits and cakes,Biscuits,Cookies', 'Creamy Peanut Butter,Peanut Butter', 'Salsa', nan, 'Plant-based foods and beverages,Plant-based foods,Cereals and potatoes,Breads,Buns,Whole Grain', 'Sugary snacks,Chocolates,Dark chocolates', 'Groceries,Sauces,Mayonnaises', nan, 'Breakfasts,Spreads,Sweet spreads,Bee products,Farming products,Sweeteners,Honeys', 'Blueberries']</td>\n",
       "      <td>['en:sugary-snacks,en:biscuits-and-cakes,en:biscuits,en:cookies', 'en:plant-based-foods-and-beverages,en:plant-based-foods,en:legumes-and-their-products,en:spreads,en:nuts-and-their-products,en:plant-based-spreads,en:oilseed-purees,en:nut-butters,en:legume-butters,en:peanut-butters,en:creamy-peanut-butter', 'en:salsa', nan, 'en:plant-based-foods-and-beverages,en:plant-based-foods,en:cereals-and-potatoes,en:breads,en:buns,en:whole-grain', 'en:sugary-snacks,en:chocolates,en:dark-chocolates', 'en:groceries,en:sauces,en:mayonnaises', nan, 'en:breakfasts,en:spreads,en:sweet-spreads,en:bee-products,en:farming-products,en:sweeteners,en:honeys', 'en:plant-based-foods-and-beverages,en:plant-based-foods,en:fruits-and-vegetables-based-foods,en:fruits-based-foods,en:fruits,en:berries,en:blueberries']</td>\n",
       "      <td>['UNBLEACHED ENRICHED FLOUR (_WHEAT_ FLOUR, NIACIN, REDUCED IRON, THIAMINE MONONITRATE (VITAMIN B1), RIBOFLAVIN (VITAMIN B2), FOLIC ACID), SUGAR, PALM AND/OR CANOLA OIL, COCOA (PROCESSED WITH ALKALI), HIGH FRUCTOSE CORN SYRUP, LEAVENING (BAKING SODA AND/OR CALCIUM PHOSPHATE), CORNSTARCH, SALT, _SOY_ LECITHIN, VANILLIN (AN ARTIFICIAL FLAVOR), CHOCOLATE ', '_Peanuts_, dextrose, corn syrup and fully hydrogenated vegetable oils (rapeseed, cottonseed and soybean)', 'Tomatoes, Onions, Salt, Chili peppers (Serrano and/or jalapeño), Cilantro, Pectin, Citric Acid', nan, ' Ingredients: Water, Whole Wheat flour, Enriched Wheat Flour (Wheat Flour, Malted Barley Flour, Niacin, Reduced lron, Thiamine Mononitrate, Riboflavln, Folic Acid), Multigrain Mix (Whole Wheat Flour, Rolled Wheat, Sunflower Seeds, Triticale   Flakes, Rolled Oats, Flax Seeds, wheat   Nuggets, Rye Nuggets, Barley Flakes, Degermed Yellow Corn Grlts, Millet, Buckwheat Flour, Guar Gum, Enzymes),  Yeast, Wheat Gluten, Sugar, Soybean Oil.   Contains 2% Or Less 0f:Flax Seeds, or sesame Seeds, Salt, Molasses. Baby oats,,wheat Starch, Citric Acid. Vegetable Monoglycerides,    Ascorbic Àcid(Vitamin C as dough conditioner),_Wheat_, _Soy_', 'Chocolate, cocoa butter, cocoa powder processed with alkali, sugar, bourbon vanilla beans.', 'Soybean oil, water, whole eggs and egg yolks, vinegar, salt, sugar, lemon juice, calcium disodium EDTA (used to protect quality), natural flavors.', nan, nan, 'Organic Blueberries']</td>\n",
       "      <td>['en:cookies', 'en:legume-butters', 'en:salsa', nan, 'en:breads', 'en:dark-chocolates', 'en:mayonnaises', nan, 'en:honeys', 'en:berries']</td>\n",
       "      <td>[nan, nan, nan, nan, nan, nan, nan, nan, nan, nan]</td>\n",
       "      <td>[19.0, 12.0, 7.0, 18.0, 0.0, 13.0, 25.0, 24.0, nan, 4.0]</td>\n",
       "    </tr>\n",
       "  </tbody>\n",
       "</table>\n",
       "<p>5 rows × 24 columns</p>\n",
       "</div>"
      ],
      "text/plain": [
       "   total_calories complete_micronutrients?  total_fat  total_saturated_fat  \\\n",
       "0  3594.400        False                    194.680    68.03                 \n",
       "1  2172.910        False                    43.830     5.95                  \n",
       "2  3385.220        False                    140.940    80.40                 \n",
       "3  3699.781        False                    169.429    34.93                 \n",
       "4  4397.990        False                    276.310    80.74                 \n",
       "\n",
       "   total_carbohydrates  total_fiber  total_sugar  total_protein  \\\n",
       "0  361.50               41.458       145.249      99.07           \n",
       "1  363.10               30.023       133.100      81.51           \n",
       "2  395.60               22.297       256.780      133.59          \n",
       "3  448.34               31.640       110.280      95.39           \n",
       "4  398.85               61.010       196.460      78.95           \n",
       "\n",
       "   total_cholesterol_(mg)  total_sodium_(mg)  \\\n",
       "0  11.80                   2865.100000         \n",
       "1  430.00                  2575.580000         \n",
       "2  118.13                  4885.740157         \n",
       "3  387.30                  6523.600000         \n",
       "4  145.50                  4558.200000         \n",
       "\n",
       "                             ...                              total_iron_(mg)  \\\n",
       "0                            ...                              26.41             \n",
       "1                            ...                              12.29             \n",
       "2                            ...                              6.87              \n",
       "3                            ...                              36.52             \n",
       "4                            ...                              19.96             \n",
       "\n",
       "                                                                                                                                      codes  \\\n",
       "0  [77034009880, 24300031083, 85239194775, 76808280739, 602652170065, 37600209571, 21130016495, 30000063019, 892809000028, 70852991450]       \n",
       "1  [199681, 2502108, 854252, 791669368678, 20662101266, 639277135322, 51000000118, 819898010004, 717544301721, 711575102104]                  \n",
       "2  [73214004034, 13764027138, 894700010335, 37466062150, 818290012289, 43000928608, 2000000020920, 26200140605, 78742370101, 4000539221606]   \n",
       "3  [48001213920, 715141113563, 38000787270, 70221011116, 72000753330, 93215150400, 71429098497, 72368136011, 11110673541, 21000002825]        \n",
       "4  [44000072742, 41268113033, 72878275637, 38000845512, 20420888, 37466042695, 48001139985, 765171301553, 96619111558, 812907011160]          \n",
       "\n",
       "                                                                                                                                                                                                                                                                       product_names  \\\n",
       "0  ['Roasted Salted Peanuts', 'Peanut Butter Chip Chewy Granola Bars', 'Black Beans', 'Penne', 'Kind Fruit and Nut', 'SPAM chopped pork and ham', 'Dark chocolate 78% Cacao', \"Cap'n Crunch\", 'Lemonade', 'Cream on Top Forest Berry Organic Yogurt ']                                 \n",
       "1  ['Multigrain Toaster Waffles', 'Simply Lemonade', 'Mango Ginger Chutney', 'Crisp Rice Toasted Rice Cereal', 'Virgin Lemonade', 'Lite pancake syrup', 'Campbell Tomato Soup', 'Sea Salt & Cracked Black Pepper Rice Thin Crackers', 'Large Grade AA 5 Dozen Eggs', 'Spicy Wasabi']   \n",
       "2  ['Imported Gourmet Non-Pareil Capers', nan, 'Chobani Greek Yogurt Strawberry on the bottom', 'Lindor White', 'Greek Yogurt &quot;Flip&quot; Almond Coco Loco', 'Lemonade', 'Lotao Glam Wedding Pink', 'slim jim', 'Reduced Calorie Syrup', 'Cookies & Cream']                       \n",
       "3  ['Canola mayonnaise dressing', \"Egg Land's best\", 'Special K Protein', 'Toblerone', 'Pretzel Nuggets Peanut Butter Filled', 'Oyster Crackers', 'Red Beans and Rice', 'Sun dried tomato Bruschetta', 'Orange Gelatin Dessert', 'Balsamic vinaigrette dressing']                      \n",
       "4  ['Oreo', 'Creamy Peanut Butter', 'Salsa Casera Mild', 'Pringles Original', 'Four multi grain rolls', 'Excellence 90% Cocoa Supreme Dark', 'Real Mayonnaise', 'Sorpressa Veneta', 'Clover Honey', 'Organic Blueberries']                                                             \n",
       "\n",
       "                                                                                                                                                               generic_names  \\\n",
       "0  ['peanuts', nan, nan, 'Pasta', 'Nut delight ', nan, nan, 'Sweetened corn & oat cereal', nan, nan]                                                                           \n",
       "1  [nan, nan, nan, nan, nan, nan, 'Tomato Soup', nan, nan, nan]                                                                                                                \n",
       "2  [nan, nan, 'Greek Yogurt', 'White chocolate truffles', nan, nan, 'Pink Rice', nan, nan, nan]                                                                                \n",
       "3  ['Mayonnaise', 'Grade A extra large eggs', 'Lightly Sweetened Wheat, Rice & Soy Flakes', 'Swiss Milk Chocolate with Honey & Almond Nougat', nan, nan, nan, nan, nan, nan]   \n",
       "4  ['Chocolate sandwich cookies', 'Peanut butter', nan, nan, 'Buns', nan, nan, nan, nan, nan]                                                                                  \n",
       "\n",
       "                                                                                                                                                                                                                                                                                                                                                                                                                                                            categories  \\\n",
       "0  ['Plant-based foods and beverages,Plant-based foods,Salty snacks,Nuts,Peanuts', 'Sugary snacks,Bars', 'Canned common beans', 'Plant-based foods and beverages,Plant-based foods,Cereals and potatoes,Cereals and their products,Pastas', 'Energy bar', 'Canned meat', 'Dark chocolate', 'Plant-based foods and beverages,Plant-based foods,Breakfasts,Cereals and potatoes,Cereals and their products,Breakfast cereals', 'Lemonade', 'Dairies,Yogurts']              \n",
       "1  ['Breakfasts,Waffles', 'Beverages,Carbonated drinks,Sodas,Lemonades', nan, 'Cereal', nan, 'Sweeteners,Syrups,Simple syrups,Maple syrups', 'Meals,Soups,Tomato Soups', 'Salty snacks,Appetizers,Crackers', 'Farming products,Eggs', nan]                                                                                                                                                                                                                               \n",
       "2  ['Capers', 'sliced bread', 'Dairies,Yogurts,Greek yogurts', 'Bonbons', 'Greek Yogurt', 'Lemonade', 'Plant-based foods and beverages,Plant-based foods,Cereals and potatoes,Seeds,Cereals and their products,Cereal grains,Rices', nan, 'maple syrup', nan]                                                                                                                                                                                                            \n",
       "3  ['Groceries,Sauces,Mayonnaises', 'Farming products,Eggs', 'Plant-based foods and beverages,Plant-based foods,Breakfasts,Cereals and potatoes,Cereals and their products,Breakfast cereals,Flakes,Cereal flakes,Wheat flakes,Rice flakes', 'Sugary snacks,Confectioneries,Candies,Chocolates,Milk chocolates', 'Snacks,salty snack,pretzels', 'Salty snacks,Appetizers,Crackers', nan, 'Bruschetta', 'Desserts,Non-dairy desserts', 'Balsamic vinaigrette dressing']   \n",
       "4  ['Sugary snacks,Biscuits and cakes,Biscuits,Cookies', 'Creamy Peanut Butter,Peanut Butter', 'Salsa', nan, 'Plant-based foods and beverages,Plant-based foods,Cereals and potatoes,Breads,Buns,Whole Grain', 'Sugary snacks,Chocolates,Dark chocolates', 'Groceries,Sauces,Mayonnaises', nan, 'Breakfasts,Spreads,Sweet spreads,Bee products,Farming products,Sweeteners,Honeys', 'Blueberries']                                                                       \n",
       "\n",
       "                                                                                                                                                                                                                                                                                                                                                                                                                                                                                                                                                                                                                                                                                                                                                                                                                                                                                                                                              categories_tags  \\\n",
       "0  ['en:plant-based-foods-and-beverages,en:plant-based-foods,en:legumes-and-their-products,en:legumes,en:nuts-and-their-products,en:salty-snacks,en:nuts,en:peanuts', 'en:sugary-snacks,en:bars', 'en:plant-based-foods-and-beverages,en:plant-based-foods,en:legumes-and-their-products,en:canned-foods,en:canned-plant-based-foods,en:canned-legumes,en:canned-common-beans', 'en:plant-based-foods-and-beverages,en:plant-based-foods,en:cereals-and-potatoes,en:cereals-and-their-products,en:pastas', 'en:sugary-snacks,en:dietary-supplements,en:bars,en:bodybuilding-supplements,en:energy-bars', 'en:canned-foods,en:canned-meats', 'en:sugary-snacks,en:chocolates,en:dark-chocolates', 'en:plant-based-foods-and-beverages,en:plant-based-foods,en:breakfasts,en:cereals-and-potatoes,en:cereals-and-their-products,en:breakfast-cereals', 'en:beverages,en:carbonated-drinks,en:sodas,en:lemonades,en:sugared-beverages', 'en:dairies,en:yogurts']   \n",
       "1  ['en:breakfasts,en:waffles', 'en:beverages,en:carbonated-drinks,en:sodas,en:lemonades,en:sugared-beverages', nan, 'en:plant-based-foods-and-beverages,en:plant-based-foods,en:cereals-and-potatoes,en:cereals-and-their-products', nan, 'en:sweeteners,en:syrups,en:simple-syrups,en:maple-syrups', 'en:meals,en:soups,en:tomato-soups', 'en:salty-snacks,en:appetizers,en:crackers', 'en:farming-products,en:bird-eggs,en:eggs', nan]                                                                                                                                                                                                                                                                                                                                                                                                                                                                                                                       \n",
       "2  ['en:capers', 'en:plant-based-foods-and-beverages,en:plant-based-foods,en:cereals-and-potatoes,en:breads,en:sliced-breads', 'en:dairies,en:yogurts,en:greek-yogurts', 'en:sugary-snacks,en:confectioneries,en:candies,en:bonbons', 'en:dairies,en:yogurts,en:greek-yogurts', 'en:beverages,en:carbonated-drinks,en:sodas,en:lemonades,en:sugared-beverages', 'en:plant-based-foods-and-beverages,en:plant-based-foods,en:cereals-and-potatoes,en:seeds,en:cereals-and-their-products,en:cereal-grains,en:rices', nan, 'en:sweeteners,en:syrups,en:simple-syrups,en:maple-syrups', nan]                                                                                                                                                                                                                                                                                                                                                                       \n",
       "3  ['en:groceries,en:sauces,en:mayonnaises', 'en:farming-products,en:bird-eggs,en:eggs', 'en:plant-based-foods-and-beverages,en:plant-based-foods,en:breakfasts,en:cereals-and-potatoes,en:cereals-and-their-products,en:breakfast-cereals,en:flakes,en:cereal-flakes,en:wheat-flakes,en:rice-flakes', 'en:sugary-snacks,en:confectioneries,en:candies,en:chocolates,en:milk-chocolates', 'en:salty-snacks,en:appetizers,en:crackers,en:pretzel,en:snacks', 'en:salty-snacks,en:appetizers,en:crackers', nan, 'en:bruschetta', 'en:desserts,en:non-dairy-desserts', 'en:balsamic-vinaigrette-dressing']                                                                                                                                                                                                                                                                                                                                                         \n",
       "4  ['en:sugary-snacks,en:biscuits-and-cakes,en:biscuits,en:cookies', 'en:plant-based-foods-and-beverages,en:plant-based-foods,en:legumes-and-their-products,en:spreads,en:nuts-and-their-products,en:plant-based-spreads,en:oilseed-purees,en:nut-butters,en:legume-butters,en:peanut-butters,en:creamy-peanut-butter', 'en:salsa', nan, 'en:plant-based-foods-and-beverages,en:plant-based-foods,en:cereals-and-potatoes,en:breads,en:buns,en:whole-grain', 'en:sugary-snacks,en:chocolates,en:dark-chocolates', 'en:groceries,en:sauces,en:mayonnaises', nan, 'en:breakfasts,en:spreads,en:sweet-spreads,en:bee-products,en:farming-products,en:sweeteners,en:honeys', 'en:plant-based-foods-and-beverages,en:plant-based-foods,en:fruits-and-vegetables-based-foods,en:fruits-based-foods,en:fruits,en:berries,en:blueberries']                                                                                                                              \n",
       "\n",
       "                                                                                                                                                                                                                                                                                                                                                                                                                                                                                                                                                                                                                                                                                                                                                                                                                                                                                                                                                                                                                                                                                                                                                                                                                                                                                                                                                                                                                                                                                                                                                                                                                                                                ingredients_texts  \\\n",
       "0  ['_Peanuts_ Roasted in peanut, Sunflower and/or Cottonseed oil, salt. ', nan, nan, 'SEMOLINA (_WHEAT_), DURUM _WHEAT_ FLOUR, NIACIN, IRON (FERROUS SULFATE), THIAMINE MONONITRATE, RIBOFLAVIN, FOLIC ACID.', 'Almonds, Walnuts, Brazil nuts, peanuts, honey, rice, flax', 'Pork 89%, Salt, Starch, Water, Ham 2%, Sugar, Stabiliser: Trisodium Diphosphate, Flavourings, Antioxidant: Sodium Ascorbate, Preservative: Sodium Nitrite', 'Chocolate Liquor, Cocoa Butter, Sugar, Cocoa Powder, Natural Flavor', 'Corn flour, sugar, _oat_ flour, brown sugar, _coconut_ oil, salt, niacinamide*, yellow 5, reduced iron, zinc oxide, yellow 6, thiamin mononitrate*, BHT (a preservative), pyridoxine hydrochloride*, riboflavin*, folic acid*. *One of the B vitamins', nan, 'Organic Pasteurized _Milk_, Organic Pasteurized _Cream_, Organic Nonfat Pasteurized _Milk_, Organic Raspberries, Organic Strawberries, Organic Blueberries, Organic Cane Sugar, Pectin, Organic Corn Starch, Natural Flavor, Live Active Cultures.  ']                                                                                                                                                                                                                                                                                                                                                                                                                                                                                                                                                                                                                                              \n",
       "1  ['Water, Whole _Wheat_ Flour, Enriched Flour (_Wheat_ Flour, Niacin, Reduced Iron, Thiamin Mononitrate, Riboflavin, Folic Acid), Canola and/or _Soybean_ Oil, Evaporated Cane Sugar (Naturally Milled Can Sugar), _Whey_ Powder (_milk_), Leavening (Sodium Acid Pyrophosphate, Sodium Bicarbonate, Monocalcium Phosphate) _Egg_ Whites, Oat Bran, Brown Rice Flour, Barley Flour, Dark Rye Flour, Corn Flour, _Soy_ Lecithin (emulsifier), Honey, Salt.', 'PURE FILTERED WATER, SUGAR, LEMON JUICE, NATURAL FLAVORS.', 'MANGO, SUGAR, RED BELL PEPPER, WATER, RED WINE VINEGAR, RAISINS, GINGER, TAPIOCA STARCH, CAYENNE PEPPER, SEA SALT, LOCUST BEAN GUM, XANTHAN GUM.', nan, nan, 'WATER, HIGH FRUCTOSE CORN SYRUP, CONTAINS LESS THAN 2% OF CELLULOSE GUM, CARMEL COLOR, SALT, NATURAL AND ARTIFICIAL FLAVORS, PHOSPHORIC ACID, POTASSIUM SORBATE, SODIUM HEXAMETAPHOSPHATE, SODIUM BENZOATE (PRESERVATIVES)', 'Tomato Puree (Water, Tomato Paste), High Fructose Corn Syrup, _Wheat_ Flour, Water, Salt, Potassium Chloride, Flavoring, Citric Acid, Lower Sodium Natural Sea Salt, Ascorbic Acid [Vitamin C], Monopotassium Phosphate', 'Brown Rice Flour, Potato Starch, Safflower Oil, Whole Grain Sorghum Flour, Quinoa Seeds, Sesame Seeds, Sea Salt & Pepper Seasoning (Sea Salt, Potassium Chloride, Black Pepper, Natural Flavors), Millet, Flax Seeds, Amaranth Seeds', 'Large Grade AA eggs.', nan]                                                                                                                                                                                                                                                              \n",
       "2  ['CAPERS, WATER, DISTILLED VINEGAR, SEA SALT.', nan, 'Nonfat Yogurt (Cultured Pasteurized Nonfat Milk, Live and Active Cultures, S. Thermophilus, L. Bulgaricus, L. Acidophilus, Bifidus and L. Case), Strawberries, Evaporated Cane Juice, Pectin, Locust Bean Gum, Natural Flavour', nan, 'LOWFAT YOGURT (CULTURED PASTEURIZED NONFAT MILK, CREAM, LIVE AND ACTIVE CULTURES (S. Thermophilus, L. BULGARICUS, L. ACIDOPHILUS, BIFIDUS AND L. CASEI)), EVAPORATED CANE JUICE, WATER, Almonds, Chocolate Liquor, Sugar,    Coconut, HONEY, COOOA POWDER, COCOA BUTTER, NATURAL FLAVORS. PECTIN, SEA SALT, GUAR GUM, LOCUST BEAN GUM', nan, nan, nan, 'WATER, HIGH FRUCTOSE CORN SYRUP, SUGAR SYRUP, CONTAINS LESS THAN 2% OF CELLULOSE GUM, SALT, NATURAL AND ARTIFICIAL FLAVORS, SORBIC ACID AND SODIUM BENZOATE (PRESERVATIVES), CARMEL COLOR, SODIUM HEXAMETAPHOSPHATE, CITRIC ACID.', nan]                                                                                                                                                                                                                                                                                                                                                                                                                                                                                                                                                                                                                                                                                                                                                                                    \n",
       "3  ['Water, canola oil, modified food starch (corn, potato), eggs, sugar, vinegar, salt, natural flavor (_soy_), lemon juice concentrate, sorbic acid and calcium disodium edta, extractives of paprika, vitamin e, beta carotene (color).', nan, 'Whole grain _wheat_, _wheat_ _gluten_, sugar, rice, _soy_ protein isolate, _wheat_ bran, defatted _soy_ grits, contains 2% or less of salt, cinnamon, malt flavor, L-lysine monohydrochloride, _soy_ lecithin, sucralose, BHT for freshness. Vitamins and Minerals: Reduced iron, niacinamide, vitamin B6 (pyridoxine hydrochloride), vitamin B1 (thiamin hydrochloride), vitamin A palmitate, vitamin B2 (riboflavin), folic acid, vitamin B12, vitamin D3.', 'MILK CHOCOLATE (SUGAR, _MILK_, COCOA BUTTER, CHOCOLATE, MILKFAT, _SOY_ LECITHIN - AN EMULSIFIER, VANILLIN - AN ARTIFICIAL FLAVOR), SUGAR, HONEY, _ALMONDS_, INVERT SUGAR, _EGG_ WHITES.', 'Enriched _Wheat_ Flour (_Wheat_ Flour, Niacin, Reduced Iron, Thiamine Mononitrate, Riboflavin, Folic Acid), _Peanut_ Butter (_Peanuts_, Sugar, Mono- and Diglycerides, Salt), Salt, Less than 2% of: Vegetable Oil (Canola Oil and/or _Soybean_ Oil), Corn Syrup, _Barley_ Malt Extract, Caramel Color, Leavening (Contains One or More of the Following: Yeast, Sodium Bicarbonate, Ammonium Bicarbonate)', 'Unbleached _Wheat_ Flour, Water, Canola Oil, Cane Sugar, Salt, Yeast, Baking Soda', nan, 'SUNDRIED TOMATOES (TOMATOES, _SULFUR DIOXIDE_), OLIVE OIL, VINEGAR, SALT, SPICES, CITRIC ACID.  ', 'SUGAR, GELATIN, CONTAINS 2% OR LESS OF: DISODIUM PHOSPHATE, FUMARIC ACID, ADIPIC ACID, NATURAL AND ARTIFICIAL FLAVOR WITH BHA, COLOR (YELLOW 6).', nan]   \n",
       "4  ['UNBLEACHED ENRICHED FLOUR (_WHEAT_ FLOUR, NIACIN, REDUCED IRON, THIAMINE MONONITRATE (VITAMIN B1), RIBOFLAVIN (VITAMIN B2), FOLIC ACID), SUGAR, PALM AND/OR CANOLA OIL, COCOA (PROCESSED WITH ALKALI), HIGH FRUCTOSE CORN SYRUP, LEAVENING (BAKING SODA AND/OR CALCIUM PHOSPHATE), CORNSTARCH, SALT, _SOY_ LECITHIN, VANILLIN (AN ARTIFICIAL FLAVOR), CHOCOLATE ', '_Peanuts_, dextrose, corn syrup and fully hydrogenated vegetable oils (rapeseed, cottonseed and soybean)', 'Tomatoes, Onions, Salt, Chili peppers (Serrano and/or jalapeño), Cilantro, Pectin, Citric Acid', nan, ' Ingredients: Water, Whole Wheat flour, Enriched Wheat Flour (Wheat Flour, Malted Barley Flour, Niacin, Reduced lron, Thiamine Mononitrate, Riboflavln, Folic Acid), Multigrain Mix (Whole Wheat Flour, Rolled Wheat, Sunflower Seeds, Triticale   Flakes, Rolled Oats, Flax Seeds, wheat   Nuggets, Rye Nuggets, Barley Flakes, Degermed Yellow Corn Grlts, Millet, Buckwheat Flour, Guar Gum, Enzymes),  Yeast, Wheat Gluten, Sugar, Soybean Oil.   Contains 2% Or Less 0f:Flax Seeds, or sesame Seeds, Salt, Molasses. Baby oats,,wheat Starch, Citric Acid. Vegetable Monoglycerides,    Ascorbic Àcid(Vitamin C as dough conditioner),_Wheat_, _Soy_', 'Chocolate, cocoa butter, cocoa powder processed with alkali, sugar, bourbon vanilla beans.', 'Soybean oil, water, whole eggs and egg yolks, vinegar, salt, sugar, lemon juice, calcium disodium EDTA (used to protect quality), natural flavors.', nan, nan, 'Organic Blueberries']                                                                                                                                        \n",
       "\n",
       "                                                                                                                                                                                  main_categories  \\\n",
       "0  ['en:peanuts', 'en:bars', 'en:canned-common-beans', 'en:pastas', 'en:bodybuilding-supplements', 'en:canned-meats', 'en:dark-chocolates', 'en:breakfast-cereals', 'en:lemonades', 'en:yogurts']   \n",
       "1  ['en:waffles', 'en:lemonades', nan, 'en:cereals-and-their-products', nan, 'en:maple-syrups', 'en:soups', 'en:crackers', 'en:eggs', nan]                                                          \n",
       "2  ['en:capers', 'en:sliced-breads', 'en:greek-yogurts', 'en:bonbons', 'en:greek-yogurts', 'en:lemonades', 'en:rices', nan, 'en:maple-syrups', nan]                                                 \n",
       "3  ['en:mayonnaises', 'en:eggs', 'en:cereal-flakes', 'en:milk-chocolates', 'en:pretzel', 'en:crackers', nan, 'en:bruschetta', 'en:non-dairy-desserts', 'en:balsamic-vinaigrette-dressing']          \n",
       "4  ['en:cookies', 'en:legume-butters', 'en:salsa', nan, 'en:breads', 'en:dark-chocolates', 'en:mayonnaises', nan, 'en:honeys', 'en:berries']                                                        \n",
       "\n",
       "                           fruits-vegetables-nuts_100g  \\\n",
       "0  [nan, nan, nan, nan, nan, nan, nan, nan, 15.0, nan]   \n",
       "1  [nan, nan, nan, nan, nan, nan, nan, nan, nan, nan]    \n",
       "2  [nan, nan, nan, nan, nan, nan, nan, nan, nan, nan]    \n",
       "3  [nan, nan, nan, nan, nan, nan, nan, nan, nan, nan]    \n",
       "4  [nan, nan, nan, nan, nan, nan, nan, nan, nan, nan]    \n",
       "\n",
       "                                     nutrition-score-uk_100g  \n",
       "0  [13.0, 21.0, -6.0, -6.0, 7.0, 22.0, 15.0, 21.0, nan, 5.0]  \n",
       "1  [2.0, nan, 10.0, 12.0, nan, nan, 4.0, nan, -1.0, 0.0]      \n",
       "2  [4.0, -4.0, -2.0, 22.0, 1.0, nan, nan, 24.0, 11.0, 27.0]   \n",
       "3  [nan, nan, 9.0, 22.0, 16.0, nan, 9.0, 16.0, nan, 15.0]     \n",
       "4  [19.0, 12.0, 7.0, 18.0, 0.0, 13.0, 25.0, 24.0, nan, 4.0]   \n",
       "\n",
       "[5 rows x 24 columns]"
      ]
     },
     "execution_count": 3,
     "metadata": {},
     "output_type": "execute_result"
    }
   ],
   "source": [
    "df = pd.read_csv(\"random_days.tsv\", sep = '\\t')\n",
    "#the datafields are quite long; tell pandas to show the whole fields\n",
    "pd.set_option('display.max_colwidth', -1)\n",
    "del df['Unnamed: 0']\n",
    "df.head()"
   ]
  },
  {
   "cell_type": "code",
   "execution_count": 6,
   "metadata": {
    "collapsed": false
   },
   "outputs": [
    {
     "data": {
      "text/html": [
       "<div>\n",
       "<table border=\"1\" class=\"dataframe\">\n",
       "  <thead>\n",
       "    <tr style=\"text-align: right;\">\n",
       "      <th></th>\n",
       "      <th>total_calories</th>\n",
       "      <th>total_fat</th>\n",
       "      <th>total_saturated_fat</th>\n",
       "      <th>total_carbohydrates</th>\n",
       "      <th>total_fiber</th>\n",
       "      <th>total_sugar</th>\n",
       "      <th>total_protein</th>\n",
       "    </tr>\n",
       "  </thead>\n",
       "  <tbody>\n",
       "    <tr>\n",
       "      <th>count</th>\n",
       "      <td>10000.000000</td>\n",
       "      <td>10000.000000</td>\n",
       "      <td>10000.000000</td>\n",
       "      <td>10000.000000</td>\n",
       "      <td>10000.000000</td>\n",
       "      <td>10000.000000</td>\n",
       "      <td>10000.000000</td>\n",
       "    </tr>\n",
       "    <tr>\n",
       "      <th>mean</th>\n",
       "      <td>2893.457875</td>\n",
       "      <td>134.021857</td>\n",
       "      <td>46.693100</td>\n",
       "      <td>355.803709</td>\n",
       "      <td>24.722620</td>\n",
       "      <td>151.900197</td>\n",
       "      <td>66.011582</td>\n",
       "    </tr>\n",
       "    <tr>\n",
       "      <th>std</th>\n",
       "      <td>635.965613</td>\n",
       "      <td>57.380308</td>\n",
       "      <td>26.221003</td>\n",
       "      <td>93.644081</td>\n",
       "      <td>13.107301</td>\n",
       "      <td>61.571774</td>\n",
       "      <td>23.786144</td>\n",
       "    </tr>\n",
       "    <tr>\n",
       "      <th>min</th>\n",
       "      <td>670.718000</td>\n",
       "      <td>1.540000</td>\n",
       "      <td>0.417000</td>\n",
       "      <td>63.260000</td>\n",
       "      <td>0.000000</td>\n",
       "      <td>10.680000</td>\n",
       "      <td>4.350000</td>\n",
       "    </tr>\n",
       "    <tr>\n",
       "      <th>25%</th>\n",
       "      <td>2461.790000</td>\n",
       "      <td>92.292500</td>\n",
       "      <td>28.240000</td>\n",
       "      <td>291.807500</td>\n",
       "      <td>15.582250</td>\n",
       "      <td>107.867500</td>\n",
       "      <td>48.860000</td>\n",
       "    </tr>\n",
       "    <tr>\n",
       "      <th>50%</th>\n",
       "      <td>2882.466500</td>\n",
       "      <td>128.080000</td>\n",
       "      <td>41.777500</td>\n",
       "      <td>354.265000</td>\n",
       "      <td>22.533500</td>\n",
       "      <td>146.895000</td>\n",
       "      <td>63.700000</td>\n",
       "    </tr>\n",
       "    <tr>\n",
       "      <th>75%</th>\n",
       "      <td>3318.200500</td>\n",
       "      <td>168.900000</td>\n",
       "      <td>59.945000</td>\n",
       "      <td>417.597750</td>\n",
       "      <td>31.340750</td>\n",
       "      <td>190.757500</td>\n",
       "      <td>80.222500</td>\n",
       "    </tr>\n",
       "    <tr>\n",
       "      <th>max</th>\n",
       "      <td>5406.900000</td>\n",
       "      <td>434.300000</td>\n",
       "      <td>225.820000</td>\n",
       "      <td>790.900000</td>\n",
       "      <td>106.183000</td>\n",
       "      <td>459.520000</td>\n",
       "      <td>192.560000</td>\n",
       "    </tr>\n",
       "  </tbody>\n",
       "</table>\n",
       "</div>"
      ],
      "text/plain": [
       "       total_calories     total_fat  total_saturated_fat  total_carbohydrates  \\\n",
       "count  10000.000000    10000.000000  10000.000000         10000.000000          \n",
       "mean   2893.457875     134.021857    46.693100            355.803709            \n",
       "std    635.965613      57.380308     26.221003            93.644081             \n",
       "min    670.718000      1.540000      0.417000             63.260000             \n",
       "25%    2461.790000     92.292500     28.240000            291.807500            \n",
       "50%    2882.466500     128.080000    41.777500            354.265000            \n",
       "75%    3318.200500     168.900000    59.945000            417.597750            \n",
       "max    5406.900000     434.300000    225.820000           790.900000            \n",
       "\n",
       "        total_fiber   total_sugar  total_protein  \n",
       "count  10000.000000  10000.000000  10000.000000   \n",
       "mean   24.722620     151.900197    66.011582      \n",
       "std    13.107301     61.571774     23.786144      \n",
       "min    0.000000      10.680000     4.350000       \n",
       "25%    15.582250     107.867500    48.860000      \n",
       "50%    22.533500     146.895000    63.700000      \n",
       "75%    31.340750     190.757500    80.222500      \n",
       "max    106.183000    459.520000    192.560000     "
      ]
     },
     "execution_count": 6,
     "metadata": {},
     "output_type": "execute_result"
    }
   ],
   "source": [
    "##get a quick shot of the macronutrients\n",
    "df[['total_calories','total_fat', 'total_saturated_fat', 'total_carbohydrates', 'total_fiber', 'total_sugar', 'total_protein']].describe()"
   ]
  },
  {
   "cell_type": "code",
   "execution_count": 23,
   "metadata": {
    "collapsed": false
   },
   "outputs": [
    {
     "data": {
      "text/plain": [
       "<matplotlib.axes._subplots.AxesSubplot at 0x11d6e4fd0>"
      ]
     },
     "execution_count": 23,
     "metadata": {},
     "output_type": "execute_result"
    },
    {
     "data": {
      "image/png": "[encoded data removed]",
      "text/plain": [
       "<matplotlib.figure.Figure at 0x11d6db9b0>"
      ]
     },
     "metadata": {},
     "output_type": "display_data"
    }
   ],
   "source": [
    "df['total_calories'].plot(kind = 'box', figsize=(10,8))"
   ]
  },
  {
   "cell_type": "markdown",
   "metadata": {},
   "source": [
    "We can see that the majority of the calorie amounts are close around the median (the first and third quartile are hardly 900 calories apart) and we can see a long tail on both ends.  If this translates into a histogram approximating the normal curve, we can say this data is normal enough for a student-T statistical analysis."
   ]
  },
  {
   "cell_type": "code",
   "execution_count": 26,
   "metadata": {
    "collapsed": false
   },
   "outputs": [
    {
     "data": {
      "text/plain": [
       "array([[<matplotlib.axes._subplots.AxesSubplot object at 0x11a627be0>]], dtype=object)"
      ]
     },
     "execution_count": 26,
     "metadata": {},
     "output_type": "execute_result"
    },
    {
     "data": {
      "image/png": "[encoded data removed]",
      "text/plain": [
       "<matplotlib.figure.Figure at 0x11d628358>"
      ]
     },
     "metadata": {},
     "output_type": "display_data"
    }
   ],
   "source": [
    "df.hist('total_calories', bins = 20, figsize=(10,8))"
   ]
  },
  {
   "cell_type": "code",
   "execution_count": 28,
   "metadata": {
    "collapsed": false
   },
   "outputs": [
    {
     "data": {
      "text/plain": [
       "0.10032877832237319"
      ]
     },
     "execution_count": 28,
     "metadata": {},
     "output_type": "execute_result"
    }
   ],
   "source": [
    "###check the skew\n",
    "import scipy.stats\n",
    "scipy.stats.skew(df['total_calories'])"
   ]
  },
  {
   "cell_type": "markdown",
   "metadata": {},
   "source": [
    "The histogram for calories follows the normal curve of standard statistcal distributions.  Since calories is a calculated field from carbohydrates, fat, and protein, we know that they are also going to have a normal shaped histogram.  When we calculate the skewness of the data, we can see that is it close to zero, with a slight skew towards the higher end.  Shew calculations range between [-1,1], and a skew of zero means there is no skew in the data.  This is good, as it shows that our data is very regular and good for further statistical analysis."
   ]
  },
  {
   "cell_type": "code",
   "execution_count": 8,
   "metadata": {
    "collapsed": false
   },
   "outputs": [
    {
     "data": {
      "text/html": [
       "<div>\n",
       "<table border=\"1\" class=\"dataframe\">\n",
       "  <thead>\n",
       "    <tr style=\"text-align: right;\">\n",
       "      <th></th>\n",
       "      <th>total_cholesterol_(mg)</th>\n",
       "      <th>total_sodium_(mg)</th>\n",
       "      <th>total_potassium_(mg)</th>\n",
       "      <th>total_vitamin-a_(mcg)</th>\n",
       "      <th>total_vitamin-c_(mg)</th>\n",
       "      <th>total_calcium_(mg)</th>\n",
       "      <th>total_iron_(mg)</th>\n",
       "    </tr>\n",
       "  </thead>\n",
       "  <tbody>\n",
       "    <tr>\n",
       "      <th>count</th>\n",
       "      <td>10000.000000</td>\n",
       "      <td>10000.000000</td>\n",
       "      <td>10000.000000</td>\n",
       "      <td>10000.000000</td>\n",
       "      <td>10000.000000</td>\n",
       "      <td>10000.000000</td>\n",
       "      <td>10000.000000</td>\n",
       "    </tr>\n",
       "    <tr>\n",
       "      <th>mean</th>\n",
       "      <td>136.137790</td>\n",
       "      <td>4826.230482</td>\n",
       "      <td>627.412500</td>\n",
       "      <td>838.748085</td>\n",
       "      <td>42.919978</td>\n",
       "      <td>663.297567</td>\n",
       "      <td>17.528808</td>\n",
       "    </tr>\n",
       "    <tr>\n",
       "      <th>std</th>\n",
       "      <td>127.107998</td>\n",
       "      <td>6114.651767</td>\n",
       "      <td>2389.865831</td>\n",
       "      <td>1063.884634</td>\n",
       "      <td>48.052890</td>\n",
       "      <td>462.123103</td>\n",
       "      <td>12.637390</td>\n",
       "    </tr>\n",
       "    <tr>\n",
       "      <th>min</th>\n",
       "      <td>0.000000</td>\n",
       "      <td>164.780000</td>\n",
       "      <td>0.000000</td>\n",
       "      <td>0.000000</td>\n",
       "      <td>0.000000</td>\n",
       "      <td>0.000000</td>\n",
       "      <td>0.000000</td>\n",
       "    </tr>\n",
       "    <tr>\n",
       "      <th>25%</th>\n",
       "      <td>43.592500</td>\n",
       "      <td>2690.827500</td>\n",
       "      <td>54.200000</td>\n",
       "      <td>269.175000</td>\n",
       "      <td>11.592500</td>\n",
       "      <td>322.175000</td>\n",
       "      <td>8.840000</td>\n",
       "    </tr>\n",
       "    <tr>\n",
       "      <th>50%</th>\n",
       "      <td>105.635000</td>\n",
       "      <td>3661.400000</td>\n",
       "      <td>250.000000</td>\n",
       "      <td>588.450000</td>\n",
       "      <td>30.000000</td>\n",
       "      <td>540.550000</td>\n",
       "      <td>13.331000</td>\n",
       "    </tr>\n",
       "    <tr>\n",
       "      <th>75%</th>\n",
       "      <td>184.712500</td>\n",
       "      <td>4870.497500</td>\n",
       "      <td>560.000000</td>\n",
       "      <td>1083.000000</td>\n",
       "      <td>56.360000</td>\n",
       "      <td>902.550000</td>\n",
       "      <td>22.760000</td>\n",
       "    </tr>\n",
       "    <tr>\n",
       "      <th>max</th>\n",
       "      <td>1030.360000</td>\n",
       "      <td>89953.050000</td>\n",
       "      <td>27452.400000</td>\n",
       "      <td>20333.500000</td>\n",
       "      <td>549.780000</td>\n",
       "      <td>4629.700000</td>\n",
       "      <td>98.720000</td>\n",
       "    </tr>\n",
       "  </tbody>\n",
       "</table>\n",
       "</div>"
      ],
      "text/plain": [
       "       total_cholesterol_(mg)  total_sodium_(mg)  total_potassium_(mg)  \\\n",
       "count  10000.000000            10000.000000       10000.000000           \n",
       "mean   136.137790              4826.230482        627.412500             \n",
       "std    127.107998              6114.651767        2389.865831            \n",
       "min    0.000000                164.780000         0.000000               \n",
       "25%    43.592500               2690.827500        54.200000              \n",
       "50%    105.635000              3661.400000        250.000000             \n",
       "75%    184.712500              4870.497500        560.000000             \n",
       "max    1030.360000             89953.050000       27452.400000           \n",
       "\n",
       "       total_vitamin-a_(mcg)  total_vitamin-c_(mg)  total_calcium_(mg)  \\\n",
       "count  10000.000000           10000.000000          10000.000000         \n",
       "mean   838.748085             42.919978             663.297567           \n",
       "std    1063.884634            48.052890             462.123103           \n",
       "min    0.000000               0.000000              0.000000             \n",
       "25%    269.175000             11.592500             322.175000           \n",
       "50%    588.450000             30.000000             540.550000           \n",
       "75%    1083.000000            56.360000             902.550000           \n",
       "max    20333.500000           549.780000            4629.700000          \n",
       "\n",
       "       total_iron_(mg)  \n",
       "count  10000.000000     \n",
       "mean   17.528808        \n",
       "std    12.637390        \n",
       "min    0.000000         \n",
       "25%    8.840000         \n",
       "50%    13.331000        \n",
       "75%    22.760000        \n",
       "max    98.720000        "
      ]
     },
     "execution_count": 8,
     "metadata": {},
     "output_type": "execute_result"
    }
   ],
   "source": [
    "### get a quick shot of the micronutrients\n",
    "df[['total_cholesterol_(mg)',\n",
    " 'total_sodium_(mg)',\n",
    " 'total_potassium_(mg)',\n",
    " 'total_vitamin-a_(mcg)',\n",
    " 'total_vitamin-c_(mg)',\n",
    " 'total_calcium_(mg)',\n",
    " 'total_iron_(mg)']].describe()"
   ]
  },
  {
   "cell_type": "code",
   "execution_count": 7,
   "metadata": {
    "collapsed": false
   },
   "outputs": [
    {
     "data": {
      "text/plain": [
       "['total_calories',\n",
       " 'complete_micronutrients?',\n",
       " 'total_fat',\n",
       " 'total_saturated_fat',\n",
       " 'total_carbohydrates',\n",
       " 'total_fiber',\n",
       " 'total_sugar',\n",
       " 'total_protein',\n",
       " 'total_cholesterol_(mg)',\n",
       " 'total_sodium_(mg)',\n",
       " 'total_potassium_(mg)',\n",
       " 'total_vitamin-a_(mcg)',\n",
       " 'total_vitamin-c_(mg)',\n",
       " 'total_calcium_(mg)',\n",
       " 'total_iron_(mg)',\n",
       " 'codes',\n",
       " 'product_names',\n",
       " 'generic_names',\n",
       " 'categories',\n",
       " 'categories_tags',\n",
       " 'ingredients_texts',\n",
       " 'main_categories',\n",
       " 'fruits-vegetables-nuts_100g',\n",
       " 'nutrition-score-uk_100g']"
      ]
     },
     "execution_count": 7,
     "metadata": {},
     "output_type": "execute_result"
    }
   ],
   "source": [
    "list(df.columns)"
   ]
  },
  {
   "cell_type": "code",
   "execution_count": 9,
   "metadata": {
    "collapsed": false
   },
   "outputs": [
    {
     "data": {
      "text/plain": [
       "False    10000\n",
       "Name: complete_micronutrients?, dtype: int64"
      ]
     },
     "execution_count": 9,
     "metadata": {},
     "output_type": "execute_result"
    }
   ],
   "source": [
    "df['complete_micronutrients?'].value_counts()"
   ]
  },
  {
   "cell_type": "markdown",
   "metadata": {},
   "source": [
    "Of the 10,000 tests, we have found that not a single day contained complete macronutrient data.  This implies that nutritional databases like this one are not always comprehensive.  This can cause consumer confusion. "
   ]
  },
  {
   "cell_type": "code",
   "execution_count": null,
   "metadata": {
    "collapsed": true
   },
   "outputs": [],
   "source": []
  }
 ],
 "metadata": {
  "anaconda-cloud": {},
  "kernelspec": {
   "display_name": "Python [Root]",
   "language": "python",
   "name": "Python [Root]"
  },
  "language_info": {
   "codemirror_mode": {
    "name": "ipython",
    "version": 3
   },
   "file_extension": ".py",
   "mimetype": "text/x-python",
   "name": "python",
   "nbconvert_exporter": "python",
   "pygments_lexer": "ipython3",
   "version": "3.5.2"
  }
 },
 "nbformat": 4,
 "nbformat_minor": 0
}
