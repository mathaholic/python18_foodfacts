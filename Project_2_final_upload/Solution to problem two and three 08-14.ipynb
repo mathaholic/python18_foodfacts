{
 "cells": [
  {
   "cell_type": "markdown",
   "metadata": {},
   "source": [
    "Question 2 Conclusion:\n",
    "1. Total number of valid ingredients (without NANs) in this database is 913.\n",
    "\n",
    "2. The frequency of the ingredients that contain hydrogenated or hydrogenated oil is 68 out of 913, which is 7.45%. The frequency of the high fructose is 89 out of 913, which is 9.75%.   The frequency of the corn syrup is 158 out of 913, which is 17.31%.  The Percentage of recipes containing either 'corn syrup', 'hydrogenated', 'high fructose' is  22.35%.\n",
    "\n",
    "3. Sources: http://www.fda.gov/Food/IngredientsPackagingLabeling/FoodAdditivesIngredients/ucm449162.htm\n",
    "https://www.federalregister.gov/articles/2015/06/17/2015-14883/determinations-partially-hydrogenated-oils\n",
    "http://www.fda.gov/Food/IngredientsPackagingLabeling/FoodAdditivesIngredients/ucm324856.htm\n"
   ]
  },
  {
   "cell_type": "markdown",
   "metadata": {},
   "source": [
    "Question 3 Conclusion:\n",
    "\n",
    "1. The total number of UK nutrition score in this database is 1110, the percentage of the UK nutrition score that is equal or larger than 4 is  59.19%, the average number of the UK nutrition score in this database is 8.78. \n",
    "\n",
    "2. We assume that the database represents a random sample of packaged food in the U.S.. We hypothesize that the average UK nutrition score for all the packaged food in the U.S. is larger than 4, which means the foods are classified as ‘less healthy’.  The sample's standard deviation in this database is 9.42. The t-score of the hypothesis that the avearage is larger then 4 is 16.91, for 1109 degrees of freedom. The p value of the hypothesis test that the UK nutrition score equal or largar than 4 is  1.6794485891e-57 , hence, the average nutrition score is significantly larger than 4 at a significant level of 5%.\n",
    "\n",
    "3. Sources: http://www.food.gov.uk/sites/default/files/multimedia/pdfs/techguidenutprofiling.pdf"
   ]
  },
  {
   "cell_type": "code",
   "execution_count": 1,
   "metadata": {
    "collapsed": false
   },
   "outputs": [
    {
     "name": "stdout",
     "output_type": "stream",
     "text": [
      "3.5.2 |Anaconda 4.1.1 (x86_64)| (default, Jul  2 2016, 17:52:12) \n",
      "[GCC 4.2.1 Compatible Apple LLVM 4.2 (clang-425.0.28)]\n",
      "1.11.1\n",
      "0.18.1\n",
      "3.5398230088495577\n",
      "9.734513274336283\n",
      "0.0\n",
      "carbs:  7.43801652892562 protein:  1.6528925619834711 cals:  37.1900826446281\n"
     ]
    },
    {
     "name": "stderr",
     "output_type": "stream",
     "text": [
      "/Users/yubozhang/anaconda/lib/python3.5/site-packages/numpy/lib/function_base.py:3834: RuntimeWarning: Invalid value encountered in percentile\n",
      "  RuntimeWarning)\n"
     ]
    }
   ],
   "source": [
    "# Some code to set up the problem\n",
    "\n",
    "import sys\n",
    "print(sys.version)\n",
    "import numpy as np\n",
    "print(np.__version__)\n",
    "import pandas as pd\n",
    "print(pd.__version__)\n",
    "import matplotlib.pyplot as plt\n",
    "import re\n",
    "import html5lib\n",
    "df = pd.read_csv(\"openfoodfacts_search.csv\", sep = '\\t')\n",
    "pd.set_option('display.max_colwidth', -1)\n",
    "df.head()\n",
    "\n",
    "\n",
    "\n",
    "#it apppears that pandas is truncating some data.  let's change that\n",
    "pd.set_option('display.max_colwidth', -1)\n",
    "df.head()\n",
    "list(df.columns)\n",
    "df['energy_100g'].head()\n",
    "df['carbohydrates_100g'].head()\n",
    "df['carbohydrates_100g'].count()\n",
    "df['fat_100g'].count()\n",
    "df['proteins_100g'].count()\n",
    "df['energy_100g'].count()\n",
    "\n",
    "###verify the nutrition facts add up with the manufacturer's data\n",
    "### it appears from the site's documentation that\n",
    "###http://world.openfoodfacts.org/data/data-fields.txt\n",
    "###[nutrient]_100gr is nutrients per 100gr or mL\n",
    "###step 1, grab data for an identifable product\n",
    "\n",
    "df[['code', 'url', 'product_name', 'energy_100g','carbohydrates_100g',\n",
    "    'fat_100g', 'proteins_100g','serving_size']].iloc[20]\n",
    "\n",
    "#step 2: verify the data on the site's own product page\n",
    "import html5lib\n",
    "site = 'http://www.activia.us.com/probiotic-yogurt/products/activia-light-blueberry'\n",
    "blueberry_yougurt = pd.read_html(site)[0].set_index('Nutritional Facts')\n",
    "blueberry_yougurt\n",
    "\n",
    "### the calroies(energy) does not look like it is 220 cals/100gr, but the carb/protein/fat ratio looks about right\n",
    "### verify the macronutrients per 100gr are equivalent to the food facts db:\n",
    "print(float(blueberry_yougurt.loc['Protein'][0].strip('g'))/1.13)\n",
    "print(float(blueberry_yougurt.loc['Total Carbohydrate'][0].strip('g'))/1.13)\n",
    "print(float(blueberry_yougurt.loc['Total Fat'][0].strip('g'))/1.13)\n",
    "\n",
    "###the total macronutrients per 100 grams posted in the food facts db roughly matches what is posted on the product's\n",
    "###own site.  Let's check anoother product, this time at random:\n",
    "np.random.seed(4)\n",
    "df[['code', 'url', 'product_name', 'energy_100g','carbohydrates_100g',\n",
    "    'fat_100g', 'proteins_100g','serving_size']].iloc[np.random.randint(0,len(df))]\n",
    "\n",
    "site = 'http://www.hunts.com/nutrition-label?upc=2700037909&inline=false'\n",
    "hunts_tomatoes = pd.read_html(site)\n",
    "#hunts_tomatoes = pd.read_html(site)[1].set_index('Nutrition Facts')\n",
    "hunts_tomatoes[1][0]\n",
    "\n",
    "###this product's label isn't as nicely formattted, but we can get some information from it\n",
    "#per 121 grams, there are 0 grams of fat, 9 gr of carbohydrate, and 2 gr of protein\n",
    "carbs_per_100g = 9/1.21\n",
    "protein_per_100g = 2/1.21\n",
    "cals_per_100gr = 45/1.21\n",
    "print('carbs: ',carbs_per_100g, 'protein: ', protein_per_100g, 'cals: ', cals_per_100gr)\n",
    "\n",
    "###again, we have parity except with the energy field.\n",
    "### it would make the most sense to add in a new calculated field that looks at total calories per 100 gr.\n",
    "###Calories is a function of the macro nutrients and can be found using basic algebra\n",
    "### cals = 9*fat + 4* protein + 4*carbohydrates + 7*alcohol\n",
    "###  let's add in the correctd calories per 100 grams\n",
    "def cals(w, x, y):\n",
    "    return (9*w) + (4*(x + y))\n",
    "\n",
    "df['calories_100g'] = np.vectorize(cals)(df['fat_100g'], df['proteins_100g'], df['carbohydrates_100g'])\n",
    "\n",
    "#verify against a known product:\n",
    "df[['code', 'url', 'product_name', 'energy_100g','carbohydrates_100g',\n",
    "    'fat_100g', 'proteins_100g','serving_size', 'calories_100g']].iloc[20]\n",
    "\n",
    "df['calories_100g'].iloc[20]*1.13\n",
    "\n",
    "###This value is nearly identical to the value listed for 113 grams on activia's website\n",
    "###it is safe to use this calorie value in place of the energy_100g field\n",
    "df.head()\n",
    "\n",
    "df['calories_100g'].describe()\n",
    "df['proteins_100g'].describe()\n",
    "df['fat_100g'].describe()\n",
    "df['carbohydrates_100g'].describe()\n",
    "###save the df with the new calories\n",
    "df.to_csv('groomed_food_facts_data.cs', sep = '\\t')\n",
    "\n",
    "###according to the source material, the following score gives information the total nutritive value of a\n",
    "###product\n",
    "###nutrition-score-uk_100g\n",
    "###from the Food Standards Administration:\n",
    "###A food is classified as 'less healthy' where it scores 4 points or more.\n",
    "###A drink is classified as 'less healthy' where it scores 1 point or more.\n",
    "###so, a product's score is like golf; the lower the better\n",
    "###The score  can be verified using the information on this site:\n",
    "###http://www.food.gov.uk/sites/default/files/multimedia/pdfs/techguidenutprofiling.pdf\n",
    "df['nutrition-score-uk_100g'].describe()\n",
    "\n",
    "###let's check to see if a score exits for the yogurt example\n",
    "#verify against a known product:\n",
    "df[['code', 'url', 'product_name', 'energy_100g','carbohydrates_100g',\n",
    "    'fat_100g', 'proteins_100g','serving_size', 'calories_100g', 'nutrition-score-uk_100g']].iloc[20]\n",
    "\n",
    "#investiate quantity; does quantity contain information of servings per unit or total size of unit?\n",
    "df['quantity'].head(20)\n",
    "df['quantity'].value_counts()\n",
    "#investiate categories\n",
    "df['categories'].value_counts()\n",
    "\n",
    "df['categories_tags'].value_counts()\n",
    "\n",
    "###how often are the categories present?\n",
    "df[df['categories']!= np.nan]['categories'].count()\n",
    "#subset the data to only include rows with macronutrients and categories\n",
    "df.head()\n",
    "\n",
    "list(df.columns)\n",
    "\n",
    "### Parse down to important data:\n",
    "keep_cols = ['code', 'product_name', 'generic_name','categories','categories_tags', 'ingredients_text','main_category',\n",
    "            'fat_100g', 'saturated-fat_100g','monounsaturated-fat_100g', 'polyunsaturated-fat_100g','omega-3-fat_100g',\n",
    "            'omega-6-fat_100g', 'omega-9-fat_100g', 'cholesterol_100g', 'carbohydrates_100g', 'sugars_100g','fiber_100g',\n",
    "            'proteins_100g','salt_100g', 'sodium_100g', 'alcohol_100g', 'vitamin-a_100g','vitamin-c_100g','potassium_100g',\n",
    "             'chloride_100g', 'calcium_100g', 'iron_100g', 'fruits-vegetables-nuts_100g', 'nutrition-score-uk_100g', 'calories_100g'\n",
    "            ]\n",
    "\n",
    "df_keep = df[keep_cols]\n",
    "sdf_keep = df_keep.dropna(subset=['calories_100g'])\n",
    "df_keep = pd.read_csv(\"valid_entries.tsv\", sep = \"\\t\")\n",
    "df_ing = df_keep.ix[1][\"ingredients_text\"].upper().split(',')\n",
    "\n"
   ]
  },
  {
   "cell_type": "code",
   "execution_count": 2,
   "metadata": {
    "collapsed": false
   },
   "outputs": [
    {
     "name": "stdout",
     "output_type": "stream",
     "text": [
      "[0, 0, 0, 1, 0, 0, 0, 0, 0, 0, 0, 1, 0, 0, 0, 0, 0, 0, 0, 0, 0, 0, 0, 1, 0, 0, 0, 0, 1, 0, 0, 0, 0, 0, 0, 0, 1, 0, 1, 0, 0, 0, 0, 0, 1, 0, 0, 0, 0, 0, 0, 0, 0, 0, 0, 1, 0, 0, 0, 0, 0, 0, 0, 0, 0, 0, 0, 0, 0, 0, 0, 0, 0, 0, 0, 0, 0, 0, 0, 0, 0, 0, 1, 0, 0, 1, 0, 0, 0, 0, 0, 1, 0, 0, 0, 0, 0, 0, 0, 0, 0, 0, 0, 0, 0, 0, 0, 0, 0, 0, 0, 0, 0, 0, 0, 0, 1, 1, 0, 0, 0, 0, 0, 0, 0, 0, 0, 0, 0, 0, 0, 0, 1, 0, 1, 0, 0, 0, 0, 0, 0, 0, 0, 0, 0, 0, 0, 0, 0, 0, 0, 0, 0, 0, 0, 0, 0, 0, 0, 0, 0, 1, 0, 0, 0, 0, 0, 0, 0, 1, 1, 0, 0, 1, 0, 0, 1, 0, 0, 0, 0, 0, 0, 0, 0, 0, 0, 0, 0, 1, 0, 0, 0, 0, 0, 0, 0, 1, 0, 0, 0, 1, 0, 1, 1, 0, 0, 0, 0, 0, 0, 0, 0, 0, 0, 0, 0, 0, 0, 0, 1, 1, 0, 0, 0, 0, 0, 0, 0, 0, 1, 0, 0, 0, 1, 0, 0, 0, 0, 0, 0, 0, 0, 0, 0, 0, 0, 0, 0, 0, 0, 0, 0, 0, 0, 0, 0, 0, 0, 0, 0, 0, 0, 0, 0, 1, 0, 0, 0, 0, 1, 1, 0, 0, 0, 0, 0, 0, 0, 0, 0, 1, 0, 1, 0, 0, 0, 1, 1, 0, 0, 0, 0, 0, 0, 1, 0, 0, 0, 0, 0, 0, 0, 0, 0, 0, 0, 0, 0, 0, 1, 1, 1, 0, 0, 0, 0, 0, 0, 0, 0, 0, 1, 0, 0, 0, 0, 0, 0, 0, 0, 0, 0, 0, 0, 1, 0, 0, 0, 0, 1, 0, 0, 0, 0, 1, 0, 1, 1, 1, 1, 0, 1, 1, 1, 1, 0, 0, 0, 0, 0, 1, 0, 1, 0, 0, 0, 1, 0, 0, 0, 0, 0, 0, 0, 0, 0, 0, 0, 0, 0, 0, 0, 0, 0, 0, 0, 0, 0, 1, 0, 0, 0, 0, 0, 0, 0, 0, 0, 0, 1, 1, 0, 0, 1, 0, 0, 0, 1, 0, 0, 0, 0, 0, 0, 0, 0, 0, 0, 0, 0, 0, 0, 0, 0, 0, 0, 0, 0, 1, 1, 0, 0, 0, 0, 0, 0, 0, 0, 0, 0, 0, 0, 0, 0, 0, 1, 0, 0, 1, 0, 0, 0, 0, 0, 0, 1, 0, 0, 0, 1, 0, 0, 0, 1, 0, 0, 0, 1, 1, 0, 0, 0, 0, 0, 0, 0, 0, 0, 0, 0, 0, 0, 0, 0, 0, 1, 1, 0, 0, 0, 1, 0, 0, 0, 0, 0, 0, 0, 0, 0, 1, 0, 0, 1, 0, 1, 0, 0, 0, 1, 0, 0, 0, 0, 0, 0, 0, 0, 0, 1, 0, 0, 0, 1, 0, 0, 0, 0, 0, 1, 0, 0, 0, 0, 0, 1, 0, 0, 0, 0, 0, 1, 0, 0, 0, 0, 0, 1, 1, 0, 0, 0, 0, 0, 0, 0, 0, 0, 0, 0, 0, 0, 0, 0, 1, 1, 1, 0, 0, 0, 1, 0, 0, 1, 1, 0, 0, 0, 0, 0, 0, 0, 0, 0, 0, 1, 0, 0, 0, 0, 0, 0, 0, 0, 0, 0, 0, 0, 0, 0, 0, 0, 0, 0, 0, 0, 0, 0, 0, 0, 0, 0, 1, 1, 0, 0, 0, 0, 0, 0, 0, 0, 0, 0, 0, 0, 0, 0, 0, 0, 0, 0, 1, 0, 0, 0, 0, 0, 0, 0, 0, 0, 0, 1, 0, 0, 0, 0, 1, 0, 0, 1, 1, 0, 0, 0, 0, 0, 1, 1, 1, 0, 0, 0, 0, 0, 0, 0, 0, 0, 0, 0, 0, 0, 0, 0, 0, 0, 0, 0, 0, 1, 0, 0, 0, 0, 0, 0, 0, 0, 0, 0, 1, 1, 0, 1, 1, 0, 1, 0, 0, 0, 1, 0, 0, 0, 0, 0, 0, 0, 1, 0, 1, 1, 1, 0, 1, 0, 0, 0, 0, 0, 0, 0, 0, 1, 0, 0, 0, 0, 0, 0, 0, 0, 0, 0, 0, 0, 0, 0, 0, 0, 0, 0, 0, 0, 1, 0, 0, 0, 0, 0, 0, 0, 0, 0, 1, 1, 0, 0, 0, 1, 0, 0, 0, 0, 0, 0, 0, 0, 0, 0, 0, 0, 1, 1, 1, 1, 0, 0, 0, 0, 0, 0, 0, 0, 0, 0, 0, 0, 0, 0, 0, 0, 0, 0, 0, 0, 0, 0, 0, 0, 0, 0, 0, 0, 0, 0, 0, 0, 0, 0, 0, 0, 0, 0, 0, 0, 0, 0, 0, 0, 0, 0, 0, 0, 0, 0, 0, 0, 0, 0, 0, 0, 0, 0, 0, 0, 0, 1, 0, 0, 1, 0, 0, 0, 0, 0, 0, 0, 0, 1, 1, 0, 0, 0, 0, 1, 1, 0, 0, 0, 1, 1, 1, 0, 0, 0, 0, 0, 0, 0, 0, 0, 0, 1, 0, 0, 0, 0, 0, 0, 0, 0, 0, 1, 0, 0, 0, 1, 0, 0, 0, 0, 0, 0, 0, 0, 0, 1, 0, 0, 0, 0, 0, 0, 0, 0, 0, 0, 0, 1, 0, 0, 0, 0, 0, 0, 0, 0, 0, 0, 0, 0, 0, 0, 0, 0, 0, 0, 0, 0, 0, 0, 0, 1, 0, 0, 0, 1, 1, 0, 1, 0, 0, 0, 0, 0, 0, 0, 0, 0, 0, 0, 0, 0, 0, 1, 0, 0, 0, 0, 1, 0, 1, 0, 0, 0, 0, 0, 1, 0, 1, 1, 1, 0, 0, 0, 0, 0, 1, 0, 0, 0, 0, 0, 0, 0, 0, 0, 0, 0, 0, 0, 0, 0, 0, 0, 0, 1, 1, 0, 0, 0, 1, 1, 0, 0, 0, 0, 0, 0, 0, 0, 0, 1, 1, 0, 0, 1, 0, 0, 0, 0, 0, 0, 0, 0, 0, 0, 0, 1, 0, 0, 0, 0, 0, 0, 0, 0, 0, 0, 1, 1, 0, 0, 0, 0, 0, 0, 0, 1, 0, 1, 0, 0, 1, 0, 0, 0, 0, 0, 0, 0, 0, 0, 0, 0, 0, 0, 0, 0, 0, 0, 0, 1, 0, 0, 1, 0, 0, 1, 1, 0, 0, 0, 0, 1, 0, 1, 0, 0, 0, 1, 0, 0, 1, 0, 1, 0, 0, 0, 0, 0, 0, 1, 1, 1, 0, 1, 0, 1, 1, 1, 0, 0, 1, 0, 0, 0, 0, 0, 1, 0, 0, 0, 1, 0, 0, 0, 1, 0, 0, 0, 0, 0, 0, 0, 1, 0, 0, 0, 0, 0, 0, 0, 0, 0, 0, 0, 0, 0, 0, 0, 0, 1, 1, 1, 1, 0, 0, 1, 1, 1, 0, 0, 1, 0, 0, 0, 0, 0, 0, 0, 0, 0, 0, 0, 1, 0, 0, 0, 1, 0, 0, 1, 0, 0, 0, 0, 0, 0, 0, 0, 0, 0, 0, 0, 0, 1, 0, 1, 0, 0, 0, 0, 0, 0, 0, 0, 0, 0, 0, 0, 0, 0, 1, 1, 0, 0, 0, 0, 0, 0, 0, 0, 0, 1, 0, 0, 0, 0, 0, 1, 1, 0, 0, 0, 0, 0, 0, 0, 0, 0, 0, 1, 0, 0, 0, 0, 0, 0, 1, 0, 0, 1, 0, 0, 0, 0, 0, 0, 0, 1, 0, 0, 0, 0, 1]\n",
      "Total number of ingredients (without NANs) in this database:  913\n",
      "Frequency of corn syrup  is:  158\n",
      "Frequency of hydrogenated  is:  68\n",
      "Frequency of high fructose  is:  89\n",
      "TotalKeys:  204\n",
      "Percentage of recipes containing  corn syrup  is:  17.305585980284775 %\n",
      "Percentage of recipes containing  hydrogenated  is:  7.447973713033954 %\n",
      "Percentage of recipes containing  high fructose  is:  9.748083242059145 %\n",
      "Percentage of recipes containing either  ['corn syrup', 'hydrogenated', 'high fructose']  is  22.343921139101862 %\n"
     ]
    }
   ],
   "source": [
    "# Solution to Problem 2\n",
    "# filtering the NaN with X\n",
    "df_keep.fillna('x', inplace=True)\n",
    "\n",
    "#Insert Keyword Here \n",
    "keywords = [\"corn syrup\",\"hydrogenated\", \"high fructose\"]\n",
    "\n",
    "# define counters and count all the count all the NaN, each key words, totally number of keywords\n",
    "flag = [0] * df_keep.shape[0]\n",
    "KeyCounter = [0] * len(keywords)\n",
    "TotalCounter = 0\n",
    "NumberNANs = 0\n",
    "for j in range(0,len(keywords)):\n",
    "    keyword = keywords[j]\n",
    "    for i in range(0, df_keep.shape[0]):\n",
    "        df_ing = df_keep.ix[i][\"ingredients_text\"].upper().split(',')\n",
    "        Checker = False\n",
    "        for indi in df_ing:\n",
    "            if keyword.upper() in indi:\n",
    "                flag[i] = 1\n",
    "                Checker = True\n",
    "        if Checker:\n",
    "            KeyCounter[j] = KeyCounter[j] + 1\n",
    "        if j == len(keywords)-1 and flag[i] == 1:\n",
    "            TotalCounter = TotalCounter + 1\n",
    "        if j == len(keywords)-1 and ['X'] == df_ing:\n",
    "            NumberNANs = NumberNANs + 1\n",
    "\n",
    "# Print Flag array 0 means no Keyword and 1 contains keyword\n",
    "print(flag)\n",
    "\n",
    "# Print Statistics\n",
    "print('Total number of ingredients (without NANs) in this database: ', df_keep.shape[0]-NumberNANs)\n",
    "#print('Number of invalid ingredients in this database: ', NumberNANs )\n",
    "for j in range(0,len(keywords)):\n",
    "    print('Frequency of', keywords[j], ' is: ', KeyCounter[j])\n",
    "#print('Frequency of corn syrup,hydrogenated, high fructose in the database : ',KeyCounter)\n",
    "print('TotalKeys: ', TotalCounter )\n",
    "\n",
    "\n",
    "for j in range(0,len(keywords)):\n",
    "    print('Percentage of recipes containing ', keywords[j],' is: ', float(100)*float(KeyCounter[j])/float(df_keep.shape[0]-NumberNANs),'%')\n",
    "#print('Frequency of corn syrup,hydrogenated, high fructose in the database : ',KeyCounter)\n",
    "print('Percentage of recipes containing either ', keywords, ' is ', float(100)*float(TotalCounter)/float(df_keep.shape[0]-NumberNANs),'%' )\n",
    "\n",
    "\n"
   ]
  },
  {
   "cell_type": "markdown",
   "metadata": {
    "collapsed": true
   },
   "source": [
    "#Question 3 solution"
   ]
  },
  {
   "cell_type": "code",
   "execution_count": 3,
   "metadata": {
    "collapsed": false
   },
   "outputs": [
    {
     "name": "stdout",
     "output_type": "stream",
     "text": [
      "0      -1 \n",
      "1       x \n",
      "2       x \n",
      "3       x \n",
      "4       x \n",
      "5       x \n",
      "6       23\n",
      "7       x \n",
      "8       x \n",
      "9       x \n",
      "10      x \n",
      "11      x \n",
      "12      x \n",
      "13      x \n",
      "14      x \n",
      "15      x \n",
      "16      16\n",
      "17      x \n",
      "18      x \n",
      "19      x \n",
      "20     -3 \n",
      "21      x \n",
      "22      0 \n",
      "23      0 \n",
      "24      x \n",
      "25      0 \n",
      "26      x \n",
      "27      x \n",
      "28      x \n",
      "29      12\n",
      "        ..\n",
      "2790   -2 \n",
      "2791    x \n",
      "2792    x \n",
      "2793    x \n",
      "2794    x \n",
      "2795    5 \n",
      "2796    x \n",
      "2797    24\n",
      "2798    x \n",
      "2799    x \n",
      "2800    x \n",
      "2801    x \n",
      "2802    7 \n",
      "2803    x \n",
      "2804    x \n",
      "2805    x \n",
      "2806    x \n",
      "2807    x \n",
      "2808    x \n",
      "2809    x \n",
      "2810    x \n",
      "2811    x \n",
      "2812    x \n",
      "2813    x \n",
      "2814    x \n",
      "2815    x \n",
      "2816    x \n",
      "2817    x \n",
      "2818    x \n",
      "2819    13\n",
      "Name: nutrition-score-uk_100g, dtype: object\n"
     ]
    }
   ],
   "source": [
    "# Getting the nutritional score and substitute the NaN with X\n",
    "\n",
    "df_uk = df[\"nutrition-score-uk_100g\"]\n",
    "df_uk.fillna('x', inplace=True)\n",
    "print(df_uk)\n"
   ]
  },
  {
   "cell_type": "code",
   "execution_count": 9,
   "metadata": {
    "collapsed": false
   },
   "outputs": [
    {
     "name": "stdout",
     "output_type": "stream",
     "text": [
      "The total nutrition score in this database is  1110\n",
      "The percentage of the UK nutrition score that is equal or larger than 4 is  59.189189189189186 %\n",
      "The average number of the UK nutrition score in this database is 8.77927927927928\n",
      "The sample standard deviation in this database is:  9.420777998204546\n",
      "The t-score of the hypothesis that the avearage is larger then 4 is:  16.901962317907785\n"
     ]
    }
   ],
   "source": [
    "totalnutritionscore = 0\n",
    "sumnutrition = 0\n",
    "sumnutritionSquared = 0\n",
    "larger4counter = 0\n",
    "for i in range(0,df_uk.shape[0]):\n",
    "    if df_uk[i] != \"x\":\n",
    "        totalnutritionscore = totalnutritionscore + 1\n",
    "        sumnutrition = sumnutrition + df_uk[i]\n",
    "        sumnutritionSquared = sumnutritionSquared + df_uk[i] * df_uk[i]\n",
    "        if df_uk[i] >= 4:\n",
    "            larger4counter = larger4counter + 1\n",
    "print(\"The total nutrition score in this database is \", totalnutritionscore)\n",
    "print(\"The percentage of the UK nutrition score that is equal or larger than 4 is \", \n",
    "      float(larger4counter)/float(totalnutritionscore)*100, \"%\")\n",
    "xBar = float(sumnutrition)/float(totalnutritionscore) \n",
    "print(\"The average number of the UK nutrition score in this database is\", xBar )\n",
    "xBarSquare = float(sumnutritionSquared)/float(totalnutritionscore)\n",
    "#print(\"The estimates of the squared average nutitions is: \", xBarSquare  )  \n",
    "s = (totalnutritionscore/(totalnutritionscore-1)) ** (0.5)*(float(sumnutritionSquared)/float(totalnutritionscore)-float(sumnutrition)*float(sumnutrition)/float(totalnutritionscore)/float(totalnutritionscore))**(0.5)\n",
    "print(\"The sample standard deviation in this database is: \", s )\n",
    "t_score = (xBar - 4) / s * ((totalnutritionscore)** (0.5)) \n",
    "print(\"The t-score of the hypothesis that the avearage is larger then 4 is: \", t_score) \n"
   ]
  },
  {
   "cell_type": "code",
   "execution_count": 8,
   "metadata": {
    "collapsed": false
   },
   "outputs": [
    {
     "name": "stdout",
     "output_type": "stream",
     "text": [
      "The p value of the hypothesis test that the UK nutrition score equal or largar than 4 is  1.6794485891e-57 , hence, the average nutrition score is significantly larger than 4.\n"
     ]
    }
   ],
   "source": [
    "# calculating the p value with scipy\n",
    "\n",
    "from scipy.stats import t\n",
    "print(\"The p value of the hypothesis test that the UK nutrition score equal or largar than 4 is \",\n",
    "      t.sf(t_score, totalnutritionscore-1),\", hence, the average nutrition score is significantly larger than 4.\" )"
   ]
  },
  {
   "cell_type": "code",
   "execution_count": null,
   "metadata": {
    "collapsed": false
   },
   "outputs": [],
   "source": []
  },
  {
   "cell_type": "code",
   "execution_count": null,
   "metadata": {
    "collapsed": true
   },
   "outputs": [],
   "source": []
  }
 ],
 "metadata": {
  "anaconda-cloud": {},
  "kernelspec": {
   "display_name": "Python [Root]",
   "language": "python",
   "name": "Python [Root]"
  },
  "language_info": {
   "codemirror_mode": {
    "name": "ipython",
    "version": 3
   },
   "file_extension": ".py",
   "mimetype": "text/x-python",
   "name": "python",
   "nbconvert_exporter": "python",
   "pygments_lexer": "ipython3",
   "version": "3.5.2"
  }
 },
 "nbformat": 4,
 "nbformat_minor": 0
}
