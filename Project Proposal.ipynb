{
 "cells": [
  {
   "cell_type": "markdown",
   "metadata": {},
   "source": [
    "## Project 2: Food Facts\n",
    "#### Presented by Carlee Price, Yubo Zhang, and Nikki Haas\n",
    "#### August 2016\n"
   ]
  },
  {
   "cell_type": "markdown",
   "metadata": {},
   "source": [
    "### Introduction"
   ]
  },
  {
   "cell_type": "markdown",
   "metadata": {},
   "source": [
    "### Part 0: The Questions\n",
    "\n",
    "Our project will attempt to answer the following questions:\n",
    "\n",
    "1.  How likely is it that a basket of commercially available food items is going to meet recommended levels of nutrients while staying within recommended calorie allowance?\n",
    "2.  How often does a daily allotment of food contain ingredients known to cause harm to human health, such as high fructose corn syrup and hydrogenated oils?\n",
    "3.  What are the most common categories of food available from the dataset, and how often are those foods considered nutrient dense?"
   ]
  },
  {
   "cell_type": "markdown",
   "metadata": {},
   "source": [
    "### Part 1: The Data\n",
    "\n",
    "Our main data source was provided by the Open Food Facts project<sup>1</sup>.  This is a user-contributed database containing nutrition data throughout the world.  We will be studying the subset containing foods from the US market that have the macronutrient fields available.\n",
    "\n",
    "The data will be groomed and manipulated using the Pandas, Numpy, Matplotlib, and SciPy modules avaialbe for Python.\n",
    "\n",
    "#### *Overview of Data:*"
   ]
  },
  {
   "cell_type": "code",
   "execution_count": 2,
   "metadata": {
    "collapsed": false
   },
   "outputs": [
    {
     "name": "stdout",
     "output_type": "stream",
     "text": [
      "3.5.2 |Anaconda 4.1.1 (x86_64)| (default, Jul  2 2016, 17:52:12) \n",
      "[GCC 4.2.1 Compatible Apple LLVM 4.2 (clang-425.0.28)]\n",
      "1.11.1\n",
      "0.18.1\n"
     ]
    },
    {
     "data": {
      "text/html": [
       "<div>\n",
       "<table border=\"1\" class=\"dataframe\">\n",
       "  <thead>\n",
       "    <tr style=\"text-align: right;\">\n",
       "      <th></th>\n",
       "      <th>code</th>\n",
       "      <th>url</th>\n",
       "      <th>creator</th>\n",
       "      <th>created_t</th>\n",
       "      <th>last_modified_t</th>\n",
       "      <th>product_name</th>\n",
       "      <th>generic_name</th>\n",
       "      <th>quantity</th>\n",
       "      <th>packaging</th>\n",
       "      <th>packaging_tags</th>\n",
       "      <th>...</th>\n",
       "      <th>caffeine_100g</th>\n",
       "      <th>taurine_100g</th>\n",
       "      <th>ph_100g</th>\n",
       "      <th>fruits-vegetables-nuts_100g</th>\n",
       "      <th>collagen-meat-protein-ratio_100g</th>\n",
       "      <th>cocoa_100g</th>\n",
       "      <th>chlorophyl_100g</th>\n",
       "      <th>carbon-footprint_100g</th>\n",
       "      <th>nutrition-score-fr_100g</th>\n",
       "      <th>nutrition-score-uk_100g</th>\n",
       "    </tr>\n",
       "  </thead>\n",
       "  <tbody>\n",
       "    <tr>\n",
       "      <th>0</th>\n",
       "      <td>5010092093045</td>\n",
       "      <td>http://world.openfoodfacts.org/product/5010092093045</td>\n",
       "      <td>bcatelin</td>\n",
       "      <td>1389309305</td>\n",
       "      <td>1461479010</td>\n",
       "      <td>Soft white</td>\n",
       "      <td>White bread</td>\n",
       "      <td>800g</td>\n",
       "      <td>Plastic bag</td>\n",
       "      <td>plastic-bag</td>\n",
       "      <td>...</td>\n",
       "      <td>NaN</td>\n",
       "      <td>NaN</td>\n",
       "      <td>NaN</td>\n",
       "      <td>NaN</td>\n",
       "      <td>NaN</td>\n",
       "      <td>NaN</td>\n",
       "      <td>NaN</td>\n",
       "      <td>125.0</td>\n",
       "      <td>-1.0</td>\n",
       "      <td>-1.0</td>\n",
       "    </tr>\n",
       "    <tr>\n",
       "      <th>1</th>\n",
       "      <td>44000030377</td>\n",
       "      <td>http://world.openfoodfacts.org/product/0044000030377</td>\n",
       "      <td>openfoodfacts-contributors</td>\n",
       "      <td>1385850411</td>\n",
       "      <td>1459174448</td>\n",
       "      <td>Wheat Thins Original</td>\n",
       "      <td>NaN</td>\n",
       "      <td>258g</td>\n",
       "      <td>NaN</td>\n",
       "      <td>NaN</td>\n",
       "      <td>...</td>\n",
       "      <td>NaN</td>\n",
       "      <td>NaN</td>\n",
       "      <td>NaN</td>\n",
       "      <td>NaN</td>\n",
       "      <td>NaN</td>\n",
       "      <td>NaN</td>\n",
       "      <td>NaN</td>\n",
       "      <td>NaN</td>\n",
       "      <td>NaN</td>\n",
       "      <td>NaN</td>\n",
       "    </tr>\n",
       "    <tr>\n",
       "      <th>2</th>\n",
       "      <td>7832309</td>\n",
       "      <td>http://world.openfoodfacts.org/product/07832309</td>\n",
       "      <td>openfoodfacts-contributors</td>\n",
       "      <td>1403210081</td>\n",
       "      <td>1458995984</td>\n",
       "      <td>Diet Dr Pepper</td>\n",
       "      <td>NaN</td>\n",
       "      <td>NaN</td>\n",
       "      <td>can</td>\n",
       "      <td>can</td>\n",
       "      <td>...</td>\n",
       "      <td>NaN</td>\n",
       "      <td>NaN</td>\n",
       "      <td>NaN</td>\n",
       "      <td>NaN</td>\n",
       "      <td>NaN</td>\n",
       "      <td>NaN</td>\n",
       "      <td>NaN</td>\n",
       "      <td>NaN</td>\n",
       "      <td>NaN</td>\n",
       "      <td>NaN</td>\n",
       "    </tr>\n",
       "    <tr>\n",
       "      <th>3</th>\n",
       "      <td>5099353000169</td>\n",
       "      <td>http://world.openfoodfacts.org/product/5099353000169</td>\n",
       "      <td>bcatelin</td>\n",
       "      <td>1385926289</td>\n",
       "      <td>1413659845</td>\n",
       "      <td>Eggs</td>\n",
       "      <td>Eggs</td>\n",
       "      <td>6</td>\n",
       "      <td>Cardbox</td>\n",
       "      <td>cardbox</td>\n",
       "      <td>...</td>\n",
       "      <td>NaN</td>\n",
       "      <td>NaN</td>\n",
       "      <td>NaN</td>\n",
       "      <td>NaN</td>\n",
       "      <td>NaN</td>\n",
       "      <td>NaN</td>\n",
       "      <td>NaN</td>\n",
       "      <td>NaN</td>\n",
       "      <td>NaN</td>\n",
       "      <td>NaN</td>\n",
       "    </tr>\n",
       "    <tr>\n",
       "      <th>4</th>\n",
       "      <td>82592720153</td>\n",
       "      <td>http://world.openfoodfacts.org/product/0082592720153</td>\n",
       "      <td>openfoodfacts-contributors</td>\n",
       "      <td>1389308826</td>\n",
       "      <td>1459174499</td>\n",
       "      <td>Green Machine</td>\n",
       "      <td>NaN</td>\n",
       "      <td>15.2 fl. oz (450 mL)</td>\n",
       "      <td>NaN</td>\n",
       "      <td>NaN</td>\n",
       "      <td>...</td>\n",
       "      <td>NaN</td>\n",
       "      <td>NaN</td>\n",
       "      <td>NaN</td>\n",
       "      <td>NaN</td>\n",
       "      <td>NaN</td>\n",
       "      <td>NaN</td>\n",
       "      <td>NaN</td>\n",
       "      <td>NaN</td>\n",
       "      <td>NaN</td>\n",
       "      <td>NaN</td>\n",
       "    </tr>\n",
       "  </tbody>\n",
       "</table>\n",
       "<p>5 rows × 150 columns</p>\n",
       "</div>"
      ],
      "text/plain": [
       "            code                                                   url  \\\n",
       "0  5010092093045  http://world.openfoodfacts.org/product/5010092093045   \n",
       "1  44000030377    http://world.openfoodfacts.org/product/0044000030377   \n",
       "2  7832309        http://world.openfoodfacts.org/product/07832309        \n",
       "3  5099353000169  http://world.openfoodfacts.org/product/5099353000169   \n",
       "4  82592720153    http://world.openfoodfacts.org/product/0082592720153   \n",
       "\n",
       "                      creator   created_t  last_modified_t  \\\n",
       "0  bcatelin                    1389309305  1461479010        \n",
       "1  openfoodfacts-contributors  1385850411  1459174448        \n",
       "2  openfoodfacts-contributors  1403210081  1458995984        \n",
       "3  bcatelin                    1385926289  1413659845        \n",
       "4  openfoodfacts-contributors  1389308826  1459174499        \n",
       "\n",
       "           product_name generic_name              quantity    packaging  \\\n",
       "0  Soft white            White bread  800g                  Plastic bag   \n",
       "1  Wheat Thins Original  NaN          258g                  NaN           \n",
       "2  Diet Dr Pepper        NaN          NaN                   can           \n",
       "3  Eggs                  Eggs         6                     Cardbox       \n",
       "4  Green Machine         NaN          15.2 fl. oz (450 mL)  NaN           \n",
       "\n",
       "  packaging_tags           ...           caffeine_100g taurine_100g ph_100g  \\\n",
       "0  plastic-bag             ...           NaN           NaN          NaN       \n",
       "1  NaN                     ...           NaN           NaN          NaN       \n",
       "2  can                     ...           NaN           NaN          NaN       \n",
       "3  cardbox                 ...           NaN           NaN          NaN       \n",
       "4  NaN                     ...           NaN           NaN          NaN       \n",
       "\n",
       "  fruits-vegetables-nuts_100g collagen-meat-protein-ratio_100g cocoa_100g  \\\n",
       "0 NaN                         NaN                              NaN          \n",
       "1 NaN                         NaN                              NaN          \n",
       "2 NaN                         NaN                              NaN          \n",
       "3 NaN                         NaN                              NaN          \n",
       "4 NaN                         NaN                              NaN          \n",
       "\n",
       "  chlorophyl_100g carbon-footprint_100g nutrition-score-fr_100g  \\\n",
       "0 NaN              125.0                -1.0                      \n",
       "1 NaN             NaN                   NaN                       \n",
       "2 NaN             NaN                   NaN                       \n",
       "3 NaN             NaN                   NaN                       \n",
       "4 NaN             NaN                   NaN                       \n",
       "\n",
       "  nutrition-score-uk_100g  \n",
       "0 -1.0                     \n",
       "1 NaN                      \n",
       "2 NaN                      \n",
       "3 NaN                      \n",
       "4 NaN                      \n",
       "\n",
       "[5 rows x 150 columns]"
      ]
     },
     "execution_count": 2,
     "metadata": {},
     "output_type": "execute_result"
    }
   ],
   "source": [
    "import sys\n",
    "print(sys.version)\n",
    "import numpy as np\n",
    "print(np.__version__)\n",
    "import pandas as pd\n",
    "print(pd.__version__)\n",
    "import matplotlib.pyplot as plt\n",
    "import re\n",
    "\n",
    "\n",
    "df = pd.read_csv(\"openfoodfacts_search.csv\", sep = '\\t')\n",
    "#the datafields are quite long; tell pandas to show the whole fields\n",
    "pd.set_option('display.max_colwidth', -1)\n",
    "df.head()"
   ]
  },
  {
   "cell_type": "code",
   "execution_count": 3,
   "metadata": {
    "collapsed": false
   },
   "outputs": [
    {
     "data": {
      "text/plain": [
       "['code',\n",
       " 'url',\n",
       " 'creator',\n",
       " 'created_t',\n",
       " 'last_modified_t',\n",
       " 'product_name',\n",
       " 'generic_name',\n",
       " 'quantity',\n",
       " 'packaging',\n",
       " 'packaging_tags',\n",
       " 'brands',\n",
       " 'brands_tags',\n",
       " 'categories',\n",
       " 'categories_tags',\n",
       " 'labels',\n",
       " 'labels_tags',\n",
       " 'origins',\n",
       " 'origins_tags',\n",
       " 'manufacturing_places',\n",
       " 'manufacturing_places_tags',\n",
       " 'emb_codes',\n",
       " 'emb_codes_tags',\n",
       " 'cities',\n",
       " 'cities_tags',\n",
       " 'purchase_places',\n",
       " 'stores',\n",
       " 'countries',\n",
       " 'ingredients_text',\n",
       " 'allergens',\n",
       " 'allergens_tags',\n",
       " 'traces',\n",
       " 'traces_tags',\n",
       " 'serving_size',\n",
       " 'no_nutriments',\n",
       " 'additives_n',\n",
       " 'additives',\n",
       " 'additives_tags',\n",
       " 'ingredients_from_palm_oil_n',\n",
       " 'ingredients_from_palm_oil',\n",
       " 'ingredients_from_palm_oil_tags',\n",
       " 'ingredients_that_may_be_from_palm_oil_n',\n",
       " 'ingredients_that_may_be_from_palm_oil',\n",
       " 'ingredients_that_may_be_from_palm_oil_tags',\n",
       " 'pnns_groups_1',\n",
       " 'pnns_groups_2',\n",
       " 'main_category',\n",
       " 'image_url',\n",
       " 'image_small_url',\n",
       " 'image_front_url',\n",
       " 'image_front_small_url',\n",
       " 'image_ingredients_url',\n",
       " 'image_ingredients_small_url',\n",
       " 'image_nutrition_url',\n",
       " 'image_nutrition_small_url',\n",
       " 'energy_100g',\n",
       " 'energy-from-fat_100g',\n",
       " 'fat_100g',\n",
       " 'saturated-fat_100g',\n",
       " '-butyric-acid_100g',\n",
       " '-caproic-acid_100g',\n",
       " '-caprylic-acid_100g',\n",
       " '-capric-acid_100g',\n",
       " '-lauric-acid_100g',\n",
       " '-myristic-acid_100g',\n",
       " '-palmitic-acid_100g',\n",
       " '-stearic-acid_100g',\n",
       " '-arachidic-acid_100g',\n",
       " '-behenic-acid_100g',\n",
       " '-lignoceric-acid_100g',\n",
       " '-cerotic-acid_100g',\n",
       " '-montanic-acid_100g',\n",
       " '-melissic-acid_100g',\n",
       " 'monounsaturated-fat_100g',\n",
       " 'polyunsaturated-fat_100g',\n",
       " 'omega-3-fat_100g',\n",
       " '-alpha-linolenic-acid_100g',\n",
       " '-eicosapentaenoic-acid_100g',\n",
       " '-docosahexaenoic-acid_100g',\n",
       " 'omega-6-fat_100g',\n",
       " '-linoleic-acid_100g',\n",
       " '-arachidonic-acid_100g',\n",
       " '-gamma-linolenic-acid_100g',\n",
       " '-dihomo-gamma-linolenic-acid_100g',\n",
       " 'omega-9-fat_100g',\n",
       " '-oleic-acid_100g',\n",
       " '-elaidic-acid_100g',\n",
       " '-gondoic-acid_100g',\n",
       " '-mead-acid_100g',\n",
       " '-erucic-acid_100g',\n",
       " '-nervonic-acid_100g',\n",
       " 'trans-fat_100g',\n",
       " 'cholesterol_100g',\n",
       " 'carbohydrates_100g',\n",
       " 'sugars_100g',\n",
       " '-sucrose_100g',\n",
       " '-glucose_100g',\n",
       " '-fructose_100g',\n",
       " '-lactose_100g',\n",
       " '-maltose_100g',\n",
       " '-maltodextrins_100g',\n",
       " 'starch_100g',\n",
       " 'polyols_100g',\n",
       " 'fiber_100g',\n",
       " 'proteins_100g',\n",
       " 'casein_100g',\n",
       " 'serum-proteins_100g',\n",
       " 'nucleotides_100g',\n",
       " 'salt_100g',\n",
       " 'sodium_100g',\n",
       " 'alcohol_100g',\n",
       " 'vitamin-a_100g',\n",
       " 'beta-carotene_100g',\n",
       " 'vitamin-d_100g',\n",
       " 'vitamin-e_100g',\n",
       " 'vitamin-k_100g',\n",
       " 'vitamin-c_100g',\n",
       " 'vitamin-b1_100g',\n",
       " 'vitamin-b2_100g',\n",
       " 'vitamin-pp_100g',\n",
       " 'vitamin-b6_100g',\n",
       " 'vitamin-b9_100g',\n",
       " 'vitamin-b12_100g',\n",
       " 'biotin_100g',\n",
       " 'pantothenic-acid_100g',\n",
       " 'silica_100g',\n",
       " 'bicarbonate_100g',\n",
       " 'potassium_100g',\n",
       " 'chloride_100g',\n",
       " 'calcium_100g',\n",
       " 'phosphorus_100g',\n",
       " 'iron_100g',\n",
       " 'magnesium_100g',\n",
       " 'zinc_100g',\n",
       " 'copper_100g',\n",
       " 'manganese_100g',\n",
       " 'fluoride_100g',\n",
       " 'selenium_100g',\n",
       " 'chromium_100g',\n",
       " 'molybdenum_100g',\n",
       " 'iodine_100g',\n",
       " 'caffeine_100g',\n",
       " 'taurine_100g',\n",
       " 'ph_100g',\n",
       " 'fruits-vegetables-nuts_100g',\n",
       " 'collagen-meat-protein-ratio_100g',\n",
       " 'cocoa_100g',\n",
       " 'chlorophyl_100g',\n",
       " 'carbon-footprint_100g',\n",
       " 'nutrition-score-fr_100g',\n",
       " 'nutrition-score-uk_100g']"
      ]
     },
     "execution_count": 3,
     "metadata": {},
     "output_type": "execute_result"
    }
   ],
   "source": [
    "list(df.columns)"
   ]
  },
  {
   "cell_type": "markdown",
   "metadata": {},
   "source": [
    "We can see that there is a column for energy per 100 grams, however it does not appear to correlate to calories per 100 grams.  We can test this against an example:"
   ]
  },
  {
   "cell_type": "code",
   "execution_count": 4,
   "metadata": {
    "collapsed": false
   },
   "outputs": [
    {
     "data": {
      "text/plain": [
       "code                  36632036506                                         \n",
       "url                   http://world.openfoodfacts.org/product/0036632036506\n",
       "product_name          Activia light blueberry                             \n",
       "energy_100g           222                                                 \n",
       "carbohydrates_100g    9.73                                                \n",
       "fat_100g              0                                                   \n",
       "proteins_100g         3.54                                                \n",
       "serving_size          1 container (113g)                                  \n",
       "Name: 20, dtype: object"
      ]
     },
     "execution_count": 4,
     "metadata": {},
     "output_type": "execute_result"
    }
   ],
   "source": [
    "df[['code', 'url', 'product_name', 'energy_100g','carbohydrates_100g', \n",
    "    'fat_100g', 'proteins_100g','serving_size']].iloc[20]"
   ]
  },
  {
   "cell_type": "code",
   "execution_count": 11,
   "metadata": {
    "collapsed": false
   },
   "outputs": [
    {
     "data": {
      "text/html": [
       "<div>\n",
       "<table border=\"1\" class=\"dataframe\">\n",
       "  <thead>\n",
       "    <tr style=\"text-align: right;\">\n",
       "      <th></th>\n",
       "      <th>per serving (113g)</th>\n",
       "      <th>Calories from Fat</th>\n",
       "    </tr>\n",
       "    <tr>\n",
       "      <th>Nutritional Facts</th>\n",
       "      <th></th>\n",
       "      <th></th>\n",
       "    </tr>\n",
       "  </thead>\n",
       "  <tbody>\n",
       "    <tr>\n",
       "      <th>NaN</th>\n",
       "      <td>NaN</td>\n",
       "      <td>% Daily Value*</td>\n",
       "    </tr>\n",
       "    <tr>\n",
       "      <th>Calories</th>\n",
       "      <td>60</td>\n",
       "      <td>0</td>\n",
       "    </tr>\n",
       "    <tr>\n",
       "      <th>Total Fat</th>\n",
       "      <td>0g</td>\n",
       "      <td>0%</td>\n",
       "    </tr>\n",
       "    <tr>\n",
       "      <th>Saturated Fat</th>\n",
       "      <td>0g</td>\n",
       "      <td>0%</td>\n",
       "    </tr>\n",
       "    <tr>\n",
       "      <th>Trans Fat</th>\n",
       "      <td>0g</td>\n",
       "      <td>NaN</td>\n",
       "    </tr>\n",
       "    <tr>\n",
       "      <th>Cholesterol</th>\n",
       "      <td>&lt;5mg</td>\n",
       "      <td>1%</td>\n",
       "    </tr>\n",
       "    <tr>\n",
       "      <th>Sodium</th>\n",
       "      <td>65mg</td>\n",
       "      <td>3%</td>\n",
       "    </tr>\n",
       "    <tr>\n",
       "      <th>Potassium</th>\n",
       "      <td>200mg</td>\n",
       "      <td>6%</td>\n",
       "    </tr>\n",
       "    <tr>\n",
       "      <th>Total Carbohydrate</th>\n",
       "      <td>11g</td>\n",
       "      <td>4%</td>\n",
       "    </tr>\n",
       "    <tr>\n",
       "      <th>Dietary Fiber</th>\n",
       "      <td>2g</td>\n",
       "      <td>8%</td>\n",
       "    </tr>\n",
       "    <tr>\n",
       "      <th>Sugars</th>\n",
       "      <td>7g</td>\n",
       "      <td>NaN</td>\n",
       "    </tr>\n",
       "    <tr>\n",
       "      <th>Protein</th>\n",
       "      <td>4g</td>\n",
       "      <td>8%</td>\n",
       "    </tr>\n",
       "    <tr>\n",
       "      <th>Vitamin A</th>\n",
       "      <td>NaN</td>\n",
       "      <td>0%</td>\n",
       "    </tr>\n",
       "    <tr>\n",
       "      <th>Vitamin C</th>\n",
       "      <td>NaN</td>\n",
       "      <td>0%</td>\n",
       "    </tr>\n",
       "    <tr>\n",
       "      <th>Calcium</th>\n",
       "      <td>NaN</td>\n",
       "      <td>15%</td>\n",
       "    </tr>\n",
       "    <tr>\n",
       "      <th>Iron</th>\n",
       "      <td>NaN</td>\n",
       "      <td>0%</td>\n",
       "    </tr>\n",
       "  </tbody>\n",
       "</table>\n",
       "</div>"
      ],
      "text/plain": [
       "                   per serving (113g) Calories from Fat \n",
       "Nutritional Facts                                       \n",
       "NaN                 NaN                % Daily Value*   \n",
       "Calories            60                 0                \n",
       "Total Fat           0g                 0%               \n",
       "Saturated Fat       0g                 0%               \n",
       "Trans Fat           0g                 NaN              \n",
       "Cholesterol         <5mg               1%               \n",
       "Sodium              65mg               3%               \n",
       "Potassium           200mg              6%               \n",
       "Total Carbohydrate  11g                4%               \n",
       "Dietary Fiber       2g                 8%               \n",
       "Sugars              7g                 NaN              \n",
       "Protein             4g                 8%               \n",
       "Vitamin A           NaN                0%               \n",
       "Vitamin C           NaN                0%               \n",
       "Calcium             NaN                15%              \n",
       "Iron                NaN                0%               "
      ]
     },
     "execution_count": 11,
     "metadata": {},
     "output_type": "execute_result"
    }
   ],
   "source": [
    "site = 'http://www.activia.us.com/probiotic-yogurt/products/activia-light-blueberry'\n",
    "blueberry_yougurt = pd.read_html(site)[0].set_index('Nutritional Facts')\n",
    "blueberry_yougurt"
   ]
  },
  {
   "cell_type": "markdown",
   "metadata": {},
   "source": [
    "The calroies(energy) does not look like it is 220 cals/100gr, but the carb/protein/fat ratio looks about right.  verify the macronutrients per 100gr are equivalent to the food facts database:"
   ]
  },
  {
   "cell_type": "code",
   "execution_count": 6,
   "metadata": {
    "collapsed": false
   },
   "outputs": [
    {
     "name": "stdout",
     "output_type": "stream",
     "text": [
      "3.5398230088495577\n",
      "9.734513274336283\n",
      "0.0\n"
     ]
    }
   ],
   "source": [
    "\n",
    "print(float(blueberry_yougurt.loc['Protein'][0].strip('g'))/1.13)\n",
    "print(float(blueberry_yougurt.loc['Total Carbohydrate'][0].strip('g'))/1.13)\n",
    "print(float(blueberry_yougurt.loc['Total Fat'][0].strip('g'))/1.13)"
   ]
  },
  {
   "cell_type": "markdown",
   "metadata": {},
   "source": [
    "Calories is a function of carbohydrates, fat, and protein, so we can derive the calories per one hundred grams fairly easily:"
   ]
  },
  {
   "cell_type": "code",
   "execution_count": 8,
   "metadata": {
    "collapsed": false
   },
   "outputs": [
    {
     "data": {
      "text/plain": [
       "code                       36632036506                                         \n",
       "url                        http://world.openfoodfacts.org/product/0036632036506\n",
       "quantity                   113 g                                               \n",
       "product_name               Activia light blueberry                             \n",
       "calories_100g              53.08                                               \n",
       "carbohydrates_100g         9.73                                                \n",
       "fat_100g                   0                                                   \n",
       "proteins_100g              3.54                                                \n",
       "serving_size               1 container (113g)                                  \n",
       "ingredients_text           NaN                                                 \n",
       "categories                 yogurt                                              \n",
       "nutrition-score-uk_100g   -3                                                   \n",
       "Name: 20, dtype: object"
      ]
     },
     "execution_count": 8,
     "metadata": {},
     "output_type": "execute_result"
    }
   ],
   "source": [
    "def cals(w, x, y):\n",
    "    return (9*w) + (4*(x + y))\n",
    "\n",
    "df['calories_100g'] = np.vectorize(cals)(df['fat_100g'], df['proteins_100g'], df['carbohydrates_100g'])\n",
    "df[['code', 'url', 'quantity', 'product_name', 'calories_100g','carbohydrates_100g', \n",
    "    'fat_100g', 'proteins_100g','serving_size', 'ingredients_text', 'categories', 'nutrition-score-uk_100g']].iloc[20]"
   ]
  },
  {
   "cell_type": "markdown",
   "metadata": {},
   "source": [
    "We will be unable to check the ingredients on this particular item for harmful substances like high fructose corn syrup and hydrogenated oils. but we are able to pull in information regarding product size, its category, and its Nutrition Score in the UK.  The UK's nutrition score<sup>2</sup> is calculated based upon the items nutrient value, constituent ingredients, and calories.  A low score denotes a healthy food, and a high score denotes an unhealthy food.  A food scoring 4 or more points, or drinks scoring 1 or more points, are classified as 'less healthy' by the Food Standards Agency in the United Kingdom.  We can use this score when available to check an item's overall healthfulness if other metrics are not available.\n",
    "\n",
    "The categories are important to know for nutrition purposes as well.  If a basket has too many 'snack' items in it, we hypothesize that the basket will not meet nutrition guidlines set by regulatory bodies.\n",
    "\n",
    "\n",
    "This dataset is quite large, so we will remove some unnessary columns.  Items that do not contain nutritive data will also be removed.  The algorythm for selecting or removing columns is defined as follows:"
   ]
  },
  {
   "cell_type": "code",
   "execution_count": 9,
   "metadata": {
    "collapsed": false
   },
   "outputs": [
    {
     "name": "stdout",
     "output_type": "stream",
     "text": [
      "['code', 'url', 'creator', 'created_t', 'last_modified_t', 'product_name', 'generic_name', 'quantity', 'packaging', 'packaging_tags', 'brands', 'brands_tags', 'categories', 'categories_tags', 'labels', 'labels_tags', 'origins', 'origins_tags', 'manufacturing_places', 'manufacturing_places_tags', 'emb_codes', 'emb_codes_tags', 'cities', 'cities_tags', 'purchase_places', 'stores', 'countries', 'ingredients_text', 'allergens', 'allergens_tags', 'traces', 'traces_tags', 'serving_size', 'no_nutriments', 'additives_n', 'additives', 'additives_tags', 'ingredients_from_palm_oil_n', 'ingredients_from_palm_oil', 'ingredients_from_palm_oil_tags', 'ingredients_that_may_be_from_palm_oil_n', 'ingredients_that_may_be_from_palm_oil', 'ingredients_that_may_be_from_palm_oil_tags', 'pnns_groups_1', 'pnns_groups_2', 'main_category', 'image_url', 'image_small_url', 'image_front_url', 'image_front_small_url', 'image_ingredients_url', 'image_ingredients_small_url', 'image_nutrition_url', 'image_nutrition_small_url', 'energy_100g', 'energy-from-fat_100g', 'fat_100g', 'saturated-fat_100g', '-butyric-acid_100g', '-caproic-acid_100g', '-caprylic-acid_100g', '-capric-acid_100g', '-lauric-acid_100g', '-myristic-acid_100g', '-palmitic-acid_100g', '-stearic-acid_100g', '-arachidic-acid_100g', '-behenic-acid_100g', '-lignoceric-acid_100g', '-cerotic-acid_100g', '-montanic-acid_100g', '-melissic-acid_100g', 'monounsaturated-fat_100g', 'polyunsaturated-fat_100g', 'omega-3-fat_100g', '-alpha-linolenic-acid_100g', '-eicosapentaenoic-acid_100g', '-docosahexaenoic-acid_100g', 'omega-6-fat_100g', '-linoleic-acid_100g', '-arachidonic-acid_100g', '-gamma-linolenic-acid_100g', '-dihomo-gamma-linolenic-acid_100g', 'omega-9-fat_100g', '-oleic-acid_100g', '-elaidic-acid_100g', '-gondoic-acid_100g', '-mead-acid_100g', '-erucic-acid_100g', '-nervonic-acid_100g', 'trans-fat_100g', 'cholesterol_100g', 'carbohydrates_100g', 'sugars_100g', '-sucrose_100g', '-glucose_100g', '-fructose_100g', '-lactose_100g', '-maltose_100g', '-maltodextrins_100g', 'starch_100g', 'polyols_100g', 'fiber_100g', 'proteins_100g', 'casein_100g', 'serum-proteins_100g', 'nucleotides_100g', 'salt_100g', 'sodium_100g', 'alcohol_100g', 'vitamin-a_100g', 'beta-carotene_100g', 'vitamin-d_100g', 'vitamin-e_100g', 'vitamin-k_100g', 'vitamin-c_100g', 'vitamin-b1_100g', 'vitamin-b2_100g', 'vitamin-pp_100g', 'vitamin-b6_100g', 'vitamin-b9_100g', 'vitamin-b12_100g', 'biotin_100g', 'pantothenic-acid_100g', 'silica_100g', 'bicarbonate_100g', 'potassium_100g', 'chloride_100g', 'calcium_100g', 'phosphorus_100g', 'iron_100g', 'magnesium_100g', 'zinc_100g', 'copper_100g', 'manganese_100g', 'fluoride_100g', 'selenium_100g', 'chromium_100g', 'molybdenum_100g', 'iodine_100g', 'caffeine_100g', 'taurine_100g', 'ph_100g', 'fruits-vegetables-nuts_100g', 'collagen-meat-protein-ratio_100g', 'cocoa_100g', 'chlorophyl_100g', 'carbon-footprint_100g', 'nutrition-score-fr_100g', 'nutrition-score-uk_100g', 'calories_100g']\n",
      "image_url\n",
      "image_small_url\n",
      "image_front_url\n",
      "image_front_small_url\n",
      "image_ingredients_url\n",
      "image_ingredients_small_url\n",
      "image_nutrition_url\n",
      "image_nutrition_small_url\n",
      "['image_url', 'image_small_url', 'image_front_url', 'image_front_small_url', 'image_ingredients_url', 'image_ingredients_small_url', 'image_nutrition_url', 'image_nutrition_small_url']\n"
     ]
    }
   ],
   "source": [
    "column_list = list(df.columns.values)\n",
    "print(column_list)\n",
    "column_list_remove = []\n",
    "for column in column_list:\n",
    "    if re.search('image', column):\n",
    "        print(column)\n",
    "        column_list_remove.append(column)\n",
    "print(column_list_remove)"
   ]
  },
  {
   "cell_type": "markdown",
   "metadata": {},
   "source": [
    "Our dataframe will be parsed down to around 1,200 items to select from, given that we want to disregard incomplete records:"
   ]
  },
  {
   "cell_type": "code",
   "execution_count": 10,
   "metadata": {
    "collapsed": false
   },
   "outputs": [
    {
     "name": "stdout",
     "output_type": "stream",
     "text": [
      "code : 2820\n",
      "url : 2820\n",
      "quantity : 1846\n",
      "product_name : 2356\n",
      "calories_100g : 1270\n",
      "carbohydrates_100g : 1292\n",
      "fat_100g : 1295\n",
      "proteins_100g : 1284\n",
      "serving_size : 1362\n",
      "ingredients_text : 1165\n",
      "categories : 1695\n",
      "nutrition-score-uk_100g : 1110\n"
     ]
    }
   ],
   "source": [
    "target_list = ['code', 'url', 'quantity', 'product_name', 'calories_100g','carbohydrates_100g', \n",
    "    'fat_100g', 'proteins_100g','serving_size', 'ingredients_text', 'categories', 'nutrition-score-uk_100g']\n",
    "for item in target_list:\n",
    "    print(item, \":\", df[item].count())"
   ]
  },
  {
   "cell_type": "markdown",
   "metadata": {},
   "source": [
    "  ### Part 2: Statistical Methodology\n",
    "  \n",
    "We will use the bootstrapping method and the Student-T method to construct a random set of 10,000 days.  Of those days, we will see how often the day meets, exceeds, or falls short of the FDA guidelines for calorie and nutrient intake.   \n",
    "\n",
    "The bootstrapping method is a random sampling method with replacement on a set that is assumed to be incomplete.<sup>1</sup>  Numpy's Random selection function allows for with replacement sampling of a set<sup>2</sup> so it is perfect for building a bootstrapping model.  The SciPy module includes a student-T distribution method, so we will be able to use these packages to answer our study questions.<sup>3</sup>"
   ]
  },
  {
   "cell_type": "markdown",
   "metadata": {},
   "source": [
    "### Part 3: Regulatory Body Recommendations\n",
    "\n",
    "something about FDA and USDA here"
   ]
  },
  {
   "cell_type": "markdown",
   "metadata": {},
   "source": [
    "### Part 4: Bias\n",
    "\n",
    "Bias is introduced in our study via numerous channels.  The entire layout of a grocery store is extremely biased, with soda and snack companies paying top dollar to occupy the most coveted positions and aisles.  Customers have to take extra care to avoid the appealing packages and advertising of calorically dense food and often have to go to seek out the healthy and minially-processed foods. <sup>1</sup> \n",
    "\n",
    "Raw foods such as bulk rice, beans, and produce often lack Universal Price Codes (UPCs).  Our datasource is based upon UPCs, and thus may exclude some of the most healthful foods in the average supermarket.  The Food Facts datasource may therefore skew towards potentially unhealthy foods and not reflect what people actually purchase at the grocery store.\n",
    "\n",
    "Food Facts' collection methods also allow for bias.  The database is built upon an opt-in model of user contributed data.  Contributors both have to know about the project and take the time and effort from their day to upload images, UPCs, and packaging details to Food Facts.  This will bias against consumers who are unable to afford the time or luxury of a smart phone to contribute. <sup>2</sup> \n",
    "\n",
    "There is personal bias from the preparers of this study.  One of the authors is a plant based vegetarian, and another is a food scientist.  Our unique perspectives may introduce bias to our findings.  All of the authors reside  in the United States and thus our findings may not hold true in all markets."
   ]
  },
  {
   "cell_type": "markdown",
   "metadata": {},
   "source": [
    "### Part 5: Limitations & Shopping Habits\n",
    "\n",
    "The Open Food Facts' database is populated by consumers who opt in. It does not include a comprehensive list of what is available in the typical grocery store, nor does it represent all foods available in all markets.  In addition, the package sizing data is not consistent for all products.  Some products mention their package contains 800 grams, while other products mention they contain six servings.  The data may or may not include a serving size, and if it does, the units of measure are not consistent.\n",
    "\n",
    "To mitigate these limitations, we have found that the typical US resident consumes roughly 4 to 4.5 pounds of food per day (about 2040 grams per day)<sup>1</sup>, and that the average person purchases 20 items at a grocery store per week<sup>2</sup>, and eats out about six times a week<sup>3</sup>.  Quite a bit of the set contains data on nutrition information per 100 grams, so we have been able to determine that each person must purchase 20 5 serving items from a grocery store each week, and that the servings are about 100 grams each.  Thus, a perosn must eat 20 100 gram servings per day.  We will therefore subset the data to exclude products that have no nutritive information listed and randomly select 20 items to represent 1 day's worth of food.  In addition, the calorie field did not exist in the dataset so we had to derive it as a calculated field.  "
   ]
  },
  {
   "cell_type": "markdown",
   "metadata": {},
   "source": [
    "### References\n",
    "\n",
    "#### Part 1:  The  data\n",
    "1. [Open Food Facts](http://world.openfoodfacts.org/)\n",
    "2. [Food Standards Agency - Food Profiling](http://www.food.gov.uk/sites/default/files/multimedia/pdfs/techguidenutprofiling.pdf)\n",
    "\n",
    "\n",
    "#### Part 2: Statistical Metholodgy\n",
    "1. [Introduction to Bootstrapping](https://en.wikipedia.org/wiki/Bootstrapping_(statistics))\n",
    "2. [Implementing Bootstrapping using Python](http://docs.scipy.org/doc/numpy/reference/generated/numpy.random.choice.html)\n",
    "3. [Student-T Python Module](http://docs.scipy.org/doc/scipy/reference/generated/scipy.stats.t.html)\n",
    "\n",
    "\n",
    "#### Part 3: Regulatory Body Recommendations\n",
    "1. [FDA Dietary Guidelines, 2015](https://health.gov/dietaryguidelines/2015/guidelines/)\n",
    "2. [USDA National Nutrient Database](https://ndb.nal.usda.gov/)\n",
    "\n",
    "#### Part 4: Bias\n",
    "1. [The Omnivore's Dilemma by Michael Pollan](http://michaelpollan.com/books/the-omnivores-dilemma/)\n",
    "2. [Open Food Fact's Terms of Contribution](http://world.openfoodfacts.org/terms-of-use#contribution)\n",
    "\n",
    "#### Part 5: Limitations\n",
    "1. [USDA Fact Book](http://www.usda.gov/factbook/chapter2.pdf)\n",
    "2. [Grocery Shoppers' Habits](http://www.marketingcharts.com/traditional/the-average-grocery-shopper-buys-less-than-1-of-available-items-over-the-course-of-the-year-39360/)\n",
    "3. [United States Healthful Food Council](http://ushfc.org/about/)"
   ]
  },
  {
   "cell_type": "code",
   "execution_count": null,
   "metadata": {
    "collapsed": true
   },
   "outputs": [],
   "source": []
  }
 ],
 "metadata": {
  "anaconda-cloud": {},
  "kernelspec": {
   "display_name": "Python [Root]",
   "language": "python",
   "name": "Python [Root]"
  },
  "language_info": {
   "codemirror_mode": {
    "name": "ipython",
    "version": 3
   },
   "file_extension": ".py",
   "mimetype": "text/x-python",
   "name": "python",
   "nbconvert_exporter": "python",
   "pygments_lexer": "ipython3",
   "version": "3.5.2"
  }
 },
 "nbformat": 4,
 "nbformat_minor": 0
}
